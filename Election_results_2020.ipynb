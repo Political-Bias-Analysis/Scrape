{
 "cells": [
  {
   "cell_type": "markdown",
   "id": "865f8de7",
   "metadata": {},
   "source": [
    "# Federal Election Results 2020"
   ]
  },
  {
   "cell_type": "code",
   "execution_count": 1,
   "id": "2fe9b455",
   "metadata": {},
   "outputs": [],
   "source": [
    "import warnings\n",
    "warnings.simplefilter(action='ignore', category=Warning)\n",
    "import os\n",
    "import numpy as np\n",
    "import pandas as pd\n",
    "import matplotlib.pyplot as plt\n",
    "from mpl_toolkits.basemap import Basemap\n",
    "import cartopy.crs as ccrs\n",
    "import seaborn as sns\n",
    "import plotly.express as px\n",
    "import plotly.graph_objects as go\n",
    "\n",
    "import cartopy.io.shapereader as shpreader\n",
    "from matplotlib.patches import Polygon\n",
    "from matplotlib.collections import PatchCollection\n",
    "import matplotlib.patches as mpatches\n",
    "import geopandas as gpd\n",
    "\n",
    "import psycopg2\n",
    "from sqlalchemy import create_engine"
   ]
  },
  {
   "cell_type": "markdown",
   "id": "21596c42",
   "metadata": {},
   "source": [
    "## 2020 Election Data"
   ]
  },
  {
   "cell_type": "code",
   "execution_count": 2,
   "id": "d4c86681",
   "metadata": {},
   "outputs": [
    {
     "name": "stdout",
     "output_type": "stream",
     "text": [
      "10. 2020 Pres Primary Results\n",
      "13. US House Results by State\n",
      "10. 2020 Pres Primary Results\n",
      "13. US House Results by State\n",
      "10. 2020 Pres Primary Results\n",
      "13. US House Results by State\n",
      "10. 2020 Pres Primary Results\n",
      "13. US House Results by State\n"
     ]
    }
   ],
   "source": [
    "\"\"\"\n",
    "Extract multiple sheets from the Excel file and load them into Pandas data frames. \n",
    "A dictionary allows you to store each data frame under a unique key (the sheet name), \n",
    "making it easy to access and work with each data frame later.\n",
    "\"\"\"\n",
    "# Define the file path to the Excel file\n",
    "file_path = 'Election_Results/federalelections2020.xlsx'\n",
    "\n",
    "# Define a list of sheet names to extract\n",
    "sheet_names = ['9. 2020 Pres General Results', \n",
    "               '12. US Senate Results by State', \n",
    "               '13. US House Results by State', \n",
    "               '16. Appendix 1A']\n",
    "\n",
    "# Create an empty dictionary to store the data frames\n",
    "data_frames = {}\n",
    "\n",
    "# Loop over the sheet names and read them into data frames\n",
    "for name in sheet_names:\n",
    "    data_frames[name] = pd.read_excel(file_path, sheet_name=name)\n",
    "\n",
    "# Print the data frames to verify that they were loaded correctly\n",
    "# for name, df in data_frames.items():\n",
    "#     print(f\"{name}:\")\n",
    "#     print(df.head())\n"
   ]
  },
  {
   "cell_type": "markdown",
   "id": "09b59565",
   "metadata": {},
   "source": [
    "## 2020 Presidential Data"
   ]
  },
  {
   "cell_type": "code",
   "execution_count": 3,
   "id": "3c6df0d9",
   "metadata": {
    "scrolled": true
   },
   "outputs": [
    {
     "data": {
      "text/html": [
       "<div>\n",
       "<style scoped>\n",
       "    .dataframe tbody tr th:only-of-type {\n",
       "        vertical-align: middle;\n",
       "    }\n",
       "\n",
       "    .dataframe tbody tr th {\n",
       "        vertical-align: top;\n",
       "    }\n",
       "\n",
       "    .dataframe thead th {\n",
       "        text-align: right;\n",
       "    }\n",
       "</style>\n",
       "<table border=\"1\" class=\"dataframe\">\n",
       "  <thead>\n",
       "    <tr style=\"text-align: right;\">\n",
       "      <th></th>\n",
       "      <th>1</th>\n",
       "      <th>FEC ID</th>\n",
       "      <th>STATE</th>\n",
       "      <th>STATE ABBREVIATION</th>\n",
       "      <th>GENERAL ELECTION DATE</th>\n",
       "      <th>FIRST NAME</th>\n",
       "      <th>LAST NAME</th>\n",
       "      <th>LAST NAME,  FIRST</th>\n",
       "      <th>TOTAL VOTES</th>\n",
       "      <th>PARTY</th>\n",
       "      <th>GENERAL RESULTS</th>\n",
       "      <th>GENERAL %</th>\n",
       "      <th>TOTAL VOTES #</th>\n",
       "      <th>COMBINED GE PARTY TOTALS (NY)</th>\n",
       "      <th>COMBINED % (NY)</th>\n",
       "      <th>WINNER INDICATOR</th>\n",
       "      <th>ELECTORAL VOTES</th>\n",
       "      <th>FOOTNOTES</th>\n",
       "    </tr>\n",
       "  </thead>\n",
       "  <tbody>\n",
       "    <tr>\n",
       "      <th>0</th>\n",
       "      <td>2</td>\n",
       "      <td>NaN</td>\n",
       "      <td>NaN</td>\n",
       "      <td>NaN</td>\n",
       "      <td>NaT</td>\n",
       "      <td>NaN</td>\n",
       "      <td>NaN</td>\n",
       "      <td>NaN</td>\n",
       "      <td>NaN</td>\n",
       "      <td>NaN</td>\n",
       "      <td>NaN</td>\n",
       "      <td>NaN</td>\n",
       "      <td>NaN</td>\n",
       "      <td>NaN</td>\n",
       "      <td>NaN</td>\n",
       "      <td>NaN</td>\n",
       "      <td>NaN</td>\n",
       "      <td>NaN</td>\n",
       "    </tr>\n",
       "    <tr>\n",
       "      <th>1</th>\n",
       "      <td>3</td>\n",
       "      <td>P80001571</td>\n",
       "      <td>Alabama</td>\n",
       "      <td>AL</td>\n",
       "      <td>2020-11-03</td>\n",
       "      <td>Donald J.</td>\n",
       "      <td>Trump</td>\n",
       "      <td>Trump, Donald J.</td>\n",
       "      <td>NaN</td>\n",
       "      <td>R</td>\n",
       "      <td>1441170.0</td>\n",
       "      <td>0.620316</td>\n",
       "      <td>NaN</td>\n",
       "      <td>NaN</td>\n",
       "      <td>NaN</td>\n",
       "      <td>W</td>\n",
       "      <td>9</td>\n",
       "      <td>NaN</td>\n",
       "    </tr>\n",
       "    <tr>\n",
       "      <th>2</th>\n",
       "      <td>4</td>\n",
       "      <td>P80000722</td>\n",
       "      <td>Alabama</td>\n",
       "      <td>AL</td>\n",
       "      <td>2020-11-03</td>\n",
       "      <td>Joseph R.</td>\n",
       "      <td>Biden</td>\n",
       "      <td>Biden, Joseph R.</td>\n",
       "      <td>NaN</td>\n",
       "      <td>D</td>\n",
       "      <td>849624.0</td>\n",
       "      <td>0.365700</td>\n",
       "      <td>NaN</td>\n",
       "      <td>NaN</td>\n",
       "      <td>NaN</td>\n",
       "      <td>NaN</td>\n",
       "      <td>NaN</td>\n",
       "      <td>NaN</td>\n",
       "    </tr>\n",
       "    <tr>\n",
       "      <th>3</th>\n",
       "      <td>5</td>\n",
       "      <td>P00013524</td>\n",
       "      <td>Alabama</td>\n",
       "      <td>AL</td>\n",
       "      <td>2020-11-03</td>\n",
       "      <td>Jo</td>\n",
       "      <td>Jorgensen</td>\n",
       "      <td>Jorgensen, Jo</td>\n",
       "      <td>NaN</td>\n",
       "      <td>IND</td>\n",
       "      <td>25176.0</td>\n",
       "      <td>0.010836</td>\n",
       "      <td>NaN</td>\n",
       "      <td>NaN</td>\n",
       "      <td>NaN</td>\n",
       "      <td>NaN</td>\n",
       "      <td>NaN</td>\n",
       "      <td>NaN</td>\n",
       "    </tr>\n",
       "    <tr>\n",
       "      <th>4</th>\n",
       "      <td>6</td>\n",
       "      <td>NaN</td>\n",
       "      <td>Alabama</td>\n",
       "      <td>AL</td>\n",
       "      <td>2020-11-03</td>\n",
       "      <td>NaN</td>\n",
       "      <td>Scattered</td>\n",
       "      <td>Scattered</td>\n",
       "      <td>NaN</td>\n",
       "      <td>W</td>\n",
       "      <td>7312.0</td>\n",
       "      <td>0.003147</td>\n",
       "      <td>NaN</td>\n",
       "      <td>NaN</td>\n",
       "      <td>NaN</td>\n",
       "      <td>NaN</td>\n",
       "      <td>NaN</td>\n",
       "      <td>NaN</td>\n",
       "    </tr>\n",
       "  </tbody>\n",
       "</table>\n",
       "</div>"
      ],
      "text/plain": [
       "   1     FEC ID    STATE STATE ABBREVIATION GENERAL ELECTION DATE FIRST NAME   \n",
       "0  2        NaN      NaN                NaN                   NaT        NaN  \\\n",
       "1  3  P80001571  Alabama                 AL            2020-11-03  Donald J.   \n",
       "2  4  P80000722  Alabama                 AL            2020-11-03  Joseph R.   \n",
       "3  5  P00013524  Alabama                 AL            2020-11-03         Jo   \n",
       "4  6        NaN  Alabama                 AL            2020-11-03        NaN   \n",
       "\n",
       "   LAST NAME LAST NAME,  FIRST TOTAL VOTES PARTY  GENERAL RESULTS  GENERAL %   \n",
       "0        NaN               NaN         NaN   NaN              NaN        NaN  \\\n",
       "1      Trump  Trump, Donald J.         NaN     R        1441170.0   0.620316   \n",
       "2      Biden  Biden, Joseph R.         NaN     D         849624.0   0.365700   \n",
       "3  Jorgensen     Jorgensen, Jo         NaN   IND          25176.0   0.010836   \n",
       "4  Scattered         Scattered         NaN     W           7312.0   0.003147   \n",
       "\n",
       "   TOTAL VOTES # COMBINED GE PARTY TOTALS (NY)  COMBINED % (NY)   \n",
       "0            NaN                           NaN              NaN  \\\n",
       "1            NaN                           NaN              NaN   \n",
       "2            NaN                           NaN              NaN   \n",
       "3            NaN                           NaN              NaN   \n",
       "4            NaN                           NaN              NaN   \n",
       "\n",
       "  WINNER INDICATOR ELECTORAL VOTES FOOTNOTES  \n",
       "0              NaN             NaN       NaN  \n",
       "1                W               9       NaN  \n",
       "2              NaN             NaN       NaN  \n",
       "3              NaN             NaN       NaN  \n",
       "4              NaN             NaN       NaN  "
      ]
     },
     "execution_count": 3,
     "metadata": {},
     "output_type": "execute_result"
    }
   ],
   "source": [
    "df_pres_2020 = data_frames['9. 2020 Pres General Results']\n",
    "df_pres_2020.head()\n",
    "# 681 rows 18 columns"
   ]
  },
  {
   "cell_type": "code",
   "execution_count": 4,
   "id": "9e56cdb1",
   "metadata": {},
   "outputs": [
    {
     "data": {
      "text/html": [
       "<div>\n",
       "<style scoped>\n",
       "    .dataframe tbody tr th:only-of-type {\n",
       "        vertical-align: middle;\n",
       "    }\n",
       "\n",
       "    .dataframe tbody tr th {\n",
       "        vertical-align: top;\n",
       "    }\n",
       "\n",
       "    .dataframe thead th {\n",
       "        text-align: right;\n",
       "    }\n",
       "</style>\n",
       "<table border=\"1\" class=\"dataframe\">\n",
       "  <thead>\n",
       "    <tr style=\"text-align: right;\">\n",
       "      <th></th>\n",
       "      <th>State</th>\n",
       "      <th>Last Name</th>\n",
       "      <th>Party</th>\n",
       "      <th>Vote %</th>\n",
       "      <th>Vote count</th>\n",
       "    </tr>\n",
       "  </thead>\n",
       "  <tbody>\n",
       "    <tr>\n",
       "      <th>0</th>\n",
       "      <td>NaN</td>\n",
       "      <td>NaN</td>\n",
       "      <td>NaN</td>\n",
       "      <td>NaN</td>\n",
       "      <td>NaN</td>\n",
       "    </tr>\n",
       "    <tr>\n",
       "      <th>1</th>\n",
       "      <td>AL</td>\n",
       "      <td>Trump</td>\n",
       "      <td>R</td>\n",
       "      <td>0.620316</td>\n",
       "      <td>1441170.0</td>\n",
       "    </tr>\n",
       "    <tr>\n",
       "      <th>2</th>\n",
       "      <td>AL</td>\n",
       "      <td>Biden</td>\n",
       "      <td>D</td>\n",
       "      <td>0.365700</td>\n",
       "      <td>849624.0</td>\n",
       "    </tr>\n",
       "    <tr>\n",
       "      <th>3</th>\n",
       "      <td>AL</td>\n",
       "      <td>Jorgensen</td>\n",
       "      <td>IND</td>\n",
       "      <td>0.010836</td>\n",
       "      <td>25176.0</td>\n",
       "    </tr>\n",
       "    <tr>\n",
       "      <th>4</th>\n",
       "      <td>AL</td>\n",
       "      <td>Scattered</td>\n",
       "      <td>W</td>\n",
       "      <td>0.003147</td>\n",
       "      <td>7312.0</td>\n",
       "    </tr>\n",
       "  </tbody>\n",
       "</table>\n",
       "</div>"
      ],
      "text/plain": [
       "  State  Last Name Party    Vote %  Vote count\n",
       "0   NaN        NaN   NaN       NaN         NaN\n",
       "1    AL      Trump     R  0.620316   1441170.0\n",
       "2    AL      Biden     D  0.365700    849624.0\n",
       "3    AL  Jorgensen   IND  0.010836     25176.0\n",
       "4    AL  Scattered     W  0.003147      7312.0"
      ]
     },
     "execution_count": 4,
     "metadata": {},
     "output_type": "execute_result"
    }
   ],
   "source": [
    "# select the columns wanted and rename them\n",
    "df_selection = df_pres_2020[['STATE ABBREVIATION', 'LAST NAME', 'PARTY', 'GENERAL %', 'GENERAL RESULTS']]\n",
    "df_pres_2020 = df_selection.rename(columns={\n",
    "    'STATE ABBREVIATION': 'State',\n",
    "    'LAST NAME': 'Last Name',\n",
    "    'PARTY': 'Party',\n",
    "    'GENERAL %': 'Vote %',\n",
    "    'GENERAL RESULTS': 'Vote count'\n",
    "})\n",
    "df_pres_2020.head()\n",
    "# gives 681 rows"
   ]
  },
  {
   "cell_type": "code",
   "execution_count": 5,
   "id": "79bcfd4b",
   "metadata": {
    "scrolled": true
   },
   "outputs": [
    {
     "data": {
      "text/html": [
       "<div>\n",
       "<style scoped>\n",
       "    .dataframe tbody tr th:only-of-type {\n",
       "        vertical-align: middle;\n",
       "    }\n",
       "\n",
       "    .dataframe tbody tr th {\n",
       "        vertical-align: top;\n",
       "    }\n",
       "\n",
       "    .dataframe thead th {\n",
       "        text-align: right;\n",
       "    }\n",
       "</style>\n",
       "<table border=\"1\" class=\"dataframe\">\n",
       "  <thead>\n",
       "    <tr style=\"text-align: right;\">\n",
       "      <th></th>\n",
       "      <th>Year</th>\n",
       "      <th>Office</th>\n",
       "      <th>State</th>\n",
       "      <th>Last Name</th>\n",
       "      <th>Party</th>\n",
       "      <th>Vote %</th>\n",
       "      <th>Vote count</th>\n",
       "    </tr>\n",
       "  </thead>\n",
       "  <tbody>\n",
       "    <tr>\n",
       "      <th>1</th>\n",
       "      <td>2020</td>\n",
       "      <td>Pres</td>\n",
       "      <td>AL</td>\n",
       "      <td>Trump</td>\n",
       "      <td>R</td>\n",
       "      <td>0.620316</td>\n",
       "      <td>1441170.0</td>\n",
       "    </tr>\n",
       "    <tr>\n",
       "      <th>2</th>\n",
       "      <td>2020</td>\n",
       "      <td>Pres</td>\n",
       "      <td>AL</td>\n",
       "      <td>Biden</td>\n",
       "      <td>D</td>\n",
       "      <td>0.365700</td>\n",
       "      <td>849624.0</td>\n",
       "    </tr>\n",
       "    <tr>\n",
       "      <th>3</th>\n",
       "      <td>2020</td>\n",
       "      <td>Pres</td>\n",
       "      <td>AL</td>\n",
       "      <td>Jorgensen</td>\n",
       "      <td>IND</td>\n",
       "      <td>0.010836</td>\n",
       "      <td>25176.0</td>\n",
       "    </tr>\n",
       "    <tr>\n",
       "      <th>7</th>\n",
       "      <td>2020</td>\n",
       "      <td>Pres</td>\n",
       "      <td>AK</td>\n",
       "      <td>Trump</td>\n",
       "      <td>R</td>\n",
       "      <td>0.528331</td>\n",
       "      <td>189951.0</td>\n",
       "    </tr>\n",
       "    <tr>\n",
       "      <th>8</th>\n",
       "      <td>2020</td>\n",
       "      <td>Pres</td>\n",
       "      <td>AK</td>\n",
       "      <td>Biden</td>\n",
       "      <td>D</td>\n",
       "      <td>0.427720</td>\n",
       "      <td>153778.0</td>\n",
       "    </tr>\n",
       "  </tbody>\n",
       "</table>\n",
       "</div>"
      ],
      "text/plain": [
       "   Year Office State  Last Name Party    Vote %  Vote count\n",
       "1  2020   Pres    AL      Trump     R  0.620316   1441170.0\n",
       "2  2020   Pres    AL      Biden     D  0.365700    849624.0\n",
       "3  2020   Pres    AL  Jorgensen   IND  0.010836     25176.0\n",
       "7  2020   Pres    AK      Trump     R  0.528331    189951.0\n",
       "8  2020   Pres    AK      Biden     D  0.427720    153778.0"
      ]
     },
     "execution_count": 5,
     "metadata": {},
     "output_type": "execute_result"
    }
   ],
   "source": [
    "# add year and office columns\n",
    "df_pres_2020['Year'] = 2020\n",
    "df_pres_2020['Office'] = 'Pres'\n",
    "\n",
    "# Arrange columns: Move the Year and Office columns to the front\n",
    "new_cols = ['Year', 'Office', 'State', 'Last Name', 'Party', 'Vote %', 'Vote count']\n",
    "df_pres_2020 = df_pres_2020.reindex(columns=new_cols)\n",
    "\n",
    "# Include only Candidates R, D, IND (independent)\n",
    "df_pres_2020 = df_pres_2020[df_pres_2020['Party'].isin(['R', 'D', 'IND'])]\n",
    "\n",
    "df_pres_2020.head()\n",
    "# gives 135 rows"
   ]
  },
  {
   "cell_type": "code",
   "execution_count": 6,
   "id": "1e697deb",
   "metadata": {},
   "outputs": [
    {
     "name": "stdout",
     "output_type": "stream",
     "text": [
      "Empty DataFrame\n",
      "Columns: [Year, Office, State, Last Name, Party, Vote %, Vote count]\n",
      "Index: []\n",
      "Empty DataFrame\n",
      "Columns: [Year, Office, State, Last Name, Party, Vote %, Vote count]\n",
      "Index: []\n"
     ]
    }
   ],
   "source": [
    "# Remove any unseen NaN's from num rows.\n",
    "df_p_2020 = df_pres_2020.dropna(subset=['Vote %'])\n",
    "df_p_2020 = df_p_2020.dropna(subset=['Vote count'])\n",
    "# confirms NaN's are gone\n",
    "print(df_p_2020[df_p_2020['Vote %'].isna()])\n",
    "print(df_p_2020[df_p_2020['Vote count'].isna()])"
   ]
  },
  {
   "cell_type": "code",
   "execution_count": 7,
   "id": "31ed4880",
   "metadata": {},
   "outputs": [
    {
     "data": {
      "text/plain": [
       "Year            int64\n",
       "Office         object\n",
       "State          object\n",
       "Last Name      object\n",
       "Party          object\n",
       "Vote %        float64\n",
       "Vote count      int32\n",
       "dtype: object"
      ]
     },
     "execution_count": 7,
     "metadata": {},
     "output_type": "execute_result"
    }
   ],
   "source": [
    "# convert Vote count to float for math\n",
    "df_p_2020['Vote count'] = df_p_2020['Vote count'].astype(int)\n",
    "df_p_2020.dtypes"
   ]
  },
  {
   "cell_type": "code",
   "execution_count": 8,
   "id": "842fad75",
   "metadata": {},
   "outputs": [
    {
     "data": {
      "text/plain": [
       "(135, 7)"
      ]
     },
     "execution_count": 8,
     "metadata": {},
     "output_type": "execute_result"
    }
   ],
   "source": [
    "df_p_2020.shape\n",
    "# gives 135 rows."
   ]
  },
  {
   "cell_type": "markdown",
   "id": "88707d33",
   "metadata": {},
   "source": [
    "## 2020 Senate data\n"
   ]
  },
  {
   "cell_type": "code",
   "execution_count": 9,
   "id": "782ee98a",
   "metadata": {},
   "outputs": [
    {
     "data": {
      "text/html": [
       "<div>\n",
       "<style scoped>\n",
       "    .dataframe tbody tr th:only-of-type {\n",
       "        vertical-align: middle;\n",
       "    }\n",
       "\n",
       "    .dataframe tbody tr th {\n",
       "        vertical-align: top;\n",
       "    }\n",
       "\n",
       "    .dataframe thead th {\n",
       "        text-align: right;\n",
       "    }\n",
       "</style>\n",
       "<table border=\"1\" class=\"dataframe\">\n",
       "  <thead>\n",
       "    <tr style=\"text-align: right;\">\n",
       "      <th></th>\n",
       "      <th>1</th>\n",
       "      <th>STATE ABBREVIATION</th>\n",
       "      <th>STATE</th>\n",
       "      <th>DISTRICT</th>\n",
       "      <th>FEC ID</th>\n",
       "      <th>(I) Incumbent Indicator</th>\n",
       "      <th>CANDIDATE NAME (First)</th>\n",
       "      <th>CANDIDATE NAME (Last)</th>\n",
       "      <th>CANDIDATE NAME</th>\n",
       "      <th>TOTAL VOTES</th>\n",
       "      <th>...</th>\n",
       "      <th>RUNOFF %</th>\n",
       "      <th>GENERAL VOTES</th>\n",
       "      <th>GENERAL %</th>\n",
       "      <th>GE RUNOFF ELECTION VOTES (GA, LA)</th>\n",
       "      <th>GE RUNOFF ELECTION % (GA, LA)</th>\n",
       "      <th>COMBINED GE PARTY TOTALS (when applicable)</th>\n",
       "      <th>COMBINED % (when applicable)</th>\n",
       "      <th>PE WINNER INDICATOR</th>\n",
       "      <th>GE WINNER INDICATOR</th>\n",
       "      <th>FOOTNOTES</th>\n",
       "    </tr>\n",
       "  </thead>\n",
       "  <tbody>\n",
       "    <tr>\n",
       "      <th>0</th>\n",
       "      <td>2</td>\n",
       "      <td>NaN</td>\n",
       "      <td>NaN</td>\n",
       "      <td>NaN</td>\n",
       "      <td>NaN</td>\n",
       "      <td>NaN</td>\n",
       "      <td>NaN</td>\n",
       "      <td>NaN</td>\n",
       "      <td>NaN</td>\n",
       "      <td>NaN</td>\n",
       "      <td>...</td>\n",
       "      <td>NaN</td>\n",
       "      <td>NaN</td>\n",
       "      <td>NaN</td>\n",
       "      <td>NaN</td>\n",
       "      <td>NaN</td>\n",
       "      <td>NaN</td>\n",
       "      <td>NaN</td>\n",
       "      <td>NaN</td>\n",
       "      <td>NaN</td>\n",
       "      <td>NaN</td>\n",
       "    </tr>\n",
       "    <tr>\n",
       "      <th>1</th>\n",
       "      <td>3</td>\n",
       "      <td>AL</td>\n",
       "      <td>Alabama</td>\n",
       "      <td>S</td>\n",
       "      <td>S0AL00230</td>\n",
       "      <td>NaN</td>\n",
       "      <td>Tommy</td>\n",
       "      <td>Tuberville</td>\n",
       "      <td>Tuberville, Tommy</td>\n",
       "      <td>NaN</td>\n",
       "      <td>...</td>\n",
       "      <td>0.607256</td>\n",
       "      <td>1392076</td>\n",
       "      <td>0.600954</td>\n",
       "      <td>NaN</td>\n",
       "      <td>NaN</td>\n",
       "      <td>NaN</td>\n",
       "      <td>NaN</td>\n",
       "      <td>W</td>\n",
       "      <td>W</td>\n",
       "      <td>NaN</td>\n",
       "    </tr>\n",
       "    <tr>\n",
       "      <th>2</th>\n",
       "      <td>4</td>\n",
       "      <td>AL</td>\n",
       "      <td>Alabama</td>\n",
       "      <td>S</td>\n",
       "      <td>S6AL00195</td>\n",
       "      <td>NaN</td>\n",
       "      <td>Jeff</td>\n",
       "      <td>Sessions</td>\n",
       "      <td>Sessions, Jeff</td>\n",
       "      <td>NaN</td>\n",
       "      <td>...</td>\n",
       "      <td>0.392744</td>\n",
       "      <td>NaN</td>\n",
       "      <td>NaN</td>\n",
       "      <td>NaN</td>\n",
       "      <td>NaN</td>\n",
       "      <td>NaN</td>\n",
       "      <td>NaN</td>\n",
       "      <td>NaN</td>\n",
       "      <td>NaN</td>\n",
       "      <td>NaN</td>\n",
       "    </tr>\n",
       "    <tr>\n",
       "      <th>3</th>\n",
       "      <td>5</td>\n",
       "      <td>AL</td>\n",
       "      <td>Alabama</td>\n",
       "      <td>S</td>\n",
       "      <td>S0AL00206</td>\n",
       "      <td>NaN</td>\n",
       "      <td>Bradley</td>\n",
       "      <td>Byrne</td>\n",
       "      <td>Byrne, Bradley</td>\n",
       "      <td>NaN</td>\n",
       "      <td>...</td>\n",
       "      <td>NaN</td>\n",
       "      <td>NaN</td>\n",
       "      <td>NaN</td>\n",
       "      <td>NaN</td>\n",
       "      <td>NaN</td>\n",
       "      <td>NaN</td>\n",
       "      <td>NaN</td>\n",
       "      <td>NaN</td>\n",
       "      <td>NaN</td>\n",
       "      <td>NaN</td>\n",
       "    </tr>\n",
       "    <tr>\n",
       "      <th>4</th>\n",
       "      <td>6</td>\n",
       "      <td>AL</td>\n",
       "      <td>Alabama</td>\n",
       "      <td>S</td>\n",
       "      <td>S0AL00297</td>\n",
       "      <td>NaN</td>\n",
       "      <td>Roy</td>\n",
       "      <td>Moore</td>\n",
       "      <td>Moore, Roy</td>\n",
       "      <td>NaN</td>\n",
       "      <td>...</td>\n",
       "      <td>NaN</td>\n",
       "      <td>NaN</td>\n",
       "      <td>NaN</td>\n",
       "      <td>NaN</td>\n",
       "      <td>NaN</td>\n",
       "      <td>NaN</td>\n",
       "      <td>NaN</td>\n",
       "      <td>NaN</td>\n",
       "      <td>NaN</td>\n",
       "      <td>NaN</td>\n",
       "    </tr>\n",
       "  </tbody>\n",
       "</table>\n",
       "<p>5 rows × 24 columns</p>\n",
       "</div>"
      ],
      "text/plain": [
       "   1 STATE ABBREVIATION    STATE DISTRICT     FEC ID (I) Incumbent Indicator   \n",
       "0  2                NaN      NaN      NaN        NaN                     NaN  \\\n",
       "1  3                 AL  Alabama        S  S0AL00230                     NaN   \n",
       "2  4                 AL  Alabama        S  S6AL00195                     NaN   \n",
       "3  5                 AL  Alabama        S  S0AL00206                     NaN   \n",
       "4  6                 AL  Alabama        S  S0AL00297                     NaN   \n",
       "\n",
       "  CANDIDATE NAME (First) CANDIDATE NAME (Last)     CANDIDATE NAME TOTAL VOTES   \n",
       "0                    NaN                   NaN                NaN         NaN  \\\n",
       "1                  Tommy            Tuberville  Tuberville, Tommy         NaN   \n",
       "2                   Jeff              Sessions     Sessions, Jeff         NaN   \n",
       "3                Bradley                 Byrne     Byrne, Bradley         NaN   \n",
       "4                    Roy                 Moore         Moore, Roy         NaN   \n",
       "\n",
       "   ...  RUNOFF % GENERAL VOTES   GENERAL %  GE RUNOFF ELECTION VOTES (GA, LA)   \n",
       "0  ...       NaN            NaN        NaN                                NaN  \\\n",
       "1  ...  0.607256        1392076   0.600954                                NaN   \n",
       "2  ...  0.392744            NaN        NaN                                NaN   \n",
       "3  ...       NaN            NaN        NaN                                NaN   \n",
       "4  ...       NaN            NaN        NaN                                NaN   \n",
       "\n",
       "   GE RUNOFF ELECTION % (GA, LA) COMBINED GE PARTY TOTALS (when applicable)   \n",
       "0                            NaN                                        NaN  \\\n",
       "1                            NaN                                        NaN   \n",
       "2                            NaN                                        NaN   \n",
       "3                            NaN                                        NaN   \n",
       "4                            NaN                                        NaN   \n",
       "\n",
       "   COMBINED % (when applicable)  PE WINNER INDICATOR  GE WINNER INDICATOR   \n",
       "0                           NaN                  NaN                  NaN  \\\n",
       "1                           NaN                    W                    W   \n",
       "2                           NaN                  NaN                  NaN   \n",
       "3                           NaN                  NaN                  NaN   \n",
       "4                           NaN                  NaN                  NaN   \n",
       "\n",
       "   FOOTNOTES  \n",
       "0        NaN  \n",
       "1        NaN  \n",
       "2        NaN  \n",
       "3        NaN  \n",
       "4        NaN  \n",
       "\n",
       "[5 rows x 24 columns]"
      ]
     },
     "execution_count": 9,
     "metadata": {},
     "output_type": "execute_result"
    }
   ],
   "source": [
    "df_senate_2020 = data_frames['12. US Senate Results by State']\n",
    "df_senate_2020.head()"
   ]
  },
  {
   "cell_type": "code",
   "execution_count": 10,
   "id": "164265a7",
   "metadata": {},
   "outputs": [
    {
     "data": {
      "text/html": [
       "<div>\n",
       "<style scoped>\n",
       "    .dataframe tbody tr th:only-of-type {\n",
       "        vertical-align: middle;\n",
       "    }\n",
       "\n",
       "    .dataframe tbody tr th {\n",
       "        vertical-align: top;\n",
       "    }\n",
       "\n",
       "    .dataframe thead th {\n",
       "        text-align: right;\n",
       "    }\n",
       "</style>\n",
       "<table border=\"1\" class=\"dataframe\">\n",
       "  <thead>\n",
       "    <tr style=\"text-align: right;\">\n",
       "      <th></th>\n",
       "      <th>State</th>\n",
       "      <th>Last Name</th>\n",
       "      <th>Party</th>\n",
       "      <th>Vote %</th>\n",
       "      <th>Vote count</th>\n",
       "    </tr>\n",
       "  </thead>\n",
       "  <tbody>\n",
       "    <tr>\n",
       "      <th>0</th>\n",
       "      <td>NaN</td>\n",
       "      <td>NaN</td>\n",
       "      <td>NaN</td>\n",
       "      <td>NaN</td>\n",
       "      <td>NaN</td>\n",
       "    </tr>\n",
       "    <tr>\n",
       "      <th>1</th>\n",
       "      <td>AL</td>\n",
       "      <td>Tuberville</td>\n",
       "      <td>R</td>\n",
       "      <td>0.600954</td>\n",
       "      <td>1392076</td>\n",
       "    </tr>\n",
       "    <tr>\n",
       "      <th>2</th>\n",
       "      <td>AL</td>\n",
       "      <td>Sessions</td>\n",
       "      <td>R</td>\n",
       "      <td>NaN</td>\n",
       "      <td>NaN</td>\n",
       "    </tr>\n",
       "    <tr>\n",
       "      <th>3</th>\n",
       "      <td>AL</td>\n",
       "      <td>Byrne</td>\n",
       "      <td>R</td>\n",
       "      <td>NaN</td>\n",
       "      <td>NaN</td>\n",
       "    </tr>\n",
       "    <tr>\n",
       "      <th>4</th>\n",
       "      <td>AL</td>\n",
       "      <td>Moore</td>\n",
       "      <td>R</td>\n",
       "      <td>NaN</td>\n",
       "      <td>NaN</td>\n",
       "    </tr>\n",
       "  </tbody>\n",
       "</table>\n",
       "</div>"
      ],
      "text/plain": [
       "  State   Last Name Party    Vote % Vote count\n",
       "0   NaN         NaN   NaN       NaN        NaN\n",
       "1    AL  Tuberville     R  0.600954    1392076\n",
       "2    AL    Sessions     R       NaN        NaN\n",
       "3    AL       Byrne     R       NaN        NaN\n",
       "4    AL       Moore     R       NaN        NaN"
      ]
     },
     "execution_count": 10,
     "metadata": {},
     "output_type": "execute_result"
    }
   ],
   "source": [
    "# select the columns wanted and rename them\n",
    "df_sel_senate = df_senate_2020[['STATE ABBREVIATION', \n",
    "                                'CANDIDATE NAME (Last)', \n",
    "                                'PARTY', 'GENERAL %', \n",
    "                                'GENERAL VOTES ']]\n",
    "\n",
    "df_sen_2020 = df_sel_senate.rename(columns={\n",
    "    'STATE ABBREVIATION': 'State',\n",
    "    'CANDIDATE NAME (Last)': 'Last Name',\n",
    "    'PARTY': 'Party',\n",
    "    'GENERAL %': 'Vote %',\n",
    "    'GENERAL VOTES ': 'Vote count'\n",
    "})\n",
    "df_sen_2020.head()\n",
    "# gives 541 rows."
   ]
  },
  {
   "cell_type": "code",
   "execution_count": 11,
   "id": "4e38ab2f",
   "metadata": {},
   "outputs": [
    {
     "data": {
      "text/html": [
       "<div>\n",
       "<style scoped>\n",
       "    .dataframe tbody tr th:only-of-type {\n",
       "        vertical-align: middle;\n",
       "    }\n",
       "\n",
       "    .dataframe tbody tr th {\n",
       "        vertical-align: top;\n",
       "    }\n",
       "\n",
       "    .dataframe thead th {\n",
       "        text-align: right;\n",
       "    }\n",
       "</style>\n",
       "<table border=\"1\" class=\"dataframe\">\n",
       "  <thead>\n",
       "    <tr style=\"text-align: right;\">\n",
       "      <th></th>\n",
       "      <th>Year</th>\n",
       "      <th>Office</th>\n",
       "      <th>State</th>\n",
       "      <th>Last Name</th>\n",
       "      <th>Party</th>\n",
       "      <th>Vote %</th>\n",
       "      <th>Vote count</th>\n",
       "    </tr>\n",
       "  </thead>\n",
       "  <tbody>\n",
       "    <tr>\n",
       "      <th>1</th>\n",
       "      <td>2020</td>\n",
       "      <td>Senate</td>\n",
       "      <td>AL</td>\n",
       "      <td>Tuberville</td>\n",
       "      <td>R</td>\n",
       "      <td>0.600954</td>\n",
       "      <td>1392076</td>\n",
       "    </tr>\n",
       "    <tr>\n",
       "      <th>2</th>\n",
       "      <td>2020</td>\n",
       "      <td>Senate</td>\n",
       "      <td>AL</td>\n",
       "      <td>Sessions</td>\n",
       "      <td>R</td>\n",
       "      <td>NaN</td>\n",
       "      <td>NaN</td>\n",
       "    </tr>\n",
       "    <tr>\n",
       "      <th>3</th>\n",
       "      <td>2020</td>\n",
       "      <td>Senate</td>\n",
       "      <td>AL</td>\n",
       "      <td>Byrne</td>\n",
       "      <td>R</td>\n",
       "      <td>NaN</td>\n",
       "      <td>NaN</td>\n",
       "    </tr>\n",
       "    <tr>\n",
       "      <th>4</th>\n",
       "      <td>2020</td>\n",
       "      <td>Senate</td>\n",
       "      <td>AL</td>\n",
       "      <td>Moore</td>\n",
       "      <td>R</td>\n",
       "      <td>NaN</td>\n",
       "      <td>NaN</td>\n",
       "    </tr>\n",
       "    <tr>\n",
       "      <th>5</th>\n",
       "      <td>2020</td>\n",
       "      <td>Senate</td>\n",
       "      <td>AL</td>\n",
       "      <td>Nelson</td>\n",
       "      <td>R</td>\n",
       "      <td>NaN</td>\n",
       "      <td>NaN</td>\n",
       "    </tr>\n",
       "  </tbody>\n",
       "</table>\n",
       "</div>"
      ],
      "text/plain": [
       "   Year  Office State   Last Name Party    Vote % Vote count\n",
       "1  2020  Senate    AL  Tuberville     R  0.600954    1392076\n",
       "2  2020  Senate    AL    Sessions     R       NaN        NaN\n",
       "3  2020  Senate    AL       Byrne     R       NaN        NaN\n",
       "4  2020  Senate    AL       Moore     R       NaN        NaN\n",
       "5  2020  Senate    AL      Nelson     R       NaN        NaN"
      ]
     },
     "execution_count": 11,
     "metadata": {},
     "output_type": "execute_result"
    }
   ],
   "source": [
    "# add year and office columns\n",
    "df_sen_2020['Year'] = 2020\n",
    "df_sen_2020['Office'] = 'Senate'\n",
    "\n",
    "# Move the Year and Office columns to the front\n",
    "new_cols = ['Year', 'Office', 'State', 'Last Name', 'Party', 'Vote %', 'Vote count']\n",
    "df_sen_2020 = df_sen_2020.reindex(columns=new_cols)\n",
    "\n",
    "# Include only Candidates R, D, IND (independent)\n",
    "df_sen_2020 = df_sen_2020[df_sen_2020['Party'].isin(['R', 'D', 'IND'])]\n",
    "\n",
    "df_sen_2020.head()\n",
    "# gives 319 rows"
   ]
  },
  {
   "cell_type": "code",
   "execution_count": 12,
   "id": "a78161e1",
   "metadata": {},
   "outputs": [
    {
     "name": "stdout",
     "output_type": "stream",
     "text": [
      "Empty DataFrame\n",
      "Columns: [Year, Office, State, Last Name, Party, Vote %, Vote count]\n",
      "Index: []\n",
      "Empty DataFrame\n",
      "Columns: [Year, Office, State, Last Name, Party, Vote %, Vote count]\n",
      "Index: []\n"
     ]
    }
   ],
   "source": [
    "# Remove any unseen NaN's from num rows.\n",
    "df_s_2020 = df_sen_2020.dropna(subset=['Vote %'])\n",
    "df_s_2020 = df_s_2020.dropna(subset=['Vote count'])\n",
    "# confirms NaN's are gone\n",
    "print(df_s_2020[df_s_2020['Vote %'].isna()])\n",
    "print(df_s_2020[df_s_2020['Vote count'].isna()])"
   ]
  },
  {
   "cell_type": "code",
   "execution_count": 13,
   "id": "fea5573c",
   "metadata": {},
   "outputs": [
    {
     "data": {
      "text/plain": [
       "Year            int64\n",
       "Office         object\n",
       "State          object\n",
       "Last Name      object\n",
       "Party          object\n",
       "Vote %        float64\n",
       "Vote count     object\n",
       "dtype: object"
      ]
     },
     "execution_count": 13,
     "metadata": {},
     "output_type": "execute_result"
    }
   ],
   "source": [
    "df_s_2020.dtypes"
   ]
  },
  {
   "cell_type": "code",
   "execution_count": 14,
   "id": "cdfc78b6",
   "metadata": {},
   "outputs": [
    {
     "data": {
      "text/plain": [
       "Year            int64\n",
       "Office         object\n",
       "State          object\n",
       "Last Name      object\n",
       "Party          object\n",
       "Vote %        float64\n",
       "Vote count      int32\n",
       "dtype: object"
      ]
     },
     "execution_count": 14,
     "metadata": {},
     "output_type": "execute_result"
    }
   ],
   "source": [
    "# convert Vote count to float for math\n",
    "df_s_2020['Vote count'] = df_s_2020['Vote count'].astype(int)\n",
    "df_s_2020.dtypes"
   ]
  },
  {
   "cell_type": "code",
   "execution_count": 15,
   "id": "a6053d27",
   "metadata": {},
   "outputs": [
    {
     "data": {
      "text/html": [
       "<div>\n",
       "<style scoped>\n",
       "    .dataframe tbody tr th:only-of-type {\n",
       "        vertical-align: middle;\n",
       "    }\n",
       "\n",
       "    .dataframe tbody tr th {\n",
       "        vertical-align: top;\n",
       "    }\n",
       "\n",
       "    .dataframe thead th {\n",
       "        text-align: right;\n",
       "    }\n",
       "</style>\n",
       "<table border=\"1\" class=\"dataframe\">\n",
       "  <thead>\n",
       "    <tr style=\"text-align: right;\">\n",
       "      <th></th>\n",
       "      <th>Year</th>\n",
       "      <th>Office</th>\n",
       "      <th>State</th>\n",
       "      <th>Last Name</th>\n",
       "      <th>Party</th>\n",
       "      <th>Vote %</th>\n",
       "      <th>Vote count</th>\n",
       "    </tr>\n",
       "  </thead>\n",
       "  <tbody>\n",
       "    <tr>\n",
       "      <th>1</th>\n",
       "      <td>2020</td>\n",
       "      <td>Senate</td>\n",
       "      <td>AL</td>\n",
       "      <td>Tuberville</td>\n",
       "      <td>R</td>\n",
       "      <td>0.600954</td>\n",
       "      <td>1392076</td>\n",
       "    </tr>\n",
       "    <tr>\n",
       "      <th>9</th>\n",
       "      <td>2020</td>\n",
       "      <td>Senate</td>\n",
       "      <td>AL</td>\n",
       "      <td>Jones</td>\n",
       "      <td>D</td>\n",
       "      <td>0.397367</td>\n",
       "      <td>920478</td>\n",
       "    </tr>\n",
       "    <tr>\n",
       "      <th>13</th>\n",
       "      <td>2020</td>\n",
       "      <td>Senate</td>\n",
       "      <td>AK</td>\n",
       "      <td>Sullivan</td>\n",
       "      <td>R</td>\n",
       "      <td>0.538971</td>\n",
       "      <td>191112</td>\n",
       "    </tr>\n",
       "    <tr>\n",
       "      <th>24</th>\n",
       "      <td>2020</td>\n",
       "      <td>Senate</td>\n",
       "      <td>AZ</td>\n",
       "      <td>Kelly</td>\n",
       "      <td>D</td>\n",
       "      <td>0.511566</td>\n",
       "      <td>1716467</td>\n",
       "    </tr>\n",
       "    <tr>\n",
       "      <th>27</th>\n",
       "      <td>2020</td>\n",
       "      <td>Senate</td>\n",
       "      <td>AZ</td>\n",
       "      <td>McSally</td>\n",
       "      <td>R</td>\n",
       "      <td>0.488079</td>\n",
       "      <td>1637661</td>\n",
       "    </tr>\n",
       "  </tbody>\n",
       "</table>\n",
       "</div>"
      ],
      "text/plain": [
       "    Year  Office State   Last Name Party    Vote %  Vote count\n",
       "1   2020  Senate    AL  Tuberville     R  0.600954     1392076\n",
       "9   2020  Senate    AL       Jones     D  0.397367      920478\n",
       "13  2020  Senate    AK    Sullivan     R  0.538971      191112\n",
       "24  2020  Senate    AZ       Kelly     D  0.511566     1716467\n",
       "27  2020  Senate    AZ     McSally     R  0.488079     1637661"
      ]
     },
     "execution_count": 15,
     "metadata": {},
     "output_type": "execute_result"
    }
   ],
   "source": [
    "df_s_2020.head()\n",
    "# gives 319 rows"
   ]
  },
  {
   "cell_type": "markdown",
   "id": "4930eca7",
   "metadata": {},
   "source": [
    "## 2020 House Election Data"
   ]
  },
  {
   "cell_type": "code",
   "execution_count": 16,
   "id": "090eb2e4",
   "metadata": {},
   "outputs": [
    {
     "data": {
      "text/html": [
       "<div>\n",
       "<style scoped>\n",
       "    .dataframe tbody tr th:only-of-type {\n",
       "        vertical-align: middle;\n",
       "    }\n",
       "\n",
       "    .dataframe tbody tr th {\n",
       "        vertical-align: top;\n",
       "    }\n",
       "\n",
       "    .dataframe thead th {\n",
       "        text-align: right;\n",
       "    }\n",
       "</style>\n",
       "<table border=\"1\" class=\"dataframe\">\n",
       "  <thead>\n",
       "    <tr style=\"text-align: right;\">\n",
       "      <th></th>\n",
       "      <th>1</th>\n",
       "      <th>STATE ABBREVIATION</th>\n",
       "      <th>STATE</th>\n",
       "      <th>DISTRICT</th>\n",
       "      <th>FEC ID</th>\n",
       "      <th>(I) Incumbent Indicator</th>\n",
       "      <th>CANDIDATE NAME (First)</th>\n",
       "      <th>CANDIDATE NAME (Last)</th>\n",
       "      <th>CANDIDATE NAME</th>\n",
       "      <th>TOTAL VOTES</th>\n",
       "      <th>...</th>\n",
       "      <th>RUNOFF %</th>\n",
       "      <th>GENERAL VOTES</th>\n",
       "      <th>GENERAL %</th>\n",
       "      <th>GE RUNOFF ELECTION VOTES (GA, GU, LA)</th>\n",
       "      <th>GE RUNOFF ELECTION % (GA, GU, LA)</th>\n",
       "      <th>COMBINED GE PARTY TOTALS (CT, NY)</th>\n",
       "      <th>COMBINED % (CT, NY)</th>\n",
       "      <th>PE WINNER INDICATOR</th>\n",
       "      <th>GE WINNER INDICATOR</th>\n",
       "      <th>FOOTNOTES</th>\n",
       "    </tr>\n",
       "  </thead>\n",
       "  <tbody>\n",
       "    <tr>\n",
       "      <th>0</th>\n",
       "      <td>2</td>\n",
       "      <td>NaN</td>\n",
       "      <td>NaN</td>\n",
       "      <td>NaN</td>\n",
       "      <td>NaN</td>\n",
       "      <td>NaN</td>\n",
       "      <td>NaN</td>\n",
       "      <td>NaN</td>\n",
       "      <td>NaN</td>\n",
       "      <td>NaN</td>\n",
       "      <td>...</td>\n",
       "      <td>NaN</td>\n",
       "      <td>NaN</td>\n",
       "      <td>NaN</td>\n",
       "      <td>NaN</td>\n",
       "      <td>NaN</td>\n",
       "      <td>NaN</td>\n",
       "      <td>NaN</td>\n",
       "      <td>NaN</td>\n",
       "      <td>NaN</td>\n",
       "      <td>NaN</td>\n",
       "    </tr>\n",
       "    <tr>\n",
       "      <th>1</th>\n",
       "      <td>3</td>\n",
       "      <td>AL</td>\n",
       "      <td>Alabama</td>\n",
       "      <td>01</td>\n",
       "      <td>H0AL01055</td>\n",
       "      <td>NaN</td>\n",
       "      <td>Jerry</td>\n",
       "      <td>Carl</td>\n",
       "      <td>Carl, Jerry</td>\n",
       "      <td>NaN</td>\n",
       "      <td>...</td>\n",
       "      <td>0.522766</td>\n",
       "      <td>211825</td>\n",
       "      <td>0.643698</td>\n",
       "      <td>NaN</td>\n",
       "      <td>NaN</td>\n",
       "      <td>NaN</td>\n",
       "      <td>NaN</td>\n",
       "      <td>W</td>\n",
       "      <td>W</td>\n",
       "      <td>NaN</td>\n",
       "    </tr>\n",
       "    <tr>\n",
       "      <th>2</th>\n",
       "      <td>4</td>\n",
       "      <td>AL</td>\n",
       "      <td>Alabama</td>\n",
       "      <td>01</td>\n",
       "      <td>H0AL01089</td>\n",
       "      <td>NaN</td>\n",
       "      <td>Bill</td>\n",
       "      <td>Hightower</td>\n",
       "      <td>Hightower, Bill</td>\n",
       "      <td>NaN</td>\n",
       "      <td>...</td>\n",
       "      <td>0.477234</td>\n",
       "      <td>NaN</td>\n",
       "      <td>NaN</td>\n",
       "      <td>NaN</td>\n",
       "      <td>NaN</td>\n",
       "      <td>NaN</td>\n",
       "      <td>NaN</td>\n",
       "      <td>NaN</td>\n",
       "      <td>NaN</td>\n",
       "      <td>NaN</td>\n",
       "    </tr>\n",
       "    <tr>\n",
       "      <th>3</th>\n",
       "      <td>5</td>\n",
       "      <td>AL</td>\n",
       "      <td>Alabama</td>\n",
       "      <td>01</td>\n",
       "      <td>H0AL01071</td>\n",
       "      <td>NaN</td>\n",
       "      <td>Chris</td>\n",
       "      <td>Pringle</td>\n",
       "      <td>Pringle, Chris</td>\n",
       "      <td>NaN</td>\n",
       "      <td>...</td>\n",
       "      <td>NaN</td>\n",
       "      <td>NaN</td>\n",
       "      <td>NaN</td>\n",
       "      <td>NaN</td>\n",
       "      <td>NaN</td>\n",
       "      <td>NaN</td>\n",
       "      <td>NaN</td>\n",
       "      <td>NaN</td>\n",
       "      <td>NaN</td>\n",
       "      <td>NaN</td>\n",
       "    </tr>\n",
       "    <tr>\n",
       "      <th>4</th>\n",
       "      <td>6</td>\n",
       "      <td>AL</td>\n",
       "      <td>Alabama</td>\n",
       "      <td>01</td>\n",
       "      <td>H0AL01063</td>\n",
       "      <td>NaN</td>\n",
       "      <td>Wes</td>\n",
       "      <td>Lambert</td>\n",
       "      <td>Lambert, Wes</td>\n",
       "      <td>NaN</td>\n",
       "      <td>...</td>\n",
       "      <td>NaN</td>\n",
       "      <td>NaN</td>\n",
       "      <td>NaN</td>\n",
       "      <td>NaN</td>\n",
       "      <td>NaN</td>\n",
       "      <td>NaN</td>\n",
       "      <td>NaN</td>\n",
       "      <td>NaN</td>\n",
       "      <td>NaN</td>\n",
       "      <td>NaN</td>\n",
       "    </tr>\n",
       "  </tbody>\n",
       "</table>\n",
       "<p>5 rows × 24 columns</p>\n",
       "</div>"
      ],
      "text/plain": [
       "   1 STATE ABBREVIATION    STATE DISTRICT     FEC ID (I) Incumbent Indicator   \n",
       "0  2                NaN      NaN      NaN        NaN                     NaN  \\\n",
       "1  3                 AL  Alabama       01  H0AL01055                     NaN   \n",
       "2  4                 AL  Alabama       01  H0AL01089                     NaN   \n",
       "3  5                 AL  Alabama       01  H0AL01071                     NaN   \n",
       "4  6                 AL  Alabama       01  H0AL01063                     NaN   \n",
       "\n",
       "  CANDIDATE NAME (First) CANDIDATE NAME (Last)   CANDIDATE NAME TOTAL VOTES   \n",
       "0                    NaN                   NaN              NaN         NaN  \\\n",
       "1                  Jerry                  Carl      Carl, Jerry         NaN   \n",
       "2                   Bill             Hightower  Hightower, Bill         NaN   \n",
       "3                  Chris               Pringle   Pringle, Chris         NaN   \n",
       "4                    Wes               Lambert     Lambert, Wes         NaN   \n",
       "\n",
       "   ...  RUNOFF % GENERAL VOTES   GENERAL %   \n",
       "0  ...       NaN            NaN        NaN  \\\n",
       "1  ...  0.522766         211825   0.643698   \n",
       "2  ...  0.477234            NaN        NaN   \n",
       "3  ...       NaN            NaN        NaN   \n",
       "4  ...       NaN            NaN        NaN   \n",
       "\n",
       "   GE RUNOFF ELECTION VOTES (GA, GU, LA)  GE RUNOFF ELECTION % (GA, GU, LA)   \n",
       "0                                    NaN                                NaN  \\\n",
       "1                                    NaN                                NaN   \n",
       "2                                    NaN                                NaN   \n",
       "3                                    NaN                                NaN   \n",
       "4                                    NaN                                NaN   \n",
       "\n",
       "  COMBINED GE PARTY TOTALS (CT, NY)  COMBINED % (CT, NY)  PE WINNER INDICATOR   \n",
       "0                               NaN                  NaN                  NaN  \\\n",
       "1                               NaN                  NaN                    W   \n",
       "2                               NaN                  NaN                  NaN   \n",
       "3                               NaN                  NaN                  NaN   \n",
       "4                               NaN                  NaN                  NaN   \n",
       "\n",
       "   GE WINNER INDICATOR  FOOTNOTES  \n",
       "0                  NaN        NaN  \n",
       "1                    W        NaN  \n",
       "2                  NaN        NaN  \n",
       "3                  NaN        NaN  \n",
       "4                  NaN        NaN  \n",
       "\n",
       "[5 rows x 24 columns]"
      ]
     },
     "execution_count": 16,
     "metadata": {},
     "output_type": "execute_result"
    }
   ],
   "source": [
    "df_house_2020 = data_frames['13. US House Results by State']\n",
    "df_house_2020.head()"
   ]
  },
  {
   "cell_type": "code",
   "execution_count": 17,
   "id": "9411be51",
   "metadata": {},
   "outputs": [
    {
     "data": {
      "text/plain": [
       "(4042, 5)"
      ]
     },
     "execution_count": 17,
     "metadata": {},
     "output_type": "execute_result"
    }
   ],
   "source": [
    "df_sel_house = df_house_2020[['STATE ABBREVIATION', \n",
    "                                'CANDIDATE NAME (Last)', \n",
    "                                'PARTY', 'GENERAL %', \n",
    "                                'GENERAL VOTES ']]\n",
    "\n",
    "df_hou_2020 = df_sel_house.rename(columns={\n",
    "    'STATE ABBREVIATION': 'State',\n",
    "    'CANDIDATE NAME (Last)': 'Last Name',\n",
    "    'PARTY': 'Party',\n",
    "    'GENERAL %': 'Vote %',\n",
    "    'GENERAL VOTES ': 'Vote count'\n",
    "})\n",
    "df_hou_2020.shape\n",
    "# gives 4042 rows"
   ]
  },
  {
   "cell_type": "code",
   "execution_count": 18,
   "id": "f40bf771",
   "metadata": {},
   "outputs": [
    {
     "data": {
      "text/html": [
       "<div>\n",
       "<style scoped>\n",
       "    .dataframe tbody tr th:only-of-type {\n",
       "        vertical-align: middle;\n",
       "    }\n",
       "\n",
       "    .dataframe tbody tr th {\n",
       "        vertical-align: top;\n",
       "    }\n",
       "\n",
       "    .dataframe thead th {\n",
       "        text-align: right;\n",
       "    }\n",
       "</style>\n",
       "<table border=\"1\" class=\"dataframe\">\n",
       "  <thead>\n",
       "    <tr style=\"text-align: right;\">\n",
       "      <th></th>\n",
       "      <th>Year</th>\n",
       "      <th>Office</th>\n",
       "      <th>State</th>\n",
       "      <th>Last Name</th>\n",
       "      <th>Party</th>\n",
       "      <th>Vote %</th>\n",
       "      <th>Vote count</th>\n",
       "    </tr>\n",
       "  </thead>\n",
       "  <tbody>\n",
       "    <tr>\n",
       "      <th>1</th>\n",
       "      <td>2020</td>\n",
       "      <td>House</td>\n",
       "      <td>AL</td>\n",
       "      <td>Carl</td>\n",
       "      <td>R</td>\n",
       "      <td>0.643698</td>\n",
       "      <td>211825</td>\n",
       "    </tr>\n",
       "    <tr>\n",
       "      <th>2</th>\n",
       "      <td>2020</td>\n",
       "      <td>House</td>\n",
       "      <td>AL</td>\n",
       "      <td>Hightower</td>\n",
       "      <td>R</td>\n",
       "      <td>NaN</td>\n",
       "      <td>NaN</td>\n",
       "    </tr>\n",
       "    <tr>\n",
       "      <th>3</th>\n",
       "      <td>2020</td>\n",
       "      <td>House</td>\n",
       "      <td>AL</td>\n",
       "      <td>Pringle</td>\n",
       "      <td>R</td>\n",
       "      <td>NaN</td>\n",
       "      <td>NaN</td>\n",
       "    </tr>\n",
       "    <tr>\n",
       "      <th>4</th>\n",
       "      <td>2020</td>\n",
       "      <td>House</td>\n",
       "      <td>AL</td>\n",
       "      <td>Lambert</td>\n",
       "      <td>R</td>\n",
       "      <td>NaN</td>\n",
       "      <td>NaN</td>\n",
       "    </tr>\n",
       "    <tr>\n",
       "      <th>5</th>\n",
       "      <td>2020</td>\n",
       "      <td>House</td>\n",
       "      <td>AL</td>\n",
       "      <td>Castorani</td>\n",
       "      <td>R</td>\n",
       "      <td>NaN</td>\n",
       "      <td>NaN</td>\n",
       "    </tr>\n",
       "  </tbody>\n",
       "</table>\n",
       "</div>"
      ],
      "text/plain": [
       "   Year Office State  Last Name Party    Vote % Vote count\n",
       "1  2020  House    AL       Carl     R  0.643698     211825\n",
       "2  2020  House    AL  Hightower     R       NaN        NaN\n",
       "3  2020  House    AL    Pringle     R       NaN        NaN\n",
       "4  2020  House    AL    Lambert     R       NaN        NaN\n",
       "5  2020  House    AL  Castorani     R       NaN        NaN"
      ]
     },
     "execution_count": 18,
     "metadata": {},
     "output_type": "execute_result"
    }
   ],
   "source": [
    "# add year and office columns\n",
    "df_hou_2020['Year'] = 2020\n",
    "df_hou_2020['Office'] = 'House'\n",
    "\n",
    "# Move the Year and Office columns to the front\n",
    "new_cols = ['Year', 'Office', 'State', 'Last Name', 'Party', 'Vote %', 'Vote count']\n",
    "df_hou_2020 = df_hou_2020.reindex(columns=new_cols)\n",
    "\n",
    "# Include only Candidates R, D, IND (independent)\n",
    "df_hou_2020 = df_hou_2020[df_hou_2020['Party'].isin(['R', 'D', 'IND'])]\n",
    "\n",
    "df_hou_2020.head()"
   ]
  },
  {
   "cell_type": "code",
   "execution_count": 19,
   "id": "1d6c81ac",
   "metadata": {},
   "outputs": [
    {
     "name": "stdout",
     "output_type": "stream",
     "text": [
      "Empty DataFrame\n",
      "Columns: [Year, Office, State, Last Name, Party, Vote %, Vote count]\n",
      "Index: []\n",
      "Empty DataFrame\n",
      "Columns: [Year, Office, State, Last Name, Party, Vote %, Vote count]\n",
      "Index: []\n"
     ]
    }
   ],
   "source": [
    "# Remove any unseen NaN's from num rows.\n",
    "df_h_2020 = df_hou_2020.dropna(subset=['Vote %'])\n",
    "df_h_2020 = df_h_2020.dropna(subset=['Vote count'])\n",
    "# confirms NaN's are gone\n",
    "print(df_h_2020[df_h_2020['Vote %'].isna()])\n",
    "print(df_h_2020[df_h_2020['Vote count'].isna()])"
   ]
  },
  {
   "cell_type": "code",
   "execution_count": 20,
   "id": "c10261ce",
   "metadata": {},
   "outputs": [
    {
     "data": {
      "text/plain": [
       "Year            int64\n",
       "Office         object\n",
       "State          object\n",
       "Last Name      object\n",
       "Party          object\n",
       "Vote %        float64\n",
       "Vote count      int32\n",
       "dtype: object"
      ]
     },
     "execution_count": 20,
     "metadata": {},
     "output_type": "execute_result"
    }
   ],
   "source": [
    "# convert Vote count to float for math\n",
    "df_h_2020['Vote count'] = df_h_2020['Vote count'].astype(int)\n",
    "df_h_2020.dtypes"
   ]
  },
  {
   "cell_type": "markdown",
   "id": "1fbc718c",
   "metadata": {},
   "source": [
    "### Extra work to check data "
   ]
  },
  {
   "cell_type": "code",
   "execution_count": 101,
   "id": "7e467127",
   "metadata": {},
   "outputs": [
    {
     "name": "stdout",
     "output_type": "stream",
     "text": [
      "[2020]\n"
     ]
    }
   ],
   "source": [
    "print(df_h_2020['Vote count'].unique())"
   ]
  },
  {
   "cell_type": "code",
   "execution_count": 105,
   "id": "a276a8b4",
   "metadata": {},
   "outputs": [
    {
     "name": "stdout",
     "output_type": "stream",
     "text": [
      "0\n"
     ]
    },
    {
     "data": {
      "text/plain": [
       "True"
      ]
     },
     "execution_count": 105,
     "metadata": {},
     "output_type": "execute_result"
    }
   ],
   "source": [
    "print(df_h_2020['Vote count'].isna().sum())\n",
    "df_h_2020['Vote count'].apply(lambda x: str(x).isnumeric()).all()"
   ]
  },
  {
   "cell_type": "code",
   "execution_count": 106,
   "id": "bf9b0b9b",
   "metadata": {},
   "outputs": [
    {
     "name": "stdout",
     "output_type": "stream",
     "text": [
      "Year  Office  State\n",
      "2020  House   AK       True\n",
      "              AL       True\n",
      "              AR       True\n",
      "              AZ       True\n",
      "              CA       True\n",
      "                       ... \n",
      "      Senate  TN       True\n",
      "              TX       True\n",
      "              VA       True\n",
      "              WV       True\n",
      "              WY       True\n",
      "Name: Vote %, Length: 135, dtype: bool\n",
      "Empty DataFrame\n",
      "Columns: [Year, Office, State, Party, Vote %, Vote count, Vote count_total, Final Vote %]\n",
      "Index: []\n"
     ]
    }
   ],
   "source": [
    "# Get the rows where the sum of Vote % is not equal to 1.0\n",
    "sum_not_100 = df_state_2020.groupby(['Year', 'Office', 'State'])['Vote %'].sum() != 1.0\n",
    "print(sum_not_100[sum_not_100 == True])\n",
    "\n",
    "# Get the rows where Vote count is NaN\n",
    "print(df_state_2020[df_state_2020['Vote count'].isna()])\n"
   ]
  },
  {
   "cell_type": "code",
   "execution_count": 51,
   "id": "17798cde",
   "metadata": {},
   "outputs": [
    {
     "data": {
      "text/html": [
       "<div>\n",
       "<style scoped>\n",
       "    .dataframe tbody tr th:only-of-type {\n",
       "        vertical-align: middle;\n",
       "    }\n",
       "\n",
       "    .dataframe tbody tr th {\n",
       "        vertical-align: top;\n",
       "    }\n",
       "\n",
       "    .dataframe thead th {\n",
       "        text-align: right;\n",
       "    }\n",
       "</style>\n",
       "<table border=\"1\" class=\"dataframe\">\n",
       "  <thead>\n",
       "    <tr style=\"text-align: right;\">\n",
       "      <th></th>\n",
       "      <th>Year</th>\n",
       "      <th>Office</th>\n",
       "      <th>State</th>\n",
       "      <th>Last Name</th>\n",
       "      <th>Party</th>\n",
       "      <th>Vote %</th>\n",
       "      <th>Vote count</th>\n",
       "    </tr>\n",
       "  </thead>\n",
       "  <tbody>\n",
       "    <tr>\n",
       "      <th>1</th>\n",
       "      <td>2020</td>\n",
       "      <td>House</td>\n",
       "      <td>AL</td>\n",
       "      <td>Carl</td>\n",
       "      <td>R</td>\n",
       "      <td>0.643698</td>\n",
       "      <td>211825</td>\n",
       "    </tr>\n",
       "    <tr>\n",
       "      <th>7</th>\n",
       "      <td>2020</td>\n",
       "      <td>House</td>\n",
       "      <td>AL</td>\n",
       "      <td>Averhart</td>\n",
       "      <td>D</td>\n",
       "      <td>0.355387</td>\n",
       "      <td>116949</td>\n",
       "    </tr>\n",
       "    <tr>\n",
       "      <th>13</th>\n",
       "      <td>2020</td>\n",
       "      <td>House</td>\n",
       "      <td>AL</td>\n",
       "      <td>Moore</td>\n",
       "      <td>R</td>\n",
       "      <td>0.652227</td>\n",
       "      <td>197996</td>\n",
       "    </tr>\n",
       "    <tr>\n",
       "      <th>21</th>\n",
       "      <td>2020</td>\n",
       "      <td>House</td>\n",
       "      <td>AL</td>\n",
       "      <td>Harvey-Hall</td>\n",
       "      <td>D</td>\n",
       "      <td>0.346827</td>\n",
       "      <td>105286</td>\n",
       "    </tr>\n",
       "    <tr>\n",
       "      <th>26</th>\n",
       "      <td>2020</td>\n",
       "      <td>House</td>\n",
       "      <td>AL</td>\n",
       "      <td>Rogers</td>\n",
       "      <td>R</td>\n",
       "      <td>0.674615</td>\n",
       "      <td>217384</td>\n",
       "    </tr>\n",
       "  </tbody>\n",
       "</table>\n",
       "</div>"
      ],
      "text/plain": [
       "    Year Office State    Last Name Party    Vote % Vote count\n",
       "1   2020  House    AL         Carl     R  0.643698     211825\n",
       "7   2020  House    AL     Averhart     D  0.355387     116949\n",
       "13  2020  House    AL        Moore     R  0.652227     197996\n",
       "21  2020  House    AL  Harvey-Hall     D  0.346827     105286\n",
       "26  2020  House    AL       Rogers     R  0.674615     217384"
      ]
     },
     "execution_count": 51,
     "metadata": {},
     "output_type": "execute_result"
    }
   ],
   "source": [
    "df_h_2020.head()\n",
    "# gives 871 rows"
   ]
  },
  {
   "cell_type": "markdown",
   "id": "a63b6153",
   "metadata": {},
   "source": [
    "# Add data to a database"
   ]
  },
  {
   "cell_type": "code",
   "execution_count": 21,
   "id": "72ba31a3",
   "metadata": {},
   "outputs": [
    {
     "name": "stdout",
     "output_type": "stream",
     "text": [
      "Presidential table loaded successfully\n"
     ]
    }
   ],
   "source": [
    "# import psycopg2\n",
    "# from sqlalchemy import create_engine\n",
    "\n",
    "# Replace the values below with your database credentials\n",
    "DATABASE = \"electiondb\"\n",
    "USER = \"postgres\"\n",
    "PASSWORD = \"Spanques&Gum6\"\n",
    "HOST = \"localhost\"\n",
    "PORT = \"5432\"\n",
    "\n",
    "# Connect to your PostgreSQL database\n",
    "conn = psycopg2.connect(\n",
    "    database=DATABASE,\n",
    "    user=USER,\n",
    "    password=PASSWORD,\n",
    "    host=HOST,\n",
    "    port=PORT\n",
    ")\n",
    "\n",
    "# Create a sqlalchemy engine\n",
    "engine = create_engine(f\"postgresql://{USER}:{PASSWORD}@{HOST}:{PORT}/{DATABASE}\")\n",
    "\n",
    "# Upload the data frames to the database using the results table\n",
    "df_p_2020.to_sql(\"results\", engine, if_exists=\"replace\", index=False)\n",
    "print(\"Presidential table loaded successfully\")\n",
    "df_s_2020.to_sql(\"results\", engine, if_exists=\"append\", index=False)\n",
    "df_h_2020.to_sql(\"results\", engine, if_exists=\"append\", index=False)\n",
    "\n",
    "# Commit the changes to the database\n",
    "conn.commit()\n",
    "\n",
    "# Close the database connection\n",
    "conn.close()\n"
   ]
  },
  {
   "cell_type": "code",
   "execution_count": 22,
   "id": "078ead40",
   "metadata": {},
   "outputs": [
    {
     "name": "stdout",
     "output_type": "stream",
     "text": [
      "      Year Office State  Last Name Party    Vote %  Vote count\n",
      "0     2020   Pres    AL      Trump     R  0.620316     1441170\n",
      "1     2020   Pres    AL      Biden     D  0.365700      849624\n",
      "2     2020   Pres    AL  Jorgensen   IND  0.010836       25176\n",
      "3     2020   Pres    AK      Trump     R  0.528331      189951\n",
      "4     2020   Pres    AK      Biden     D  0.427720      153778\n",
      "...    ...    ...   ...        ...   ...       ...         ...\n",
      "1123  2020  House    WI     Zunker     D  0.392140      162741\n",
      "1124  2020  House    WI  Gallagher     R  0.641811      268173\n",
      "1125  2020  House    WI      Stuck     D  0.357933      149558\n",
      "1126  2020  House    WY     Cheney     R  0.685631      185732\n",
      "1127  2020  House    WY  Grey Bull     D  0.245766       66576\n",
      "\n",
      "[1128 rows x 7 columns]\n"
     ]
    }
   ],
   "source": [
    "# import psycopg2\n",
    "# import pandas as pd\n",
    "\n",
    "# Replace the values below with your database credentials\n",
    "DATABASE = \"electiondb\"\n",
    "USER = \"postgres\"\n",
    "PASSWORD = \"Spanques&Gum6\"\n",
    "HOST = \"localhost\"\n",
    "PORT = \"5432\"\n",
    "\n",
    "# Connect to the PostgreSQL database\n",
    "conn = psycopg2.connect(database=DATABASE, user=USER, password=PASSWORD, host=HOST, port=PORT)\n",
    "\n",
    "# Query the table and store the results in a Pandas dataframe\n",
    "df = pd.read_sql_query(\"SELECT * FROM results\", conn)\n",
    "\n",
    "# Print the dataframe to verify that it contains data\n",
    "print(df)\n",
    "\n",
    "# Close the database connection\n",
    "conn.close()\n",
    "# gives 1128 rows for 2020"
   ]
  },
  {
   "cell_type": "code",
   "execution_count": null,
   "id": "9c5a49c8",
   "metadata": {},
   "outputs": [],
   "source": [
    "# in postgreSQL created database called: electiondb\n",
    "# create table in the postgresSQL first\n",
    "\n",
    "# better table the generates its own primary key\n",
    "# CREATE TABLE results (\n",
    "#     year INTEGER NOT NULL,\n",
    "#     office VARCHAR(50) NOT NULL,\n",
    "#     state VARCHAR(50) NOT NULL,\n",
    "#     last_name VARCHAR(50) NOT NULL,\n",
    "#     party VARCHAR(50) NOT NULL,\n",
    "#     vote_percentage NUMERIC(5, 2) NOT NULL,\n",
    "#     vote_count BIGINT NOT NULL,\n",
    "#     PRIMARY KEY (year, office, state, last_name, party)\n",
    "# );\n"
   ]
  },
  {
   "cell_type": "code",
   "execution_count": null,
   "id": "f27446cb",
   "metadata": {},
   "outputs": [],
   "source": [
    "# query the data base\n",
    "# SELECT * FROM results;\n",
    "# SELECT * FROM results LIMIT 5;\n",
    "# SELECT column_name\n",
    "#     FROM information_schema.columns\n",
    "#     WHERE table_name = 'results';\n",
    "# SELECT 'Last Name' FROM results WHERE 'State'='CA';\n"
   ]
  },
  {
   "cell_type": "code",
   "execution_count": 31,
   "id": "5f09d0ac",
   "metadata": {},
   "outputs": [
    {
     "data": {
      "text/html": [
       "<div>\n",
       "<style scoped>\n",
       "    .dataframe tbody tr th:only-of-type {\n",
       "        vertical-align: middle;\n",
       "    }\n",
       "\n",
       "    .dataframe tbody tr th {\n",
       "        vertical-align: top;\n",
       "    }\n",
       "\n",
       "    .dataframe thead th {\n",
       "        text-align: right;\n",
       "    }\n",
       "</style>\n",
       "<table border=\"1\" class=\"dataframe\">\n",
       "  <thead>\n",
       "    <tr style=\"text-align: right;\">\n",
       "      <th></th>\n",
       "      <th>Year</th>\n",
       "      <th>Office</th>\n",
       "      <th>State</th>\n",
       "      <th>Last Name</th>\n",
       "      <th>Party</th>\n",
       "      <th>Vote %</th>\n",
       "      <th>Vote count</th>\n",
       "    </tr>\n",
       "  </thead>\n",
       "  <tbody>\n",
       "    <tr>\n",
       "      <th>0</th>\n",
       "      <td>2020</td>\n",
       "      <td>Pres</td>\n",
       "      <td>AL</td>\n",
       "      <td>Trump</td>\n",
       "      <td>R</td>\n",
       "      <td>0.620316</td>\n",
       "      <td>1441170</td>\n",
       "    </tr>\n",
       "    <tr>\n",
       "      <th>1</th>\n",
       "      <td>2020</td>\n",
       "      <td>Pres</td>\n",
       "      <td>AL</td>\n",
       "      <td>Biden</td>\n",
       "      <td>D</td>\n",
       "      <td>0.365700</td>\n",
       "      <td>849624</td>\n",
       "    </tr>\n",
       "    <tr>\n",
       "      <th>2</th>\n",
       "      <td>2020</td>\n",
       "      <td>Pres</td>\n",
       "      <td>AL</td>\n",
       "      <td>Jorgensen</td>\n",
       "      <td>IND</td>\n",
       "      <td>0.010836</td>\n",
       "      <td>25176</td>\n",
       "    </tr>\n",
       "    <tr>\n",
       "      <th>3</th>\n",
       "      <td>2020</td>\n",
       "      <td>Pres</td>\n",
       "      <td>AK</td>\n",
       "      <td>Trump</td>\n",
       "      <td>R</td>\n",
       "      <td>0.528331</td>\n",
       "      <td>189951</td>\n",
       "    </tr>\n",
       "    <tr>\n",
       "      <th>4</th>\n",
       "      <td>2020</td>\n",
       "      <td>Pres</td>\n",
       "      <td>AK</td>\n",
       "      <td>Biden</td>\n",
       "      <td>D</td>\n",
       "      <td>0.427720</td>\n",
       "      <td>153778</td>\n",
       "    </tr>\n",
       "    <tr>\n",
       "      <th>...</th>\n",
       "      <td>...</td>\n",
       "      <td>...</td>\n",
       "      <td>...</td>\n",
       "      <td>...</td>\n",
       "      <td>...</td>\n",
       "      <td>...</td>\n",
       "      <td>...</td>\n",
       "    </tr>\n",
       "    <tr>\n",
       "      <th>1123</th>\n",
       "      <td>2020</td>\n",
       "      <td>House</td>\n",
       "      <td>WI</td>\n",
       "      <td>Zunker</td>\n",
       "      <td>D</td>\n",
       "      <td>0.392140</td>\n",
       "      <td>162741</td>\n",
       "    </tr>\n",
       "    <tr>\n",
       "      <th>1124</th>\n",
       "      <td>2020</td>\n",
       "      <td>House</td>\n",
       "      <td>WI</td>\n",
       "      <td>Gallagher</td>\n",
       "      <td>R</td>\n",
       "      <td>0.641811</td>\n",
       "      <td>268173</td>\n",
       "    </tr>\n",
       "    <tr>\n",
       "      <th>1125</th>\n",
       "      <td>2020</td>\n",
       "      <td>House</td>\n",
       "      <td>WI</td>\n",
       "      <td>Stuck</td>\n",
       "      <td>D</td>\n",
       "      <td>0.357933</td>\n",
       "      <td>149558</td>\n",
       "    </tr>\n",
       "    <tr>\n",
       "      <th>1126</th>\n",
       "      <td>2020</td>\n",
       "      <td>House</td>\n",
       "      <td>WY</td>\n",
       "      <td>Cheney</td>\n",
       "      <td>R</td>\n",
       "      <td>0.685631</td>\n",
       "      <td>185732</td>\n",
       "    </tr>\n",
       "    <tr>\n",
       "      <th>1127</th>\n",
       "      <td>2020</td>\n",
       "      <td>House</td>\n",
       "      <td>WY</td>\n",
       "      <td>Grey Bull</td>\n",
       "      <td>D</td>\n",
       "      <td>0.245766</td>\n",
       "      <td>66576</td>\n",
       "    </tr>\n",
       "  </tbody>\n",
       "</table>\n",
       "<p>1128 rows × 7 columns</p>\n",
       "</div>"
      ],
      "text/plain": [
       "      Year Office State  Last Name Party    Vote %  Vote count\n",
       "0     2020   Pres    AL      Trump     R  0.620316     1441170\n",
       "1     2020   Pres    AL      Biden     D  0.365700      849624\n",
       "2     2020   Pres    AL  Jorgensen   IND  0.010836       25176\n",
       "3     2020   Pres    AK      Trump     R  0.528331      189951\n",
       "4     2020   Pres    AK      Biden     D  0.427720      153778\n",
       "...    ...    ...   ...        ...   ...       ...         ...\n",
       "1123  2020  House    WI     Zunker     D  0.392140      162741\n",
       "1124  2020  House    WI  Gallagher     R  0.641811      268173\n",
       "1125  2020  House    WI      Stuck     D  0.357933      149558\n",
       "1126  2020  House    WY     Cheney     R  0.685631      185732\n",
       "1127  2020  House    WY  Grey Bull     D  0.245766       66576\n",
       "\n",
       "[1128 rows x 7 columns]"
      ]
     },
     "execution_count": 31,
     "metadata": {},
     "output_type": "execute_result"
    }
   ],
   "source": [
    "# putting all the df together\n",
    "# Concatenate the three data frames vertically\n",
    "df_combo_2020 = pd.concat([df_p_2020, df_s_2020, df_h_2020], axis=0)\n",
    "\n",
    "# Reset the index of the combined data frame\n",
    "df_combo_2020.reset_index(drop=True, inplace=True)\n",
    "df_combo_2020\n",
    "# gives 1128 rows"
   ]
  },
  {
   "cell_type": "code",
   "execution_count": 25,
   "id": "db79f23c",
   "metadata": {},
   "outputs": [
    {
     "data": {
      "text/html": [
       "<div>\n",
       "<style scoped>\n",
       "    .dataframe tbody tr th:only-of-type {\n",
       "        vertical-align: middle;\n",
       "    }\n",
       "\n",
       "    .dataframe tbody tr th {\n",
       "        vertical-align: top;\n",
       "    }\n",
       "\n",
       "    .dataframe thead th {\n",
       "        text-align: right;\n",
       "    }\n",
       "</style>\n",
       "<table border=\"1\" class=\"dataframe\">\n",
       "  <thead>\n",
       "    <tr style=\"text-align: right;\">\n",
       "      <th></th>\n",
       "      <th>Year</th>\n",
       "      <th>Office</th>\n",
       "      <th>State</th>\n",
       "      <th>Last Name</th>\n",
       "      <th>Party</th>\n",
       "      <th>Vote %</th>\n",
       "      <th>Vote count</th>\n",
       "    </tr>\n",
       "  </thead>\n",
       "  <tbody>\n",
       "    <tr>\n",
       "      <th>0</th>\n",
       "      <td>2020</td>\n",
       "      <td>Pres</td>\n",
       "      <td>AL</td>\n",
       "      <td>Trump</td>\n",
       "      <td>R</td>\n",
       "      <td>0.620316</td>\n",
       "      <td>1441170</td>\n",
       "    </tr>\n",
       "    <tr>\n",
       "      <th>1</th>\n",
       "      <td>2020</td>\n",
       "      <td>Pres</td>\n",
       "      <td>AL</td>\n",
       "      <td>Biden</td>\n",
       "      <td>D</td>\n",
       "      <td>0.365700</td>\n",
       "      <td>849624</td>\n",
       "    </tr>\n",
       "    <tr>\n",
       "      <th>2</th>\n",
       "      <td>2020</td>\n",
       "      <td>Pres</td>\n",
       "      <td>AL</td>\n",
       "      <td>Jorgensen</td>\n",
       "      <td>IND</td>\n",
       "      <td>0.010836</td>\n",
       "      <td>25176</td>\n",
       "    </tr>\n",
       "    <tr>\n",
       "      <th>3</th>\n",
       "      <td>2020</td>\n",
       "      <td>Pres</td>\n",
       "      <td>AK</td>\n",
       "      <td>Trump</td>\n",
       "      <td>R</td>\n",
       "      <td>0.528331</td>\n",
       "      <td>189951</td>\n",
       "    </tr>\n",
       "    <tr>\n",
       "      <th>4</th>\n",
       "      <td>2020</td>\n",
       "      <td>Pres</td>\n",
       "      <td>AK</td>\n",
       "      <td>Biden</td>\n",
       "      <td>D</td>\n",
       "      <td>0.427720</td>\n",
       "      <td>153778</td>\n",
       "    </tr>\n",
       "    <tr>\n",
       "      <th>...</th>\n",
       "      <td>...</td>\n",
       "      <td>...</td>\n",
       "      <td>...</td>\n",
       "      <td>...</td>\n",
       "      <td>...</td>\n",
       "      <td>...</td>\n",
       "      <td>...</td>\n",
       "    </tr>\n",
       "    <tr>\n",
       "      <th>1123</th>\n",
       "      <td>2020</td>\n",
       "      <td>House</td>\n",
       "      <td>WI</td>\n",
       "      <td>Zunker</td>\n",
       "      <td>D</td>\n",
       "      <td>0.392140</td>\n",
       "      <td>162741</td>\n",
       "    </tr>\n",
       "    <tr>\n",
       "      <th>1124</th>\n",
       "      <td>2020</td>\n",
       "      <td>House</td>\n",
       "      <td>WI</td>\n",
       "      <td>Gallagher</td>\n",
       "      <td>R</td>\n",
       "      <td>0.641811</td>\n",
       "      <td>268173</td>\n",
       "    </tr>\n",
       "    <tr>\n",
       "      <th>1125</th>\n",
       "      <td>2020</td>\n",
       "      <td>House</td>\n",
       "      <td>WI</td>\n",
       "      <td>Stuck</td>\n",
       "      <td>D</td>\n",
       "      <td>0.357933</td>\n",
       "      <td>149558</td>\n",
       "    </tr>\n",
       "    <tr>\n",
       "      <th>1126</th>\n",
       "      <td>2020</td>\n",
       "      <td>House</td>\n",
       "      <td>WY</td>\n",
       "      <td>Cheney</td>\n",
       "      <td>R</td>\n",
       "      <td>0.685631</td>\n",
       "      <td>185732</td>\n",
       "    </tr>\n",
       "    <tr>\n",
       "      <th>1127</th>\n",
       "      <td>2020</td>\n",
       "      <td>House</td>\n",
       "      <td>WY</td>\n",
       "      <td>Grey Bull</td>\n",
       "      <td>D</td>\n",
       "      <td>0.245766</td>\n",
       "      <td>66576</td>\n",
       "    </tr>\n",
       "  </tbody>\n",
       "</table>\n",
       "<p>1128 rows × 7 columns</p>\n",
       "</div>"
      ],
      "text/plain": [
       "      Year Office State  Last Name Party    Vote %  Vote count\n",
       "0     2020   Pres    AL      Trump     R  0.620316     1441170\n",
       "1     2020   Pres    AL      Biden     D  0.365700      849624\n",
       "2     2020   Pres    AL  Jorgensen   IND  0.010836       25176\n",
       "3     2020   Pres    AK      Trump     R  0.528331      189951\n",
       "4     2020   Pres    AK      Biden     D  0.427720      153778\n",
       "...    ...    ...   ...        ...   ...       ...         ...\n",
       "1123  2020  House    WI     Zunker     D  0.392140      162741\n",
       "1124  2020  House    WI  Gallagher     R  0.641811      268173\n",
       "1125  2020  House    WI      Stuck     D  0.357933      149558\n",
       "1126  2020  House    WY     Cheney     R  0.685631      185732\n",
       "1127  2020  House    WY  Grey Bull     D  0.245766       66576\n",
       "\n",
       "[1128 rows x 7 columns]"
      ]
     },
     "execution_count": 25,
     "metadata": {},
     "output_type": "execute_result"
    }
   ],
   "source": [
    "df_combo_2020['Year'] = 2020\n",
    "df_combo_2020"
   ]
  },
  {
   "cell_type": "code",
   "execution_count": 49,
   "id": "2824e602",
   "metadata": {
    "scrolled": true
   },
   "outputs": [
    {
     "data": {
      "application/vnd.plotly.v1+json": {
       "config": {
        "plotlyServerURL": "https://plot.ly"
       },
       "data": [
        {
         "colorscale": [
          [
           0,
           "orchid"
          ],
          [
           1,
           "orchid"
          ]
         ],
         "customdata": [
          [
           "AK",
           "House",
           0.5440120057197061
          ],
          [
           "AR",
           "House",
           1
          ],
          [
           "AS",
           "House",
           0.8332624053110903
          ],
          [
           "FL",
           "House",
           0.9786473674595111
          ],
          [
           "IA",
           "House",
           0.6197268042044582
          ],
          [
           "ID",
           "House",
           0.6776106904853285
          ],
          [
           "IN",
           "House",
           0.6865023627948923
          ],
          [
           "KS",
           "House",
           0.7115972141534129
          ],
          [
           "KY",
           "House",
           0.8420780615498205
          ],
          [
           "LA",
           "House",
           0.722095045262829
          ],
          [
           "MN",
           "House",
           0.6570371106966411
          ],
          [
           "MS",
           "House",
           1
          ],
          [
           "MT",
           "House",
           0.563863549838822
          ],
          [
           "ND",
           "House",
           0.689698397128716
          ],
          [
           "NE",
           "House",
           0.7851483767479165
          ],
          [
           "OK",
           "House",
           0.7849103105654348
          ],
          [
           "OR",
           "House",
           0.5986341169089243
          ],
          [
           "SC",
           "House",
           0.7121391996738257
          ],
          [
           "SD",
           "House",
           0.8095501493467964
          ],
          [
           "TX",
           "House",
           0.7970854054350471
          ],
          [
           "UT",
           "House",
           0.6951578935069563
          ],
          [
           "VA",
           "House",
           0.9397699067320257
          ],
          [
           "WV",
           "House",
           0.7133617644981282
          ],
          [
           "WY",
           "House",
           0.6856311740472217
          ]
         ],
         "geo": "geo",
         "hovertemplate": "Party=R<br>State=%{customdata[0]}<br>Office=%{customdata[1]}<br>Vote %=%{customdata[2]}<extra></extra>",
         "locationmode": "USA-states",
         "locations": [
          "AK",
          "AR",
          "AS",
          "FL",
          "IA",
          "ID",
          "IN",
          "KS",
          "KY",
          "LA",
          "MN",
          "MS",
          "MT",
          "ND",
          "NE",
          "OK",
          "OR",
          "SC",
          "SD",
          "TX",
          "UT",
          "VA",
          "WV",
          "WY"
         ],
         "name": "R",
         "showlegend": true,
         "showscale": false,
         "type": "choropleth",
         "z": [
          1,
          1,
          1,
          1,
          1,
          1,
          1,
          1,
          1,
          1,
          1,
          1,
          1,
          1,
          1,
          1,
          1,
          1,
          1,
          1,
          1,
          1,
          1,
          1
         ]
        },
        {
         "colorscale": [
          [
           0,
           "purple"
          ],
          [
           1,
           "purple"
          ]
         ],
         "customdata": [
          [
           "AL",
           "House",
           0.9716396003977085
          ],
          [
           "AZ",
           "House",
           0.7669330465577661
          ],
          [
           "CA",
           "House",
           0.9036569299207867
          ],
          [
           "CO",
           "House",
           0.7364609473894601
          ],
          [
           "CT",
           "House",
           0.6221847658545782
          ],
          [
           "DC",
           "House",
           0.862958415368646
          ],
          [
           "DE",
           "House",
           0.5762836135744568
          ],
          [
           "GA",
           "House",
           0.8514934993497939
          ],
          [
           "GU",
           "House",
           0.4655859129341066
          ],
          [
           "HI",
           "House",
           0.7202092495863351
          ],
          [
           "IL",
           "House",
           0.8405383928130485
          ],
          [
           "MA",
           "House",
           0.9773692763142205
          ],
          [
           "MD",
           "House",
           0.7957571877053781
          ],
          [
           "ME",
           "House",
           0.6215303180766328
          ],
          [
           "MI",
           "House",
           0.7927771594172415
          ],
          [
           "MO",
           "House",
           0.7878236776934001
          ],
          [
           "NC",
           "House",
           1
          ],
          [
           "NH",
           "House",
           0.5389930157514342
          ],
          [
           "NJ",
           "House",
           0.8328086369733353
          ],
          [
           "NM",
           "House",
           0.5868110682694488
          ],
          [
           "NV",
           "House",
           0.6176521976766586
          ],
          [
           "NY",
           "House",
           0.9932633659760967
          ],
          [
           "OH",
           "House",
           0.8005330317669739
          ],
          [
           "PA",
           "House",
           0.9090444748309382
          ],
          [
           "RI",
           "House",
           0.7082551594746717
          ],
          [
           "TN",
           "House",
           0.9999444816769706
          ],
          [
           "VI",
           "House",
           0.8794472783624976
          ],
          [
           "VT",
           "House",
           0.673072370645925
          ],
          [
           "WA",
           "House",
           0.8298832487962577
          ],
          [
           "WI",
           "House",
           0.7464556925475703
          ]
         ],
         "geo": "geo",
         "hovertemplate": "Party=D<br>State=%{customdata[0]}<br>Office=%{customdata[1]}<br>Vote %=%{customdata[2]}<extra></extra>",
         "locationmode": "USA-states",
         "locations": [
          "AL",
          "AZ",
          "CA",
          "CO",
          "CT",
          "DC",
          "DE",
          "GA",
          "GU",
          "HI",
          "IL",
          "MA",
          "MD",
          "ME",
          "MI",
          "MO",
          "NC",
          "NH",
          "NJ",
          "NM",
          "NV",
          "NY",
          "OH",
          "PA",
          "RI",
          "TN",
          "VI",
          "VT",
          "WA",
          "WI"
         ],
         "name": "D",
         "showlegend": true,
         "showscale": false,
         "type": "choropleth",
         "z": [
          1,
          1,
          1,
          1,
          1,
          1,
          1,
          1,
          1,
          1,
          1,
          1,
          1,
          1,
          1,
          1,
          1,
          1,
          1,
          1,
          1,
          1,
          1,
          1,
          1,
          1,
          1,
          1,
          1,
          1
         ]
        },
        {
         "colorscale": [
          [
           0,
           "grey"
          ],
          [
           1,
           "grey"
          ]
         ],
         "customdata": [
          [
           "MP",
           "House",
           1
          ]
         ],
         "geo": "geo",
         "hovertemplate": "Party=IND<br>State=%{customdata[0]}<br>Office=%{customdata[1]}<br>Vote %=%{customdata[2]}<extra></extra>",
         "locationmode": "USA-states",
         "locations": [
          "MP"
         ],
         "name": "IND",
         "showlegend": true,
         "showscale": false,
         "type": "choropleth",
         "z": [
          1
         ]
        }
       ],
       "layout": {
        "coloraxis": {
         "colorbar": {
          "ticktext": [
           "Republican",
           "Democrat",
           "Independent"
          ],
          "tickvals": [
           "R",
           "D",
           "IND"
          ],
          "title": {
           "text": "Party"
          }
         }
        },
        "geo": {
         "center": {},
         "domain": {
          "x": [
           0,
           1
          ],
          "y": [
           0,
           1
          ]
         },
         "scope": "usa"
        },
        "legend": {
         "title": {
          "text": "Party"
         },
         "tracegroupgap": 0
        },
        "template": {
         "data": {
          "bar": [
           {
            "error_x": {
             "color": "#2a3f5f"
            },
            "error_y": {
             "color": "#2a3f5f"
            },
            "marker": {
             "line": {
              "color": "#E5ECF6",
              "width": 0.5
             },
             "pattern": {
              "fillmode": "overlay",
              "size": 10,
              "solidity": 0.2
             }
            },
            "type": "bar"
           }
          ],
          "barpolar": [
           {
            "marker": {
             "line": {
              "color": "#E5ECF6",
              "width": 0.5
             },
             "pattern": {
              "fillmode": "overlay",
              "size": 10,
              "solidity": 0.2
             }
            },
            "type": "barpolar"
           }
          ],
          "carpet": [
           {
            "aaxis": {
             "endlinecolor": "#2a3f5f",
             "gridcolor": "white",
             "linecolor": "white",
             "minorgridcolor": "white",
             "startlinecolor": "#2a3f5f"
            },
            "baxis": {
             "endlinecolor": "#2a3f5f",
             "gridcolor": "white",
             "linecolor": "white",
             "minorgridcolor": "white",
             "startlinecolor": "#2a3f5f"
            },
            "type": "carpet"
           }
          ],
          "choropleth": [
           {
            "colorbar": {
             "outlinewidth": 0,
             "ticks": ""
            },
            "type": "choropleth"
           }
          ],
          "contour": [
           {
            "colorbar": {
             "outlinewidth": 0,
             "ticks": ""
            },
            "colorscale": [
             [
              0,
              "#0d0887"
             ],
             [
              0.1111111111111111,
              "#46039f"
             ],
             [
              0.2222222222222222,
              "#7201a8"
             ],
             [
              0.3333333333333333,
              "#9c179e"
             ],
             [
              0.4444444444444444,
              "#bd3786"
             ],
             [
              0.5555555555555556,
              "#d8576b"
             ],
             [
              0.6666666666666666,
              "#ed7953"
             ],
             [
              0.7777777777777778,
              "#fb9f3a"
             ],
             [
              0.8888888888888888,
              "#fdca26"
             ],
             [
              1,
              "#f0f921"
             ]
            ],
            "type": "contour"
           }
          ],
          "contourcarpet": [
           {
            "colorbar": {
             "outlinewidth": 0,
             "ticks": ""
            },
            "type": "contourcarpet"
           }
          ],
          "heatmap": [
           {
            "colorbar": {
             "outlinewidth": 0,
             "ticks": ""
            },
            "colorscale": [
             [
              0,
              "#0d0887"
             ],
             [
              0.1111111111111111,
              "#46039f"
             ],
             [
              0.2222222222222222,
              "#7201a8"
             ],
             [
              0.3333333333333333,
              "#9c179e"
             ],
             [
              0.4444444444444444,
              "#bd3786"
             ],
             [
              0.5555555555555556,
              "#d8576b"
             ],
             [
              0.6666666666666666,
              "#ed7953"
             ],
             [
              0.7777777777777778,
              "#fb9f3a"
             ],
             [
              0.8888888888888888,
              "#fdca26"
             ],
             [
              1,
              "#f0f921"
             ]
            ],
            "type": "heatmap"
           }
          ],
          "heatmapgl": [
           {
            "colorbar": {
             "outlinewidth": 0,
             "ticks": ""
            },
            "colorscale": [
             [
              0,
              "#0d0887"
             ],
             [
              0.1111111111111111,
              "#46039f"
             ],
             [
              0.2222222222222222,
              "#7201a8"
             ],
             [
              0.3333333333333333,
              "#9c179e"
             ],
             [
              0.4444444444444444,
              "#bd3786"
             ],
             [
              0.5555555555555556,
              "#d8576b"
             ],
             [
              0.6666666666666666,
              "#ed7953"
             ],
             [
              0.7777777777777778,
              "#fb9f3a"
             ],
             [
              0.8888888888888888,
              "#fdca26"
             ],
             [
              1,
              "#f0f921"
             ]
            ],
            "type": "heatmapgl"
           }
          ],
          "histogram": [
           {
            "marker": {
             "pattern": {
              "fillmode": "overlay",
              "size": 10,
              "solidity": 0.2
             }
            },
            "type": "histogram"
           }
          ],
          "histogram2d": [
           {
            "colorbar": {
             "outlinewidth": 0,
             "ticks": ""
            },
            "colorscale": [
             [
              0,
              "#0d0887"
             ],
             [
              0.1111111111111111,
              "#46039f"
             ],
             [
              0.2222222222222222,
              "#7201a8"
             ],
             [
              0.3333333333333333,
              "#9c179e"
             ],
             [
              0.4444444444444444,
              "#bd3786"
             ],
             [
              0.5555555555555556,
              "#d8576b"
             ],
             [
              0.6666666666666666,
              "#ed7953"
             ],
             [
              0.7777777777777778,
              "#fb9f3a"
             ],
             [
              0.8888888888888888,
              "#fdca26"
             ],
             [
              1,
              "#f0f921"
             ]
            ],
            "type": "histogram2d"
           }
          ],
          "histogram2dcontour": [
           {
            "colorbar": {
             "outlinewidth": 0,
             "ticks": ""
            },
            "colorscale": [
             [
              0,
              "#0d0887"
             ],
             [
              0.1111111111111111,
              "#46039f"
             ],
             [
              0.2222222222222222,
              "#7201a8"
             ],
             [
              0.3333333333333333,
              "#9c179e"
             ],
             [
              0.4444444444444444,
              "#bd3786"
             ],
             [
              0.5555555555555556,
              "#d8576b"
             ],
             [
              0.6666666666666666,
              "#ed7953"
             ],
             [
              0.7777777777777778,
              "#fb9f3a"
             ],
             [
              0.8888888888888888,
              "#fdca26"
             ],
             [
              1,
              "#f0f921"
             ]
            ],
            "type": "histogram2dcontour"
           }
          ],
          "mesh3d": [
           {
            "colorbar": {
             "outlinewidth": 0,
             "ticks": ""
            },
            "type": "mesh3d"
           }
          ],
          "parcoords": [
           {
            "line": {
             "colorbar": {
              "outlinewidth": 0,
              "ticks": ""
             }
            },
            "type": "parcoords"
           }
          ],
          "pie": [
           {
            "automargin": true,
            "type": "pie"
           }
          ],
          "scatter": [
           {
            "fillpattern": {
             "fillmode": "overlay",
             "size": 10,
             "solidity": 0.2
            },
            "type": "scatter"
           }
          ],
          "scatter3d": [
           {
            "line": {
             "colorbar": {
              "outlinewidth": 0,
              "ticks": ""
             }
            },
            "marker": {
             "colorbar": {
              "outlinewidth": 0,
              "ticks": ""
             }
            },
            "type": "scatter3d"
           }
          ],
          "scattercarpet": [
           {
            "marker": {
             "colorbar": {
              "outlinewidth": 0,
              "ticks": ""
             }
            },
            "type": "scattercarpet"
           }
          ],
          "scattergeo": [
           {
            "marker": {
             "colorbar": {
              "outlinewidth": 0,
              "ticks": ""
             }
            },
            "type": "scattergeo"
           }
          ],
          "scattergl": [
           {
            "marker": {
             "colorbar": {
              "outlinewidth": 0,
              "ticks": ""
             }
            },
            "type": "scattergl"
           }
          ],
          "scattermapbox": [
           {
            "marker": {
             "colorbar": {
              "outlinewidth": 0,
              "ticks": ""
             }
            },
            "type": "scattermapbox"
           }
          ],
          "scatterpolar": [
           {
            "marker": {
             "colorbar": {
              "outlinewidth": 0,
              "ticks": ""
             }
            },
            "type": "scatterpolar"
           }
          ],
          "scatterpolargl": [
           {
            "marker": {
             "colorbar": {
              "outlinewidth": 0,
              "ticks": ""
             }
            },
            "type": "scatterpolargl"
           }
          ],
          "scatterternary": [
           {
            "marker": {
             "colorbar": {
              "outlinewidth": 0,
              "ticks": ""
             }
            },
            "type": "scatterternary"
           }
          ],
          "surface": [
           {
            "colorbar": {
             "outlinewidth": 0,
             "ticks": ""
            },
            "colorscale": [
             [
              0,
              "#0d0887"
             ],
             [
              0.1111111111111111,
              "#46039f"
             ],
             [
              0.2222222222222222,
              "#7201a8"
             ],
             [
              0.3333333333333333,
              "#9c179e"
             ],
             [
              0.4444444444444444,
              "#bd3786"
             ],
             [
              0.5555555555555556,
              "#d8576b"
             ],
             [
              0.6666666666666666,
              "#ed7953"
             ],
             [
              0.7777777777777778,
              "#fb9f3a"
             ],
             [
              0.8888888888888888,
              "#fdca26"
             ],
             [
              1,
              "#f0f921"
             ]
            ],
            "type": "surface"
           }
          ],
          "table": [
           {
            "cells": {
             "fill": {
              "color": "#EBF0F8"
             },
             "line": {
              "color": "white"
             }
            },
            "header": {
             "fill": {
              "color": "#C8D4E3"
             },
             "line": {
              "color": "white"
             }
            },
            "type": "table"
           }
          ]
         },
         "layout": {
          "annotationdefaults": {
           "arrowcolor": "#2a3f5f",
           "arrowhead": 0,
           "arrowwidth": 1
          },
          "autotypenumbers": "strict",
          "coloraxis": {
           "colorbar": {
            "outlinewidth": 0,
            "ticks": ""
           }
          },
          "colorscale": {
           "diverging": [
            [
             0,
             "#8e0152"
            ],
            [
             0.1,
             "#c51b7d"
            ],
            [
             0.2,
             "#de77ae"
            ],
            [
             0.3,
             "#f1b6da"
            ],
            [
             0.4,
             "#fde0ef"
            ],
            [
             0.5,
             "#f7f7f7"
            ],
            [
             0.6,
             "#e6f5d0"
            ],
            [
             0.7,
             "#b8e186"
            ],
            [
             0.8,
             "#7fbc41"
            ],
            [
             0.9,
             "#4d9221"
            ],
            [
             1,
             "#276419"
            ]
           ],
           "sequential": [
            [
             0,
             "#0d0887"
            ],
            [
             0.1111111111111111,
             "#46039f"
            ],
            [
             0.2222222222222222,
             "#7201a8"
            ],
            [
             0.3333333333333333,
             "#9c179e"
            ],
            [
             0.4444444444444444,
             "#bd3786"
            ],
            [
             0.5555555555555556,
             "#d8576b"
            ],
            [
             0.6666666666666666,
             "#ed7953"
            ],
            [
             0.7777777777777778,
             "#fb9f3a"
            ],
            [
             0.8888888888888888,
             "#fdca26"
            ],
            [
             1,
             "#f0f921"
            ]
           ],
           "sequentialminus": [
            [
             0,
             "#0d0887"
            ],
            [
             0.1111111111111111,
             "#46039f"
            ],
            [
             0.2222222222222222,
             "#7201a8"
            ],
            [
             0.3333333333333333,
             "#9c179e"
            ],
            [
             0.4444444444444444,
             "#bd3786"
            ],
            [
             0.5555555555555556,
             "#d8576b"
            ],
            [
             0.6666666666666666,
             "#ed7953"
            ],
            [
             0.7777777777777778,
             "#fb9f3a"
            ],
            [
             0.8888888888888888,
             "#fdca26"
            ],
            [
             1,
             "#f0f921"
            ]
           ]
          },
          "colorway": [
           "#636efa",
           "#EF553B",
           "#00cc96",
           "#ab63fa",
           "#FFA15A",
           "#19d3f3",
           "#FF6692",
           "#B6E880",
           "#FF97FF",
           "#FECB52"
          ],
          "font": {
           "color": "#2a3f5f"
          },
          "geo": {
           "bgcolor": "white",
           "lakecolor": "white",
           "landcolor": "#E5ECF6",
           "showlakes": true,
           "showland": true,
           "subunitcolor": "white"
          },
          "hoverlabel": {
           "align": "left"
          },
          "hovermode": "closest",
          "mapbox": {
           "style": "light"
          },
          "paper_bgcolor": "white",
          "plot_bgcolor": "#E5ECF6",
          "polar": {
           "angularaxis": {
            "gridcolor": "white",
            "linecolor": "white",
            "ticks": ""
           },
           "bgcolor": "#E5ECF6",
           "radialaxis": {
            "gridcolor": "white",
            "linecolor": "white",
            "ticks": ""
           }
          },
          "scene": {
           "xaxis": {
            "backgroundcolor": "#E5ECF6",
            "gridcolor": "white",
            "gridwidth": 2,
            "linecolor": "white",
            "showbackground": true,
            "ticks": "",
            "zerolinecolor": "white"
           },
           "yaxis": {
            "backgroundcolor": "#E5ECF6",
            "gridcolor": "white",
            "gridwidth": 2,
            "linecolor": "white",
            "showbackground": true,
            "ticks": "",
            "zerolinecolor": "white"
           },
           "zaxis": {
            "backgroundcolor": "#E5ECF6",
            "gridcolor": "white",
            "gridwidth": 2,
            "linecolor": "white",
            "showbackground": true,
            "ticks": "",
            "zerolinecolor": "white"
           }
          },
          "shapedefaults": {
           "line": {
            "color": "#2a3f5f"
           }
          },
          "ternary": {
           "aaxis": {
            "gridcolor": "white",
            "linecolor": "white",
            "ticks": ""
           },
           "baxis": {
            "gridcolor": "white",
            "linecolor": "white",
            "ticks": ""
           },
           "bgcolor": "#E5ECF6",
           "caxis": {
            "gridcolor": "white",
            "linecolor": "white",
            "ticks": ""
           }
          },
          "title": {
           "x": 0.05
          },
          "xaxis": {
           "automargin": true,
           "gridcolor": "white",
           "linecolor": "white",
           "ticks": "",
           "title": {
            "standoff": 15
           },
           "zerolinecolor": "white",
           "zerolinewidth": 2
          },
          "yaxis": {
           "automargin": true,
           "gridcolor": "white",
           "linecolor": "white",
           "ticks": "",
           "title": {
            "standoff": 15
           },
           "zerolinecolor": "white",
           "zerolinewidth": 2
          }
         }
        },
        "title": {
         "text": "2020 US House Election Results"
        }
       }
      },
      "text/html": [
       "<div>                            <div id=\"27d7e32d-be09-4f62-9605-d0e630990110\" class=\"plotly-graph-div\" style=\"height:525px; width:100%;\"></div>            <script type=\"text/javascript\">                require([\"plotly\"], function(Plotly) {                    window.PLOTLYENV=window.PLOTLYENV || {};                                    if (document.getElementById(\"27d7e32d-be09-4f62-9605-d0e630990110\")) {                    Plotly.newPlot(                        \"27d7e32d-be09-4f62-9605-d0e630990110\",                        [{\"colorscale\":[[0.0,\"orchid\"],[1.0,\"orchid\"]],\"customdata\":[[\"AK\",\"House\",0.5440120057197061],[\"AR\",\"House\",1.0],[\"AS\",\"House\",0.8332624053110903],[\"FL\",\"House\",0.9786473674595111],[\"IA\",\"House\",0.6197268042044582],[\"ID\",\"House\",0.6776106904853285],[\"IN\",\"House\",0.6865023627948923],[\"KS\",\"House\",0.7115972141534129],[\"KY\",\"House\",0.8420780615498205],[\"LA\",\"House\",0.722095045262829],[\"MN\",\"House\",0.6570371106966411],[\"MS\",\"House\",1.0],[\"MT\",\"House\",0.563863549838822],[\"ND\",\"House\",0.689698397128716],[\"NE\",\"House\",0.7851483767479165],[\"OK\",\"House\",0.7849103105654348],[\"OR\",\"House\",0.5986341169089243],[\"SC\",\"House\",0.7121391996738257],[\"SD\",\"House\",0.8095501493467964],[\"TX\",\"House\",0.7970854054350471],[\"UT\",\"House\",0.6951578935069563],[\"VA\",\"House\",0.9397699067320257],[\"WV\",\"House\",0.7133617644981282],[\"WY\",\"House\",0.6856311740472217]],\"geo\":\"geo\",\"hovertemplate\":\"Party=R<br>State=%{customdata[0]}<br>Office=%{customdata[1]}<br>Vote %=%{customdata[2]}<extra></extra>\",\"locationmode\":\"USA-states\",\"locations\":[\"AK\",\"AR\",\"AS\",\"FL\",\"IA\",\"ID\",\"IN\",\"KS\",\"KY\",\"LA\",\"MN\",\"MS\",\"MT\",\"ND\",\"NE\",\"OK\",\"OR\",\"SC\",\"SD\",\"TX\",\"UT\",\"VA\",\"WV\",\"WY\"],\"name\":\"R\",\"showlegend\":true,\"showscale\":false,\"z\":[1,1,1,1,1,1,1,1,1,1,1,1,1,1,1,1,1,1,1,1,1,1,1,1],\"type\":\"choropleth\"},{\"colorscale\":[[0.0,\"purple\"],[1.0,\"purple\"]],\"customdata\":[[\"AL\",\"House\",0.9716396003977085],[\"AZ\",\"House\",0.7669330465577661],[\"CA\",\"House\",0.9036569299207867],[\"CO\",\"House\",0.7364609473894601],[\"CT\",\"House\",0.6221847658545782],[\"DC\",\"House\",0.862958415368646],[\"DE\",\"House\",0.5762836135744568],[\"GA\",\"House\",0.8514934993497939],[\"GU\",\"House\",0.4655859129341066],[\"HI\",\"House\",0.7202092495863351],[\"IL\",\"House\",0.8405383928130485],[\"MA\",\"House\",0.9773692763142205],[\"MD\",\"House\",0.7957571877053781],[\"ME\",\"House\",0.6215303180766328],[\"MI\",\"House\",0.7927771594172415],[\"MO\",\"House\",0.7878236776934001],[\"NC\",\"House\",1.0],[\"NH\",\"House\",0.5389930157514342],[\"NJ\",\"House\",0.8328086369733353],[\"NM\",\"House\",0.5868110682694488],[\"NV\",\"House\",0.6176521976766586],[\"NY\",\"House\",0.9932633659760967],[\"OH\",\"House\",0.8005330317669739],[\"PA\",\"House\",0.9090444748309382],[\"RI\",\"House\",0.7082551594746717],[\"TN\",\"House\",0.9999444816769706],[\"VI\",\"House\",0.8794472783624976],[\"VT\",\"House\",0.673072370645925],[\"WA\",\"House\",0.8298832487962577],[\"WI\",\"House\",0.7464556925475703]],\"geo\":\"geo\",\"hovertemplate\":\"Party=D<br>State=%{customdata[0]}<br>Office=%{customdata[1]}<br>Vote %=%{customdata[2]}<extra></extra>\",\"locationmode\":\"USA-states\",\"locations\":[\"AL\",\"AZ\",\"CA\",\"CO\",\"CT\",\"DC\",\"DE\",\"GA\",\"GU\",\"HI\",\"IL\",\"MA\",\"MD\",\"ME\",\"MI\",\"MO\",\"NC\",\"NH\",\"NJ\",\"NM\",\"NV\",\"NY\",\"OH\",\"PA\",\"RI\",\"TN\",\"VI\",\"VT\",\"WA\",\"WI\"],\"name\":\"D\",\"showlegend\":true,\"showscale\":false,\"z\":[1,1,1,1,1,1,1,1,1,1,1,1,1,1,1,1,1,1,1,1,1,1,1,1,1,1,1,1,1,1],\"type\":\"choropleth\"},{\"colorscale\":[[0.0,\"grey\"],[1.0,\"grey\"]],\"customdata\":[[\"MP\",\"House\",1.0]],\"geo\":\"geo\",\"hovertemplate\":\"Party=IND<br>State=%{customdata[0]}<br>Office=%{customdata[1]}<br>Vote %=%{customdata[2]}<extra></extra>\",\"locationmode\":\"USA-states\",\"locations\":[\"MP\"],\"name\":\"IND\",\"showlegend\":true,\"showscale\":false,\"z\":[1],\"type\":\"choropleth\"}],                        {\"template\":{\"data\":{\"histogram2dcontour\":[{\"type\":\"histogram2dcontour\",\"colorbar\":{\"outlinewidth\":0,\"ticks\":\"\"},\"colorscale\":[[0.0,\"#0d0887\"],[0.1111111111111111,\"#46039f\"],[0.2222222222222222,\"#7201a8\"],[0.3333333333333333,\"#9c179e\"],[0.4444444444444444,\"#bd3786\"],[0.5555555555555556,\"#d8576b\"],[0.6666666666666666,\"#ed7953\"],[0.7777777777777778,\"#fb9f3a\"],[0.8888888888888888,\"#fdca26\"],[1.0,\"#f0f921\"]]}],\"choropleth\":[{\"type\":\"choropleth\",\"colorbar\":{\"outlinewidth\":0,\"ticks\":\"\"}}],\"histogram2d\":[{\"type\":\"histogram2d\",\"colorbar\":{\"outlinewidth\":0,\"ticks\":\"\"},\"colorscale\":[[0.0,\"#0d0887\"],[0.1111111111111111,\"#46039f\"],[0.2222222222222222,\"#7201a8\"],[0.3333333333333333,\"#9c179e\"],[0.4444444444444444,\"#bd3786\"],[0.5555555555555556,\"#d8576b\"],[0.6666666666666666,\"#ed7953\"],[0.7777777777777778,\"#fb9f3a\"],[0.8888888888888888,\"#fdca26\"],[1.0,\"#f0f921\"]]}],\"heatmap\":[{\"type\":\"heatmap\",\"colorbar\":{\"outlinewidth\":0,\"ticks\":\"\"},\"colorscale\":[[0.0,\"#0d0887\"],[0.1111111111111111,\"#46039f\"],[0.2222222222222222,\"#7201a8\"],[0.3333333333333333,\"#9c179e\"],[0.4444444444444444,\"#bd3786\"],[0.5555555555555556,\"#d8576b\"],[0.6666666666666666,\"#ed7953\"],[0.7777777777777778,\"#fb9f3a\"],[0.8888888888888888,\"#fdca26\"],[1.0,\"#f0f921\"]]}],\"heatmapgl\":[{\"type\":\"heatmapgl\",\"colorbar\":{\"outlinewidth\":0,\"ticks\":\"\"},\"colorscale\":[[0.0,\"#0d0887\"],[0.1111111111111111,\"#46039f\"],[0.2222222222222222,\"#7201a8\"],[0.3333333333333333,\"#9c179e\"],[0.4444444444444444,\"#bd3786\"],[0.5555555555555556,\"#d8576b\"],[0.6666666666666666,\"#ed7953\"],[0.7777777777777778,\"#fb9f3a\"],[0.8888888888888888,\"#fdca26\"],[1.0,\"#f0f921\"]]}],\"contourcarpet\":[{\"type\":\"contourcarpet\",\"colorbar\":{\"outlinewidth\":0,\"ticks\":\"\"}}],\"contour\":[{\"type\":\"contour\",\"colorbar\":{\"outlinewidth\":0,\"ticks\":\"\"},\"colorscale\":[[0.0,\"#0d0887\"],[0.1111111111111111,\"#46039f\"],[0.2222222222222222,\"#7201a8\"],[0.3333333333333333,\"#9c179e\"],[0.4444444444444444,\"#bd3786\"],[0.5555555555555556,\"#d8576b\"],[0.6666666666666666,\"#ed7953\"],[0.7777777777777778,\"#fb9f3a\"],[0.8888888888888888,\"#fdca26\"],[1.0,\"#f0f921\"]]}],\"surface\":[{\"type\":\"surface\",\"colorbar\":{\"outlinewidth\":0,\"ticks\":\"\"},\"colorscale\":[[0.0,\"#0d0887\"],[0.1111111111111111,\"#46039f\"],[0.2222222222222222,\"#7201a8\"],[0.3333333333333333,\"#9c179e\"],[0.4444444444444444,\"#bd3786\"],[0.5555555555555556,\"#d8576b\"],[0.6666666666666666,\"#ed7953\"],[0.7777777777777778,\"#fb9f3a\"],[0.8888888888888888,\"#fdca26\"],[1.0,\"#f0f921\"]]}],\"mesh3d\":[{\"type\":\"mesh3d\",\"colorbar\":{\"outlinewidth\":0,\"ticks\":\"\"}}],\"scatter\":[{\"fillpattern\":{\"fillmode\":\"overlay\",\"size\":10,\"solidity\":0.2},\"type\":\"scatter\"}],\"parcoords\":[{\"type\":\"parcoords\",\"line\":{\"colorbar\":{\"outlinewidth\":0,\"ticks\":\"\"}}}],\"scatterpolargl\":[{\"type\":\"scatterpolargl\",\"marker\":{\"colorbar\":{\"outlinewidth\":0,\"ticks\":\"\"}}}],\"bar\":[{\"error_x\":{\"color\":\"#2a3f5f\"},\"error_y\":{\"color\":\"#2a3f5f\"},\"marker\":{\"line\":{\"color\":\"#E5ECF6\",\"width\":0.5},\"pattern\":{\"fillmode\":\"overlay\",\"size\":10,\"solidity\":0.2}},\"type\":\"bar\"}],\"scattergeo\":[{\"type\":\"scattergeo\",\"marker\":{\"colorbar\":{\"outlinewidth\":0,\"ticks\":\"\"}}}],\"scatterpolar\":[{\"type\":\"scatterpolar\",\"marker\":{\"colorbar\":{\"outlinewidth\":0,\"ticks\":\"\"}}}],\"histogram\":[{\"marker\":{\"pattern\":{\"fillmode\":\"overlay\",\"size\":10,\"solidity\":0.2}},\"type\":\"histogram\"}],\"scattergl\":[{\"type\":\"scattergl\",\"marker\":{\"colorbar\":{\"outlinewidth\":0,\"ticks\":\"\"}}}],\"scatter3d\":[{\"type\":\"scatter3d\",\"line\":{\"colorbar\":{\"outlinewidth\":0,\"ticks\":\"\"}},\"marker\":{\"colorbar\":{\"outlinewidth\":0,\"ticks\":\"\"}}}],\"scattermapbox\":[{\"type\":\"scattermapbox\",\"marker\":{\"colorbar\":{\"outlinewidth\":0,\"ticks\":\"\"}}}],\"scatterternary\":[{\"type\":\"scatterternary\",\"marker\":{\"colorbar\":{\"outlinewidth\":0,\"ticks\":\"\"}}}],\"scattercarpet\":[{\"type\":\"scattercarpet\",\"marker\":{\"colorbar\":{\"outlinewidth\":0,\"ticks\":\"\"}}}],\"carpet\":[{\"aaxis\":{\"endlinecolor\":\"#2a3f5f\",\"gridcolor\":\"white\",\"linecolor\":\"white\",\"minorgridcolor\":\"white\",\"startlinecolor\":\"#2a3f5f\"},\"baxis\":{\"endlinecolor\":\"#2a3f5f\",\"gridcolor\":\"white\",\"linecolor\":\"white\",\"minorgridcolor\":\"white\",\"startlinecolor\":\"#2a3f5f\"},\"type\":\"carpet\"}],\"table\":[{\"cells\":{\"fill\":{\"color\":\"#EBF0F8\"},\"line\":{\"color\":\"white\"}},\"header\":{\"fill\":{\"color\":\"#C8D4E3\"},\"line\":{\"color\":\"white\"}},\"type\":\"table\"}],\"barpolar\":[{\"marker\":{\"line\":{\"color\":\"#E5ECF6\",\"width\":0.5},\"pattern\":{\"fillmode\":\"overlay\",\"size\":10,\"solidity\":0.2}},\"type\":\"barpolar\"}],\"pie\":[{\"automargin\":true,\"type\":\"pie\"}]},\"layout\":{\"autotypenumbers\":\"strict\",\"colorway\":[\"#636efa\",\"#EF553B\",\"#00cc96\",\"#ab63fa\",\"#FFA15A\",\"#19d3f3\",\"#FF6692\",\"#B6E880\",\"#FF97FF\",\"#FECB52\"],\"font\":{\"color\":\"#2a3f5f\"},\"hovermode\":\"closest\",\"hoverlabel\":{\"align\":\"left\"},\"paper_bgcolor\":\"white\",\"plot_bgcolor\":\"#E5ECF6\",\"polar\":{\"bgcolor\":\"#E5ECF6\",\"angularaxis\":{\"gridcolor\":\"white\",\"linecolor\":\"white\",\"ticks\":\"\"},\"radialaxis\":{\"gridcolor\":\"white\",\"linecolor\":\"white\",\"ticks\":\"\"}},\"ternary\":{\"bgcolor\":\"#E5ECF6\",\"aaxis\":{\"gridcolor\":\"white\",\"linecolor\":\"white\",\"ticks\":\"\"},\"baxis\":{\"gridcolor\":\"white\",\"linecolor\":\"white\",\"ticks\":\"\"},\"caxis\":{\"gridcolor\":\"white\",\"linecolor\":\"white\",\"ticks\":\"\"}},\"coloraxis\":{\"colorbar\":{\"outlinewidth\":0,\"ticks\":\"\"}},\"colorscale\":{\"sequential\":[[0.0,\"#0d0887\"],[0.1111111111111111,\"#46039f\"],[0.2222222222222222,\"#7201a8\"],[0.3333333333333333,\"#9c179e\"],[0.4444444444444444,\"#bd3786\"],[0.5555555555555556,\"#d8576b\"],[0.6666666666666666,\"#ed7953\"],[0.7777777777777778,\"#fb9f3a\"],[0.8888888888888888,\"#fdca26\"],[1.0,\"#f0f921\"]],\"sequentialminus\":[[0.0,\"#0d0887\"],[0.1111111111111111,\"#46039f\"],[0.2222222222222222,\"#7201a8\"],[0.3333333333333333,\"#9c179e\"],[0.4444444444444444,\"#bd3786\"],[0.5555555555555556,\"#d8576b\"],[0.6666666666666666,\"#ed7953\"],[0.7777777777777778,\"#fb9f3a\"],[0.8888888888888888,\"#fdca26\"],[1.0,\"#f0f921\"]],\"diverging\":[[0,\"#8e0152\"],[0.1,\"#c51b7d\"],[0.2,\"#de77ae\"],[0.3,\"#f1b6da\"],[0.4,\"#fde0ef\"],[0.5,\"#f7f7f7\"],[0.6,\"#e6f5d0\"],[0.7,\"#b8e186\"],[0.8,\"#7fbc41\"],[0.9,\"#4d9221\"],[1,\"#276419\"]]},\"xaxis\":{\"gridcolor\":\"white\",\"linecolor\":\"white\",\"ticks\":\"\",\"title\":{\"standoff\":15},\"zerolinecolor\":\"white\",\"automargin\":true,\"zerolinewidth\":2},\"yaxis\":{\"gridcolor\":\"white\",\"linecolor\":\"white\",\"ticks\":\"\",\"title\":{\"standoff\":15},\"zerolinecolor\":\"white\",\"automargin\":true,\"zerolinewidth\":2},\"scene\":{\"xaxis\":{\"backgroundcolor\":\"#E5ECF6\",\"gridcolor\":\"white\",\"linecolor\":\"white\",\"showbackground\":true,\"ticks\":\"\",\"zerolinecolor\":\"white\",\"gridwidth\":2},\"yaxis\":{\"backgroundcolor\":\"#E5ECF6\",\"gridcolor\":\"white\",\"linecolor\":\"white\",\"showbackground\":true,\"ticks\":\"\",\"zerolinecolor\":\"white\",\"gridwidth\":2},\"zaxis\":{\"backgroundcolor\":\"#E5ECF6\",\"gridcolor\":\"white\",\"linecolor\":\"white\",\"showbackground\":true,\"ticks\":\"\",\"zerolinecolor\":\"white\",\"gridwidth\":2}},\"shapedefaults\":{\"line\":{\"color\":\"#2a3f5f\"}},\"annotationdefaults\":{\"arrowcolor\":\"#2a3f5f\",\"arrowhead\":0,\"arrowwidth\":1},\"geo\":{\"bgcolor\":\"white\",\"landcolor\":\"#E5ECF6\",\"subunitcolor\":\"white\",\"showland\":true,\"showlakes\":true,\"lakecolor\":\"white\"},\"title\":{\"x\":0.05},\"mapbox\":{\"style\":\"light\"}}},\"geo\":{\"domain\":{\"x\":[0.0,1.0],\"y\":[0.0,1.0]},\"center\":{},\"scope\":\"usa\"},\"legend\":{\"title\":{\"text\":\"Party\"},\"tracegroupgap\":0},\"title\":{\"text\":\"2020 US House Election Results\"},\"coloraxis\":{\"colorbar\":{\"title\":{\"text\":\"Party\"},\"tickvals\":[\"R\",\"D\",\"IND\"],\"ticktext\":[\"Republican\",\"Democrat\",\"Independent\"]}}},                        {\"responsive\": true}                    ).then(function(){\n",
       "                            \n",
       "var gd = document.getElementById('27d7e32d-be09-4f62-9605-d0e630990110');\n",
       "var x = new MutationObserver(function (mutations, observer) {{\n",
       "        var display = window.getComputedStyle(gd).display;\n",
       "        if (!display || display === 'none') {{\n",
       "            console.log([gd, 'removed!']);\n",
       "            Plotly.purge(gd);\n",
       "            observer.disconnect();\n",
       "        }}\n",
       "}});\n",
       "\n",
       "// Listen for the removal of the full notebook cells\n",
       "var notebookContainer = gd.closest('#notebook-container');\n",
       "if (notebookContainer) {{\n",
       "    x.observe(notebookContainer, {childList: true});\n",
       "}}\n",
       "\n",
       "// Listen for the clearing of the current output cell\n",
       "var outputEl = gd.closest('.output');\n",
       "if (outputEl) {{\n",
       "    x.observe(outputEl, {childList: true});\n",
       "}}\n",
       "\n",
       "                        })                };                });            </script>        </div>"
      ]
     },
     "metadata": {},
     "output_type": "display_data"
    },
    {
     "data": {
      "application/vnd.plotly.v1+json": {
       "config": {
        "plotlyServerURL": "https://plot.ly"
       },
       "data": [
        {
         "colorscale": [
          [
           0,
           "orchid"
          ],
          [
           1,
           "orchid"
          ]
         ],
         "customdata": [
          [
           "AK",
           "Senate",
           0.5389706898448053
          ],
          [
           "AL",
           "Senate",
           0.6009536164251688
          ],
          [
           "AR",
           "Senate",
           0.6652953544949513
          ],
          [
           "GA",
           "Senate",
           0.49727988207201884
          ],
          [
           "IA",
           "Senate",
           0.5173959282892738
          ],
          [
           "ID",
           "Senate",
           0.6262259733644093
          ],
          [
           "KS",
           "Senate",
           0.5322312841115551
          ],
          [
           "KY",
           "Senate",
           0.5776496833573999
          ],
          [
           "LA",
           "Senate",
           0.5932331600164709
          ],
          [
           "ME",
           "Senate",
           0.509831136632474
          ],
          [
           "MN",
           "Senate",
           0.43498246561568216
          ],
          [
           "MS",
           "Senate",
           0.5410522254097673
          ],
          [
           "MT",
           "Senate",
           0.5501216074975604
          ],
          [
           "NC",
           "Senate",
           0.4868714830741895
          ],
          [
           "NE",
           "Senate",
           0.6274187859941592
          ],
          [
           "OK",
           "Senate",
           0.629121392787406
          ],
          [
           "OR",
           "Senate",
           0.3932426034432325
          ],
          [
           "SC",
           "Senate",
           0.544365958624375
          ],
          [
           "SD",
           "Senate",
           0.6573524757328917
          ],
          [
           "TN",
           "Senate",
           0.6219846805198123
          ],
          [
           "TX",
           "Senate",
           0.5350826989134999
          ],
          [
           "WV",
           "Senate",
           0.7028390664999397
          ],
          [
           "WY",
           "Senate",
           0.7258085199148522
          ]
         ],
         "geo": "geo",
         "hovertemplate": "Party=R<br>State=%{customdata[0]}<br>Office=%{customdata[1]}<br>Vote %=%{customdata[2]}<extra></extra>",
         "locationmode": "USA-states",
         "locations": [
          "AK",
          "AL",
          "AR",
          "GA",
          "IA",
          "ID",
          "KS",
          "KY",
          "LA",
          "ME",
          "MN",
          "MS",
          "MT",
          "NC",
          "NE",
          "OK",
          "OR",
          "SC",
          "SD",
          "TN",
          "TX",
          "WV",
          "WY"
         ],
         "name": "R",
         "showlegend": true,
         "showscale": false,
         "type": "choropleth",
         "z": [
          1,
          1,
          1,
          1,
          1,
          1,
          1,
          1,
          1,
          1,
          1,
          1,
          1,
          1,
          1,
          1,
          1,
          1,
          1,
          1,
          1,
          1,
          1
         ]
        },
        {
         "colorscale": [
          [
           0,
           "purple"
          ],
          [
           1,
           "purple"
          ]
         ],
         "customdata": [
          [
           "AZ",
           "Senate",
           0.511566269297357
          ],
          [
           "CO",
           "Senate",
           0.5349896006848405
          ],
          [
           "DE",
           "Senate",
           0.5943841852791103
          ],
          [
           "IL",
           "Senate",
           0.5493356314671662
          ],
          [
           "MA",
           "Senate",
           0.661537326297313
          ],
          [
           "MI",
           "Senate",
           0.4990342572248217
          ],
          [
           "NH",
           "Senate",
           0.5663652103116669
          ],
          [
           "NJ",
           "Senate",
           0.5722815243191144
          ],
          [
           "NM",
           "Senate",
           0.5172959660371311
          ],
          [
           "RI",
           "Senate",
           0.6647769806297065
          ],
          [
           "VA",
           "Senate",
           0.559920836977794
          ]
         ],
         "geo": "geo",
         "hovertemplate": "Party=D<br>State=%{customdata[0]}<br>Office=%{customdata[1]}<br>Vote %=%{customdata[2]}<extra></extra>",
         "locationmode": "USA-states",
         "locations": [
          "AZ",
          "CO",
          "DE",
          "IL",
          "MA",
          "MI",
          "NH",
          "NJ",
          "NM",
          "RI",
          "VA"
         ],
         "name": "D",
         "showlegend": true,
         "showscale": false,
         "type": "choropleth",
         "z": [
          1,
          1,
          1,
          1,
          1,
          1,
          1,
          1,
          1,
          1,
          1
         ]
        }
       ],
       "layout": {
        "coloraxis": {
         "colorbar": {
          "ticktext": [
           "Republican",
           "Democrat",
           "Independent"
          ],
          "tickvals": [
           "R",
           "D",
           "IND"
          ],
          "title": {
           "text": "Party"
          }
         }
        },
        "geo": {
         "center": {},
         "domain": {
          "x": [
           0,
           1
          ],
          "y": [
           0,
           1
          ]
         },
         "scope": "usa"
        },
        "legend": {
         "title": {
          "text": "Party"
         },
         "tracegroupgap": 0
        },
        "template": {
         "data": {
          "bar": [
           {
            "error_x": {
             "color": "#2a3f5f"
            },
            "error_y": {
             "color": "#2a3f5f"
            },
            "marker": {
             "line": {
              "color": "#E5ECF6",
              "width": 0.5
             },
             "pattern": {
              "fillmode": "overlay",
              "size": 10,
              "solidity": 0.2
             }
            },
            "type": "bar"
           }
          ],
          "barpolar": [
           {
            "marker": {
             "line": {
              "color": "#E5ECF6",
              "width": 0.5
             },
             "pattern": {
              "fillmode": "overlay",
              "size": 10,
              "solidity": 0.2
             }
            },
            "type": "barpolar"
           }
          ],
          "carpet": [
           {
            "aaxis": {
             "endlinecolor": "#2a3f5f",
             "gridcolor": "white",
             "linecolor": "white",
             "minorgridcolor": "white",
             "startlinecolor": "#2a3f5f"
            },
            "baxis": {
             "endlinecolor": "#2a3f5f",
             "gridcolor": "white",
             "linecolor": "white",
             "minorgridcolor": "white",
             "startlinecolor": "#2a3f5f"
            },
            "type": "carpet"
           }
          ],
          "choropleth": [
           {
            "colorbar": {
             "outlinewidth": 0,
             "ticks": ""
            },
            "type": "choropleth"
           }
          ],
          "contour": [
           {
            "colorbar": {
             "outlinewidth": 0,
             "ticks": ""
            },
            "colorscale": [
             [
              0,
              "#0d0887"
             ],
             [
              0.1111111111111111,
              "#46039f"
             ],
             [
              0.2222222222222222,
              "#7201a8"
             ],
             [
              0.3333333333333333,
              "#9c179e"
             ],
             [
              0.4444444444444444,
              "#bd3786"
             ],
             [
              0.5555555555555556,
              "#d8576b"
             ],
             [
              0.6666666666666666,
              "#ed7953"
             ],
             [
              0.7777777777777778,
              "#fb9f3a"
             ],
             [
              0.8888888888888888,
              "#fdca26"
             ],
             [
              1,
              "#f0f921"
             ]
            ],
            "type": "contour"
           }
          ],
          "contourcarpet": [
           {
            "colorbar": {
             "outlinewidth": 0,
             "ticks": ""
            },
            "type": "contourcarpet"
           }
          ],
          "heatmap": [
           {
            "colorbar": {
             "outlinewidth": 0,
             "ticks": ""
            },
            "colorscale": [
             [
              0,
              "#0d0887"
             ],
             [
              0.1111111111111111,
              "#46039f"
             ],
             [
              0.2222222222222222,
              "#7201a8"
             ],
             [
              0.3333333333333333,
              "#9c179e"
             ],
             [
              0.4444444444444444,
              "#bd3786"
             ],
             [
              0.5555555555555556,
              "#d8576b"
             ],
             [
              0.6666666666666666,
              "#ed7953"
             ],
             [
              0.7777777777777778,
              "#fb9f3a"
             ],
             [
              0.8888888888888888,
              "#fdca26"
             ],
             [
              1,
              "#f0f921"
             ]
            ],
            "type": "heatmap"
           }
          ],
          "heatmapgl": [
           {
            "colorbar": {
             "outlinewidth": 0,
             "ticks": ""
            },
            "colorscale": [
             [
              0,
              "#0d0887"
             ],
             [
              0.1111111111111111,
              "#46039f"
             ],
             [
              0.2222222222222222,
              "#7201a8"
             ],
             [
              0.3333333333333333,
              "#9c179e"
             ],
             [
              0.4444444444444444,
              "#bd3786"
             ],
             [
              0.5555555555555556,
              "#d8576b"
             ],
             [
              0.6666666666666666,
              "#ed7953"
             ],
             [
              0.7777777777777778,
              "#fb9f3a"
             ],
             [
              0.8888888888888888,
              "#fdca26"
             ],
             [
              1,
              "#f0f921"
             ]
            ],
            "type": "heatmapgl"
           }
          ],
          "histogram": [
           {
            "marker": {
             "pattern": {
              "fillmode": "overlay",
              "size": 10,
              "solidity": 0.2
             }
            },
            "type": "histogram"
           }
          ],
          "histogram2d": [
           {
            "colorbar": {
             "outlinewidth": 0,
             "ticks": ""
            },
            "colorscale": [
             [
              0,
              "#0d0887"
             ],
             [
              0.1111111111111111,
              "#46039f"
             ],
             [
              0.2222222222222222,
              "#7201a8"
             ],
             [
              0.3333333333333333,
              "#9c179e"
             ],
             [
              0.4444444444444444,
              "#bd3786"
             ],
             [
              0.5555555555555556,
              "#d8576b"
             ],
             [
              0.6666666666666666,
              "#ed7953"
             ],
             [
              0.7777777777777778,
              "#fb9f3a"
             ],
             [
              0.8888888888888888,
              "#fdca26"
             ],
             [
              1,
              "#f0f921"
             ]
            ],
            "type": "histogram2d"
           }
          ],
          "histogram2dcontour": [
           {
            "colorbar": {
             "outlinewidth": 0,
             "ticks": ""
            },
            "colorscale": [
             [
              0,
              "#0d0887"
             ],
             [
              0.1111111111111111,
              "#46039f"
             ],
             [
              0.2222222222222222,
              "#7201a8"
             ],
             [
              0.3333333333333333,
              "#9c179e"
             ],
             [
              0.4444444444444444,
              "#bd3786"
             ],
             [
              0.5555555555555556,
              "#d8576b"
             ],
             [
              0.6666666666666666,
              "#ed7953"
             ],
             [
              0.7777777777777778,
              "#fb9f3a"
             ],
             [
              0.8888888888888888,
              "#fdca26"
             ],
             [
              1,
              "#f0f921"
             ]
            ],
            "type": "histogram2dcontour"
           }
          ],
          "mesh3d": [
           {
            "colorbar": {
             "outlinewidth": 0,
             "ticks": ""
            },
            "type": "mesh3d"
           }
          ],
          "parcoords": [
           {
            "line": {
             "colorbar": {
              "outlinewidth": 0,
              "ticks": ""
             }
            },
            "type": "parcoords"
           }
          ],
          "pie": [
           {
            "automargin": true,
            "type": "pie"
           }
          ],
          "scatter": [
           {
            "fillpattern": {
             "fillmode": "overlay",
             "size": 10,
             "solidity": 0.2
            },
            "type": "scatter"
           }
          ],
          "scatter3d": [
           {
            "line": {
             "colorbar": {
              "outlinewidth": 0,
              "ticks": ""
             }
            },
            "marker": {
             "colorbar": {
              "outlinewidth": 0,
              "ticks": ""
             }
            },
            "type": "scatter3d"
           }
          ],
          "scattercarpet": [
           {
            "marker": {
             "colorbar": {
              "outlinewidth": 0,
              "ticks": ""
             }
            },
            "type": "scattercarpet"
           }
          ],
          "scattergeo": [
           {
            "marker": {
             "colorbar": {
              "outlinewidth": 0,
              "ticks": ""
             }
            },
            "type": "scattergeo"
           }
          ],
          "scattergl": [
           {
            "marker": {
             "colorbar": {
              "outlinewidth": 0,
              "ticks": ""
             }
            },
            "type": "scattergl"
           }
          ],
          "scattermapbox": [
           {
            "marker": {
             "colorbar": {
              "outlinewidth": 0,
              "ticks": ""
             }
            },
            "type": "scattermapbox"
           }
          ],
          "scatterpolar": [
           {
            "marker": {
             "colorbar": {
              "outlinewidth": 0,
              "ticks": ""
             }
            },
            "type": "scatterpolar"
           }
          ],
          "scatterpolargl": [
           {
            "marker": {
             "colorbar": {
              "outlinewidth": 0,
              "ticks": ""
             }
            },
            "type": "scatterpolargl"
           }
          ],
          "scatterternary": [
           {
            "marker": {
             "colorbar": {
              "outlinewidth": 0,
              "ticks": ""
             }
            },
            "type": "scatterternary"
           }
          ],
          "surface": [
           {
            "colorbar": {
             "outlinewidth": 0,
             "ticks": ""
            },
            "colorscale": [
             [
              0,
              "#0d0887"
             ],
             [
              0.1111111111111111,
              "#46039f"
             ],
             [
              0.2222222222222222,
              "#7201a8"
             ],
             [
              0.3333333333333333,
              "#9c179e"
             ],
             [
              0.4444444444444444,
              "#bd3786"
             ],
             [
              0.5555555555555556,
              "#d8576b"
             ],
             [
              0.6666666666666666,
              "#ed7953"
             ],
             [
              0.7777777777777778,
              "#fb9f3a"
             ],
             [
              0.8888888888888888,
              "#fdca26"
             ],
             [
              1,
              "#f0f921"
             ]
            ],
            "type": "surface"
           }
          ],
          "table": [
           {
            "cells": {
             "fill": {
              "color": "#EBF0F8"
             },
             "line": {
              "color": "white"
             }
            },
            "header": {
             "fill": {
              "color": "#C8D4E3"
             },
             "line": {
              "color": "white"
             }
            },
            "type": "table"
           }
          ]
         },
         "layout": {
          "annotationdefaults": {
           "arrowcolor": "#2a3f5f",
           "arrowhead": 0,
           "arrowwidth": 1
          },
          "autotypenumbers": "strict",
          "coloraxis": {
           "colorbar": {
            "outlinewidth": 0,
            "ticks": ""
           }
          },
          "colorscale": {
           "diverging": [
            [
             0,
             "#8e0152"
            ],
            [
             0.1,
             "#c51b7d"
            ],
            [
             0.2,
             "#de77ae"
            ],
            [
             0.3,
             "#f1b6da"
            ],
            [
             0.4,
             "#fde0ef"
            ],
            [
             0.5,
             "#f7f7f7"
            ],
            [
             0.6,
             "#e6f5d0"
            ],
            [
             0.7,
             "#b8e186"
            ],
            [
             0.8,
             "#7fbc41"
            ],
            [
             0.9,
             "#4d9221"
            ],
            [
             1,
             "#276419"
            ]
           ],
           "sequential": [
            [
             0,
             "#0d0887"
            ],
            [
             0.1111111111111111,
             "#46039f"
            ],
            [
             0.2222222222222222,
             "#7201a8"
            ],
            [
             0.3333333333333333,
             "#9c179e"
            ],
            [
             0.4444444444444444,
             "#bd3786"
            ],
            [
             0.5555555555555556,
             "#d8576b"
            ],
            [
             0.6666666666666666,
             "#ed7953"
            ],
            [
             0.7777777777777778,
             "#fb9f3a"
            ],
            [
             0.8888888888888888,
             "#fdca26"
            ],
            [
             1,
             "#f0f921"
            ]
           ],
           "sequentialminus": [
            [
             0,
             "#0d0887"
            ],
            [
             0.1111111111111111,
             "#46039f"
            ],
            [
             0.2222222222222222,
             "#7201a8"
            ],
            [
             0.3333333333333333,
             "#9c179e"
            ],
            [
             0.4444444444444444,
             "#bd3786"
            ],
            [
             0.5555555555555556,
             "#d8576b"
            ],
            [
             0.6666666666666666,
             "#ed7953"
            ],
            [
             0.7777777777777778,
             "#fb9f3a"
            ],
            [
             0.8888888888888888,
             "#fdca26"
            ],
            [
             1,
             "#f0f921"
            ]
           ]
          },
          "colorway": [
           "#636efa",
           "#EF553B",
           "#00cc96",
           "#ab63fa",
           "#FFA15A",
           "#19d3f3",
           "#FF6692",
           "#B6E880",
           "#FF97FF",
           "#FECB52"
          ],
          "font": {
           "color": "#2a3f5f"
          },
          "geo": {
           "bgcolor": "white",
           "lakecolor": "white",
           "landcolor": "#E5ECF6",
           "showlakes": true,
           "showland": true,
           "subunitcolor": "white"
          },
          "hoverlabel": {
           "align": "left"
          },
          "hovermode": "closest",
          "mapbox": {
           "style": "light"
          },
          "paper_bgcolor": "white",
          "plot_bgcolor": "#E5ECF6",
          "polar": {
           "angularaxis": {
            "gridcolor": "white",
            "linecolor": "white",
            "ticks": ""
           },
           "bgcolor": "#E5ECF6",
           "radialaxis": {
            "gridcolor": "white",
            "linecolor": "white",
            "ticks": ""
           }
          },
          "scene": {
           "xaxis": {
            "backgroundcolor": "#E5ECF6",
            "gridcolor": "white",
            "gridwidth": 2,
            "linecolor": "white",
            "showbackground": true,
            "ticks": "",
            "zerolinecolor": "white"
           },
           "yaxis": {
            "backgroundcolor": "#E5ECF6",
            "gridcolor": "white",
            "gridwidth": 2,
            "linecolor": "white",
            "showbackground": true,
            "ticks": "",
            "zerolinecolor": "white"
           },
           "zaxis": {
            "backgroundcolor": "#E5ECF6",
            "gridcolor": "white",
            "gridwidth": 2,
            "linecolor": "white",
            "showbackground": true,
            "ticks": "",
            "zerolinecolor": "white"
           }
          },
          "shapedefaults": {
           "line": {
            "color": "#2a3f5f"
           }
          },
          "ternary": {
           "aaxis": {
            "gridcolor": "white",
            "linecolor": "white",
            "ticks": ""
           },
           "baxis": {
            "gridcolor": "white",
            "linecolor": "white",
            "ticks": ""
           },
           "bgcolor": "#E5ECF6",
           "caxis": {
            "gridcolor": "white",
            "linecolor": "white",
            "ticks": ""
           }
          },
          "title": {
           "x": 0.05
          },
          "xaxis": {
           "automargin": true,
           "gridcolor": "white",
           "linecolor": "white",
           "ticks": "",
           "title": {
            "standoff": 15
           },
           "zerolinecolor": "white",
           "zerolinewidth": 2
          },
          "yaxis": {
           "automargin": true,
           "gridcolor": "white",
           "linecolor": "white",
           "ticks": "",
           "title": {
            "standoff": 15
           },
           "zerolinecolor": "white",
           "zerolinewidth": 2
          }
         }
        },
        "title": {
         "text": "2020 US Senate Election Results"
        }
       }
      },
      "text/html": [
       "<div>                            <div id=\"a29ab9c3-13cc-4414-ad9c-9e2405696ace\" class=\"plotly-graph-div\" style=\"height:525px; width:100%;\"></div>            <script type=\"text/javascript\">                require([\"plotly\"], function(Plotly) {                    window.PLOTLYENV=window.PLOTLYENV || {};                                    if (document.getElementById(\"a29ab9c3-13cc-4414-ad9c-9e2405696ace\")) {                    Plotly.newPlot(                        \"a29ab9c3-13cc-4414-ad9c-9e2405696ace\",                        [{\"colorscale\":[[0.0,\"orchid\"],[1.0,\"orchid\"]],\"customdata\":[[\"AK\",\"Senate\",0.5389706898448053],[\"AL\",\"Senate\",0.6009536164251688],[\"AR\",\"Senate\",0.6652953544949513],[\"GA\",\"Senate\",0.49727988207201884],[\"IA\",\"Senate\",0.5173959282892738],[\"ID\",\"Senate\",0.6262259733644093],[\"KS\",\"Senate\",0.5322312841115551],[\"KY\",\"Senate\",0.5776496833573999],[\"LA\",\"Senate\",0.5932331600164709],[\"ME\",\"Senate\",0.509831136632474],[\"MN\",\"Senate\",0.43498246561568216],[\"MS\",\"Senate\",0.5410522254097673],[\"MT\",\"Senate\",0.5501216074975604],[\"NC\",\"Senate\",0.4868714830741895],[\"NE\",\"Senate\",0.6274187859941592],[\"OK\",\"Senate\",0.629121392787406],[\"OR\",\"Senate\",0.3932426034432325],[\"SC\",\"Senate\",0.544365958624375],[\"SD\",\"Senate\",0.6573524757328917],[\"TN\",\"Senate\",0.6219846805198123],[\"TX\",\"Senate\",0.5350826989134999],[\"WV\",\"Senate\",0.7028390664999397],[\"WY\",\"Senate\",0.7258085199148522]],\"geo\":\"geo\",\"hovertemplate\":\"Party=R<br>State=%{customdata[0]}<br>Office=%{customdata[1]}<br>Vote %=%{customdata[2]}<extra></extra>\",\"locationmode\":\"USA-states\",\"locations\":[\"AK\",\"AL\",\"AR\",\"GA\",\"IA\",\"ID\",\"KS\",\"KY\",\"LA\",\"ME\",\"MN\",\"MS\",\"MT\",\"NC\",\"NE\",\"OK\",\"OR\",\"SC\",\"SD\",\"TN\",\"TX\",\"WV\",\"WY\"],\"name\":\"R\",\"showlegend\":true,\"showscale\":false,\"z\":[1,1,1,1,1,1,1,1,1,1,1,1,1,1,1,1,1,1,1,1,1,1,1],\"type\":\"choropleth\"},{\"colorscale\":[[0.0,\"purple\"],[1.0,\"purple\"]],\"customdata\":[[\"AZ\",\"Senate\",0.511566269297357],[\"CO\",\"Senate\",0.5349896006848405],[\"DE\",\"Senate\",0.5943841852791103],[\"IL\",\"Senate\",0.5493356314671662],[\"MA\",\"Senate\",0.661537326297313],[\"MI\",\"Senate\",0.4990342572248217],[\"NH\",\"Senate\",0.5663652103116669],[\"NJ\",\"Senate\",0.5722815243191144],[\"NM\",\"Senate\",0.5172959660371311],[\"RI\",\"Senate\",0.6647769806297065],[\"VA\",\"Senate\",0.559920836977794]],\"geo\":\"geo\",\"hovertemplate\":\"Party=D<br>State=%{customdata[0]}<br>Office=%{customdata[1]}<br>Vote %=%{customdata[2]}<extra></extra>\",\"locationmode\":\"USA-states\",\"locations\":[\"AZ\",\"CO\",\"DE\",\"IL\",\"MA\",\"MI\",\"NH\",\"NJ\",\"NM\",\"RI\",\"VA\"],\"name\":\"D\",\"showlegend\":true,\"showscale\":false,\"z\":[1,1,1,1,1,1,1,1,1,1,1],\"type\":\"choropleth\"}],                        {\"template\":{\"data\":{\"histogram2dcontour\":[{\"type\":\"histogram2dcontour\",\"colorbar\":{\"outlinewidth\":0,\"ticks\":\"\"},\"colorscale\":[[0.0,\"#0d0887\"],[0.1111111111111111,\"#46039f\"],[0.2222222222222222,\"#7201a8\"],[0.3333333333333333,\"#9c179e\"],[0.4444444444444444,\"#bd3786\"],[0.5555555555555556,\"#d8576b\"],[0.6666666666666666,\"#ed7953\"],[0.7777777777777778,\"#fb9f3a\"],[0.8888888888888888,\"#fdca26\"],[1.0,\"#f0f921\"]]}],\"choropleth\":[{\"type\":\"choropleth\",\"colorbar\":{\"outlinewidth\":0,\"ticks\":\"\"}}],\"histogram2d\":[{\"type\":\"histogram2d\",\"colorbar\":{\"outlinewidth\":0,\"ticks\":\"\"},\"colorscale\":[[0.0,\"#0d0887\"],[0.1111111111111111,\"#46039f\"],[0.2222222222222222,\"#7201a8\"],[0.3333333333333333,\"#9c179e\"],[0.4444444444444444,\"#bd3786\"],[0.5555555555555556,\"#d8576b\"],[0.6666666666666666,\"#ed7953\"],[0.7777777777777778,\"#fb9f3a\"],[0.8888888888888888,\"#fdca26\"],[1.0,\"#f0f921\"]]}],\"heatmap\":[{\"type\":\"heatmap\",\"colorbar\":{\"outlinewidth\":0,\"ticks\":\"\"},\"colorscale\":[[0.0,\"#0d0887\"],[0.1111111111111111,\"#46039f\"],[0.2222222222222222,\"#7201a8\"],[0.3333333333333333,\"#9c179e\"],[0.4444444444444444,\"#bd3786\"],[0.5555555555555556,\"#d8576b\"],[0.6666666666666666,\"#ed7953\"],[0.7777777777777778,\"#fb9f3a\"],[0.8888888888888888,\"#fdca26\"],[1.0,\"#f0f921\"]]}],\"heatmapgl\":[{\"type\":\"heatmapgl\",\"colorbar\":{\"outlinewidth\":0,\"ticks\":\"\"},\"colorscale\":[[0.0,\"#0d0887\"],[0.1111111111111111,\"#46039f\"],[0.2222222222222222,\"#7201a8\"],[0.3333333333333333,\"#9c179e\"],[0.4444444444444444,\"#bd3786\"],[0.5555555555555556,\"#d8576b\"],[0.6666666666666666,\"#ed7953\"],[0.7777777777777778,\"#fb9f3a\"],[0.8888888888888888,\"#fdca26\"],[1.0,\"#f0f921\"]]}],\"contourcarpet\":[{\"type\":\"contourcarpet\",\"colorbar\":{\"outlinewidth\":0,\"ticks\":\"\"}}],\"contour\":[{\"type\":\"contour\",\"colorbar\":{\"outlinewidth\":0,\"ticks\":\"\"},\"colorscale\":[[0.0,\"#0d0887\"],[0.1111111111111111,\"#46039f\"],[0.2222222222222222,\"#7201a8\"],[0.3333333333333333,\"#9c179e\"],[0.4444444444444444,\"#bd3786\"],[0.5555555555555556,\"#d8576b\"],[0.6666666666666666,\"#ed7953\"],[0.7777777777777778,\"#fb9f3a\"],[0.8888888888888888,\"#fdca26\"],[1.0,\"#f0f921\"]]}],\"surface\":[{\"type\":\"surface\",\"colorbar\":{\"outlinewidth\":0,\"ticks\":\"\"},\"colorscale\":[[0.0,\"#0d0887\"],[0.1111111111111111,\"#46039f\"],[0.2222222222222222,\"#7201a8\"],[0.3333333333333333,\"#9c179e\"],[0.4444444444444444,\"#bd3786\"],[0.5555555555555556,\"#d8576b\"],[0.6666666666666666,\"#ed7953\"],[0.7777777777777778,\"#fb9f3a\"],[0.8888888888888888,\"#fdca26\"],[1.0,\"#f0f921\"]]}],\"mesh3d\":[{\"type\":\"mesh3d\",\"colorbar\":{\"outlinewidth\":0,\"ticks\":\"\"}}],\"scatter\":[{\"fillpattern\":{\"fillmode\":\"overlay\",\"size\":10,\"solidity\":0.2},\"type\":\"scatter\"}],\"parcoords\":[{\"type\":\"parcoords\",\"line\":{\"colorbar\":{\"outlinewidth\":0,\"ticks\":\"\"}}}],\"scatterpolargl\":[{\"type\":\"scatterpolargl\",\"marker\":{\"colorbar\":{\"outlinewidth\":0,\"ticks\":\"\"}}}],\"bar\":[{\"error_x\":{\"color\":\"#2a3f5f\"},\"error_y\":{\"color\":\"#2a3f5f\"},\"marker\":{\"line\":{\"color\":\"#E5ECF6\",\"width\":0.5},\"pattern\":{\"fillmode\":\"overlay\",\"size\":10,\"solidity\":0.2}},\"type\":\"bar\"}],\"scattergeo\":[{\"type\":\"scattergeo\",\"marker\":{\"colorbar\":{\"outlinewidth\":0,\"ticks\":\"\"}}}],\"scatterpolar\":[{\"type\":\"scatterpolar\",\"marker\":{\"colorbar\":{\"outlinewidth\":0,\"ticks\":\"\"}}}],\"histogram\":[{\"marker\":{\"pattern\":{\"fillmode\":\"overlay\",\"size\":10,\"solidity\":0.2}},\"type\":\"histogram\"}],\"scattergl\":[{\"type\":\"scattergl\",\"marker\":{\"colorbar\":{\"outlinewidth\":0,\"ticks\":\"\"}}}],\"scatter3d\":[{\"type\":\"scatter3d\",\"line\":{\"colorbar\":{\"outlinewidth\":0,\"ticks\":\"\"}},\"marker\":{\"colorbar\":{\"outlinewidth\":0,\"ticks\":\"\"}}}],\"scattermapbox\":[{\"type\":\"scattermapbox\",\"marker\":{\"colorbar\":{\"outlinewidth\":0,\"ticks\":\"\"}}}],\"scatterternary\":[{\"type\":\"scatterternary\",\"marker\":{\"colorbar\":{\"outlinewidth\":0,\"ticks\":\"\"}}}],\"scattercarpet\":[{\"type\":\"scattercarpet\",\"marker\":{\"colorbar\":{\"outlinewidth\":0,\"ticks\":\"\"}}}],\"carpet\":[{\"aaxis\":{\"endlinecolor\":\"#2a3f5f\",\"gridcolor\":\"white\",\"linecolor\":\"white\",\"minorgridcolor\":\"white\",\"startlinecolor\":\"#2a3f5f\"},\"baxis\":{\"endlinecolor\":\"#2a3f5f\",\"gridcolor\":\"white\",\"linecolor\":\"white\",\"minorgridcolor\":\"white\",\"startlinecolor\":\"#2a3f5f\"},\"type\":\"carpet\"}],\"table\":[{\"cells\":{\"fill\":{\"color\":\"#EBF0F8\"},\"line\":{\"color\":\"white\"}},\"header\":{\"fill\":{\"color\":\"#C8D4E3\"},\"line\":{\"color\":\"white\"}},\"type\":\"table\"}],\"barpolar\":[{\"marker\":{\"line\":{\"color\":\"#E5ECF6\",\"width\":0.5},\"pattern\":{\"fillmode\":\"overlay\",\"size\":10,\"solidity\":0.2}},\"type\":\"barpolar\"}],\"pie\":[{\"automargin\":true,\"type\":\"pie\"}]},\"layout\":{\"autotypenumbers\":\"strict\",\"colorway\":[\"#636efa\",\"#EF553B\",\"#00cc96\",\"#ab63fa\",\"#FFA15A\",\"#19d3f3\",\"#FF6692\",\"#B6E880\",\"#FF97FF\",\"#FECB52\"],\"font\":{\"color\":\"#2a3f5f\"},\"hovermode\":\"closest\",\"hoverlabel\":{\"align\":\"left\"},\"paper_bgcolor\":\"white\",\"plot_bgcolor\":\"#E5ECF6\",\"polar\":{\"bgcolor\":\"#E5ECF6\",\"angularaxis\":{\"gridcolor\":\"white\",\"linecolor\":\"white\",\"ticks\":\"\"},\"radialaxis\":{\"gridcolor\":\"white\",\"linecolor\":\"white\",\"ticks\":\"\"}},\"ternary\":{\"bgcolor\":\"#E5ECF6\",\"aaxis\":{\"gridcolor\":\"white\",\"linecolor\":\"white\",\"ticks\":\"\"},\"baxis\":{\"gridcolor\":\"white\",\"linecolor\":\"white\",\"ticks\":\"\"},\"caxis\":{\"gridcolor\":\"white\",\"linecolor\":\"white\",\"ticks\":\"\"}},\"coloraxis\":{\"colorbar\":{\"outlinewidth\":0,\"ticks\":\"\"}},\"colorscale\":{\"sequential\":[[0.0,\"#0d0887\"],[0.1111111111111111,\"#46039f\"],[0.2222222222222222,\"#7201a8\"],[0.3333333333333333,\"#9c179e\"],[0.4444444444444444,\"#bd3786\"],[0.5555555555555556,\"#d8576b\"],[0.6666666666666666,\"#ed7953\"],[0.7777777777777778,\"#fb9f3a\"],[0.8888888888888888,\"#fdca26\"],[1.0,\"#f0f921\"]],\"sequentialminus\":[[0.0,\"#0d0887\"],[0.1111111111111111,\"#46039f\"],[0.2222222222222222,\"#7201a8\"],[0.3333333333333333,\"#9c179e\"],[0.4444444444444444,\"#bd3786\"],[0.5555555555555556,\"#d8576b\"],[0.6666666666666666,\"#ed7953\"],[0.7777777777777778,\"#fb9f3a\"],[0.8888888888888888,\"#fdca26\"],[1.0,\"#f0f921\"]],\"diverging\":[[0,\"#8e0152\"],[0.1,\"#c51b7d\"],[0.2,\"#de77ae\"],[0.3,\"#f1b6da\"],[0.4,\"#fde0ef\"],[0.5,\"#f7f7f7\"],[0.6,\"#e6f5d0\"],[0.7,\"#b8e186\"],[0.8,\"#7fbc41\"],[0.9,\"#4d9221\"],[1,\"#276419\"]]},\"xaxis\":{\"gridcolor\":\"white\",\"linecolor\":\"white\",\"ticks\":\"\",\"title\":{\"standoff\":15},\"zerolinecolor\":\"white\",\"automargin\":true,\"zerolinewidth\":2},\"yaxis\":{\"gridcolor\":\"white\",\"linecolor\":\"white\",\"ticks\":\"\",\"title\":{\"standoff\":15},\"zerolinecolor\":\"white\",\"automargin\":true,\"zerolinewidth\":2},\"scene\":{\"xaxis\":{\"backgroundcolor\":\"#E5ECF6\",\"gridcolor\":\"white\",\"linecolor\":\"white\",\"showbackground\":true,\"ticks\":\"\",\"zerolinecolor\":\"white\",\"gridwidth\":2},\"yaxis\":{\"backgroundcolor\":\"#E5ECF6\",\"gridcolor\":\"white\",\"linecolor\":\"white\",\"showbackground\":true,\"ticks\":\"\",\"zerolinecolor\":\"white\",\"gridwidth\":2},\"zaxis\":{\"backgroundcolor\":\"#E5ECF6\",\"gridcolor\":\"white\",\"linecolor\":\"white\",\"showbackground\":true,\"ticks\":\"\",\"zerolinecolor\":\"white\",\"gridwidth\":2}},\"shapedefaults\":{\"line\":{\"color\":\"#2a3f5f\"}},\"annotationdefaults\":{\"arrowcolor\":\"#2a3f5f\",\"arrowhead\":0,\"arrowwidth\":1},\"geo\":{\"bgcolor\":\"white\",\"landcolor\":\"#E5ECF6\",\"subunitcolor\":\"white\",\"showland\":true,\"showlakes\":true,\"lakecolor\":\"white\"},\"title\":{\"x\":0.05},\"mapbox\":{\"style\":\"light\"}}},\"geo\":{\"domain\":{\"x\":[0.0,1.0],\"y\":[0.0,1.0]},\"center\":{},\"scope\":\"usa\"},\"legend\":{\"title\":{\"text\":\"Party\"},\"tracegroupgap\":0},\"title\":{\"text\":\"2020 US Senate Election Results\"},\"coloraxis\":{\"colorbar\":{\"title\":{\"text\":\"Party\"},\"tickvals\":[\"R\",\"D\",\"IND\"],\"ticktext\":[\"Republican\",\"Democrat\",\"Independent\"]}}},                        {\"responsive\": true}                    ).then(function(){\n",
       "                            \n",
       "var gd = document.getElementById('a29ab9c3-13cc-4414-ad9c-9e2405696ace');\n",
       "var x = new MutationObserver(function (mutations, observer) {{\n",
       "        var display = window.getComputedStyle(gd).display;\n",
       "        if (!display || display === 'none') {{\n",
       "            console.log([gd, 'removed!']);\n",
       "            Plotly.purge(gd);\n",
       "            observer.disconnect();\n",
       "        }}\n",
       "}});\n",
       "\n",
       "// Listen for the removal of the full notebook cells\n",
       "var notebookContainer = gd.closest('#notebook-container');\n",
       "if (notebookContainer) {{\n",
       "    x.observe(notebookContainer, {childList: true});\n",
       "}}\n",
       "\n",
       "// Listen for the clearing of the current output cell\n",
       "var outputEl = gd.closest('.output');\n",
       "if (outputEl) {{\n",
       "    x.observe(outputEl, {childList: true});\n",
       "}}\n",
       "\n",
       "                        })                };                });            </script>        </div>"
      ]
     },
     "metadata": {},
     "output_type": "display_data"
    },
    {
     "data": {
      "application/vnd.plotly.v1+json": {
       "config": {
        "plotlyServerURL": "https://plot.ly"
       },
       "data": [
        {
         "colorscale": [
          [
           0,
           "orchid"
          ],
          [
           1,
           "orchid"
          ]
         ],
         "customdata": [
          [
           "AK",
           "Pres",
           0.5283314327038078
          ],
          [
           "AL",
           "Pres",
           0.620316431668648
          ],
          [
           "AR",
           "Pres",
           0.6239572985614432
          ],
          [
           "FL",
           "Pres",
           0.5121981962250404
          ],
          [
           "IA",
           "Pres",
           0.5308932496920227
          ],
          [
           "ID",
           "Pres",
           0.6384344892583999
          ],
          [
           "IN",
           "Pres",
           0.5703057157269031
          ],
          [
           "KS",
           "Pres",
           0.5614365794120173
          ],
          [
           "KY",
           "Pres",
           0.6208657186929044
          ],
          [
           "LA",
           "Pres",
           0.5846088241400853
          ],
          [
           "MN",
           "Pres",
           0.4528494240916937
          ],
          [
           "MO",
           "Pres",
           0.5679965577888949
          ],
          [
           "MS",
           "Pres",
           0.5760295457538255
          ],
          [
           "MT",
           "Pres",
           0.5691846924002028
          ],
          [
           "NC",
           "Pres",
           0.4993435061225701
          ],
          [
           "ND",
           "Pres",
           0.65120268269507
          ],
          [
           "NE",
           "Pres",
           0.5822416333205421
          ],
          [
           "OH",
           "Pres",
           0.5327130010087464
          ],
          [
           "OK",
           "Pres",
           0.6537327184806295
          ],
          [
           "SC",
           "Pres",
           0.5511029395674024
          ],
          [
           "SD",
           "Pres",
           0.6176938967225024
          ],
          [
           "TN",
           "Pres",
           0.6066029416628381
          ],
          [
           "TX",
           "Pres",
           0.5205760360355265
          ],
          [
           "UT",
           "Pres",
           0.5812983902991959
          ],
          [
           "WV",
           "Pres",
           0.6862472962549592
          ],
          [
           "WY",
           "Pres",
           0.6993622748541181
          ]
         ],
         "geo": "geo",
         "hovertemplate": "Party=R<br>State=%{customdata[0]}<br>Office=%{customdata[1]}<br>Vote %=%{customdata[2]}<extra></extra>",
         "locationmode": "USA-states",
         "locations": [
          "AK",
          "AL",
          "AR",
          "FL",
          "IA",
          "ID",
          "IN",
          "KS",
          "KY",
          "LA",
          "MN",
          "MO",
          "MS",
          "MT",
          "NC",
          "ND",
          "NE",
          "OH",
          "OK",
          "SC",
          "SD",
          "TN",
          "TX",
          "UT",
          "WV",
          "WY"
         ],
         "name": "R",
         "showlegend": true,
         "showscale": false,
         "type": "choropleth",
         "z": [
          1,
          1,
          1,
          1,
          1,
          1,
          1,
          1,
          1,
          1,
          1,
          1,
          1,
          1,
          1,
          1,
          1,
          1,
          1,
          1,
          1,
          1,
          1,
          1,
          1,
          1
         ]
        },
        {
         "colorscale": [
          [
           0,
           "purple"
          ],
          [
           1,
           "purple"
          ]
         ],
         "customdata": [
          [
           "AZ",
           "Pres",
           0.49364690614366613
          ],
          [
           "CA",
           "Pres",
           0.6348435951907793
          ],
          [
           "CO",
           "Pres",
           0.553995419069199
          ],
          [
           "CT",
           "Pres",
           0.5926073151568352
          ],
          [
           "DC",
           "Pres",
           0.9214969392140692
          ],
          [
           "DE",
           "Pres",
           0.5874300579364167
          ],
          [
           "GA",
           "Pres",
           0.49473055784446274
          ],
          [
           "HI",
           "Pres",
           0.6373363923901899
          ],
          [
           "IL",
           "Pres",
           0.5754163584003564
          ],
          [
           "MA",
           "Pres",
           0.6560006300596849
          ],
          [
           "MD",
           "Pres",
           0.6536066486007711
          ],
          [
           "ME",
           "Pres",
           0.5309245955573236
          ],
          [
           "MI",
           "Pres",
           0.5062081829082437
          ],
          [
           "NH",
           "Pres",
           0.5270830620003597
          ],
          [
           "NJ",
           "Pres",
           0.5733431484240866
          ],
          [
           "NM",
           "Pres",
           0.5428928584957222
          ],
          [
           "NV",
           "Pres",
           0.5005678195728402
          ],
          [
           "NY",
           "Pres",
           0.5638100695833437
          ],
          [
           "OR",
           "Pres",
           0.5645331865404888
          ],
          [
           "PA",
           "Pres",
           0.49852111352266465
          ],
          [
           "RI",
           "Pres",
           0.5938809132469479
          ],
          [
           "VA",
           "Pres",
           0.5410951717780242
          ],
          [
           "VT",
           "Pres",
           0.6608641693066397
          ],
          [
           "WA",
           "Pres",
           0.5797030113530306
          ],
          [
           "WI",
           "Pres",
           0.4944953686142774
          ]
         ],
         "geo": "geo",
         "hovertemplate": "Party=D<br>State=%{customdata[0]}<br>Office=%{customdata[1]}<br>Vote %=%{customdata[2]}<extra></extra>",
         "locationmode": "USA-states",
         "locations": [
          "AZ",
          "CA",
          "CO",
          "CT",
          "DC",
          "DE",
          "GA",
          "HI",
          "IL",
          "MA",
          "MD",
          "ME",
          "MI",
          "NH",
          "NJ",
          "NM",
          "NV",
          "NY",
          "OR",
          "PA",
          "RI",
          "VA",
          "VT",
          "WA",
          "WI"
         ],
         "name": "D",
         "showlegend": true,
         "showscale": false,
         "type": "choropleth",
         "z": [
          1,
          1,
          1,
          1,
          1,
          1,
          1,
          1,
          1,
          1,
          1,
          1,
          1,
          1,
          1,
          1,
          1,
          1,
          1,
          1,
          1,
          1,
          1,
          1,
          1
         ]
        }
       ],
       "layout": {
        "coloraxis": {
         "colorbar": {
          "ticktext": [
           "Republican",
           "Democrat",
           "Independent"
          ],
          "tickvals": [
           "R",
           "D",
           "IND"
          ],
          "title": {
           "text": "Party"
          }
         }
        },
        "geo": {
         "center": {},
         "domain": {
          "x": [
           0,
           1
          ],
          "y": [
           0,
           1
          ]
         },
         "scope": "usa"
        },
        "legend": {
         "title": {
          "text": "Party"
         },
         "tracegroupgap": 0
        },
        "template": {
         "data": {
          "bar": [
           {
            "error_x": {
             "color": "#2a3f5f"
            },
            "error_y": {
             "color": "#2a3f5f"
            },
            "marker": {
             "line": {
              "color": "#E5ECF6",
              "width": 0.5
             },
             "pattern": {
              "fillmode": "overlay",
              "size": 10,
              "solidity": 0.2
             }
            },
            "type": "bar"
           }
          ],
          "barpolar": [
           {
            "marker": {
             "line": {
              "color": "#E5ECF6",
              "width": 0.5
             },
             "pattern": {
              "fillmode": "overlay",
              "size": 10,
              "solidity": 0.2
             }
            },
            "type": "barpolar"
           }
          ],
          "carpet": [
           {
            "aaxis": {
             "endlinecolor": "#2a3f5f",
             "gridcolor": "white",
             "linecolor": "white",
             "minorgridcolor": "white",
             "startlinecolor": "#2a3f5f"
            },
            "baxis": {
             "endlinecolor": "#2a3f5f",
             "gridcolor": "white",
             "linecolor": "white",
             "minorgridcolor": "white",
             "startlinecolor": "#2a3f5f"
            },
            "type": "carpet"
           }
          ],
          "choropleth": [
           {
            "colorbar": {
             "outlinewidth": 0,
             "ticks": ""
            },
            "type": "choropleth"
           }
          ],
          "contour": [
           {
            "colorbar": {
             "outlinewidth": 0,
             "ticks": ""
            },
            "colorscale": [
             [
              0,
              "#0d0887"
             ],
             [
              0.1111111111111111,
              "#46039f"
             ],
             [
              0.2222222222222222,
              "#7201a8"
             ],
             [
              0.3333333333333333,
              "#9c179e"
             ],
             [
              0.4444444444444444,
              "#bd3786"
             ],
             [
              0.5555555555555556,
              "#d8576b"
             ],
             [
              0.6666666666666666,
              "#ed7953"
             ],
             [
              0.7777777777777778,
              "#fb9f3a"
             ],
             [
              0.8888888888888888,
              "#fdca26"
             ],
             [
              1,
              "#f0f921"
             ]
            ],
            "type": "contour"
           }
          ],
          "contourcarpet": [
           {
            "colorbar": {
             "outlinewidth": 0,
             "ticks": ""
            },
            "type": "contourcarpet"
           }
          ],
          "heatmap": [
           {
            "colorbar": {
             "outlinewidth": 0,
             "ticks": ""
            },
            "colorscale": [
             [
              0,
              "#0d0887"
             ],
             [
              0.1111111111111111,
              "#46039f"
             ],
             [
              0.2222222222222222,
              "#7201a8"
             ],
             [
              0.3333333333333333,
              "#9c179e"
             ],
             [
              0.4444444444444444,
              "#bd3786"
             ],
             [
              0.5555555555555556,
              "#d8576b"
             ],
             [
              0.6666666666666666,
              "#ed7953"
             ],
             [
              0.7777777777777778,
              "#fb9f3a"
             ],
             [
              0.8888888888888888,
              "#fdca26"
             ],
             [
              1,
              "#f0f921"
             ]
            ],
            "type": "heatmap"
           }
          ],
          "heatmapgl": [
           {
            "colorbar": {
             "outlinewidth": 0,
             "ticks": ""
            },
            "colorscale": [
             [
              0,
              "#0d0887"
             ],
             [
              0.1111111111111111,
              "#46039f"
             ],
             [
              0.2222222222222222,
              "#7201a8"
             ],
             [
              0.3333333333333333,
              "#9c179e"
             ],
             [
              0.4444444444444444,
              "#bd3786"
             ],
             [
              0.5555555555555556,
              "#d8576b"
             ],
             [
              0.6666666666666666,
              "#ed7953"
             ],
             [
              0.7777777777777778,
              "#fb9f3a"
             ],
             [
              0.8888888888888888,
              "#fdca26"
             ],
             [
              1,
              "#f0f921"
             ]
            ],
            "type": "heatmapgl"
           }
          ],
          "histogram": [
           {
            "marker": {
             "pattern": {
              "fillmode": "overlay",
              "size": 10,
              "solidity": 0.2
             }
            },
            "type": "histogram"
           }
          ],
          "histogram2d": [
           {
            "colorbar": {
             "outlinewidth": 0,
             "ticks": ""
            },
            "colorscale": [
             [
              0,
              "#0d0887"
             ],
             [
              0.1111111111111111,
              "#46039f"
             ],
             [
              0.2222222222222222,
              "#7201a8"
             ],
             [
              0.3333333333333333,
              "#9c179e"
             ],
             [
              0.4444444444444444,
              "#bd3786"
             ],
             [
              0.5555555555555556,
              "#d8576b"
             ],
             [
              0.6666666666666666,
              "#ed7953"
             ],
             [
              0.7777777777777778,
              "#fb9f3a"
             ],
             [
              0.8888888888888888,
              "#fdca26"
             ],
             [
              1,
              "#f0f921"
             ]
            ],
            "type": "histogram2d"
           }
          ],
          "histogram2dcontour": [
           {
            "colorbar": {
             "outlinewidth": 0,
             "ticks": ""
            },
            "colorscale": [
             [
              0,
              "#0d0887"
             ],
             [
              0.1111111111111111,
              "#46039f"
             ],
             [
              0.2222222222222222,
              "#7201a8"
             ],
             [
              0.3333333333333333,
              "#9c179e"
             ],
             [
              0.4444444444444444,
              "#bd3786"
             ],
             [
              0.5555555555555556,
              "#d8576b"
             ],
             [
              0.6666666666666666,
              "#ed7953"
             ],
             [
              0.7777777777777778,
              "#fb9f3a"
             ],
             [
              0.8888888888888888,
              "#fdca26"
             ],
             [
              1,
              "#f0f921"
             ]
            ],
            "type": "histogram2dcontour"
           }
          ],
          "mesh3d": [
           {
            "colorbar": {
             "outlinewidth": 0,
             "ticks": ""
            },
            "type": "mesh3d"
           }
          ],
          "parcoords": [
           {
            "line": {
             "colorbar": {
              "outlinewidth": 0,
              "ticks": ""
             }
            },
            "type": "parcoords"
           }
          ],
          "pie": [
           {
            "automargin": true,
            "type": "pie"
           }
          ],
          "scatter": [
           {
            "fillpattern": {
             "fillmode": "overlay",
             "size": 10,
             "solidity": 0.2
            },
            "type": "scatter"
           }
          ],
          "scatter3d": [
           {
            "line": {
             "colorbar": {
              "outlinewidth": 0,
              "ticks": ""
             }
            },
            "marker": {
             "colorbar": {
              "outlinewidth": 0,
              "ticks": ""
             }
            },
            "type": "scatter3d"
           }
          ],
          "scattercarpet": [
           {
            "marker": {
             "colorbar": {
              "outlinewidth": 0,
              "ticks": ""
             }
            },
            "type": "scattercarpet"
           }
          ],
          "scattergeo": [
           {
            "marker": {
             "colorbar": {
              "outlinewidth": 0,
              "ticks": ""
             }
            },
            "type": "scattergeo"
           }
          ],
          "scattergl": [
           {
            "marker": {
             "colorbar": {
              "outlinewidth": 0,
              "ticks": ""
             }
            },
            "type": "scattergl"
           }
          ],
          "scattermapbox": [
           {
            "marker": {
             "colorbar": {
              "outlinewidth": 0,
              "ticks": ""
             }
            },
            "type": "scattermapbox"
           }
          ],
          "scatterpolar": [
           {
            "marker": {
             "colorbar": {
              "outlinewidth": 0,
              "ticks": ""
             }
            },
            "type": "scatterpolar"
           }
          ],
          "scatterpolargl": [
           {
            "marker": {
             "colorbar": {
              "outlinewidth": 0,
              "ticks": ""
             }
            },
            "type": "scatterpolargl"
           }
          ],
          "scatterternary": [
           {
            "marker": {
             "colorbar": {
              "outlinewidth": 0,
              "ticks": ""
             }
            },
            "type": "scatterternary"
           }
          ],
          "surface": [
           {
            "colorbar": {
             "outlinewidth": 0,
             "ticks": ""
            },
            "colorscale": [
             [
              0,
              "#0d0887"
             ],
             [
              0.1111111111111111,
              "#46039f"
             ],
             [
              0.2222222222222222,
              "#7201a8"
             ],
             [
              0.3333333333333333,
              "#9c179e"
             ],
             [
              0.4444444444444444,
              "#bd3786"
             ],
             [
              0.5555555555555556,
              "#d8576b"
             ],
             [
              0.6666666666666666,
              "#ed7953"
             ],
             [
              0.7777777777777778,
              "#fb9f3a"
             ],
             [
              0.8888888888888888,
              "#fdca26"
             ],
             [
              1,
              "#f0f921"
             ]
            ],
            "type": "surface"
           }
          ],
          "table": [
           {
            "cells": {
             "fill": {
              "color": "#EBF0F8"
             },
             "line": {
              "color": "white"
             }
            },
            "header": {
             "fill": {
              "color": "#C8D4E3"
             },
             "line": {
              "color": "white"
             }
            },
            "type": "table"
           }
          ]
         },
         "layout": {
          "annotationdefaults": {
           "arrowcolor": "#2a3f5f",
           "arrowhead": 0,
           "arrowwidth": 1
          },
          "autotypenumbers": "strict",
          "coloraxis": {
           "colorbar": {
            "outlinewidth": 0,
            "ticks": ""
           }
          },
          "colorscale": {
           "diverging": [
            [
             0,
             "#8e0152"
            ],
            [
             0.1,
             "#c51b7d"
            ],
            [
             0.2,
             "#de77ae"
            ],
            [
             0.3,
             "#f1b6da"
            ],
            [
             0.4,
             "#fde0ef"
            ],
            [
             0.5,
             "#f7f7f7"
            ],
            [
             0.6,
             "#e6f5d0"
            ],
            [
             0.7,
             "#b8e186"
            ],
            [
             0.8,
             "#7fbc41"
            ],
            [
             0.9,
             "#4d9221"
            ],
            [
             1,
             "#276419"
            ]
           ],
           "sequential": [
            [
             0,
             "#0d0887"
            ],
            [
             0.1111111111111111,
             "#46039f"
            ],
            [
             0.2222222222222222,
             "#7201a8"
            ],
            [
             0.3333333333333333,
             "#9c179e"
            ],
            [
             0.4444444444444444,
             "#bd3786"
            ],
            [
             0.5555555555555556,
             "#d8576b"
            ],
            [
             0.6666666666666666,
             "#ed7953"
            ],
            [
             0.7777777777777778,
             "#fb9f3a"
            ],
            [
             0.8888888888888888,
             "#fdca26"
            ],
            [
             1,
             "#f0f921"
            ]
           ],
           "sequentialminus": [
            [
             0,
             "#0d0887"
            ],
            [
             0.1111111111111111,
             "#46039f"
            ],
            [
             0.2222222222222222,
             "#7201a8"
            ],
            [
             0.3333333333333333,
             "#9c179e"
            ],
            [
             0.4444444444444444,
             "#bd3786"
            ],
            [
             0.5555555555555556,
             "#d8576b"
            ],
            [
             0.6666666666666666,
             "#ed7953"
            ],
            [
             0.7777777777777778,
             "#fb9f3a"
            ],
            [
             0.8888888888888888,
             "#fdca26"
            ],
            [
             1,
             "#f0f921"
            ]
           ]
          },
          "colorway": [
           "#636efa",
           "#EF553B",
           "#00cc96",
           "#ab63fa",
           "#FFA15A",
           "#19d3f3",
           "#FF6692",
           "#B6E880",
           "#FF97FF",
           "#FECB52"
          ],
          "font": {
           "color": "#2a3f5f"
          },
          "geo": {
           "bgcolor": "white",
           "lakecolor": "white",
           "landcolor": "#E5ECF6",
           "showlakes": true,
           "showland": true,
           "subunitcolor": "white"
          },
          "hoverlabel": {
           "align": "left"
          },
          "hovermode": "closest",
          "mapbox": {
           "style": "light"
          },
          "paper_bgcolor": "white",
          "plot_bgcolor": "#E5ECF6",
          "polar": {
           "angularaxis": {
            "gridcolor": "white",
            "linecolor": "white",
            "ticks": ""
           },
           "bgcolor": "#E5ECF6",
           "radialaxis": {
            "gridcolor": "white",
            "linecolor": "white",
            "ticks": ""
           }
          },
          "scene": {
           "xaxis": {
            "backgroundcolor": "#E5ECF6",
            "gridcolor": "white",
            "gridwidth": 2,
            "linecolor": "white",
            "showbackground": true,
            "ticks": "",
            "zerolinecolor": "white"
           },
           "yaxis": {
            "backgroundcolor": "#E5ECF6",
            "gridcolor": "white",
            "gridwidth": 2,
            "linecolor": "white",
            "showbackground": true,
            "ticks": "",
            "zerolinecolor": "white"
           },
           "zaxis": {
            "backgroundcolor": "#E5ECF6",
            "gridcolor": "white",
            "gridwidth": 2,
            "linecolor": "white",
            "showbackground": true,
            "ticks": "",
            "zerolinecolor": "white"
           }
          },
          "shapedefaults": {
           "line": {
            "color": "#2a3f5f"
           }
          },
          "ternary": {
           "aaxis": {
            "gridcolor": "white",
            "linecolor": "white",
            "ticks": ""
           },
           "baxis": {
            "gridcolor": "white",
            "linecolor": "white",
            "ticks": ""
           },
           "bgcolor": "#E5ECF6",
           "caxis": {
            "gridcolor": "white",
            "linecolor": "white",
            "ticks": ""
           }
          },
          "title": {
           "x": 0.05
          },
          "xaxis": {
           "automargin": true,
           "gridcolor": "white",
           "linecolor": "white",
           "ticks": "",
           "title": {
            "standoff": 15
           },
           "zerolinecolor": "white",
           "zerolinewidth": 2
          },
          "yaxis": {
           "automargin": true,
           "gridcolor": "white",
           "linecolor": "white",
           "ticks": "",
           "title": {
            "standoff": 15
           },
           "zerolinecolor": "white",
           "zerolinewidth": 2
          }
         }
        },
        "title": {
         "text": "2020 US Presidential Election Results"
        }
       }
      },
      "text/html": [
       "<div>                            <div id=\"c6e8e4db-e65c-4c53-8326-ce5181c2818b\" class=\"plotly-graph-div\" style=\"height:525px; width:100%;\"></div>            <script type=\"text/javascript\">                require([\"plotly\"], function(Plotly) {                    window.PLOTLYENV=window.PLOTLYENV || {};                                    if (document.getElementById(\"c6e8e4db-e65c-4c53-8326-ce5181c2818b\")) {                    Plotly.newPlot(                        \"c6e8e4db-e65c-4c53-8326-ce5181c2818b\",                        [{\"colorscale\":[[0.0,\"orchid\"],[1.0,\"orchid\"]],\"customdata\":[[\"AK\",\"Pres\",0.5283314327038078],[\"AL\",\"Pres\",0.620316431668648],[\"AR\",\"Pres\",0.6239572985614432],[\"FL\",\"Pres\",0.5121981962250404],[\"IA\",\"Pres\",0.5308932496920227],[\"ID\",\"Pres\",0.6384344892583999],[\"IN\",\"Pres\",0.5703057157269031],[\"KS\",\"Pres\",0.5614365794120173],[\"KY\",\"Pres\",0.6208657186929044],[\"LA\",\"Pres\",0.5846088241400853],[\"MN\",\"Pres\",0.4528494240916937],[\"MO\",\"Pres\",0.5679965577888949],[\"MS\",\"Pres\",0.5760295457538255],[\"MT\",\"Pres\",0.5691846924002028],[\"NC\",\"Pres\",0.4993435061225701],[\"ND\",\"Pres\",0.65120268269507],[\"NE\",\"Pres\",0.5822416333205421],[\"OH\",\"Pres\",0.5327130010087464],[\"OK\",\"Pres\",0.6537327184806295],[\"SC\",\"Pres\",0.5511029395674024],[\"SD\",\"Pres\",0.6176938967225024],[\"TN\",\"Pres\",0.6066029416628381],[\"TX\",\"Pres\",0.5205760360355265],[\"UT\",\"Pres\",0.5812983902991959],[\"WV\",\"Pres\",0.6862472962549592],[\"WY\",\"Pres\",0.6993622748541181]],\"geo\":\"geo\",\"hovertemplate\":\"Party=R<br>State=%{customdata[0]}<br>Office=%{customdata[1]}<br>Vote %=%{customdata[2]}<extra></extra>\",\"locationmode\":\"USA-states\",\"locations\":[\"AK\",\"AL\",\"AR\",\"FL\",\"IA\",\"ID\",\"IN\",\"KS\",\"KY\",\"LA\",\"MN\",\"MO\",\"MS\",\"MT\",\"NC\",\"ND\",\"NE\",\"OH\",\"OK\",\"SC\",\"SD\",\"TN\",\"TX\",\"UT\",\"WV\",\"WY\"],\"name\":\"R\",\"showlegend\":true,\"showscale\":false,\"z\":[1,1,1,1,1,1,1,1,1,1,1,1,1,1,1,1,1,1,1,1,1,1,1,1,1,1],\"type\":\"choropleth\"},{\"colorscale\":[[0.0,\"purple\"],[1.0,\"purple\"]],\"customdata\":[[\"AZ\",\"Pres\",0.49364690614366613],[\"CA\",\"Pres\",0.6348435951907793],[\"CO\",\"Pres\",0.553995419069199],[\"CT\",\"Pres\",0.5926073151568352],[\"DC\",\"Pres\",0.9214969392140692],[\"DE\",\"Pres\",0.5874300579364167],[\"GA\",\"Pres\",0.49473055784446274],[\"HI\",\"Pres\",0.6373363923901899],[\"IL\",\"Pres\",0.5754163584003564],[\"MA\",\"Pres\",0.6560006300596849],[\"MD\",\"Pres\",0.6536066486007711],[\"ME\",\"Pres\",0.5309245955573236],[\"MI\",\"Pres\",0.5062081829082437],[\"NH\",\"Pres\",0.5270830620003597],[\"NJ\",\"Pres\",0.5733431484240866],[\"NM\",\"Pres\",0.5428928584957222],[\"NV\",\"Pres\",0.5005678195728402],[\"NY\",\"Pres\",0.5638100695833437],[\"OR\",\"Pres\",0.5645331865404888],[\"PA\",\"Pres\",0.49852111352266465],[\"RI\",\"Pres\",0.5938809132469479],[\"VA\",\"Pres\",0.5410951717780242],[\"VT\",\"Pres\",0.6608641693066397],[\"WA\",\"Pres\",0.5797030113530306],[\"WI\",\"Pres\",0.4944953686142774]],\"geo\":\"geo\",\"hovertemplate\":\"Party=D<br>State=%{customdata[0]}<br>Office=%{customdata[1]}<br>Vote %=%{customdata[2]}<extra></extra>\",\"locationmode\":\"USA-states\",\"locations\":[\"AZ\",\"CA\",\"CO\",\"CT\",\"DC\",\"DE\",\"GA\",\"HI\",\"IL\",\"MA\",\"MD\",\"ME\",\"MI\",\"NH\",\"NJ\",\"NM\",\"NV\",\"NY\",\"OR\",\"PA\",\"RI\",\"VA\",\"VT\",\"WA\",\"WI\"],\"name\":\"D\",\"showlegend\":true,\"showscale\":false,\"z\":[1,1,1,1,1,1,1,1,1,1,1,1,1,1,1,1,1,1,1,1,1,1,1,1,1],\"type\":\"choropleth\"}],                        {\"template\":{\"data\":{\"histogram2dcontour\":[{\"type\":\"histogram2dcontour\",\"colorbar\":{\"outlinewidth\":0,\"ticks\":\"\"},\"colorscale\":[[0.0,\"#0d0887\"],[0.1111111111111111,\"#46039f\"],[0.2222222222222222,\"#7201a8\"],[0.3333333333333333,\"#9c179e\"],[0.4444444444444444,\"#bd3786\"],[0.5555555555555556,\"#d8576b\"],[0.6666666666666666,\"#ed7953\"],[0.7777777777777778,\"#fb9f3a\"],[0.8888888888888888,\"#fdca26\"],[1.0,\"#f0f921\"]]}],\"choropleth\":[{\"type\":\"choropleth\",\"colorbar\":{\"outlinewidth\":0,\"ticks\":\"\"}}],\"histogram2d\":[{\"type\":\"histogram2d\",\"colorbar\":{\"outlinewidth\":0,\"ticks\":\"\"},\"colorscale\":[[0.0,\"#0d0887\"],[0.1111111111111111,\"#46039f\"],[0.2222222222222222,\"#7201a8\"],[0.3333333333333333,\"#9c179e\"],[0.4444444444444444,\"#bd3786\"],[0.5555555555555556,\"#d8576b\"],[0.6666666666666666,\"#ed7953\"],[0.7777777777777778,\"#fb9f3a\"],[0.8888888888888888,\"#fdca26\"],[1.0,\"#f0f921\"]]}],\"heatmap\":[{\"type\":\"heatmap\",\"colorbar\":{\"outlinewidth\":0,\"ticks\":\"\"},\"colorscale\":[[0.0,\"#0d0887\"],[0.1111111111111111,\"#46039f\"],[0.2222222222222222,\"#7201a8\"],[0.3333333333333333,\"#9c179e\"],[0.4444444444444444,\"#bd3786\"],[0.5555555555555556,\"#d8576b\"],[0.6666666666666666,\"#ed7953\"],[0.7777777777777778,\"#fb9f3a\"],[0.8888888888888888,\"#fdca26\"],[1.0,\"#f0f921\"]]}],\"heatmapgl\":[{\"type\":\"heatmapgl\",\"colorbar\":{\"outlinewidth\":0,\"ticks\":\"\"},\"colorscale\":[[0.0,\"#0d0887\"],[0.1111111111111111,\"#46039f\"],[0.2222222222222222,\"#7201a8\"],[0.3333333333333333,\"#9c179e\"],[0.4444444444444444,\"#bd3786\"],[0.5555555555555556,\"#d8576b\"],[0.6666666666666666,\"#ed7953\"],[0.7777777777777778,\"#fb9f3a\"],[0.8888888888888888,\"#fdca26\"],[1.0,\"#f0f921\"]]}],\"contourcarpet\":[{\"type\":\"contourcarpet\",\"colorbar\":{\"outlinewidth\":0,\"ticks\":\"\"}}],\"contour\":[{\"type\":\"contour\",\"colorbar\":{\"outlinewidth\":0,\"ticks\":\"\"},\"colorscale\":[[0.0,\"#0d0887\"],[0.1111111111111111,\"#46039f\"],[0.2222222222222222,\"#7201a8\"],[0.3333333333333333,\"#9c179e\"],[0.4444444444444444,\"#bd3786\"],[0.5555555555555556,\"#d8576b\"],[0.6666666666666666,\"#ed7953\"],[0.7777777777777778,\"#fb9f3a\"],[0.8888888888888888,\"#fdca26\"],[1.0,\"#f0f921\"]]}],\"surface\":[{\"type\":\"surface\",\"colorbar\":{\"outlinewidth\":0,\"ticks\":\"\"},\"colorscale\":[[0.0,\"#0d0887\"],[0.1111111111111111,\"#46039f\"],[0.2222222222222222,\"#7201a8\"],[0.3333333333333333,\"#9c179e\"],[0.4444444444444444,\"#bd3786\"],[0.5555555555555556,\"#d8576b\"],[0.6666666666666666,\"#ed7953\"],[0.7777777777777778,\"#fb9f3a\"],[0.8888888888888888,\"#fdca26\"],[1.0,\"#f0f921\"]]}],\"mesh3d\":[{\"type\":\"mesh3d\",\"colorbar\":{\"outlinewidth\":0,\"ticks\":\"\"}}],\"scatter\":[{\"fillpattern\":{\"fillmode\":\"overlay\",\"size\":10,\"solidity\":0.2},\"type\":\"scatter\"}],\"parcoords\":[{\"type\":\"parcoords\",\"line\":{\"colorbar\":{\"outlinewidth\":0,\"ticks\":\"\"}}}],\"scatterpolargl\":[{\"type\":\"scatterpolargl\",\"marker\":{\"colorbar\":{\"outlinewidth\":0,\"ticks\":\"\"}}}],\"bar\":[{\"error_x\":{\"color\":\"#2a3f5f\"},\"error_y\":{\"color\":\"#2a3f5f\"},\"marker\":{\"line\":{\"color\":\"#E5ECF6\",\"width\":0.5},\"pattern\":{\"fillmode\":\"overlay\",\"size\":10,\"solidity\":0.2}},\"type\":\"bar\"}],\"scattergeo\":[{\"type\":\"scattergeo\",\"marker\":{\"colorbar\":{\"outlinewidth\":0,\"ticks\":\"\"}}}],\"scatterpolar\":[{\"type\":\"scatterpolar\",\"marker\":{\"colorbar\":{\"outlinewidth\":0,\"ticks\":\"\"}}}],\"histogram\":[{\"marker\":{\"pattern\":{\"fillmode\":\"overlay\",\"size\":10,\"solidity\":0.2}},\"type\":\"histogram\"}],\"scattergl\":[{\"type\":\"scattergl\",\"marker\":{\"colorbar\":{\"outlinewidth\":0,\"ticks\":\"\"}}}],\"scatter3d\":[{\"type\":\"scatter3d\",\"line\":{\"colorbar\":{\"outlinewidth\":0,\"ticks\":\"\"}},\"marker\":{\"colorbar\":{\"outlinewidth\":0,\"ticks\":\"\"}}}],\"scattermapbox\":[{\"type\":\"scattermapbox\",\"marker\":{\"colorbar\":{\"outlinewidth\":0,\"ticks\":\"\"}}}],\"scatterternary\":[{\"type\":\"scatterternary\",\"marker\":{\"colorbar\":{\"outlinewidth\":0,\"ticks\":\"\"}}}],\"scattercarpet\":[{\"type\":\"scattercarpet\",\"marker\":{\"colorbar\":{\"outlinewidth\":0,\"ticks\":\"\"}}}],\"carpet\":[{\"aaxis\":{\"endlinecolor\":\"#2a3f5f\",\"gridcolor\":\"white\",\"linecolor\":\"white\",\"minorgridcolor\":\"white\",\"startlinecolor\":\"#2a3f5f\"},\"baxis\":{\"endlinecolor\":\"#2a3f5f\",\"gridcolor\":\"white\",\"linecolor\":\"white\",\"minorgridcolor\":\"white\",\"startlinecolor\":\"#2a3f5f\"},\"type\":\"carpet\"}],\"table\":[{\"cells\":{\"fill\":{\"color\":\"#EBF0F8\"},\"line\":{\"color\":\"white\"}},\"header\":{\"fill\":{\"color\":\"#C8D4E3\"},\"line\":{\"color\":\"white\"}},\"type\":\"table\"}],\"barpolar\":[{\"marker\":{\"line\":{\"color\":\"#E5ECF6\",\"width\":0.5},\"pattern\":{\"fillmode\":\"overlay\",\"size\":10,\"solidity\":0.2}},\"type\":\"barpolar\"}],\"pie\":[{\"automargin\":true,\"type\":\"pie\"}]},\"layout\":{\"autotypenumbers\":\"strict\",\"colorway\":[\"#636efa\",\"#EF553B\",\"#00cc96\",\"#ab63fa\",\"#FFA15A\",\"#19d3f3\",\"#FF6692\",\"#B6E880\",\"#FF97FF\",\"#FECB52\"],\"font\":{\"color\":\"#2a3f5f\"},\"hovermode\":\"closest\",\"hoverlabel\":{\"align\":\"left\"},\"paper_bgcolor\":\"white\",\"plot_bgcolor\":\"#E5ECF6\",\"polar\":{\"bgcolor\":\"#E5ECF6\",\"angularaxis\":{\"gridcolor\":\"white\",\"linecolor\":\"white\",\"ticks\":\"\"},\"radialaxis\":{\"gridcolor\":\"white\",\"linecolor\":\"white\",\"ticks\":\"\"}},\"ternary\":{\"bgcolor\":\"#E5ECF6\",\"aaxis\":{\"gridcolor\":\"white\",\"linecolor\":\"white\",\"ticks\":\"\"},\"baxis\":{\"gridcolor\":\"white\",\"linecolor\":\"white\",\"ticks\":\"\"},\"caxis\":{\"gridcolor\":\"white\",\"linecolor\":\"white\",\"ticks\":\"\"}},\"coloraxis\":{\"colorbar\":{\"outlinewidth\":0,\"ticks\":\"\"}},\"colorscale\":{\"sequential\":[[0.0,\"#0d0887\"],[0.1111111111111111,\"#46039f\"],[0.2222222222222222,\"#7201a8\"],[0.3333333333333333,\"#9c179e\"],[0.4444444444444444,\"#bd3786\"],[0.5555555555555556,\"#d8576b\"],[0.6666666666666666,\"#ed7953\"],[0.7777777777777778,\"#fb9f3a\"],[0.8888888888888888,\"#fdca26\"],[1.0,\"#f0f921\"]],\"sequentialminus\":[[0.0,\"#0d0887\"],[0.1111111111111111,\"#46039f\"],[0.2222222222222222,\"#7201a8\"],[0.3333333333333333,\"#9c179e\"],[0.4444444444444444,\"#bd3786\"],[0.5555555555555556,\"#d8576b\"],[0.6666666666666666,\"#ed7953\"],[0.7777777777777778,\"#fb9f3a\"],[0.8888888888888888,\"#fdca26\"],[1.0,\"#f0f921\"]],\"diverging\":[[0,\"#8e0152\"],[0.1,\"#c51b7d\"],[0.2,\"#de77ae\"],[0.3,\"#f1b6da\"],[0.4,\"#fde0ef\"],[0.5,\"#f7f7f7\"],[0.6,\"#e6f5d0\"],[0.7,\"#b8e186\"],[0.8,\"#7fbc41\"],[0.9,\"#4d9221\"],[1,\"#276419\"]]},\"xaxis\":{\"gridcolor\":\"white\",\"linecolor\":\"white\",\"ticks\":\"\",\"title\":{\"standoff\":15},\"zerolinecolor\":\"white\",\"automargin\":true,\"zerolinewidth\":2},\"yaxis\":{\"gridcolor\":\"white\",\"linecolor\":\"white\",\"ticks\":\"\",\"title\":{\"standoff\":15},\"zerolinecolor\":\"white\",\"automargin\":true,\"zerolinewidth\":2},\"scene\":{\"xaxis\":{\"backgroundcolor\":\"#E5ECF6\",\"gridcolor\":\"white\",\"linecolor\":\"white\",\"showbackground\":true,\"ticks\":\"\",\"zerolinecolor\":\"white\",\"gridwidth\":2},\"yaxis\":{\"backgroundcolor\":\"#E5ECF6\",\"gridcolor\":\"white\",\"linecolor\":\"white\",\"showbackground\":true,\"ticks\":\"\",\"zerolinecolor\":\"white\",\"gridwidth\":2},\"zaxis\":{\"backgroundcolor\":\"#E5ECF6\",\"gridcolor\":\"white\",\"linecolor\":\"white\",\"showbackground\":true,\"ticks\":\"\",\"zerolinecolor\":\"white\",\"gridwidth\":2}},\"shapedefaults\":{\"line\":{\"color\":\"#2a3f5f\"}},\"annotationdefaults\":{\"arrowcolor\":\"#2a3f5f\",\"arrowhead\":0,\"arrowwidth\":1},\"geo\":{\"bgcolor\":\"white\",\"landcolor\":\"#E5ECF6\",\"subunitcolor\":\"white\",\"showland\":true,\"showlakes\":true,\"lakecolor\":\"white\"},\"title\":{\"x\":0.05},\"mapbox\":{\"style\":\"light\"}}},\"geo\":{\"domain\":{\"x\":[0.0,1.0],\"y\":[0.0,1.0]},\"center\":{},\"scope\":\"usa\"},\"legend\":{\"title\":{\"text\":\"Party\"},\"tracegroupgap\":0},\"title\":{\"text\":\"2020 US Presidential Election Results\"},\"coloraxis\":{\"colorbar\":{\"title\":{\"text\":\"Party\"},\"tickvals\":[\"R\",\"D\",\"IND\"],\"ticktext\":[\"Republican\",\"Democrat\",\"Independent\"]}}},                        {\"responsive\": true}                    ).then(function(){\n",
       "                            \n",
       "var gd = document.getElementById('c6e8e4db-e65c-4c53-8326-ce5181c2818b');\n",
       "var x = new MutationObserver(function (mutations, observer) {{\n",
       "        var display = window.getComputedStyle(gd).display;\n",
       "        if (!display || display === 'none') {{\n",
       "            console.log([gd, 'removed!']);\n",
       "            Plotly.purge(gd);\n",
       "            observer.disconnect();\n",
       "        }}\n",
       "}});\n",
       "\n",
       "// Listen for the removal of the full notebook cells\n",
       "var notebookContainer = gd.closest('#notebook-container');\n",
       "if (notebookContainer) {{\n",
       "    x.observe(notebookContainer, {childList: true});\n",
       "}}\n",
       "\n",
       "// Listen for the clearing of the current output cell\n",
       "var outputEl = gd.closest('.output');\n",
       "if (outputEl) {{\n",
       "    x.observe(outputEl, {childList: true});\n",
       "}}\n",
       "\n",
       "                        })                };                });            </script>        </div>"
      ]
     },
     "metadata": {},
     "output_type": "display_data"
    }
   ],
   "source": [
    "# map that defines the party wins by state for each office.\n",
    "# Define colors for each party\n",
    "colors = {'R': 'orchid', 'D': 'purple', 'IND': 'grey'}\n",
    "\n",
    "# Define color labels\n",
    "color_labels = {'R': 'Republican', 'D': 'Democrat', 'IND': 'Independent'}\n",
    "\n",
    "# Aggregate the data by year, state, and office, and calculate the party with the highest vote percentage\n",
    "df_state_2020_agg_house = df_combo_2020[df_combo_2020['Office']=='House'].groupby(['Year', 'State', 'Office']).apply(lambda x: x.loc[x['Vote %'].idxmax()])[['Vote %', 'Party']].reset_index()\n",
    "df_state_2020_agg_senate = df_combo_2020[df_combo_2020['Office']=='Senate'].groupby(['Year', 'State', 'Office']).apply(lambda x: x.loc[x['Vote %'].idxmax()])[['Vote %', 'Party']].reset_index()\n",
    "df_state_2020_agg_pres = df_combo_2020[df_combo_2020['Office']=='Pres'].groupby(['Year', 'State', 'Office']).apply(lambda x: x.loc[x['Vote %'].idxmax()])[['Vote %', 'Party']].reset_index()\n",
    "\n",
    "# Map the winner of each state to colors\n",
    "df_state_2020_agg_house['color'] = df_state_2020_agg_house['Party'].map(colors)\n",
    "df_state_2020_agg_senate['color'] = df_state_2020_agg_senate['Party'].map(colors)\n",
    "df_state_2020_agg_pres['color'] = df_state_2020_agg_pres['Party'].map(colors)\n",
    "\n",
    "# Create choropleth maps with custom color labels for each office\n",
    "fig_house = px.choropleth(df_state_2020_agg_house, \n",
    "                    locations='State',\n",
    "                    locationmode='USA-states',\n",
    "                    color='Party',\n",
    "                    scope='usa',\n",
    "                    color_discrete_map=colors,\n",
    "                    hover_data={'State': True, 'Office': True, 'Vote %': True},\n",
    "                    title='2020 US House Election Results')\n",
    "\n",
    "fig_senate = px.choropleth(df_state_2020_agg_senate, \n",
    "                    locations='State',\n",
    "                    locationmode='USA-states',\n",
    "                    color='Party',\n",
    "                    scope='usa',\n",
    "                    color_discrete_map=colors,\n",
    "                    hover_data={'State': True, 'Office': True, 'Vote %': True},\n",
    "                    title='2020 US Senate Election Results')\n",
    "\n",
    "fig_pres = px.choropleth(df_state_2020_agg_pres, \n",
    "                    locations='State',\n",
    "                    locationmode='USA-states',\n",
    "                    color='Party',\n",
    "                    scope='usa',\n",
    "                    color_discrete_map=colors,\n",
    "                    hover_data={'State': True, 'Office': True, 'Vote %': True},\n",
    "                    title='2020 US Presidential Election Results')\n",
    "\n",
    "# Update the color scale labels for all three figures\n",
    "for fig in [fig_house, fig_senate, fig_pres]:\n",
    "    fig.update_layout(coloraxis_colorbar=dict(title='Party', tickvals=['R', 'D', 'IND'], \n",
    "                                          ticktext=[color_labels[x] for x in ['R', 'D', 'IND']]))\n",
    "\n",
    "# Display all three figures\n",
    "display(fig_house)\n",
    "display(fig_senate)\n",
    "display(fig_pres)"
   ]
  },
  {
   "cell_type": "code",
   "execution_count": 50,
   "id": "03e83967",
   "metadata": {},
   "outputs": [
    {
     "data": {
      "application/vnd.plotly.v1+json": {
       "config": {
        "plotlyServerURL": "https://plot.ly"
       },
       "data": [
        {
         "colorscale": [
          [
           0,
           "orchid"
          ],
          [
           1,
           "orchid"
          ]
         ],
         "customdata": [
          [
           "AK",
           "House, Pres, Pres, Senate",
           0.5097584127446311
          ],
          [
           "AL",
           "House, House, House, House, House, House, House, House, House, House, House, Pres, Pres, Pres, Senate, Senate",
           0.5558011234777455
          ],
          [
           "AR",
           "House, House, House, House, House, House, House, Pres, Pres, Pres, Pres, Pres, Pres, Pres, Senate",
           0.3720012824712351
          ],
          [
           "AS",
           "House, House, House",
           0.3333333333333333
          ],
          [
           "FL",
           "House, House, House, House, House, House, House, House, House, House, House, House, House, House, House, House, House, House, House, House, House, House, House, House, House, House, House, House, House, House, House, House, House, House, House, House, House, House, House, House, House, House, House, House, House, House, House, House, House, House, House, Pres, Pres",
           0.5065356909056422
          ],
          [
           "IA",
           "House, House, House, House, House, House, House, House, Pres, Pres, Senate, Senate",
           0.49236794173529236
          ],
          [
           "ID",
           "House, House, House, House, Pres, Pres, Pres, Pres, Pres, Senate, Senate, Senate",
           0.3240272802621481
          ],
          [
           "IN",
           "House, House, House, House, House, House, House, House, House, House, House, House, House, House, House, House, House, House, Pres, Pres",
           0.490116803512122
          ],
          [
           "KS",
           "House, House, House, House, House, House, House, House, Pres, Pres, Senate, Senate",
           0.48801123684682673
          ],
          [
           "KY",
           "House, House, House, House, House, House, House, House, House, House, House, House, Pres, Pres, Pres, Pres, Senate, Senate",
           0.4390057572960466
          ],
          [
           "LA",
           "House, House, House, House, House, House, House, House, House, House, House, House, House, House, House, House, House, House, House, House, House, House, House, House, House, House, Pres, Pres, Senate, Senate, Senate, Senate, Senate, Senate, Senate, Senate",
           0.21847329944123867
          ],
          [
           "MN",
           "House, House, House, House, House, House, House, House, Pres, Pres, Pres, Senate",
           0.3822407600837771
          ],
          [
           "MO",
           "House, House, House, House, House, House, House, House, House, House, House, House, House, House, House, House, Pres, Pres",
           0.48747922077940586
          ],
          [
           "MS",
           "House, House, House, House, House, House, House, Pres, Pres, Pres, Pres, Pres, Senate, Senate",
           0.42665987660719207
          ],
          [
           "MT",
           "House, House, Pres, Pres, Senate, Senate",
           0.4957797310027156
          ],
          [
           "NC",
           "House, House, House, House, House, House, House, House, House, House, House, House, House, House, House, House, House, House, House, House, House, House, House, House, House, Pres, Pres, Senate, Senate",
           0.5126459556592543
          ],
          [
           "ND",
           "House, Pres",
           0.670450539911893
          ],
          [
           "NE",
           "House, House, House, House, House, House, Pres, Pres, Senate, Senate",
           0.47491539255159276
          ],
          [
           "OH",
           "House, House, House, House, House, House, House, House, House, House, House, House, House, House, House, House, House, House, House, House, House, House, House, House, House, House, House, House, House, House, House, Pres, Pres, Pres",
           0.48655072135713695
          ],
          [
           "OK",
           "House, House, House, House, House, House, House, House, House, House, House, Pres, Pres, Pres, Pres, Pres, Senate, Senate, Senate, Senate",
           0.34490254039327334
          ],
          [
           "SC",
           "House, House, House, House, House, House, House, House, House, House, House, House, House, House, Pres, Pres, Senate, Senate",
           0.49586149761818543
          ],
          [
           "SD",
           "House, Pres, Pres, Senate, Senate",
           0.5566593134861304
          ],
          [
           "TN",
           "House, House, House, House, House, House, House, House, House, House, House, House, House, House, House, House, House, House, House, House, House, House, House, House, House, House, House, House, Pres, Pres, Pres, Pres, Pres, Pres, Pres, Pres, Pres, Senate, Senate, Senate, Senate, Senate, Senate, Senate, Senate, Senate, Senate, Senate",
           0.2291573026830694
          ],
          [
           "TX",
           "House, House, House, House, House, House, House, House, House, House, House, House, House, House, House, House, House, House, House, House, House, House, House, House, House, House, House, House, House, House, House, House, House, House, House, House, House, House, House, House, House, House, House, House, House, House, House, House, House, House, House, House, House, House, House, House, House, House, House, House, House, House, House, House, House, House, House, House, House, House, House, House, House, House, House, House, House, House, House, House, House, Pres, Pres, Senate, Senate",
           0.4380883130931707
          ],
          [
           "UT",
           "House, House, House, House, House, House, House, House, Pres, Pres",
           0.48124521793529107
          ],
          [
           "WV",
           "House, House, House, House, House, House, Pres, Pres, Senate, Senate",
           0.4956023519029678
          ],
          [
           "WY",
           "House, House, Pres, Pres, Pres, Senate, Senate",
           0.41433556248606235
          ]
         ],
         "geo": "geo",
         "hovertemplate": "Party=R<br>State=%{customdata[0]}<br>Office=%{customdata[1]}<br>Vote %=%{customdata[2]}<extra></extra>",
         "locationmode": "USA-states",
         "locations": [
          "AK",
          "AL",
          "AR",
          "AS",
          "FL",
          "IA",
          "ID",
          "IN",
          "KS",
          "KY",
          "LA",
          "MN",
          "MO",
          "MS",
          "MT",
          "NC",
          "ND",
          "NE",
          "OH",
          "OK",
          "SC",
          "SD",
          "TN",
          "TX",
          "UT",
          "WV",
          "WY"
         ],
         "name": "R",
         "showlegend": true,
         "showscale": false,
         "type": "choropleth",
         "z": [
          1,
          1,
          1,
          1,
          1,
          1,
          1,
          1,
          1,
          1,
          1,
          1,
          1,
          1,
          1,
          1,
          1,
          1,
          1,
          1,
          1,
          1,
          1,
          1,
          1,
          1,
          1
         ]
        },
        {
         "colorscale": [
          [
           0,
           "purple"
          ],
          [
           1,
           "purple"
          ]
         ],
         "customdata": [
          [
           "AZ",
           "House, House, House, House, House, House, House, House, House, House, House, House, House, House, House, House, House, House, Pres, Pres, Senate, Senate",
           0.49921375170489674
          ],
          [
           "CA",
           "House, House, House, House, House, House, House, House, House, House, House, House, House, House, House, House, House, House, House, House, House, House, House, House, House, House, House, House, House, House, House, House, House, House, House, House, House, House, House, House, House, House, House, House, House, House, House, House, House, House, House, House, House, House, House, House, House, House, House, House, House, House, House, House, House, House, House, House, House, House, House, House, House, House, House, House, House, House, House, House, House, House, House, House, House, House, House, House, House, House, House, House, House, House, House, House, House, House, House, House, House, House, House, House, House, House, Pres, Pres",
           0.4997967234372163
          ],
          [
           "CO",
           "House, House, House, House, House, House, House, House, House, House, House, House, House, House, Pres, Pres, Senate, Senate",
           0.48392602151044284
          ],
          [
           "CT",
           "House, House, House, House, House, House, House, Pres, Pres",
           0.5000839819940731
          ],
          [
           "DC",
           "House, House, House, House, House, House, Pres, Pres, Pres, Pres",
           0.19263993760190962
          ],
          [
           "DE",
           "House, House, Pres, Pres, Senate, Senate",
           0.4895075991461919
          ],
          [
           "GA",
           "House, House, House, House, House, House, House, House, House, House, House, House, House, House, House, House, House, House, House, House, House, House, House, House, House, House, House, House, Pres, Pres, Senate, Senate, Senate, Senate, Senate, Senate, Senate, Senate, Senate, Senate, Senate, Senate, Senate, Senate, Senate, Senate, Senate, Senate, Senate, Senate",
           0.339063300686982
          ],
          [
           "GU",
           "House, House, House",
           0.33269280040994104
          ],
          [
           "HI",
           "House, House, House, House, Pres, Pres",
           0.4865288085632748
          ],
          [
           "IL",
           "House, House, House, House, House, House, House, House, House, House, House, House, House, House, House, House, House, House, House, House, House, House, House, House, House, House, House, House, House, House, House, House, House, House, House, House, Pres, Pres, Senate, Senate",
           0.4901574408777261
          ],
          [
           "MA",
           "House, House, House, House, House, House, House, House, House, House, House, House, House, House, House, Pres, Pres, Senate, Senate",
           0.562108628627277
          ],
          [
           "MD",
           "House, House, House, House, House, House, House, House, House, House, House, House, House, House, House, House, Pres, Pres",
           0.49660326622349643
          ],
          [
           "ME",
           "House, House, House, Pres, Pres, Senate, Senate, Senate, Senate",
           0.38902795651240724
          ],
          [
           "MI",
           "House, House, House, House, House, House, House, House, House, House, House, House, House, House, House, House, House, House, House, House, House, House, House, House, House, House, House, House, Pres, Pres, Senate, Senate",
           0.48927901320926037
          ],
          [
           "NH",
           "House, House, House, House, Pres, Pres, Senate, Senate",
           0.48852601363262704
          ],
          [
           "NJ",
           "House, House, House, House, House, House, House, House, House, House, House, House, House, House, House, House, House, House, House, House, House, House, House, Pres, Pres, Senate, Senate",
           0.49757450319933494
          ],
          [
           "NM",
           "House, House, House, House, House, House, Pres, Pres, Senate, Senate",
           0.4950956960538793
          ],
          [
           "NV",
           "House, House, House, House, House, House, House, House, Pres, Pres",
           0.4810284967398101
          ],
          [
           "NY",
           "House, House, House, House, House, House, House, House, House, House, House, House, House, House, House, House, House, House, House, House, House, House, House, House, House, House, House, House, House, House, House, House, House, House, House, House, House, House, House, House, House, House, House, House, House, House, House, House, House, House, House, House, Pres, Pres",
           0.46872362176787236
          ],
          [
           "OR",
           "House, House, House, House, House, House, House, Pres, Pres, Senate",
           0.43487469970902665
          ],
          [
           "PA",
           "House, House, House, House, House, House, House, House, House, House, House, House, House, House, House, House, House, House, House, House, House, House, House, House, House, House, House, House, House, House, House, House, House, House, House, House, Pres, Pres",
           0.49902281072207677
          ],
          [
           "RI",
           "House, House, House, House, House, Pres, Pres, Senate, Senate",
           0.4410231268698699
          ],
          [
           "VA",
           "House, House, House, House, House, House, House, House, House, House, House, House, House, House, House, House, House, House, House, House, House, House, Pres, Pres, Senate, Senate",
           0.49622432715894305
          ],
          [
           "VI",
           "House, House",
           0.4972557628979144
          ],
          [
           "VT",
           "House, House, House, House, House, House, Pres, Pres, Pres, Pres, Pres, Pres, Pres",
           0.15099978315045315
          ],
          [
           "WA",
           "House, House, House, House, House, House, House, House, House, House, House, House, House, House, House, House, House, House, House, House, Pres, Pres",
           0.49086119038533726
          ],
          [
           "WI",
           "House, House, House, House, House, House, House, House, House, House, House, House, House, House, House, House, House, Pres, Pres",
           0.47250006738258843
          ]
         ],
         "geo": "geo",
         "hovertemplate": "Party=D<br>State=%{customdata[0]}<br>Office=%{customdata[1]}<br>Vote %=%{customdata[2]}<extra></extra>",
         "locationmode": "USA-states",
         "locations": [
          "AZ",
          "CA",
          "CO",
          "CT",
          "DC",
          "DE",
          "GA",
          "GU",
          "HI",
          "IL",
          "MA",
          "MD",
          "ME",
          "MI",
          "NH",
          "NJ",
          "NM",
          "NV",
          "NY",
          "OR",
          "PA",
          "RI",
          "VA",
          "VI",
          "VT",
          "WA",
          "WI"
         ],
         "name": "D",
         "showlegend": true,
         "showscale": false,
         "type": "choropleth",
         "z": [
          1,
          1,
          1,
          1,
          1,
          1,
          1,
          1,
          1,
          1,
          1,
          1,
          1,
          1,
          1,
          1,
          1,
          1,
          1,
          1,
          1,
          1,
          1,
          1,
          1,
          1,
          1
         ]
        },
        {
         "colorscale": [
          [
           0,
           "grey"
          ],
          [
           1,
           "grey"
          ]
         ],
         "customdata": [
          [
           "MP",
           "House",
           1
          ]
         ],
         "geo": "geo",
         "hovertemplate": "Party=IND<br>State=%{customdata[0]}<br>Office=%{customdata[1]}<br>Vote %=%{customdata[2]}<extra></extra>",
         "locationmode": "USA-states",
         "locations": [
          "MP"
         ],
         "name": "IND",
         "showlegend": true,
         "showscale": false,
         "type": "choropleth",
         "z": [
          1
         ]
        }
       ],
       "layout": {
        "coloraxis": {
         "colorbar": {
          "ticktext": [
           "Republican",
           "Democrat",
           "Independent"
          ],
          "tickvals": [
           "R",
           "D",
           "IND"
          ],
          "title": {
           "text": "Party"
          }
         }
        },
        "geo": {
         "center": {},
         "domain": {
          "x": [
           0,
           1
          ],
          "y": [
           0,
           1
          ]
         },
         "scope": "usa"
        },
        "legend": {
         "title": {
          "text": "Party"
         },
         "tracegroupgap": 0
        },
        "template": {
         "data": {
          "bar": [
           {
            "error_x": {
             "color": "#2a3f5f"
            },
            "error_y": {
             "color": "#2a3f5f"
            },
            "marker": {
             "line": {
              "color": "#E5ECF6",
              "width": 0.5
             },
             "pattern": {
              "fillmode": "overlay",
              "size": 10,
              "solidity": 0.2
             }
            },
            "type": "bar"
           }
          ],
          "barpolar": [
           {
            "marker": {
             "line": {
              "color": "#E5ECF6",
              "width": 0.5
             },
             "pattern": {
              "fillmode": "overlay",
              "size": 10,
              "solidity": 0.2
             }
            },
            "type": "barpolar"
           }
          ],
          "carpet": [
           {
            "aaxis": {
             "endlinecolor": "#2a3f5f",
             "gridcolor": "white",
             "linecolor": "white",
             "minorgridcolor": "white",
             "startlinecolor": "#2a3f5f"
            },
            "baxis": {
             "endlinecolor": "#2a3f5f",
             "gridcolor": "white",
             "linecolor": "white",
             "minorgridcolor": "white",
             "startlinecolor": "#2a3f5f"
            },
            "type": "carpet"
           }
          ],
          "choropleth": [
           {
            "colorbar": {
             "outlinewidth": 0,
             "ticks": ""
            },
            "type": "choropleth"
           }
          ],
          "contour": [
           {
            "colorbar": {
             "outlinewidth": 0,
             "ticks": ""
            },
            "colorscale": [
             [
              0,
              "#0d0887"
             ],
             [
              0.1111111111111111,
              "#46039f"
             ],
             [
              0.2222222222222222,
              "#7201a8"
             ],
             [
              0.3333333333333333,
              "#9c179e"
             ],
             [
              0.4444444444444444,
              "#bd3786"
             ],
             [
              0.5555555555555556,
              "#d8576b"
             ],
             [
              0.6666666666666666,
              "#ed7953"
             ],
             [
              0.7777777777777778,
              "#fb9f3a"
             ],
             [
              0.8888888888888888,
              "#fdca26"
             ],
             [
              1,
              "#f0f921"
             ]
            ],
            "type": "contour"
           }
          ],
          "contourcarpet": [
           {
            "colorbar": {
             "outlinewidth": 0,
             "ticks": ""
            },
            "type": "contourcarpet"
           }
          ],
          "heatmap": [
           {
            "colorbar": {
             "outlinewidth": 0,
             "ticks": ""
            },
            "colorscale": [
             [
              0,
              "#0d0887"
             ],
             [
              0.1111111111111111,
              "#46039f"
             ],
             [
              0.2222222222222222,
              "#7201a8"
             ],
             [
              0.3333333333333333,
              "#9c179e"
             ],
             [
              0.4444444444444444,
              "#bd3786"
             ],
             [
              0.5555555555555556,
              "#d8576b"
             ],
             [
              0.6666666666666666,
              "#ed7953"
             ],
             [
              0.7777777777777778,
              "#fb9f3a"
             ],
             [
              0.8888888888888888,
              "#fdca26"
             ],
             [
              1,
              "#f0f921"
             ]
            ],
            "type": "heatmap"
           }
          ],
          "heatmapgl": [
           {
            "colorbar": {
             "outlinewidth": 0,
             "ticks": ""
            },
            "colorscale": [
             [
              0,
              "#0d0887"
             ],
             [
              0.1111111111111111,
              "#46039f"
             ],
             [
              0.2222222222222222,
              "#7201a8"
             ],
             [
              0.3333333333333333,
              "#9c179e"
             ],
             [
              0.4444444444444444,
              "#bd3786"
             ],
             [
              0.5555555555555556,
              "#d8576b"
             ],
             [
              0.6666666666666666,
              "#ed7953"
             ],
             [
              0.7777777777777778,
              "#fb9f3a"
             ],
             [
              0.8888888888888888,
              "#fdca26"
             ],
             [
              1,
              "#f0f921"
             ]
            ],
            "type": "heatmapgl"
           }
          ],
          "histogram": [
           {
            "marker": {
             "pattern": {
              "fillmode": "overlay",
              "size": 10,
              "solidity": 0.2
             }
            },
            "type": "histogram"
           }
          ],
          "histogram2d": [
           {
            "colorbar": {
             "outlinewidth": 0,
             "ticks": ""
            },
            "colorscale": [
             [
              0,
              "#0d0887"
             ],
             [
              0.1111111111111111,
              "#46039f"
             ],
             [
              0.2222222222222222,
              "#7201a8"
             ],
             [
              0.3333333333333333,
              "#9c179e"
             ],
             [
              0.4444444444444444,
              "#bd3786"
             ],
             [
              0.5555555555555556,
              "#d8576b"
             ],
             [
              0.6666666666666666,
              "#ed7953"
             ],
             [
              0.7777777777777778,
              "#fb9f3a"
             ],
             [
              0.8888888888888888,
              "#fdca26"
             ],
             [
              1,
              "#f0f921"
             ]
            ],
            "type": "histogram2d"
           }
          ],
          "histogram2dcontour": [
           {
            "colorbar": {
             "outlinewidth": 0,
             "ticks": ""
            },
            "colorscale": [
             [
              0,
              "#0d0887"
             ],
             [
              0.1111111111111111,
              "#46039f"
             ],
             [
              0.2222222222222222,
              "#7201a8"
             ],
             [
              0.3333333333333333,
              "#9c179e"
             ],
             [
              0.4444444444444444,
              "#bd3786"
             ],
             [
              0.5555555555555556,
              "#d8576b"
             ],
             [
              0.6666666666666666,
              "#ed7953"
             ],
             [
              0.7777777777777778,
              "#fb9f3a"
             ],
             [
              0.8888888888888888,
              "#fdca26"
             ],
             [
              1,
              "#f0f921"
             ]
            ],
            "type": "histogram2dcontour"
           }
          ],
          "mesh3d": [
           {
            "colorbar": {
             "outlinewidth": 0,
             "ticks": ""
            },
            "type": "mesh3d"
           }
          ],
          "parcoords": [
           {
            "line": {
             "colorbar": {
              "outlinewidth": 0,
              "ticks": ""
             }
            },
            "type": "parcoords"
           }
          ],
          "pie": [
           {
            "automargin": true,
            "type": "pie"
           }
          ],
          "scatter": [
           {
            "fillpattern": {
             "fillmode": "overlay",
             "size": 10,
             "solidity": 0.2
            },
            "type": "scatter"
           }
          ],
          "scatter3d": [
           {
            "line": {
             "colorbar": {
              "outlinewidth": 0,
              "ticks": ""
             }
            },
            "marker": {
             "colorbar": {
              "outlinewidth": 0,
              "ticks": ""
             }
            },
            "type": "scatter3d"
           }
          ],
          "scattercarpet": [
           {
            "marker": {
             "colorbar": {
              "outlinewidth": 0,
              "ticks": ""
             }
            },
            "type": "scattercarpet"
           }
          ],
          "scattergeo": [
           {
            "marker": {
             "colorbar": {
              "outlinewidth": 0,
              "ticks": ""
             }
            },
            "type": "scattergeo"
           }
          ],
          "scattergl": [
           {
            "marker": {
             "colorbar": {
              "outlinewidth": 0,
              "ticks": ""
             }
            },
            "type": "scattergl"
           }
          ],
          "scattermapbox": [
           {
            "marker": {
             "colorbar": {
              "outlinewidth": 0,
              "ticks": ""
             }
            },
            "type": "scattermapbox"
           }
          ],
          "scatterpolar": [
           {
            "marker": {
             "colorbar": {
              "outlinewidth": 0,
              "ticks": ""
             }
            },
            "type": "scatterpolar"
           }
          ],
          "scatterpolargl": [
           {
            "marker": {
             "colorbar": {
              "outlinewidth": 0,
              "ticks": ""
             }
            },
            "type": "scatterpolargl"
           }
          ],
          "scatterternary": [
           {
            "marker": {
             "colorbar": {
              "outlinewidth": 0,
              "ticks": ""
             }
            },
            "type": "scatterternary"
           }
          ],
          "surface": [
           {
            "colorbar": {
             "outlinewidth": 0,
             "ticks": ""
            },
            "colorscale": [
             [
              0,
              "#0d0887"
             ],
             [
              0.1111111111111111,
              "#46039f"
             ],
             [
              0.2222222222222222,
              "#7201a8"
             ],
             [
              0.3333333333333333,
              "#9c179e"
             ],
             [
              0.4444444444444444,
              "#bd3786"
             ],
             [
              0.5555555555555556,
              "#d8576b"
             ],
             [
              0.6666666666666666,
              "#ed7953"
             ],
             [
              0.7777777777777778,
              "#fb9f3a"
             ],
             [
              0.8888888888888888,
              "#fdca26"
             ],
             [
              1,
              "#f0f921"
             ]
            ],
            "type": "surface"
           }
          ],
          "table": [
           {
            "cells": {
             "fill": {
              "color": "#EBF0F8"
             },
             "line": {
              "color": "white"
             }
            },
            "header": {
             "fill": {
              "color": "#C8D4E3"
             },
             "line": {
              "color": "white"
             }
            },
            "type": "table"
           }
          ]
         },
         "layout": {
          "annotationdefaults": {
           "arrowcolor": "#2a3f5f",
           "arrowhead": 0,
           "arrowwidth": 1
          },
          "autotypenumbers": "strict",
          "coloraxis": {
           "colorbar": {
            "outlinewidth": 0,
            "ticks": ""
           }
          },
          "colorscale": {
           "diverging": [
            [
             0,
             "#8e0152"
            ],
            [
             0.1,
             "#c51b7d"
            ],
            [
             0.2,
             "#de77ae"
            ],
            [
             0.3,
             "#f1b6da"
            ],
            [
             0.4,
             "#fde0ef"
            ],
            [
             0.5,
             "#f7f7f7"
            ],
            [
             0.6,
             "#e6f5d0"
            ],
            [
             0.7,
             "#b8e186"
            ],
            [
             0.8,
             "#7fbc41"
            ],
            [
             0.9,
             "#4d9221"
            ],
            [
             1,
             "#276419"
            ]
           ],
           "sequential": [
            [
             0,
             "#0d0887"
            ],
            [
             0.1111111111111111,
             "#46039f"
            ],
            [
             0.2222222222222222,
             "#7201a8"
            ],
            [
             0.3333333333333333,
             "#9c179e"
            ],
            [
             0.4444444444444444,
             "#bd3786"
            ],
            [
             0.5555555555555556,
             "#d8576b"
            ],
            [
             0.6666666666666666,
             "#ed7953"
            ],
            [
             0.7777777777777778,
             "#fb9f3a"
            ],
            [
             0.8888888888888888,
             "#fdca26"
            ],
            [
             1,
             "#f0f921"
            ]
           ],
           "sequentialminus": [
            [
             0,
             "#0d0887"
            ],
            [
             0.1111111111111111,
             "#46039f"
            ],
            [
             0.2222222222222222,
             "#7201a8"
            ],
            [
             0.3333333333333333,
             "#9c179e"
            ],
            [
             0.4444444444444444,
             "#bd3786"
            ],
            [
             0.5555555555555556,
             "#d8576b"
            ],
            [
             0.6666666666666666,
             "#ed7953"
            ],
            [
             0.7777777777777778,
             "#fb9f3a"
            ],
            [
             0.8888888888888888,
             "#fdca26"
            ],
            [
             1,
             "#f0f921"
            ]
           ]
          },
          "colorway": [
           "#636efa",
           "#EF553B",
           "#00cc96",
           "#ab63fa",
           "#FFA15A",
           "#19d3f3",
           "#FF6692",
           "#B6E880",
           "#FF97FF",
           "#FECB52"
          ],
          "font": {
           "color": "#2a3f5f"
          },
          "geo": {
           "bgcolor": "white",
           "lakecolor": "white",
           "landcolor": "#E5ECF6",
           "showlakes": true,
           "showland": true,
           "subunitcolor": "white"
          },
          "hoverlabel": {
           "align": "left"
          },
          "hovermode": "closest",
          "mapbox": {
           "style": "light"
          },
          "paper_bgcolor": "white",
          "plot_bgcolor": "#E5ECF6",
          "polar": {
           "angularaxis": {
            "gridcolor": "white",
            "linecolor": "white",
            "ticks": ""
           },
           "bgcolor": "#E5ECF6",
           "radialaxis": {
            "gridcolor": "white",
            "linecolor": "white",
            "ticks": ""
           }
          },
          "scene": {
           "xaxis": {
            "backgroundcolor": "#E5ECF6",
            "gridcolor": "white",
            "gridwidth": 2,
            "linecolor": "white",
            "showbackground": true,
            "ticks": "",
            "zerolinecolor": "white"
           },
           "yaxis": {
            "backgroundcolor": "#E5ECF6",
            "gridcolor": "white",
            "gridwidth": 2,
            "linecolor": "white",
            "showbackground": true,
            "ticks": "",
            "zerolinecolor": "white"
           },
           "zaxis": {
            "backgroundcolor": "#E5ECF6",
            "gridcolor": "white",
            "gridwidth": 2,
            "linecolor": "white",
            "showbackground": true,
            "ticks": "",
            "zerolinecolor": "white"
           }
          },
          "shapedefaults": {
           "line": {
            "color": "#2a3f5f"
           }
          },
          "ternary": {
           "aaxis": {
            "gridcolor": "white",
            "linecolor": "white",
            "ticks": ""
           },
           "baxis": {
            "gridcolor": "white",
            "linecolor": "white",
            "ticks": ""
           },
           "bgcolor": "#E5ECF6",
           "caxis": {
            "gridcolor": "white",
            "linecolor": "white",
            "ticks": ""
           }
          },
          "title": {
           "x": 0.05
          },
          "xaxis": {
           "automargin": true,
           "gridcolor": "white",
           "linecolor": "white",
           "ticks": "",
           "title": {
            "standoff": 15
           },
           "zerolinecolor": "white",
           "zerolinewidth": 2
          },
          "yaxis": {
           "automargin": true,
           "gridcolor": "white",
           "linecolor": "white",
           "ticks": "",
           "title": {
            "standoff": 15
           },
           "zerolinecolor": "white",
           "zerolinewidth": 2
          }
         }
        },
        "title": {
         "text": "2020 US Election Results (Average of All Offices)"
        }
       }
      },
      "text/html": [
       "<div>                            <div id=\"fdf69a7a-ded5-4832-99b9-8fea0b30941d\" class=\"plotly-graph-div\" style=\"height:525px; width:100%;\"></div>            <script type=\"text/javascript\">                require([\"plotly\"], function(Plotly) {                    window.PLOTLYENV=window.PLOTLYENV || {};                                    if (document.getElementById(\"fdf69a7a-ded5-4832-99b9-8fea0b30941d\")) {                    Plotly.newPlot(                        \"fdf69a7a-ded5-4832-99b9-8fea0b30941d\",                        [{\"colorscale\":[[0.0,\"orchid\"],[1.0,\"orchid\"]],\"customdata\":[[\"AK\",\"House, Pres, Pres, Senate\",0.5097584127446311],[\"AL\",\"House, House, House, House, House, House, House, House, House, House, House, Pres, Pres, Pres, Senate, Senate\",0.5558011234777455],[\"AR\",\"House, House, House, House, House, House, House, Pres, Pres, Pres, Pres, Pres, Pres, Pres, Senate\",0.3720012824712351],[\"AS\",\"House, House, House\",0.3333333333333333],[\"FL\",\"House, House, House, House, House, House, House, House, House, House, House, House, House, House, House, House, House, House, House, House, House, House, House, House, House, House, House, House, House, House, House, House, House, House, House, House, House, House, House, House, House, House, House, House, House, House, House, House, House, House, House, Pres, Pres\",0.5065356909056422],[\"IA\",\"House, House, House, House, House, House, House, House, Pres, Pres, Senate, Senate\",0.49236794173529236],[\"ID\",\"House, House, House, House, Pres, Pres, Pres, Pres, Pres, Senate, Senate, Senate\",0.3240272802621481],[\"IN\",\"House, House, House, House, House, House, House, House, House, House, House, House, House, House, House, House, House, House, Pres, Pres\",0.490116803512122],[\"KS\",\"House, House, House, House, House, House, House, House, Pres, Pres, Senate, Senate\",0.48801123684682673],[\"KY\",\"House, House, House, House, House, House, House, House, House, House, House, House, Pres, Pres, Pres, Pres, Senate, Senate\",0.4390057572960466],[\"LA\",\"House, House, House, House, House, House, House, House, House, House, House, House, House, House, House, House, House, House, House, House, House, House, House, House, House, House, Pres, Pres, Senate, Senate, Senate, Senate, Senate, Senate, Senate, Senate\",0.21847329944123867],[\"MN\",\"House, House, House, House, House, House, House, House, Pres, Pres, Pres, Senate\",0.3822407600837771],[\"MO\",\"House, House, House, House, House, House, House, House, House, House, House, House, House, House, House, House, Pres, Pres\",0.48747922077940586],[\"MS\",\"House, House, House, House, House, House, House, Pres, Pres, Pres, Pres, Pres, Senate, Senate\",0.42665987660719207],[\"MT\",\"House, House, Pres, Pres, Senate, Senate\",0.4957797310027156],[\"NC\",\"House, House, House, House, House, House, House, House, House, House, House, House, House, House, House, House, House, House, House, House, House, House, House, House, House, Pres, Pres, Senate, Senate\",0.5126459556592543],[\"ND\",\"House, Pres\",0.670450539911893],[\"NE\",\"House, House, House, House, House, House, Pres, Pres, Senate, Senate\",0.47491539255159276],[\"OH\",\"House, House, House, House, House, House, House, House, House, House, House, House, House, House, House, House, House, House, House, House, House, House, House, House, House, House, House, House, House, House, House, Pres, Pres, Pres\",0.48655072135713695],[\"OK\",\"House, House, House, House, House, House, House, House, House, House, House, Pres, Pres, Pres, Pres, Pres, Senate, Senate, Senate, Senate\",0.34490254039327334],[\"SC\",\"House, House, House, House, House, House, House, House, House, House, House, House, House, House, Pres, Pres, Senate, Senate\",0.49586149761818543],[\"SD\",\"House, Pres, Pres, Senate, Senate\",0.5566593134861304],[\"TN\",\"House, House, House, House, House, House, House, House, House, House, House, House, House, House, House, House, House, House, House, House, House, House, House, House, House, House, House, House, Pres, Pres, Pres, Pres, Pres, Pres, Pres, Pres, Pres, Senate, Senate, Senate, Senate, Senate, Senate, Senate, Senate, Senate, Senate, Senate\",0.2291573026830694],[\"TX\",\"House, House, House, House, House, House, House, House, House, House, House, House, House, House, House, House, House, House, House, House, House, House, House, House, House, House, House, House, House, House, House, House, House, House, House, House, House, House, House, House, House, House, House, House, House, House, House, House, House, House, House, House, House, House, House, House, House, House, House, House, House, House, House, House, House, House, House, House, House, House, House, House, House, House, House, House, House, House, House, House, House, Pres, Pres, Senate, Senate\",0.4380883130931707],[\"UT\",\"House, House, House, House, House, House, House, House, Pres, Pres\",0.48124521793529107],[\"WV\",\"House, House, House, House, House, House, Pres, Pres, Senate, Senate\",0.4956023519029678],[\"WY\",\"House, House, Pres, Pres, Pres, Senate, Senate\",0.41433556248606235]],\"geo\":\"geo\",\"hovertemplate\":\"Party=R<br>State=%{customdata[0]}<br>Office=%{customdata[1]}<br>Vote %=%{customdata[2]}<extra></extra>\",\"locationmode\":\"USA-states\",\"locations\":[\"AK\",\"AL\",\"AR\",\"AS\",\"FL\",\"IA\",\"ID\",\"IN\",\"KS\",\"KY\",\"LA\",\"MN\",\"MO\",\"MS\",\"MT\",\"NC\",\"ND\",\"NE\",\"OH\",\"OK\",\"SC\",\"SD\",\"TN\",\"TX\",\"UT\",\"WV\",\"WY\"],\"name\":\"R\",\"showlegend\":true,\"showscale\":false,\"z\":[1,1,1,1,1,1,1,1,1,1,1,1,1,1,1,1,1,1,1,1,1,1,1,1,1,1,1],\"type\":\"choropleth\"},{\"colorscale\":[[0.0,\"purple\"],[1.0,\"purple\"]],\"customdata\":[[\"AZ\",\"House, House, House, House, House, House, House, House, House, House, House, House, House, House, House, House, House, House, Pres, Pres, Senate, Senate\",0.49921375170489674],[\"CA\",\"House, House, House, House, House, House, House, House, House, House, House, House, House, House, House, House, House, House, House, House, House, House, House, House, House, House, House, House, House, House, House, House, House, House, House, House, House, House, House, House, House, House, House, House, House, House, House, House, House, House, House, House, House, House, House, House, House, House, House, House, House, House, House, House, House, House, House, House, House, House, House, House, House, House, House, House, House, House, House, House, House, House, House, House, House, House, House, House, House, House, House, House, House, House, House, House, House, House, House, House, House, House, House, House, House, House, Pres, Pres\",0.4997967234372163],[\"CO\",\"House, House, House, House, House, House, House, House, House, House, House, House, House, House, Pres, Pres, Senate, Senate\",0.48392602151044284],[\"CT\",\"House, House, House, House, House, House, House, Pres, Pres\",0.5000839819940731],[\"DC\",\"House, House, House, House, House, House, Pres, Pres, Pres, Pres\",0.19263993760190962],[\"DE\",\"House, House, Pres, Pres, Senate, Senate\",0.4895075991461919],[\"GA\",\"House, House, House, House, House, House, House, House, House, House, House, House, House, House, House, House, House, House, House, House, House, House, House, House, House, House, House, House, Pres, Pres, Senate, Senate, Senate, Senate, Senate, Senate, Senate, Senate, Senate, Senate, Senate, Senate, Senate, Senate, Senate, Senate, Senate, Senate, Senate, Senate\",0.339063300686982],[\"GU\",\"House, House, House\",0.33269280040994104],[\"HI\",\"House, House, House, House, Pres, Pres\",0.4865288085632748],[\"IL\",\"House, House, House, House, House, House, House, House, House, House, House, House, House, House, House, House, House, House, House, House, House, House, House, House, House, House, House, House, House, House, House, House, House, House, House, House, Pres, Pres, Senate, Senate\",0.4901574408777261],[\"MA\",\"House, House, House, House, House, House, House, House, House, House, House, House, House, House, House, Pres, Pres, Senate, Senate\",0.562108628627277],[\"MD\",\"House, House, House, House, House, House, House, House, House, House, House, House, House, House, House, House, Pres, Pres\",0.49660326622349643],[\"ME\",\"House, House, House, Pres, Pres, Senate, Senate, Senate, Senate\",0.38902795651240724],[\"MI\",\"House, House, House, House, House, House, House, House, House, House, House, House, House, House, House, House, House, House, House, House, House, House, House, House, House, House, House, House, Pres, Pres, Senate, Senate\",0.48927901320926037],[\"NH\",\"House, House, House, House, Pres, Pres, Senate, Senate\",0.48852601363262704],[\"NJ\",\"House, House, House, House, House, House, House, House, House, House, House, House, House, House, House, House, House, House, House, House, House, House, House, Pres, Pres, Senate, Senate\",0.49757450319933494],[\"NM\",\"House, House, House, House, House, House, Pres, Pres, Senate, Senate\",0.4950956960538793],[\"NV\",\"House, House, House, House, House, House, House, House, Pres, Pres\",0.4810284967398101],[\"NY\",\"House, House, House, House, House, House, House, House, House, House, House, House, House, House, House, House, House, House, House, House, House, House, House, House, House, House, House, House, House, House, House, House, House, House, House, House, House, House, House, House, House, House, House, House, House, House, House, House, House, House, House, House, Pres, Pres\",0.46872362176787236],[\"OR\",\"House, House, House, House, House, House, House, Pres, Pres, Senate\",0.43487469970902665],[\"PA\",\"House, House, House, House, House, House, House, House, House, House, House, House, House, House, House, House, House, House, House, House, House, House, House, House, House, House, House, House, House, House, House, House, House, House, House, House, Pres, Pres\",0.49902281072207677],[\"RI\",\"House, House, House, House, House, Pres, Pres, Senate, Senate\",0.4410231268698699],[\"VA\",\"House, House, House, House, House, House, House, House, House, House, House, House, House, House, House, House, House, House, House, House, House, House, Pres, Pres, Senate, Senate\",0.49622432715894305],[\"VI\",\"House, House\",0.4972557628979144],[\"VT\",\"House, House, House, House, House, House, Pres, Pres, Pres, Pres, Pres, Pres, Pres\",0.15099978315045315],[\"WA\",\"House, House, House, House, House, House, House, House, House, House, House, House, House, House, House, House, House, House, House, House, Pres, Pres\",0.49086119038533726],[\"WI\",\"House, House, House, House, House, House, House, House, House, House, House, House, House, House, House, House, House, Pres, Pres\",0.47250006738258843]],\"geo\":\"geo\",\"hovertemplate\":\"Party=D<br>State=%{customdata[0]}<br>Office=%{customdata[1]}<br>Vote %=%{customdata[2]}<extra></extra>\",\"locationmode\":\"USA-states\",\"locations\":[\"AZ\",\"CA\",\"CO\",\"CT\",\"DC\",\"DE\",\"GA\",\"GU\",\"HI\",\"IL\",\"MA\",\"MD\",\"ME\",\"MI\",\"NH\",\"NJ\",\"NM\",\"NV\",\"NY\",\"OR\",\"PA\",\"RI\",\"VA\",\"VI\",\"VT\",\"WA\",\"WI\"],\"name\":\"D\",\"showlegend\":true,\"showscale\":false,\"z\":[1,1,1,1,1,1,1,1,1,1,1,1,1,1,1,1,1,1,1,1,1,1,1,1,1,1,1],\"type\":\"choropleth\"},{\"colorscale\":[[0.0,\"grey\"],[1.0,\"grey\"]],\"customdata\":[[\"MP\",\"House\",1.0]],\"geo\":\"geo\",\"hovertemplate\":\"Party=IND<br>State=%{customdata[0]}<br>Office=%{customdata[1]}<br>Vote %=%{customdata[2]}<extra></extra>\",\"locationmode\":\"USA-states\",\"locations\":[\"MP\"],\"name\":\"IND\",\"showlegend\":true,\"showscale\":false,\"z\":[1],\"type\":\"choropleth\"}],                        {\"template\":{\"data\":{\"histogram2dcontour\":[{\"type\":\"histogram2dcontour\",\"colorbar\":{\"outlinewidth\":0,\"ticks\":\"\"},\"colorscale\":[[0.0,\"#0d0887\"],[0.1111111111111111,\"#46039f\"],[0.2222222222222222,\"#7201a8\"],[0.3333333333333333,\"#9c179e\"],[0.4444444444444444,\"#bd3786\"],[0.5555555555555556,\"#d8576b\"],[0.6666666666666666,\"#ed7953\"],[0.7777777777777778,\"#fb9f3a\"],[0.8888888888888888,\"#fdca26\"],[1.0,\"#f0f921\"]]}],\"choropleth\":[{\"type\":\"choropleth\",\"colorbar\":{\"outlinewidth\":0,\"ticks\":\"\"}}],\"histogram2d\":[{\"type\":\"histogram2d\",\"colorbar\":{\"outlinewidth\":0,\"ticks\":\"\"},\"colorscale\":[[0.0,\"#0d0887\"],[0.1111111111111111,\"#46039f\"],[0.2222222222222222,\"#7201a8\"],[0.3333333333333333,\"#9c179e\"],[0.4444444444444444,\"#bd3786\"],[0.5555555555555556,\"#d8576b\"],[0.6666666666666666,\"#ed7953\"],[0.7777777777777778,\"#fb9f3a\"],[0.8888888888888888,\"#fdca26\"],[1.0,\"#f0f921\"]]}],\"heatmap\":[{\"type\":\"heatmap\",\"colorbar\":{\"outlinewidth\":0,\"ticks\":\"\"},\"colorscale\":[[0.0,\"#0d0887\"],[0.1111111111111111,\"#46039f\"],[0.2222222222222222,\"#7201a8\"],[0.3333333333333333,\"#9c179e\"],[0.4444444444444444,\"#bd3786\"],[0.5555555555555556,\"#d8576b\"],[0.6666666666666666,\"#ed7953\"],[0.7777777777777778,\"#fb9f3a\"],[0.8888888888888888,\"#fdca26\"],[1.0,\"#f0f921\"]]}],\"heatmapgl\":[{\"type\":\"heatmapgl\",\"colorbar\":{\"outlinewidth\":0,\"ticks\":\"\"},\"colorscale\":[[0.0,\"#0d0887\"],[0.1111111111111111,\"#46039f\"],[0.2222222222222222,\"#7201a8\"],[0.3333333333333333,\"#9c179e\"],[0.4444444444444444,\"#bd3786\"],[0.5555555555555556,\"#d8576b\"],[0.6666666666666666,\"#ed7953\"],[0.7777777777777778,\"#fb9f3a\"],[0.8888888888888888,\"#fdca26\"],[1.0,\"#f0f921\"]]}],\"contourcarpet\":[{\"type\":\"contourcarpet\",\"colorbar\":{\"outlinewidth\":0,\"ticks\":\"\"}}],\"contour\":[{\"type\":\"contour\",\"colorbar\":{\"outlinewidth\":0,\"ticks\":\"\"},\"colorscale\":[[0.0,\"#0d0887\"],[0.1111111111111111,\"#46039f\"],[0.2222222222222222,\"#7201a8\"],[0.3333333333333333,\"#9c179e\"],[0.4444444444444444,\"#bd3786\"],[0.5555555555555556,\"#d8576b\"],[0.6666666666666666,\"#ed7953\"],[0.7777777777777778,\"#fb9f3a\"],[0.8888888888888888,\"#fdca26\"],[1.0,\"#f0f921\"]]}],\"surface\":[{\"type\":\"surface\",\"colorbar\":{\"outlinewidth\":0,\"ticks\":\"\"},\"colorscale\":[[0.0,\"#0d0887\"],[0.1111111111111111,\"#46039f\"],[0.2222222222222222,\"#7201a8\"],[0.3333333333333333,\"#9c179e\"],[0.4444444444444444,\"#bd3786\"],[0.5555555555555556,\"#d8576b\"],[0.6666666666666666,\"#ed7953\"],[0.7777777777777778,\"#fb9f3a\"],[0.8888888888888888,\"#fdca26\"],[1.0,\"#f0f921\"]]}],\"mesh3d\":[{\"type\":\"mesh3d\",\"colorbar\":{\"outlinewidth\":0,\"ticks\":\"\"}}],\"scatter\":[{\"fillpattern\":{\"fillmode\":\"overlay\",\"size\":10,\"solidity\":0.2},\"type\":\"scatter\"}],\"parcoords\":[{\"type\":\"parcoords\",\"line\":{\"colorbar\":{\"outlinewidth\":0,\"ticks\":\"\"}}}],\"scatterpolargl\":[{\"type\":\"scatterpolargl\",\"marker\":{\"colorbar\":{\"outlinewidth\":0,\"ticks\":\"\"}}}],\"bar\":[{\"error_x\":{\"color\":\"#2a3f5f\"},\"error_y\":{\"color\":\"#2a3f5f\"},\"marker\":{\"line\":{\"color\":\"#E5ECF6\",\"width\":0.5},\"pattern\":{\"fillmode\":\"overlay\",\"size\":10,\"solidity\":0.2}},\"type\":\"bar\"}],\"scattergeo\":[{\"type\":\"scattergeo\",\"marker\":{\"colorbar\":{\"outlinewidth\":0,\"ticks\":\"\"}}}],\"scatterpolar\":[{\"type\":\"scatterpolar\",\"marker\":{\"colorbar\":{\"outlinewidth\":0,\"ticks\":\"\"}}}],\"histogram\":[{\"marker\":{\"pattern\":{\"fillmode\":\"overlay\",\"size\":10,\"solidity\":0.2}},\"type\":\"histogram\"}],\"scattergl\":[{\"type\":\"scattergl\",\"marker\":{\"colorbar\":{\"outlinewidth\":0,\"ticks\":\"\"}}}],\"scatter3d\":[{\"type\":\"scatter3d\",\"line\":{\"colorbar\":{\"outlinewidth\":0,\"ticks\":\"\"}},\"marker\":{\"colorbar\":{\"outlinewidth\":0,\"ticks\":\"\"}}}],\"scattermapbox\":[{\"type\":\"scattermapbox\",\"marker\":{\"colorbar\":{\"outlinewidth\":0,\"ticks\":\"\"}}}],\"scatterternary\":[{\"type\":\"scatterternary\",\"marker\":{\"colorbar\":{\"outlinewidth\":0,\"ticks\":\"\"}}}],\"scattercarpet\":[{\"type\":\"scattercarpet\",\"marker\":{\"colorbar\":{\"outlinewidth\":0,\"ticks\":\"\"}}}],\"carpet\":[{\"aaxis\":{\"endlinecolor\":\"#2a3f5f\",\"gridcolor\":\"white\",\"linecolor\":\"white\",\"minorgridcolor\":\"white\",\"startlinecolor\":\"#2a3f5f\"},\"baxis\":{\"endlinecolor\":\"#2a3f5f\",\"gridcolor\":\"white\",\"linecolor\":\"white\",\"minorgridcolor\":\"white\",\"startlinecolor\":\"#2a3f5f\"},\"type\":\"carpet\"}],\"table\":[{\"cells\":{\"fill\":{\"color\":\"#EBF0F8\"},\"line\":{\"color\":\"white\"}},\"header\":{\"fill\":{\"color\":\"#C8D4E3\"},\"line\":{\"color\":\"white\"}},\"type\":\"table\"}],\"barpolar\":[{\"marker\":{\"line\":{\"color\":\"#E5ECF6\",\"width\":0.5},\"pattern\":{\"fillmode\":\"overlay\",\"size\":10,\"solidity\":0.2}},\"type\":\"barpolar\"}],\"pie\":[{\"automargin\":true,\"type\":\"pie\"}]},\"layout\":{\"autotypenumbers\":\"strict\",\"colorway\":[\"#636efa\",\"#EF553B\",\"#00cc96\",\"#ab63fa\",\"#FFA15A\",\"#19d3f3\",\"#FF6692\",\"#B6E880\",\"#FF97FF\",\"#FECB52\"],\"font\":{\"color\":\"#2a3f5f\"},\"hovermode\":\"closest\",\"hoverlabel\":{\"align\":\"left\"},\"paper_bgcolor\":\"white\",\"plot_bgcolor\":\"#E5ECF6\",\"polar\":{\"bgcolor\":\"#E5ECF6\",\"angularaxis\":{\"gridcolor\":\"white\",\"linecolor\":\"white\",\"ticks\":\"\"},\"radialaxis\":{\"gridcolor\":\"white\",\"linecolor\":\"white\",\"ticks\":\"\"}},\"ternary\":{\"bgcolor\":\"#E5ECF6\",\"aaxis\":{\"gridcolor\":\"white\",\"linecolor\":\"white\",\"ticks\":\"\"},\"baxis\":{\"gridcolor\":\"white\",\"linecolor\":\"white\",\"ticks\":\"\"},\"caxis\":{\"gridcolor\":\"white\",\"linecolor\":\"white\",\"ticks\":\"\"}},\"coloraxis\":{\"colorbar\":{\"outlinewidth\":0,\"ticks\":\"\"}},\"colorscale\":{\"sequential\":[[0.0,\"#0d0887\"],[0.1111111111111111,\"#46039f\"],[0.2222222222222222,\"#7201a8\"],[0.3333333333333333,\"#9c179e\"],[0.4444444444444444,\"#bd3786\"],[0.5555555555555556,\"#d8576b\"],[0.6666666666666666,\"#ed7953\"],[0.7777777777777778,\"#fb9f3a\"],[0.8888888888888888,\"#fdca26\"],[1.0,\"#f0f921\"]],\"sequentialminus\":[[0.0,\"#0d0887\"],[0.1111111111111111,\"#46039f\"],[0.2222222222222222,\"#7201a8\"],[0.3333333333333333,\"#9c179e\"],[0.4444444444444444,\"#bd3786\"],[0.5555555555555556,\"#d8576b\"],[0.6666666666666666,\"#ed7953\"],[0.7777777777777778,\"#fb9f3a\"],[0.8888888888888888,\"#fdca26\"],[1.0,\"#f0f921\"]],\"diverging\":[[0,\"#8e0152\"],[0.1,\"#c51b7d\"],[0.2,\"#de77ae\"],[0.3,\"#f1b6da\"],[0.4,\"#fde0ef\"],[0.5,\"#f7f7f7\"],[0.6,\"#e6f5d0\"],[0.7,\"#b8e186\"],[0.8,\"#7fbc41\"],[0.9,\"#4d9221\"],[1,\"#276419\"]]},\"xaxis\":{\"gridcolor\":\"white\",\"linecolor\":\"white\",\"ticks\":\"\",\"title\":{\"standoff\":15},\"zerolinecolor\":\"white\",\"automargin\":true,\"zerolinewidth\":2},\"yaxis\":{\"gridcolor\":\"white\",\"linecolor\":\"white\",\"ticks\":\"\",\"title\":{\"standoff\":15},\"zerolinecolor\":\"white\",\"automargin\":true,\"zerolinewidth\":2},\"scene\":{\"xaxis\":{\"backgroundcolor\":\"#E5ECF6\",\"gridcolor\":\"white\",\"linecolor\":\"white\",\"showbackground\":true,\"ticks\":\"\",\"zerolinecolor\":\"white\",\"gridwidth\":2},\"yaxis\":{\"backgroundcolor\":\"#E5ECF6\",\"gridcolor\":\"white\",\"linecolor\":\"white\",\"showbackground\":true,\"ticks\":\"\",\"zerolinecolor\":\"white\",\"gridwidth\":2},\"zaxis\":{\"backgroundcolor\":\"#E5ECF6\",\"gridcolor\":\"white\",\"linecolor\":\"white\",\"showbackground\":true,\"ticks\":\"\",\"zerolinecolor\":\"white\",\"gridwidth\":2}},\"shapedefaults\":{\"line\":{\"color\":\"#2a3f5f\"}},\"annotationdefaults\":{\"arrowcolor\":\"#2a3f5f\",\"arrowhead\":0,\"arrowwidth\":1},\"geo\":{\"bgcolor\":\"white\",\"landcolor\":\"#E5ECF6\",\"subunitcolor\":\"white\",\"showland\":true,\"showlakes\":true,\"lakecolor\":\"white\"},\"title\":{\"x\":0.05},\"mapbox\":{\"style\":\"light\"}}},\"geo\":{\"domain\":{\"x\":[0.0,1.0],\"y\":[0.0,1.0]},\"center\":{},\"scope\":\"usa\"},\"legend\":{\"title\":{\"text\":\"Party\"},\"tracegroupgap\":0},\"title\":{\"text\":\"2020 US Election Results (Average of All Offices)\"},\"coloraxis\":{\"colorbar\":{\"title\":{\"text\":\"Party\"},\"tickvals\":[\"R\",\"D\",\"IND\"],\"ticktext\":[\"Republican\",\"Democrat\",\"Independent\"]}}},                        {\"responsive\": true}                    ).then(function(){\n",
       "                            \n",
       "var gd = document.getElementById('fdf69a7a-ded5-4832-99b9-8fea0b30941d');\n",
       "var x = new MutationObserver(function (mutations, observer) {{\n",
       "        var display = window.getComputedStyle(gd).display;\n",
       "        if (!display || display === 'none') {{\n",
       "            console.log([gd, 'removed!']);\n",
       "            Plotly.purge(gd);\n",
       "            observer.disconnect();\n",
       "        }}\n",
       "}});\n",
       "\n",
       "// Listen for the removal of the full notebook cells\n",
       "var notebookContainer = gd.closest('#notebook-container');\n",
       "if (notebookContainer) {{\n",
       "    x.observe(notebookContainer, {childList: true});\n",
       "}}\n",
       "\n",
       "// Listen for the clearing of the current output cell\n",
       "var outputEl = gd.closest('.output');\n",
       "if (outputEl) {{\n",
       "    x.observe(outputEl, {childList: true});\n",
       "}}\n",
       "\n",
       "                        })                };                });            </script>        </div>"
      ]
     },
     "metadata": {},
     "output_type": "display_data"
    }
   ],
   "source": [
    "# map that defines the party wins by state for each office.\n",
    "# Define colors for each party\n",
    "colors = {'R': 'orchid', 'D': 'purple', 'IND': 'grey'}\n",
    "\n",
    "# Define color labels\n",
    "color_labels = {'R': 'Republican', 'D': 'Democrat', 'IND': 'Independent'}\n",
    "\n",
    "# Aggregate the data by year, state, and office, and calculate the party with the highest vote percentage\n",
    "df_state_2020_agg = df_combo_2020.groupby(['Year', 'State']).agg({'Vote %': 'mean', 'Party': 'first', 'Office': lambda x: ', '.join(sorted(x))}).reset_index()\n",
    "\n",
    "# Map the winner of each state to colors\n",
    "df_state_2020_agg['color'] = df_state_2020_agg['Party'].apply(lambda x: colors[x])\n",
    "\n",
    "# Create choropleth map with custom color labels\n",
    "fig = px.choropleth(df_state_2020_agg, \n",
    "                    locations='State',\n",
    "                    locationmode='USA-states',\n",
    "                    color='Party',\n",
    "                    scope='usa',\n",
    "                    color_discrete_map=colors,\n",
    "                    hover_data={'State': True, 'Office': True, 'Vote %': True},\n",
    "                    title='2020 US Election Results (Average of All Offices)')\n",
    "\n",
    "# Update the color scale labels\n",
    "fig.update_layout(coloraxis_colorbar=dict(title='Party', tickvals=['R', 'D', 'IND'], \n",
    "                                          ticktext=[color_labels[x] for x in ['R', 'D', 'IND']]))\n",
    "\n",
    "# Show map\n",
    "fig.show()\n"
   ]
  },
  {
   "cell_type": "code",
   "execution_count": 28,
   "id": "265bca5f",
   "metadata": {},
   "outputs": [
    {
     "data": {
      "application/vnd.plotly.v1+json": {
       "config": {
        "plotlyServerURL": "https://plot.ly"
       },
       "data": [
        {
         "colorscale": [
          [
           0,
           "red"
          ],
          [
           1,
           "red"
          ]
         ],
         "customdata": [
          [
           "AK",
           "House",
           0.5440120057197061
          ],
          [
           "AK",
           "Pres",
           0.5283314327038078
          ],
          [
           "AK",
           "Senate",
           0.5389706898448053
          ],
          [
           "AL",
           "Pres",
           0.620316431668648
          ],
          [
           "AL",
           "Senate",
           0.6009536164251688
          ],
          [
           "AR",
           "House",
           1
          ],
          [
           "AR",
           "Pres",
           0.6239572985614432
          ],
          [
           "AR",
           "Senate",
           0.6652953544949513
          ],
          [
           "AS",
           "House",
           0.8332624053110903
          ],
          [
           "FL",
           "House",
           0.9786473674595111
          ],
          [
           "FL",
           "Pres",
           0.5121981962250404
          ],
          [
           "GA",
           "Senate",
           0.49727988207201884
          ],
          [
           "IA",
           "House",
           0.6197268042044582
          ],
          [
           "IA",
           "Pres",
           0.5308932496920227
          ],
          [
           "IA",
           "Senate",
           0.5173959282892738
          ],
          [
           "ID",
           "House",
           0.6776106904853285
          ],
          [
           "ID",
           "Pres",
           0.6384344892583999
          ],
          [
           "ID",
           "Senate",
           0.6262259733644093
          ],
          [
           "IN",
           "House",
           0.6865023627948923
          ],
          [
           "IN",
           "Pres",
           0.5703057157269031
          ],
          [
           "KS",
           "House",
           0.7115972141534129
          ],
          [
           "KS",
           "Pres",
           0.5614365794120173
          ],
          [
           "KS",
           "Senate",
           0.5322312841115551
          ],
          [
           "KY",
           "House",
           0.8420780615498205
          ],
          [
           "KY",
           "Pres",
           0.6208657186929044
          ],
          [
           "KY",
           "Senate",
           0.5776496833573999
          ],
          [
           "LA",
           "House",
           0.722095045262829
          ],
          [
           "LA",
           "Pres",
           0.5846088241400853
          ],
          [
           "LA",
           "Senate",
           0.5932331600164709
          ],
          [
           "ME",
           "Senate",
           0.509831136632474
          ],
          [
           "MN",
           "House",
           0.6570371106966411
          ],
          [
           "MN",
           "Pres",
           0.4528494240916937
          ],
          [
           "MN",
           "Senate",
           0.43498246561568216
          ],
          [
           "MO",
           "Pres",
           0.5679965577888949
          ],
          [
           "MS",
           "House",
           1
          ],
          [
           "MS",
           "Pres",
           0.5760295457538255
          ],
          [
           "MS",
           "Senate",
           0.5410522254097673
          ],
          [
           "MT",
           "House",
           0.563863549838822
          ],
          [
           "MT",
           "Pres",
           0.5691846924002028
          ],
          [
           "MT",
           "Senate",
           0.5501216074975604
          ],
          [
           "NC",
           "Pres",
           0.4993435061225701
          ],
          [
           "NC",
           "Senate",
           0.4868714830741895
          ],
          [
           "ND",
           "House",
           0.689698397128716
          ],
          [
           "ND",
           "Pres",
           0.65120268269507
          ],
          [
           "NE",
           "House",
           0.7851483767479165
          ],
          [
           "NE",
           "Pres",
           0.5822416333205421
          ],
          [
           "NE",
           "Senate",
           0.6274187859941592
          ],
          [
           "OH",
           "Pres",
           0.5327130010087464
          ],
          [
           "OK",
           "House",
           0.7849103105654348
          ],
          [
           "OK",
           "Pres",
           0.6537327184806295
          ],
          [
           "OK",
           "Senate",
           0.629121392787406
          ],
          [
           "OR",
           "House",
           0.5986341169089243
          ],
          [
           "OR",
           "Senate",
           0.3932426034432325
          ],
          [
           "SC",
           "House",
           0.7121391996738257
          ],
          [
           "SC",
           "Pres",
           0.5511029395674024
          ],
          [
           "SC",
           "Senate",
           0.544365958624375
          ],
          [
           "SD",
           "House",
           0.8095501493467964
          ],
          [
           "SD",
           "Pres",
           0.6176938967225024
          ],
          [
           "SD",
           "Senate",
           0.6573524757328917
          ],
          [
           "TN",
           "Pres",
           0.6066029416628381
          ],
          [
           "TN",
           "Senate",
           0.6219846805198123
          ],
          [
           "TX",
           "House",
           0.7970854054350471
          ],
          [
           "TX",
           "Pres",
           0.5205760360355265
          ],
          [
           "TX",
           "Senate",
           0.5350826989134999
          ],
          [
           "UT",
           "House",
           0.6951578935069563
          ],
          [
           "UT",
           "Pres",
           0.5812983902991959
          ],
          [
           "VA",
           "House",
           0.9397699067320257
          ],
          [
           "WV",
           "House",
           0.7133617644981282
          ],
          [
           "WV",
           "Pres",
           0.6862472962549592
          ],
          [
           "WV",
           "Senate",
           0.7028390664999397
          ],
          [
           "WY",
           "House",
           0.6856311740472217
          ],
          [
           "WY",
           "Pres",
           0.6993622748541181
          ],
          [
           "WY",
           "Senate",
           0.7258085199148522
          ]
         ],
         "geo": "geo",
         "hovertemplate": "Party=R<br>State=%{customdata[0]}<br>Office=%{customdata[1]}<br>Vote %=%{customdata[2]}<extra></extra>",
         "locationmode": "USA-states",
         "locations": [
          "AK",
          "AK",
          "AK",
          "AL",
          "AL",
          "AR",
          "AR",
          "AR",
          "AS",
          "FL",
          "FL",
          "GA",
          "IA",
          "IA",
          "IA",
          "ID",
          "ID",
          "ID",
          "IN",
          "IN",
          "KS",
          "KS",
          "KS",
          "KY",
          "KY",
          "KY",
          "LA",
          "LA",
          "LA",
          "ME",
          "MN",
          "MN",
          "MN",
          "MO",
          "MS",
          "MS",
          "MS",
          "MT",
          "MT",
          "MT",
          "NC",
          "NC",
          "ND",
          "ND",
          "NE",
          "NE",
          "NE",
          "OH",
          "OK",
          "OK",
          "OK",
          "OR",
          "OR",
          "SC",
          "SC",
          "SC",
          "SD",
          "SD",
          "SD",
          "TN",
          "TN",
          "TX",
          "TX",
          "TX",
          "UT",
          "UT",
          "VA",
          "WV",
          "WV",
          "WV",
          "WY",
          "WY",
          "WY"
         ],
         "name": "R",
         "showlegend": true,
         "showscale": false,
         "type": "choropleth",
         "z": [
          1,
          1,
          1,
          1,
          1,
          1,
          1,
          1,
          1,
          1,
          1,
          1,
          1,
          1,
          1,
          1,
          1,
          1,
          1,
          1,
          1,
          1,
          1,
          1,
          1,
          1,
          1,
          1,
          1,
          1,
          1,
          1,
          1,
          1,
          1,
          1,
          1,
          1,
          1,
          1,
          1,
          1,
          1,
          1,
          1,
          1,
          1,
          1,
          1,
          1,
          1,
          1,
          1,
          1,
          1,
          1,
          1,
          1,
          1,
          1,
          1,
          1,
          1,
          1,
          1,
          1,
          1,
          1,
          1,
          1,
          1,
          1,
          1
         ]
        },
        {
         "colorscale": [
          [
           0,
           "dodgerblue"
          ],
          [
           1,
           "dodgerblue"
          ]
         ],
         "customdata": [
          [
           "AL",
           "House",
           0.9716396003977085
          ],
          [
           "AZ",
           "House",
           0.7669330465577661
          ],
          [
           "AZ",
           "Pres",
           0.49364690614366613
          ],
          [
           "AZ",
           "Senate",
           0.511566269297357
          ],
          [
           "CA",
           "House",
           0.9036569299207867
          ],
          [
           "CA",
           "Pres",
           0.6348435951907793
          ],
          [
           "CO",
           "House",
           0.7364609473894601
          ],
          [
           "CO",
           "Pres",
           0.553995419069199
          ],
          [
           "CO",
           "Senate",
           0.5349896006848405
          ],
          [
           "CT",
           "House",
           0.6221847658545782
          ],
          [
           "CT",
           "Pres",
           0.5926073151568352
          ],
          [
           "DC",
           "House",
           0.862958415368646
          ],
          [
           "DC",
           "Pres",
           0.9214969392140692
          ],
          [
           "DE",
           "House",
           0.5762836135744568
          ],
          [
           "DE",
           "Pres",
           0.5874300579364167
          ],
          [
           "DE",
           "Senate",
           0.5943841852791103
          ],
          [
           "GA",
           "House",
           0.8514934993497939
          ],
          [
           "GA",
           "Pres",
           0.49473055784446274
          ],
          [
           "GU",
           "House",
           0.4655859129341066
          ],
          [
           "HI",
           "House",
           0.7202092495863351
          ],
          [
           "HI",
           "Pres",
           0.6373363923901899
          ],
          [
           "IL",
           "House",
           0.8405383928130485
          ],
          [
           "IL",
           "Pres",
           0.5754163584003564
          ],
          [
           "IL",
           "Senate",
           0.5493356314671662
          ],
          [
           "MA",
           "House",
           0.9773692763142205
          ],
          [
           "MA",
           "Pres",
           0.6560006300596849
          ],
          [
           "MA",
           "Senate",
           0.661537326297313
          ],
          [
           "MD",
           "House",
           0.7957571877053781
          ],
          [
           "MD",
           "Pres",
           0.6536066486007711
          ],
          [
           "ME",
           "House",
           0.6215303180766328
          ],
          [
           "ME",
           "Pres",
           0.5309245955573236
          ],
          [
           "MI",
           "House",
           0.7927771594172415
          ],
          [
           "MI",
           "Pres",
           0.5062081829082437
          ],
          [
           "MI",
           "Senate",
           0.4990342572248217
          ],
          [
           "MO",
           "House",
           0.7878236776934001
          ],
          [
           "NC",
           "House",
           1
          ],
          [
           "NH",
           "House",
           0.5389930157514342
          ],
          [
           "NH",
           "Pres",
           0.5270830620003597
          ],
          [
           "NH",
           "Senate",
           0.5663652103116669
          ],
          [
           "NJ",
           "House",
           0.8328086369733353
          ],
          [
           "NJ",
           "Pres",
           0.5733431484240866
          ],
          [
           "NJ",
           "Senate",
           0.5722815243191144
          ],
          [
           "NM",
           "House",
           0.5868110682694488
          ],
          [
           "NM",
           "Pres",
           0.5428928584957222
          ],
          [
           "NM",
           "Senate",
           0.5172959660371311
          ],
          [
           "NV",
           "House",
           0.6176521976766586
          ],
          [
           "NV",
           "Pres",
           0.5005678195728402
          ],
          [
           "NY",
           "House",
           0.9932633659760967
          ],
          [
           "NY",
           "Pres",
           0.5638100695833437
          ],
          [
           "OH",
           "House",
           0.8005330317669739
          ],
          [
           "OR",
           "Pres",
           0.5645331865404888
          ],
          [
           "PA",
           "House",
           0.9090444748309382
          ],
          [
           "PA",
           "Pres",
           0.49852111352266465
          ],
          [
           "RI",
           "House",
           0.7082551594746717
          ],
          [
           "RI",
           "Pres",
           0.5938809132469479
          ],
          [
           "RI",
           "Senate",
           0.6647769806297065
          ],
          [
           "TN",
           "House",
           0.9999444816769706
          ],
          [
           "VA",
           "Pres",
           0.5410951717780242
          ],
          [
           "VA",
           "Senate",
           0.559920836977794
          ],
          [
           "VI",
           "House",
           0.8794472783624976
          ],
          [
           "VT",
           "House",
           0.673072370645925
          ],
          [
           "VT",
           "Pres",
           0.6608641693066397
          ],
          [
           "WA",
           "House",
           0.8298832487962577
          ],
          [
           "WA",
           "Pres",
           0.5797030113530306
          ],
          [
           "WI",
           "House",
           0.7464556925475703
          ],
          [
           "WI",
           "Pres",
           0.4944953686142774
          ]
         ],
         "geo": "geo",
         "hovertemplate": "Party=D<br>State=%{customdata[0]}<br>Office=%{customdata[1]}<br>Vote %=%{customdata[2]}<extra></extra>",
         "locationmode": "USA-states",
         "locations": [
          "AL",
          "AZ",
          "AZ",
          "AZ",
          "CA",
          "CA",
          "CO",
          "CO",
          "CO",
          "CT",
          "CT",
          "DC",
          "DC",
          "DE",
          "DE",
          "DE",
          "GA",
          "GA",
          "GU",
          "HI",
          "HI",
          "IL",
          "IL",
          "IL",
          "MA",
          "MA",
          "MA",
          "MD",
          "MD",
          "ME",
          "ME",
          "MI",
          "MI",
          "MI",
          "MO",
          "NC",
          "NH",
          "NH",
          "NH",
          "NJ",
          "NJ",
          "NJ",
          "NM",
          "NM",
          "NM",
          "NV",
          "NV",
          "NY",
          "NY",
          "OH",
          "OR",
          "PA",
          "PA",
          "RI",
          "RI",
          "RI",
          "TN",
          "VA",
          "VA",
          "VI",
          "VT",
          "VT",
          "WA",
          "WA",
          "WI",
          "WI"
         ],
         "name": "D",
         "showlegend": true,
         "showscale": false,
         "type": "choropleth",
         "z": [
          1,
          1,
          1,
          1,
          1,
          1,
          1,
          1,
          1,
          1,
          1,
          1,
          1,
          1,
          1,
          1,
          1,
          1,
          1,
          1,
          1,
          1,
          1,
          1,
          1,
          1,
          1,
          1,
          1,
          1,
          1,
          1,
          1,
          1,
          1,
          1,
          1,
          1,
          1,
          1,
          1,
          1,
          1,
          1,
          1,
          1,
          1,
          1,
          1,
          1,
          1,
          1,
          1,
          1,
          1,
          1,
          1,
          1,
          1,
          1,
          1,
          1,
          1,
          1,
          1,
          1
         ]
        },
        {
         "colorscale": [
          [
           0,
           "grey"
          ],
          [
           1,
           "grey"
          ]
         ],
         "customdata": [
          [
           "MP",
           "House",
           1
          ]
         ],
         "geo": "geo",
         "hovertemplate": "Party=IND<br>State=%{customdata[0]}<br>Office=%{customdata[1]}<br>Vote %=%{customdata[2]}<extra></extra>",
         "locationmode": "USA-states",
         "locations": [
          "MP"
         ],
         "name": "IND",
         "showlegend": true,
         "showscale": false,
         "type": "choropleth",
         "z": [
          1
         ]
        }
       ],
       "layout": {
        "coloraxis": {
         "colorbar": {
          "ticktext": [
           "Republican",
           "Democrat",
           "Independent"
          ],
          "tickvals": [
           "R",
           "D",
           "IND"
          ],
          "title": {
           "text": "Party"
          }
         }
        },
        "geo": {
         "center": {},
         "domain": {
          "x": [
           0,
           1
          ],
          "y": [
           0,
           1
          ]
         },
         "scope": "usa"
        },
        "legend": {
         "title": {
          "text": "Party"
         },
         "tracegroupgap": 0
        },
        "template": {
         "data": {
          "bar": [
           {
            "error_x": {
             "color": "#2a3f5f"
            },
            "error_y": {
             "color": "#2a3f5f"
            },
            "marker": {
             "line": {
              "color": "#E5ECF6",
              "width": 0.5
             },
             "pattern": {
              "fillmode": "overlay",
              "size": 10,
              "solidity": 0.2
             }
            },
            "type": "bar"
           }
          ],
          "barpolar": [
           {
            "marker": {
             "line": {
              "color": "#E5ECF6",
              "width": 0.5
             },
             "pattern": {
              "fillmode": "overlay",
              "size": 10,
              "solidity": 0.2
             }
            },
            "type": "barpolar"
           }
          ],
          "carpet": [
           {
            "aaxis": {
             "endlinecolor": "#2a3f5f",
             "gridcolor": "white",
             "linecolor": "white",
             "minorgridcolor": "white",
             "startlinecolor": "#2a3f5f"
            },
            "baxis": {
             "endlinecolor": "#2a3f5f",
             "gridcolor": "white",
             "linecolor": "white",
             "minorgridcolor": "white",
             "startlinecolor": "#2a3f5f"
            },
            "type": "carpet"
           }
          ],
          "choropleth": [
           {
            "colorbar": {
             "outlinewidth": 0,
             "ticks": ""
            },
            "type": "choropleth"
           }
          ],
          "contour": [
           {
            "colorbar": {
             "outlinewidth": 0,
             "ticks": ""
            },
            "colorscale": [
             [
              0,
              "#0d0887"
             ],
             [
              0.1111111111111111,
              "#46039f"
             ],
             [
              0.2222222222222222,
              "#7201a8"
             ],
             [
              0.3333333333333333,
              "#9c179e"
             ],
             [
              0.4444444444444444,
              "#bd3786"
             ],
             [
              0.5555555555555556,
              "#d8576b"
             ],
             [
              0.6666666666666666,
              "#ed7953"
             ],
             [
              0.7777777777777778,
              "#fb9f3a"
             ],
             [
              0.8888888888888888,
              "#fdca26"
             ],
             [
              1,
              "#f0f921"
             ]
            ],
            "type": "contour"
           }
          ],
          "contourcarpet": [
           {
            "colorbar": {
             "outlinewidth": 0,
             "ticks": ""
            },
            "type": "contourcarpet"
           }
          ],
          "heatmap": [
           {
            "colorbar": {
             "outlinewidth": 0,
             "ticks": ""
            },
            "colorscale": [
             [
              0,
              "#0d0887"
             ],
             [
              0.1111111111111111,
              "#46039f"
             ],
             [
              0.2222222222222222,
              "#7201a8"
             ],
             [
              0.3333333333333333,
              "#9c179e"
             ],
             [
              0.4444444444444444,
              "#bd3786"
             ],
             [
              0.5555555555555556,
              "#d8576b"
             ],
             [
              0.6666666666666666,
              "#ed7953"
             ],
             [
              0.7777777777777778,
              "#fb9f3a"
             ],
             [
              0.8888888888888888,
              "#fdca26"
             ],
             [
              1,
              "#f0f921"
             ]
            ],
            "type": "heatmap"
           }
          ],
          "heatmapgl": [
           {
            "colorbar": {
             "outlinewidth": 0,
             "ticks": ""
            },
            "colorscale": [
             [
              0,
              "#0d0887"
             ],
             [
              0.1111111111111111,
              "#46039f"
             ],
             [
              0.2222222222222222,
              "#7201a8"
             ],
             [
              0.3333333333333333,
              "#9c179e"
             ],
             [
              0.4444444444444444,
              "#bd3786"
             ],
             [
              0.5555555555555556,
              "#d8576b"
             ],
             [
              0.6666666666666666,
              "#ed7953"
             ],
             [
              0.7777777777777778,
              "#fb9f3a"
             ],
             [
              0.8888888888888888,
              "#fdca26"
             ],
             [
              1,
              "#f0f921"
             ]
            ],
            "type": "heatmapgl"
           }
          ],
          "histogram": [
           {
            "marker": {
             "pattern": {
              "fillmode": "overlay",
              "size": 10,
              "solidity": 0.2
             }
            },
            "type": "histogram"
           }
          ],
          "histogram2d": [
           {
            "colorbar": {
             "outlinewidth": 0,
             "ticks": ""
            },
            "colorscale": [
             [
              0,
              "#0d0887"
             ],
             [
              0.1111111111111111,
              "#46039f"
             ],
             [
              0.2222222222222222,
              "#7201a8"
             ],
             [
              0.3333333333333333,
              "#9c179e"
             ],
             [
              0.4444444444444444,
              "#bd3786"
             ],
             [
              0.5555555555555556,
              "#d8576b"
             ],
             [
              0.6666666666666666,
              "#ed7953"
             ],
             [
              0.7777777777777778,
              "#fb9f3a"
             ],
             [
              0.8888888888888888,
              "#fdca26"
             ],
             [
              1,
              "#f0f921"
             ]
            ],
            "type": "histogram2d"
           }
          ],
          "histogram2dcontour": [
           {
            "colorbar": {
             "outlinewidth": 0,
             "ticks": ""
            },
            "colorscale": [
             [
              0,
              "#0d0887"
             ],
             [
              0.1111111111111111,
              "#46039f"
             ],
             [
              0.2222222222222222,
              "#7201a8"
             ],
             [
              0.3333333333333333,
              "#9c179e"
             ],
             [
              0.4444444444444444,
              "#bd3786"
             ],
             [
              0.5555555555555556,
              "#d8576b"
             ],
             [
              0.6666666666666666,
              "#ed7953"
             ],
             [
              0.7777777777777778,
              "#fb9f3a"
             ],
             [
              0.8888888888888888,
              "#fdca26"
             ],
             [
              1,
              "#f0f921"
             ]
            ],
            "type": "histogram2dcontour"
           }
          ],
          "mesh3d": [
           {
            "colorbar": {
             "outlinewidth": 0,
             "ticks": ""
            },
            "type": "mesh3d"
           }
          ],
          "parcoords": [
           {
            "line": {
             "colorbar": {
              "outlinewidth": 0,
              "ticks": ""
             }
            },
            "type": "parcoords"
           }
          ],
          "pie": [
           {
            "automargin": true,
            "type": "pie"
           }
          ],
          "scatter": [
           {
            "fillpattern": {
             "fillmode": "overlay",
             "size": 10,
             "solidity": 0.2
            },
            "type": "scatter"
           }
          ],
          "scatter3d": [
           {
            "line": {
             "colorbar": {
              "outlinewidth": 0,
              "ticks": ""
             }
            },
            "marker": {
             "colorbar": {
              "outlinewidth": 0,
              "ticks": ""
             }
            },
            "type": "scatter3d"
           }
          ],
          "scattercarpet": [
           {
            "marker": {
             "colorbar": {
              "outlinewidth": 0,
              "ticks": ""
             }
            },
            "type": "scattercarpet"
           }
          ],
          "scattergeo": [
           {
            "marker": {
             "colorbar": {
              "outlinewidth": 0,
              "ticks": ""
             }
            },
            "type": "scattergeo"
           }
          ],
          "scattergl": [
           {
            "marker": {
             "colorbar": {
              "outlinewidth": 0,
              "ticks": ""
             }
            },
            "type": "scattergl"
           }
          ],
          "scattermapbox": [
           {
            "marker": {
             "colorbar": {
              "outlinewidth": 0,
              "ticks": ""
             }
            },
            "type": "scattermapbox"
           }
          ],
          "scatterpolar": [
           {
            "marker": {
             "colorbar": {
              "outlinewidth": 0,
              "ticks": ""
             }
            },
            "type": "scatterpolar"
           }
          ],
          "scatterpolargl": [
           {
            "marker": {
             "colorbar": {
              "outlinewidth": 0,
              "ticks": ""
             }
            },
            "type": "scatterpolargl"
           }
          ],
          "scatterternary": [
           {
            "marker": {
             "colorbar": {
              "outlinewidth": 0,
              "ticks": ""
             }
            },
            "type": "scatterternary"
           }
          ],
          "surface": [
           {
            "colorbar": {
             "outlinewidth": 0,
             "ticks": ""
            },
            "colorscale": [
             [
              0,
              "#0d0887"
             ],
             [
              0.1111111111111111,
              "#46039f"
             ],
             [
              0.2222222222222222,
              "#7201a8"
             ],
             [
              0.3333333333333333,
              "#9c179e"
             ],
             [
              0.4444444444444444,
              "#bd3786"
             ],
             [
              0.5555555555555556,
              "#d8576b"
             ],
             [
              0.6666666666666666,
              "#ed7953"
             ],
             [
              0.7777777777777778,
              "#fb9f3a"
             ],
             [
              0.8888888888888888,
              "#fdca26"
             ],
             [
              1,
              "#f0f921"
             ]
            ],
            "type": "surface"
           }
          ],
          "table": [
           {
            "cells": {
             "fill": {
              "color": "#EBF0F8"
             },
             "line": {
              "color": "white"
             }
            },
            "header": {
             "fill": {
              "color": "#C8D4E3"
             },
             "line": {
              "color": "white"
             }
            },
            "type": "table"
           }
          ]
         },
         "layout": {
          "annotationdefaults": {
           "arrowcolor": "#2a3f5f",
           "arrowhead": 0,
           "arrowwidth": 1
          },
          "autotypenumbers": "strict",
          "coloraxis": {
           "colorbar": {
            "outlinewidth": 0,
            "ticks": ""
           }
          },
          "colorscale": {
           "diverging": [
            [
             0,
             "#8e0152"
            ],
            [
             0.1,
             "#c51b7d"
            ],
            [
             0.2,
             "#de77ae"
            ],
            [
             0.3,
             "#f1b6da"
            ],
            [
             0.4,
             "#fde0ef"
            ],
            [
             0.5,
             "#f7f7f7"
            ],
            [
             0.6,
             "#e6f5d0"
            ],
            [
             0.7,
             "#b8e186"
            ],
            [
             0.8,
             "#7fbc41"
            ],
            [
             0.9,
             "#4d9221"
            ],
            [
             1,
             "#276419"
            ]
           ],
           "sequential": [
            [
             0,
             "#0d0887"
            ],
            [
             0.1111111111111111,
             "#46039f"
            ],
            [
             0.2222222222222222,
             "#7201a8"
            ],
            [
             0.3333333333333333,
             "#9c179e"
            ],
            [
             0.4444444444444444,
             "#bd3786"
            ],
            [
             0.5555555555555556,
             "#d8576b"
            ],
            [
             0.6666666666666666,
             "#ed7953"
            ],
            [
             0.7777777777777778,
             "#fb9f3a"
            ],
            [
             0.8888888888888888,
             "#fdca26"
            ],
            [
             1,
             "#f0f921"
            ]
           ],
           "sequentialminus": [
            [
             0,
             "#0d0887"
            ],
            [
             0.1111111111111111,
             "#46039f"
            ],
            [
             0.2222222222222222,
             "#7201a8"
            ],
            [
             0.3333333333333333,
             "#9c179e"
            ],
            [
             0.4444444444444444,
             "#bd3786"
            ],
            [
             0.5555555555555556,
             "#d8576b"
            ],
            [
             0.6666666666666666,
             "#ed7953"
            ],
            [
             0.7777777777777778,
             "#fb9f3a"
            ],
            [
             0.8888888888888888,
             "#fdca26"
            ],
            [
             1,
             "#f0f921"
            ]
           ]
          },
          "colorway": [
           "#636efa",
           "#EF553B",
           "#00cc96",
           "#ab63fa",
           "#FFA15A",
           "#19d3f3",
           "#FF6692",
           "#B6E880",
           "#FF97FF",
           "#FECB52"
          ],
          "font": {
           "color": "#2a3f5f"
          },
          "geo": {
           "bgcolor": "white",
           "lakecolor": "white",
           "landcolor": "#E5ECF6",
           "showlakes": true,
           "showland": true,
           "subunitcolor": "white"
          },
          "hoverlabel": {
           "align": "left"
          },
          "hovermode": "closest",
          "mapbox": {
           "style": "light"
          },
          "paper_bgcolor": "white",
          "plot_bgcolor": "#E5ECF6",
          "polar": {
           "angularaxis": {
            "gridcolor": "white",
            "linecolor": "white",
            "ticks": ""
           },
           "bgcolor": "#E5ECF6",
           "radialaxis": {
            "gridcolor": "white",
            "linecolor": "white",
            "ticks": ""
           }
          },
          "scene": {
           "xaxis": {
            "backgroundcolor": "#E5ECF6",
            "gridcolor": "white",
            "gridwidth": 2,
            "linecolor": "white",
            "showbackground": true,
            "ticks": "",
            "zerolinecolor": "white"
           },
           "yaxis": {
            "backgroundcolor": "#E5ECF6",
            "gridcolor": "white",
            "gridwidth": 2,
            "linecolor": "white",
            "showbackground": true,
            "ticks": "",
            "zerolinecolor": "white"
           },
           "zaxis": {
            "backgroundcolor": "#E5ECF6",
            "gridcolor": "white",
            "gridwidth": 2,
            "linecolor": "white",
            "showbackground": true,
            "ticks": "",
            "zerolinecolor": "white"
           }
          },
          "shapedefaults": {
           "line": {
            "color": "#2a3f5f"
           }
          },
          "ternary": {
           "aaxis": {
            "gridcolor": "white",
            "linecolor": "white",
            "ticks": ""
           },
           "baxis": {
            "gridcolor": "white",
            "linecolor": "white",
            "ticks": ""
           },
           "bgcolor": "#E5ECF6",
           "caxis": {
            "gridcolor": "white",
            "linecolor": "white",
            "ticks": ""
           }
          },
          "title": {
           "x": 0.05
          },
          "xaxis": {
           "automargin": true,
           "gridcolor": "white",
           "linecolor": "white",
           "ticks": "",
           "title": {
            "standoff": 15
           },
           "zerolinecolor": "white",
           "zerolinewidth": 2
          },
          "yaxis": {
           "automargin": true,
           "gridcolor": "white",
           "linecolor": "white",
           "ticks": "",
           "title": {
            "standoff": 15
           },
           "zerolinecolor": "white",
           "zerolinewidth": 2
          }
         }
        },
        "title": {
         "text": "2020 US House Election Results"
        }
       }
      },
      "text/html": [
       "<div>                            <div id=\"980528ac-1292-4802-af4e-b7def782312d\" class=\"plotly-graph-div\" style=\"height:525px; width:100%;\"></div>            <script type=\"text/javascript\">                require([\"plotly\"], function(Plotly) {                    window.PLOTLYENV=window.PLOTLYENV || {};                                    if (document.getElementById(\"980528ac-1292-4802-af4e-b7def782312d\")) {                    Plotly.newPlot(                        \"980528ac-1292-4802-af4e-b7def782312d\",                        [{\"colorscale\":[[0.0,\"red\"],[1.0,\"red\"]],\"customdata\":[[\"AK\",\"House\",0.5440120057197061],[\"AK\",\"Pres\",0.5283314327038078],[\"AK\",\"Senate\",0.5389706898448053],[\"AL\",\"Pres\",0.620316431668648],[\"AL\",\"Senate\",0.6009536164251688],[\"AR\",\"House\",1.0],[\"AR\",\"Pres\",0.6239572985614432],[\"AR\",\"Senate\",0.6652953544949513],[\"AS\",\"House\",0.8332624053110903],[\"FL\",\"House\",0.9786473674595111],[\"FL\",\"Pres\",0.5121981962250404],[\"GA\",\"Senate\",0.49727988207201884],[\"IA\",\"House\",0.6197268042044582],[\"IA\",\"Pres\",0.5308932496920227],[\"IA\",\"Senate\",0.5173959282892738],[\"ID\",\"House\",0.6776106904853285],[\"ID\",\"Pres\",0.6384344892583999],[\"ID\",\"Senate\",0.6262259733644093],[\"IN\",\"House\",0.6865023627948923],[\"IN\",\"Pres\",0.5703057157269031],[\"KS\",\"House\",0.7115972141534129],[\"KS\",\"Pres\",0.5614365794120173],[\"KS\",\"Senate\",0.5322312841115551],[\"KY\",\"House\",0.8420780615498205],[\"KY\",\"Pres\",0.6208657186929044],[\"KY\",\"Senate\",0.5776496833573999],[\"LA\",\"House\",0.722095045262829],[\"LA\",\"Pres\",0.5846088241400853],[\"LA\",\"Senate\",0.5932331600164709],[\"ME\",\"Senate\",0.509831136632474],[\"MN\",\"House\",0.6570371106966411],[\"MN\",\"Pres\",0.4528494240916937],[\"MN\",\"Senate\",0.43498246561568216],[\"MO\",\"Pres\",0.5679965577888949],[\"MS\",\"House\",1.0],[\"MS\",\"Pres\",0.5760295457538255],[\"MS\",\"Senate\",0.5410522254097673],[\"MT\",\"House\",0.563863549838822],[\"MT\",\"Pres\",0.5691846924002028],[\"MT\",\"Senate\",0.5501216074975604],[\"NC\",\"Pres\",0.4993435061225701],[\"NC\",\"Senate\",0.4868714830741895],[\"ND\",\"House\",0.689698397128716],[\"ND\",\"Pres\",0.65120268269507],[\"NE\",\"House\",0.7851483767479165],[\"NE\",\"Pres\",0.5822416333205421],[\"NE\",\"Senate\",0.6274187859941592],[\"OH\",\"Pres\",0.5327130010087464],[\"OK\",\"House\",0.7849103105654348],[\"OK\",\"Pres\",0.6537327184806295],[\"OK\",\"Senate\",0.629121392787406],[\"OR\",\"House\",0.5986341169089243],[\"OR\",\"Senate\",0.3932426034432325],[\"SC\",\"House\",0.7121391996738257],[\"SC\",\"Pres\",0.5511029395674024],[\"SC\",\"Senate\",0.544365958624375],[\"SD\",\"House\",0.8095501493467964],[\"SD\",\"Pres\",0.6176938967225024],[\"SD\",\"Senate\",0.6573524757328917],[\"TN\",\"Pres\",0.6066029416628381],[\"TN\",\"Senate\",0.6219846805198123],[\"TX\",\"House\",0.7970854054350471],[\"TX\",\"Pres\",0.5205760360355265],[\"TX\",\"Senate\",0.5350826989134999],[\"UT\",\"House\",0.6951578935069563],[\"UT\",\"Pres\",0.5812983902991959],[\"VA\",\"House\",0.9397699067320257],[\"WV\",\"House\",0.7133617644981282],[\"WV\",\"Pres\",0.6862472962549592],[\"WV\",\"Senate\",0.7028390664999397],[\"WY\",\"House\",0.6856311740472217],[\"WY\",\"Pres\",0.6993622748541181],[\"WY\",\"Senate\",0.7258085199148522]],\"geo\":\"geo\",\"hovertemplate\":\"Party=R<br>State=%{customdata[0]}<br>Office=%{customdata[1]}<br>Vote %=%{customdata[2]}<extra></extra>\",\"locationmode\":\"USA-states\",\"locations\":[\"AK\",\"AK\",\"AK\",\"AL\",\"AL\",\"AR\",\"AR\",\"AR\",\"AS\",\"FL\",\"FL\",\"GA\",\"IA\",\"IA\",\"IA\",\"ID\",\"ID\",\"ID\",\"IN\",\"IN\",\"KS\",\"KS\",\"KS\",\"KY\",\"KY\",\"KY\",\"LA\",\"LA\",\"LA\",\"ME\",\"MN\",\"MN\",\"MN\",\"MO\",\"MS\",\"MS\",\"MS\",\"MT\",\"MT\",\"MT\",\"NC\",\"NC\",\"ND\",\"ND\",\"NE\",\"NE\",\"NE\",\"OH\",\"OK\",\"OK\",\"OK\",\"OR\",\"OR\",\"SC\",\"SC\",\"SC\",\"SD\",\"SD\",\"SD\",\"TN\",\"TN\",\"TX\",\"TX\",\"TX\",\"UT\",\"UT\",\"VA\",\"WV\",\"WV\",\"WV\",\"WY\",\"WY\",\"WY\"],\"name\":\"R\",\"showlegend\":true,\"showscale\":false,\"z\":[1,1,1,1,1,1,1,1,1,1,1,1,1,1,1,1,1,1,1,1,1,1,1,1,1,1,1,1,1,1,1,1,1,1,1,1,1,1,1,1,1,1,1,1,1,1,1,1,1,1,1,1,1,1,1,1,1,1,1,1,1,1,1,1,1,1,1,1,1,1,1,1,1],\"type\":\"choropleth\"},{\"colorscale\":[[0.0,\"dodgerblue\"],[1.0,\"dodgerblue\"]],\"customdata\":[[\"AL\",\"House\",0.9716396003977085],[\"AZ\",\"House\",0.7669330465577661],[\"AZ\",\"Pres\",0.49364690614366613],[\"AZ\",\"Senate\",0.511566269297357],[\"CA\",\"House\",0.9036569299207867],[\"CA\",\"Pres\",0.6348435951907793],[\"CO\",\"House\",0.7364609473894601],[\"CO\",\"Pres\",0.553995419069199],[\"CO\",\"Senate\",0.5349896006848405],[\"CT\",\"House\",0.6221847658545782],[\"CT\",\"Pres\",0.5926073151568352],[\"DC\",\"House\",0.862958415368646],[\"DC\",\"Pres\",0.9214969392140692],[\"DE\",\"House\",0.5762836135744568],[\"DE\",\"Pres\",0.5874300579364167],[\"DE\",\"Senate\",0.5943841852791103],[\"GA\",\"House\",0.8514934993497939],[\"GA\",\"Pres\",0.49473055784446274],[\"GU\",\"House\",0.4655859129341066],[\"HI\",\"House\",0.7202092495863351],[\"HI\",\"Pres\",0.6373363923901899],[\"IL\",\"House\",0.8405383928130485],[\"IL\",\"Pres\",0.5754163584003564],[\"IL\",\"Senate\",0.5493356314671662],[\"MA\",\"House\",0.9773692763142205],[\"MA\",\"Pres\",0.6560006300596849],[\"MA\",\"Senate\",0.661537326297313],[\"MD\",\"House\",0.7957571877053781],[\"MD\",\"Pres\",0.6536066486007711],[\"ME\",\"House\",0.6215303180766328],[\"ME\",\"Pres\",0.5309245955573236],[\"MI\",\"House\",0.7927771594172415],[\"MI\",\"Pres\",0.5062081829082437],[\"MI\",\"Senate\",0.4990342572248217],[\"MO\",\"House\",0.7878236776934001],[\"NC\",\"House\",1.0],[\"NH\",\"House\",0.5389930157514342],[\"NH\",\"Pres\",0.5270830620003597],[\"NH\",\"Senate\",0.5663652103116669],[\"NJ\",\"House\",0.8328086369733353],[\"NJ\",\"Pres\",0.5733431484240866],[\"NJ\",\"Senate\",0.5722815243191144],[\"NM\",\"House\",0.5868110682694488],[\"NM\",\"Pres\",0.5428928584957222],[\"NM\",\"Senate\",0.5172959660371311],[\"NV\",\"House\",0.6176521976766586],[\"NV\",\"Pres\",0.5005678195728402],[\"NY\",\"House\",0.9932633659760967],[\"NY\",\"Pres\",0.5638100695833437],[\"OH\",\"House\",0.8005330317669739],[\"OR\",\"Pres\",0.5645331865404888],[\"PA\",\"House\",0.9090444748309382],[\"PA\",\"Pres\",0.49852111352266465],[\"RI\",\"House\",0.7082551594746717],[\"RI\",\"Pres\",0.5938809132469479],[\"RI\",\"Senate\",0.6647769806297065],[\"TN\",\"House\",0.9999444816769706],[\"VA\",\"Pres\",0.5410951717780242],[\"VA\",\"Senate\",0.559920836977794],[\"VI\",\"House\",0.8794472783624976],[\"VT\",\"House\",0.673072370645925],[\"VT\",\"Pres\",0.6608641693066397],[\"WA\",\"House\",0.8298832487962577],[\"WA\",\"Pres\",0.5797030113530306],[\"WI\",\"House\",0.7464556925475703],[\"WI\",\"Pres\",0.4944953686142774]],\"geo\":\"geo\",\"hovertemplate\":\"Party=D<br>State=%{customdata[0]}<br>Office=%{customdata[1]}<br>Vote %=%{customdata[2]}<extra></extra>\",\"locationmode\":\"USA-states\",\"locations\":[\"AL\",\"AZ\",\"AZ\",\"AZ\",\"CA\",\"CA\",\"CO\",\"CO\",\"CO\",\"CT\",\"CT\",\"DC\",\"DC\",\"DE\",\"DE\",\"DE\",\"GA\",\"GA\",\"GU\",\"HI\",\"HI\",\"IL\",\"IL\",\"IL\",\"MA\",\"MA\",\"MA\",\"MD\",\"MD\",\"ME\",\"ME\",\"MI\",\"MI\",\"MI\",\"MO\",\"NC\",\"NH\",\"NH\",\"NH\",\"NJ\",\"NJ\",\"NJ\",\"NM\",\"NM\",\"NM\",\"NV\",\"NV\",\"NY\",\"NY\",\"OH\",\"OR\",\"PA\",\"PA\",\"RI\",\"RI\",\"RI\",\"TN\",\"VA\",\"VA\",\"VI\",\"VT\",\"VT\",\"WA\",\"WA\",\"WI\",\"WI\"],\"name\":\"D\",\"showlegend\":true,\"showscale\":false,\"z\":[1,1,1,1,1,1,1,1,1,1,1,1,1,1,1,1,1,1,1,1,1,1,1,1,1,1,1,1,1,1,1,1,1,1,1,1,1,1,1,1,1,1,1,1,1,1,1,1,1,1,1,1,1,1,1,1,1,1,1,1,1,1,1,1,1,1],\"type\":\"choropleth\"},{\"colorscale\":[[0.0,\"grey\"],[1.0,\"grey\"]],\"customdata\":[[\"MP\",\"House\",1.0]],\"geo\":\"geo\",\"hovertemplate\":\"Party=IND<br>State=%{customdata[0]}<br>Office=%{customdata[1]}<br>Vote %=%{customdata[2]}<extra></extra>\",\"locationmode\":\"USA-states\",\"locations\":[\"MP\"],\"name\":\"IND\",\"showlegend\":true,\"showscale\":false,\"z\":[1],\"type\":\"choropleth\"}],                        {\"template\":{\"data\":{\"histogram2dcontour\":[{\"type\":\"histogram2dcontour\",\"colorbar\":{\"outlinewidth\":0,\"ticks\":\"\"},\"colorscale\":[[0.0,\"#0d0887\"],[0.1111111111111111,\"#46039f\"],[0.2222222222222222,\"#7201a8\"],[0.3333333333333333,\"#9c179e\"],[0.4444444444444444,\"#bd3786\"],[0.5555555555555556,\"#d8576b\"],[0.6666666666666666,\"#ed7953\"],[0.7777777777777778,\"#fb9f3a\"],[0.8888888888888888,\"#fdca26\"],[1.0,\"#f0f921\"]]}],\"choropleth\":[{\"type\":\"choropleth\",\"colorbar\":{\"outlinewidth\":0,\"ticks\":\"\"}}],\"histogram2d\":[{\"type\":\"histogram2d\",\"colorbar\":{\"outlinewidth\":0,\"ticks\":\"\"},\"colorscale\":[[0.0,\"#0d0887\"],[0.1111111111111111,\"#46039f\"],[0.2222222222222222,\"#7201a8\"],[0.3333333333333333,\"#9c179e\"],[0.4444444444444444,\"#bd3786\"],[0.5555555555555556,\"#d8576b\"],[0.6666666666666666,\"#ed7953\"],[0.7777777777777778,\"#fb9f3a\"],[0.8888888888888888,\"#fdca26\"],[1.0,\"#f0f921\"]]}],\"heatmap\":[{\"type\":\"heatmap\",\"colorbar\":{\"outlinewidth\":0,\"ticks\":\"\"},\"colorscale\":[[0.0,\"#0d0887\"],[0.1111111111111111,\"#46039f\"],[0.2222222222222222,\"#7201a8\"],[0.3333333333333333,\"#9c179e\"],[0.4444444444444444,\"#bd3786\"],[0.5555555555555556,\"#d8576b\"],[0.6666666666666666,\"#ed7953\"],[0.7777777777777778,\"#fb9f3a\"],[0.8888888888888888,\"#fdca26\"],[1.0,\"#f0f921\"]]}],\"heatmapgl\":[{\"type\":\"heatmapgl\",\"colorbar\":{\"outlinewidth\":0,\"ticks\":\"\"},\"colorscale\":[[0.0,\"#0d0887\"],[0.1111111111111111,\"#46039f\"],[0.2222222222222222,\"#7201a8\"],[0.3333333333333333,\"#9c179e\"],[0.4444444444444444,\"#bd3786\"],[0.5555555555555556,\"#d8576b\"],[0.6666666666666666,\"#ed7953\"],[0.7777777777777778,\"#fb9f3a\"],[0.8888888888888888,\"#fdca26\"],[1.0,\"#f0f921\"]]}],\"contourcarpet\":[{\"type\":\"contourcarpet\",\"colorbar\":{\"outlinewidth\":0,\"ticks\":\"\"}}],\"contour\":[{\"type\":\"contour\",\"colorbar\":{\"outlinewidth\":0,\"ticks\":\"\"},\"colorscale\":[[0.0,\"#0d0887\"],[0.1111111111111111,\"#46039f\"],[0.2222222222222222,\"#7201a8\"],[0.3333333333333333,\"#9c179e\"],[0.4444444444444444,\"#bd3786\"],[0.5555555555555556,\"#d8576b\"],[0.6666666666666666,\"#ed7953\"],[0.7777777777777778,\"#fb9f3a\"],[0.8888888888888888,\"#fdca26\"],[1.0,\"#f0f921\"]]}],\"surface\":[{\"type\":\"surface\",\"colorbar\":{\"outlinewidth\":0,\"ticks\":\"\"},\"colorscale\":[[0.0,\"#0d0887\"],[0.1111111111111111,\"#46039f\"],[0.2222222222222222,\"#7201a8\"],[0.3333333333333333,\"#9c179e\"],[0.4444444444444444,\"#bd3786\"],[0.5555555555555556,\"#d8576b\"],[0.6666666666666666,\"#ed7953\"],[0.7777777777777778,\"#fb9f3a\"],[0.8888888888888888,\"#fdca26\"],[1.0,\"#f0f921\"]]}],\"mesh3d\":[{\"type\":\"mesh3d\",\"colorbar\":{\"outlinewidth\":0,\"ticks\":\"\"}}],\"scatter\":[{\"fillpattern\":{\"fillmode\":\"overlay\",\"size\":10,\"solidity\":0.2},\"type\":\"scatter\"}],\"parcoords\":[{\"type\":\"parcoords\",\"line\":{\"colorbar\":{\"outlinewidth\":0,\"ticks\":\"\"}}}],\"scatterpolargl\":[{\"type\":\"scatterpolargl\",\"marker\":{\"colorbar\":{\"outlinewidth\":0,\"ticks\":\"\"}}}],\"bar\":[{\"error_x\":{\"color\":\"#2a3f5f\"},\"error_y\":{\"color\":\"#2a3f5f\"},\"marker\":{\"line\":{\"color\":\"#E5ECF6\",\"width\":0.5},\"pattern\":{\"fillmode\":\"overlay\",\"size\":10,\"solidity\":0.2}},\"type\":\"bar\"}],\"scattergeo\":[{\"type\":\"scattergeo\",\"marker\":{\"colorbar\":{\"outlinewidth\":0,\"ticks\":\"\"}}}],\"scatterpolar\":[{\"type\":\"scatterpolar\",\"marker\":{\"colorbar\":{\"outlinewidth\":0,\"ticks\":\"\"}}}],\"histogram\":[{\"marker\":{\"pattern\":{\"fillmode\":\"overlay\",\"size\":10,\"solidity\":0.2}},\"type\":\"histogram\"}],\"scattergl\":[{\"type\":\"scattergl\",\"marker\":{\"colorbar\":{\"outlinewidth\":0,\"ticks\":\"\"}}}],\"scatter3d\":[{\"type\":\"scatter3d\",\"line\":{\"colorbar\":{\"outlinewidth\":0,\"ticks\":\"\"}},\"marker\":{\"colorbar\":{\"outlinewidth\":0,\"ticks\":\"\"}}}],\"scattermapbox\":[{\"type\":\"scattermapbox\",\"marker\":{\"colorbar\":{\"outlinewidth\":0,\"ticks\":\"\"}}}],\"scatterternary\":[{\"type\":\"scatterternary\",\"marker\":{\"colorbar\":{\"outlinewidth\":0,\"ticks\":\"\"}}}],\"scattercarpet\":[{\"type\":\"scattercarpet\",\"marker\":{\"colorbar\":{\"outlinewidth\":0,\"ticks\":\"\"}}}],\"carpet\":[{\"aaxis\":{\"endlinecolor\":\"#2a3f5f\",\"gridcolor\":\"white\",\"linecolor\":\"white\",\"minorgridcolor\":\"white\",\"startlinecolor\":\"#2a3f5f\"},\"baxis\":{\"endlinecolor\":\"#2a3f5f\",\"gridcolor\":\"white\",\"linecolor\":\"white\",\"minorgridcolor\":\"white\",\"startlinecolor\":\"#2a3f5f\"},\"type\":\"carpet\"}],\"table\":[{\"cells\":{\"fill\":{\"color\":\"#EBF0F8\"},\"line\":{\"color\":\"white\"}},\"header\":{\"fill\":{\"color\":\"#C8D4E3\"},\"line\":{\"color\":\"white\"}},\"type\":\"table\"}],\"barpolar\":[{\"marker\":{\"line\":{\"color\":\"#E5ECF6\",\"width\":0.5},\"pattern\":{\"fillmode\":\"overlay\",\"size\":10,\"solidity\":0.2}},\"type\":\"barpolar\"}],\"pie\":[{\"automargin\":true,\"type\":\"pie\"}]},\"layout\":{\"autotypenumbers\":\"strict\",\"colorway\":[\"#636efa\",\"#EF553B\",\"#00cc96\",\"#ab63fa\",\"#FFA15A\",\"#19d3f3\",\"#FF6692\",\"#B6E880\",\"#FF97FF\",\"#FECB52\"],\"font\":{\"color\":\"#2a3f5f\"},\"hovermode\":\"closest\",\"hoverlabel\":{\"align\":\"left\"},\"paper_bgcolor\":\"white\",\"plot_bgcolor\":\"#E5ECF6\",\"polar\":{\"bgcolor\":\"#E5ECF6\",\"angularaxis\":{\"gridcolor\":\"white\",\"linecolor\":\"white\",\"ticks\":\"\"},\"radialaxis\":{\"gridcolor\":\"white\",\"linecolor\":\"white\",\"ticks\":\"\"}},\"ternary\":{\"bgcolor\":\"#E5ECF6\",\"aaxis\":{\"gridcolor\":\"white\",\"linecolor\":\"white\",\"ticks\":\"\"},\"baxis\":{\"gridcolor\":\"white\",\"linecolor\":\"white\",\"ticks\":\"\"},\"caxis\":{\"gridcolor\":\"white\",\"linecolor\":\"white\",\"ticks\":\"\"}},\"coloraxis\":{\"colorbar\":{\"outlinewidth\":0,\"ticks\":\"\"}},\"colorscale\":{\"sequential\":[[0.0,\"#0d0887\"],[0.1111111111111111,\"#46039f\"],[0.2222222222222222,\"#7201a8\"],[0.3333333333333333,\"#9c179e\"],[0.4444444444444444,\"#bd3786\"],[0.5555555555555556,\"#d8576b\"],[0.6666666666666666,\"#ed7953\"],[0.7777777777777778,\"#fb9f3a\"],[0.8888888888888888,\"#fdca26\"],[1.0,\"#f0f921\"]],\"sequentialminus\":[[0.0,\"#0d0887\"],[0.1111111111111111,\"#46039f\"],[0.2222222222222222,\"#7201a8\"],[0.3333333333333333,\"#9c179e\"],[0.4444444444444444,\"#bd3786\"],[0.5555555555555556,\"#d8576b\"],[0.6666666666666666,\"#ed7953\"],[0.7777777777777778,\"#fb9f3a\"],[0.8888888888888888,\"#fdca26\"],[1.0,\"#f0f921\"]],\"diverging\":[[0,\"#8e0152\"],[0.1,\"#c51b7d\"],[0.2,\"#de77ae\"],[0.3,\"#f1b6da\"],[0.4,\"#fde0ef\"],[0.5,\"#f7f7f7\"],[0.6,\"#e6f5d0\"],[0.7,\"#b8e186\"],[0.8,\"#7fbc41\"],[0.9,\"#4d9221\"],[1,\"#276419\"]]},\"xaxis\":{\"gridcolor\":\"white\",\"linecolor\":\"white\",\"ticks\":\"\",\"title\":{\"standoff\":15},\"zerolinecolor\":\"white\",\"automargin\":true,\"zerolinewidth\":2},\"yaxis\":{\"gridcolor\":\"white\",\"linecolor\":\"white\",\"ticks\":\"\",\"title\":{\"standoff\":15},\"zerolinecolor\":\"white\",\"automargin\":true,\"zerolinewidth\":2},\"scene\":{\"xaxis\":{\"backgroundcolor\":\"#E5ECF6\",\"gridcolor\":\"white\",\"linecolor\":\"white\",\"showbackground\":true,\"ticks\":\"\",\"zerolinecolor\":\"white\",\"gridwidth\":2},\"yaxis\":{\"backgroundcolor\":\"#E5ECF6\",\"gridcolor\":\"white\",\"linecolor\":\"white\",\"showbackground\":true,\"ticks\":\"\",\"zerolinecolor\":\"white\",\"gridwidth\":2},\"zaxis\":{\"backgroundcolor\":\"#E5ECF6\",\"gridcolor\":\"white\",\"linecolor\":\"white\",\"showbackground\":true,\"ticks\":\"\",\"zerolinecolor\":\"white\",\"gridwidth\":2}},\"shapedefaults\":{\"line\":{\"color\":\"#2a3f5f\"}},\"annotationdefaults\":{\"arrowcolor\":\"#2a3f5f\",\"arrowhead\":0,\"arrowwidth\":1},\"geo\":{\"bgcolor\":\"white\",\"landcolor\":\"#E5ECF6\",\"subunitcolor\":\"white\",\"showland\":true,\"showlakes\":true,\"lakecolor\":\"white\"},\"title\":{\"x\":0.05},\"mapbox\":{\"style\":\"light\"}}},\"geo\":{\"domain\":{\"x\":[0.0,1.0],\"y\":[0.0,1.0]},\"center\":{},\"scope\":\"usa\"},\"legend\":{\"title\":{\"text\":\"Party\"},\"tracegroupgap\":0},\"title\":{\"text\":\"2020 US House Election Results\"},\"coloraxis\":{\"colorbar\":{\"title\":{\"text\":\"Party\"},\"tickvals\":[\"R\",\"D\",\"IND\"],\"ticktext\":[\"Republican\",\"Democrat\",\"Independent\"]}}},                        {\"responsive\": true}                    ).then(function(){\n",
       "                            \n",
       "var gd = document.getElementById('980528ac-1292-4802-af4e-b7def782312d');\n",
       "var x = new MutationObserver(function (mutations, observer) {{\n",
       "        var display = window.getComputedStyle(gd).display;\n",
       "        if (!display || display === 'none') {{\n",
       "            console.log([gd, 'removed!']);\n",
       "            Plotly.purge(gd);\n",
       "            observer.disconnect();\n",
       "        }}\n",
       "}});\n",
       "\n",
       "// Listen for the removal of the full notebook cells\n",
       "var notebookContainer = gd.closest('#notebook-container');\n",
       "if (notebookContainer) {{\n",
       "    x.observe(notebookContainer, {childList: true});\n",
       "}}\n",
       "\n",
       "// Listen for the clearing of the current output cell\n",
       "var outputEl = gd.closest('.output');\n",
       "if (outputEl) {{\n",
       "    x.observe(outputEl, {childList: true});\n",
       "}}\n",
       "\n",
       "                        })                };                });            </script>        </div>"
      ]
     },
     "metadata": {},
     "output_type": "display_data"
    }
   ],
   "source": [
    "# map that defines the house party wins by state.\n",
    "# Define colors for each party\n",
    "colors = {'R': 'red', 'D': 'dodgerblue', 'IND': 'grey'}\n",
    "\n",
    "# Define color labels\n",
    "color_labels = {'R': 'Republican', 'D': 'Democrat', 'IND': 'Independent'}\n",
    "\n",
    "# Aggregate the data by year, state, and office, and calculate the party with the highest vote percentage\n",
    "df_state_2020_agg = df_combo_2020.groupby(['Year', 'State', 'Office']).apply(lambda x: x.loc[x['Vote %'].idxmax()])[['Vote %', 'Party']].reset_index()\n",
    "\n",
    "# Map the winner of each state to colors\n",
    "df_state_2020_agg['color'] = df_state_2020_agg['Party'].map(colors)\n",
    "\n",
    "# Map the winner of each state to colors\n",
    "df_state_2020_agg['color'] = df_state_2020_agg['Party'].apply(lambda x: colors[x])\n",
    "\n",
    "# Create choropleth map with custom color labels\n",
    "fig = px.choropleth(df_state_2020_agg, \n",
    "                    locations='State',\n",
    "                    locationmode='USA-states',\n",
    "                    color='Party',\n",
    "                    scope='usa',\n",
    "                    color_discrete_map=colors,\n",
    "                    hover_data={'State': True, 'Office': True, 'Vote %': True},\n",
    "                    title='2020 US House Election Results')\n",
    "\n",
    "# Update the color scale labels\n",
    "fig.update_layout(coloraxis_colorbar=dict(title='Party', tickvals=['R', 'D', 'IND'], \n",
    "                                          ticktext=[color_labels[x] for x in ['R', 'D', 'IND']]))\n",
    "\n",
    "# Show map\n",
    "fig.show()"
   ]
  },
  {
   "cell_type": "code",
   "execution_count": 29,
   "id": "07f3be91",
   "metadata": {},
   "outputs": [
    {
     "data": {
      "application/vnd.plotly.v1+json": {
       "config": {
        "plotlyServerURL": "https://plot.ly"
       },
       "data": [
        {
         "colorscale": [
          [
           0,
           "red"
          ],
          [
           1,
           "red"
          ]
         ],
         "geo": "geo",
         "hovertemplate": "Party=R<br>State=%{location}<extra></extra>",
         "locationmode": "USA-states",
         "locations": [
          "AK",
          "AL",
          "AR",
          "AS",
          "FL",
          "IA",
          "ID",
          "IN",
          "KS",
          "KY",
          "LA",
          "MN",
          "MO",
          "MS",
          "MT",
          "NC",
          "ND",
          "NE",
          "OH",
          "OK",
          "SC",
          "SD",
          "TN",
          "TX",
          "UT",
          "WV",
          "WY"
         ],
         "name": "R",
         "showlegend": true,
         "showscale": false,
         "type": "choropleth",
         "z": [
          1,
          1,
          1,
          1,
          1,
          1,
          1,
          1,
          1,
          1,
          1,
          1,
          1,
          1,
          1,
          1,
          1,
          1,
          1,
          1,
          1,
          1,
          1,
          1,
          1,
          1,
          1
         ]
        },
        {
         "colorscale": [
          [
           0,
           "dodgerblue"
          ],
          [
           1,
           "dodgerblue"
          ]
         ],
         "geo": "geo",
         "hovertemplate": "Party=D<br>State=%{location}<extra></extra>",
         "locationmode": "USA-states",
         "locations": [
          "AZ",
          "CA",
          "CO",
          "CT",
          "DC",
          "DE",
          "GA",
          "GU",
          "HI",
          "IL",
          "MA",
          "MD",
          "ME",
          "MI",
          "NH",
          "NJ",
          "NM",
          "NV",
          "NY",
          "OR",
          "PA",
          "RI",
          "VA",
          "VI",
          "VT",
          "WA",
          "WI"
         ],
         "name": "D",
         "showlegend": true,
         "showscale": false,
         "type": "choropleth",
         "z": [
          1,
          1,
          1,
          1,
          1,
          1,
          1,
          1,
          1,
          1,
          1,
          1,
          1,
          1,
          1,
          1,
          1,
          1,
          1,
          1,
          1,
          1,
          1,
          1,
          1,
          1,
          1
         ]
        },
        {
         "colorscale": [
          [
           0,
           "grey"
          ],
          [
           1,
           "grey"
          ]
         ],
         "geo": "geo",
         "hovertemplate": "Party=IND<br>State=%{location}<extra></extra>",
         "locationmode": "USA-states",
         "locations": [
          "MP"
         ],
         "name": "IND",
         "showlegend": true,
         "showscale": false,
         "type": "choropleth",
         "z": [
          1
         ]
        }
       ],
       "layout": {
        "coloraxis": {
         "colorbar": {
          "ticktext": [
           "Republican",
           "Democrat",
           "Independent"
          ],
          "tickvals": [
           "R",
           "D",
           "IND"
          ],
          "title": {
           "text": "Party"
          }
         }
        },
        "geo": {
         "center": {},
         "domain": {
          "x": [
           0,
           1
          ],
          "y": [
           0,
           1
          ]
         },
         "scope": "usa"
        },
        "legend": {
         "title": {
          "text": "Party"
         },
         "tracegroupgap": 0
        },
        "template": {
         "data": {
          "bar": [
           {
            "error_x": {
             "color": "#2a3f5f"
            },
            "error_y": {
             "color": "#2a3f5f"
            },
            "marker": {
             "line": {
              "color": "#E5ECF6",
              "width": 0.5
             },
             "pattern": {
              "fillmode": "overlay",
              "size": 10,
              "solidity": 0.2
             }
            },
            "type": "bar"
           }
          ],
          "barpolar": [
           {
            "marker": {
             "line": {
              "color": "#E5ECF6",
              "width": 0.5
             },
             "pattern": {
              "fillmode": "overlay",
              "size": 10,
              "solidity": 0.2
             }
            },
            "type": "barpolar"
           }
          ],
          "carpet": [
           {
            "aaxis": {
             "endlinecolor": "#2a3f5f",
             "gridcolor": "white",
             "linecolor": "white",
             "minorgridcolor": "white",
             "startlinecolor": "#2a3f5f"
            },
            "baxis": {
             "endlinecolor": "#2a3f5f",
             "gridcolor": "white",
             "linecolor": "white",
             "minorgridcolor": "white",
             "startlinecolor": "#2a3f5f"
            },
            "type": "carpet"
           }
          ],
          "choropleth": [
           {
            "colorbar": {
             "outlinewidth": 0,
             "ticks": ""
            },
            "type": "choropleth"
           }
          ],
          "contour": [
           {
            "colorbar": {
             "outlinewidth": 0,
             "ticks": ""
            },
            "colorscale": [
             [
              0,
              "#0d0887"
             ],
             [
              0.1111111111111111,
              "#46039f"
             ],
             [
              0.2222222222222222,
              "#7201a8"
             ],
             [
              0.3333333333333333,
              "#9c179e"
             ],
             [
              0.4444444444444444,
              "#bd3786"
             ],
             [
              0.5555555555555556,
              "#d8576b"
             ],
             [
              0.6666666666666666,
              "#ed7953"
             ],
             [
              0.7777777777777778,
              "#fb9f3a"
             ],
             [
              0.8888888888888888,
              "#fdca26"
             ],
             [
              1,
              "#f0f921"
             ]
            ],
            "type": "contour"
           }
          ],
          "contourcarpet": [
           {
            "colorbar": {
             "outlinewidth": 0,
             "ticks": ""
            },
            "type": "contourcarpet"
           }
          ],
          "heatmap": [
           {
            "colorbar": {
             "outlinewidth": 0,
             "ticks": ""
            },
            "colorscale": [
             [
              0,
              "#0d0887"
             ],
             [
              0.1111111111111111,
              "#46039f"
             ],
             [
              0.2222222222222222,
              "#7201a8"
             ],
             [
              0.3333333333333333,
              "#9c179e"
             ],
             [
              0.4444444444444444,
              "#bd3786"
             ],
             [
              0.5555555555555556,
              "#d8576b"
             ],
             [
              0.6666666666666666,
              "#ed7953"
             ],
             [
              0.7777777777777778,
              "#fb9f3a"
             ],
             [
              0.8888888888888888,
              "#fdca26"
             ],
             [
              1,
              "#f0f921"
             ]
            ],
            "type": "heatmap"
           }
          ],
          "heatmapgl": [
           {
            "colorbar": {
             "outlinewidth": 0,
             "ticks": ""
            },
            "colorscale": [
             [
              0,
              "#0d0887"
             ],
             [
              0.1111111111111111,
              "#46039f"
             ],
             [
              0.2222222222222222,
              "#7201a8"
             ],
             [
              0.3333333333333333,
              "#9c179e"
             ],
             [
              0.4444444444444444,
              "#bd3786"
             ],
             [
              0.5555555555555556,
              "#d8576b"
             ],
             [
              0.6666666666666666,
              "#ed7953"
             ],
             [
              0.7777777777777778,
              "#fb9f3a"
             ],
             [
              0.8888888888888888,
              "#fdca26"
             ],
             [
              1,
              "#f0f921"
             ]
            ],
            "type": "heatmapgl"
           }
          ],
          "histogram": [
           {
            "marker": {
             "pattern": {
              "fillmode": "overlay",
              "size": 10,
              "solidity": 0.2
             }
            },
            "type": "histogram"
           }
          ],
          "histogram2d": [
           {
            "colorbar": {
             "outlinewidth": 0,
             "ticks": ""
            },
            "colorscale": [
             [
              0,
              "#0d0887"
             ],
             [
              0.1111111111111111,
              "#46039f"
             ],
             [
              0.2222222222222222,
              "#7201a8"
             ],
             [
              0.3333333333333333,
              "#9c179e"
             ],
             [
              0.4444444444444444,
              "#bd3786"
             ],
             [
              0.5555555555555556,
              "#d8576b"
             ],
             [
              0.6666666666666666,
              "#ed7953"
             ],
             [
              0.7777777777777778,
              "#fb9f3a"
             ],
             [
              0.8888888888888888,
              "#fdca26"
             ],
             [
              1,
              "#f0f921"
             ]
            ],
            "type": "histogram2d"
           }
          ],
          "histogram2dcontour": [
           {
            "colorbar": {
             "outlinewidth": 0,
             "ticks": ""
            },
            "colorscale": [
             [
              0,
              "#0d0887"
             ],
             [
              0.1111111111111111,
              "#46039f"
             ],
             [
              0.2222222222222222,
              "#7201a8"
             ],
             [
              0.3333333333333333,
              "#9c179e"
             ],
             [
              0.4444444444444444,
              "#bd3786"
             ],
             [
              0.5555555555555556,
              "#d8576b"
             ],
             [
              0.6666666666666666,
              "#ed7953"
             ],
             [
              0.7777777777777778,
              "#fb9f3a"
             ],
             [
              0.8888888888888888,
              "#fdca26"
             ],
             [
              1,
              "#f0f921"
             ]
            ],
            "type": "histogram2dcontour"
           }
          ],
          "mesh3d": [
           {
            "colorbar": {
             "outlinewidth": 0,
             "ticks": ""
            },
            "type": "mesh3d"
           }
          ],
          "parcoords": [
           {
            "line": {
             "colorbar": {
              "outlinewidth": 0,
              "ticks": ""
             }
            },
            "type": "parcoords"
           }
          ],
          "pie": [
           {
            "automargin": true,
            "type": "pie"
           }
          ],
          "scatter": [
           {
            "fillpattern": {
             "fillmode": "overlay",
             "size": 10,
             "solidity": 0.2
            },
            "type": "scatter"
           }
          ],
          "scatter3d": [
           {
            "line": {
             "colorbar": {
              "outlinewidth": 0,
              "ticks": ""
             }
            },
            "marker": {
             "colorbar": {
              "outlinewidth": 0,
              "ticks": ""
             }
            },
            "type": "scatter3d"
           }
          ],
          "scattercarpet": [
           {
            "marker": {
             "colorbar": {
              "outlinewidth": 0,
              "ticks": ""
             }
            },
            "type": "scattercarpet"
           }
          ],
          "scattergeo": [
           {
            "marker": {
             "colorbar": {
              "outlinewidth": 0,
              "ticks": ""
             }
            },
            "type": "scattergeo"
           }
          ],
          "scattergl": [
           {
            "marker": {
             "colorbar": {
              "outlinewidth": 0,
              "ticks": ""
             }
            },
            "type": "scattergl"
           }
          ],
          "scattermapbox": [
           {
            "marker": {
             "colorbar": {
              "outlinewidth": 0,
              "ticks": ""
             }
            },
            "type": "scattermapbox"
           }
          ],
          "scatterpolar": [
           {
            "marker": {
             "colorbar": {
              "outlinewidth": 0,
              "ticks": ""
             }
            },
            "type": "scatterpolar"
           }
          ],
          "scatterpolargl": [
           {
            "marker": {
             "colorbar": {
              "outlinewidth": 0,
              "ticks": ""
             }
            },
            "type": "scatterpolargl"
           }
          ],
          "scatterternary": [
           {
            "marker": {
             "colorbar": {
              "outlinewidth": 0,
              "ticks": ""
             }
            },
            "type": "scatterternary"
           }
          ],
          "surface": [
           {
            "colorbar": {
             "outlinewidth": 0,
             "ticks": ""
            },
            "colorscale": [
             [
              0,
              "#0d0887"
             ],
             [
              0.1111111111111111,
              "#46039f"
             ],
             [
              0.2222222222222222,
              "#7201a8"
             ],
             [
              0.3333333333333333,
              "#9c179e"
             ],
             [
              0.4444444444444444,
              "#bd3786"
             ],
             [
              0.5555555555555556,
              "#d8576b"
             ],
             [
              0.6666666666666666,
              "#ed7953"
             ],
             [
              0.7777777777777778,
              "#fb9f3a"
             ],
             [
              0.8888888888888888,
              "#fdca26"
             ],
             [
              1,
              "#f0f921"
             ]
            ],
            "type": "surface"
           }
          ],
          "table": [
           {
            "cells": {
             "fill": {
              "color": "#EBF0F8"
             },
             "line": {
              "color": "white"
             }
            },
            "header": {
             "fill": {
              "color": "#C8D4E3"
             },
             "line": {
              "color": "white"
             }
            },
            "type": "table"
           }
          ]
         },
         "layout": {
          "annotationdefaults": {
           "arrowcolor": "#2a3f5f",
           "arrowhead": 0,
           "arrowwidth": 1
          },
          "autotypenumbers": "strict",
          "coloraxis": {
           "colorbar": {
            "outlinewidth": 0,
            "ticks": ""
           }
          },
          "colorscale": {
           "diverging": [
            [
             0,
             "#8e0152"
            ],
            [
             0.1,
             "#c51b7d"
            ],
            [
             0.2,
             "#de77ae"
            ],
            [
             0.3,
             "#f1b6da"
            ],
            [
             0.4,
             "#fde0ef"
            ],
            [
             0.5,
             "#f7f7f7"
            ],
            [
             0.6,
             "#e6f5d0"
            ],
            [
             0.7,
             "#b8e186"
            ],
            [
             0.8,
             "#7fbc41"
            ],
            [
             0.9,
             "#4d9221"
            ],
            [
             1,
             "#276419"
            ]
           ],
           "sequential": [
            [
             0,
             "#0d0887"
            ],
            [
             0.1111111111111111,
             "#46039f"
            ],
            [
             0.2222222222222222,
             "#7201a8"
            ],
            [
             0.3333333333333333,
             "#9c179e"
            ],
            [
             0.4444444444444444,
             "#bd3786"
            ],
            [
             0.5555555555555556,
             "#d8576b"
            ],
            [
             0.6666666666666666,
             "#ed7953"
            ],
            [
             0.7777777777777778,
             "#fb9f3a"
            ],
            [
             0.8888888888888888,
             "#fdca26"
            ],
            [
             1,
             "#f0f921"
            ]
           ],
           "sequentialminus": [
            [
             0,
             "#0d0887"
            ],
            [
             0.1111111111111111,
             "#46039f"
            ],
            [
             0.2222222222222222,
             "#7201a8"
            ],
            [
             0.3333333333333333,
             "#9c179e"
            ],
            [
             0.4444444444444444,
             "#bd3786"
            ],
            [
             0.5555555555555556,
             "#d8576b"
            ],
            [
             0.6666666666666666,
             "#ed7953"
            ],
            [
             0.7777777777777778,
             "#fb9f3a"
            ],
            [
             0.8888888888888888,
             "#fdca26"
            ],
            [
             1,
             "#f0f921"
            ]
           ]
          },
          "colorway": [
           "#636efa",
           "#EF553B",
           "#00cc96",
           "#ab63fa",
           "#FFA15A",
           "#19d3f3",
           "#FF6692",
           "#B6E880",
           "#FF97FF",
           "#FECB52"
          ],
          "font": {
           "color": "#2a3f5f"
          },
          "geo": {
           "bgcolor": "white",
           "lakecolor": "white",
           "landcolor": "#E5ECF6",
           "showlakes": true,
           "showland": true,
           "subunitcolor": "white"
          },
          "hoverlabel": {
           "align": "left"
          },
          "hovermode": "closest",
          "mapbox": {
           "style": "light"
          },
          "paper_bgcolor": "white",
          "plot_bgcolor": "#E5ECF6",
          "polar": {
           "angularaxis": {
            "gridcolor": "white",
            "linecolor": "white",
            "ticks": ""
           },
           "bgcolor": "#E5ECF6",
           "radialaxis": {
            "gridcolor": "white",
            "linecolor": "white",
            "ticks": ""
           }
          },
          "scene": {
           "xaxis": {
            "backgroundcolor": "#E5ECF6",
            "gridcolor": "white",
            "gridwidth": 2,
            "linecolor": "white",
            "showbackground": true,
            "ticks": "",
            "zerolinecolor": "white"
           },
           "yaxis": {
            "backgroundcolor": "#E5ECF6",
            "gridcolor": "white",
            "gridwidth": 2,
            "linecolor": "white",
            "showbackground": true,
            "ticks": "",
            "zerolinecolor": "white"
           },
           "zaxis": {
            "backgroundcolor": "#E5ECF6",
            "gridcolor": "white",
            "gridwidth": 2,
            "linecolor": "white",
            "showbackground": true,
            "ticks": "",
            "zerolinecolor": "white"
           }
          },
          "shapedefaults": {
           "line": {
            "color": "#2a3f5f"
           }
          },
          "ternary": {
           "aaxis": {
            "gridcolor": "white",
            "linecolor": "white",
            "ticks": ""
           },
           "baxis": {
            "gridcolor": "white",
            "linecolor": "white",
            "ticks": ""
           },
           "bgcolor": "#E5ECF6",
           "caxis": {
            "gridcolor": "white",
            "linecolor": "white",
            "ticks": ""
           }
          },
          "title": {
           "x": 0.05
          },
          "xaxis": {
           "automargin": true,
           "gridcolor": "white",
           "linecolor": "white",
           "ticks": "",
           "title": {
            "standoff": 15
           },
           "zerolinecolor": "white",
           "zerolinewidth": 2
          },
          "yaxis": {
           "automargin": true,
           "gridcolor": "white",
           "linecolor": "white",
           "ticks": "",
           "title": {
            "standoff": 15
           },
           "zerolinecolor": "white",
           "zerolinewidth": 2
          }
         }
        },
        "title": {
         "text": "2020 US Election Results"
        }
       }
      },
      "text/html": [
       "<div>                            <div id=\"3598ba19-1ec9-4c8e-94c3-0b8e9b0fd942\" class=\"plotly-graph-div\" style=\"height:525px; width:100%;\"></div>            <script type=\"text/javascript\">                require([\"plotly\"], function(Plotly) {                    window.PLOTLYENV=window.PLOTLYENV || {};                                    if (document.getElementById(\"3598ba19-1ec9-4c8e-94c3-0b8e9b0fd942\")) {                    Plotly.newPlot(                        \"3598ba19-1ec9-4c8e-94c3-0b8e9b0fd942\",                        [{\"colorscale\":[[0.0,\"red\"],[1.0,\"red\"]],\"geo\":\"geo\",\"hovertemplate\":\"Party=R<br>State=%{location}<extra></extra>\",\"locationmode\":\"USA-states\",\"locations\":[\"AK\",\"AL\",\"AR\",\"AS\",\"FL\",\"IA\",\"ID\",\"IN\",\"KS\",\"KY\",\"LA\",\"MN\",\"MO\",\"MS\",\"MT\",\"NC\",\"ND\",\"NE\",\"OH\",\"OK\",\"SC\",\"SD\",\"TN\",\"TX\",\"UT\",\"WV\",\"WY\"],\"name\":\"R\",\"showlegend\":true,\"showscale\":false,\"z\":[1,1,1,1,1,1,1,1,1,1,1,1,1,1,1,1,1,1,1,1,1,1,1,1,1,1,1],\"type\":\"choropleth\"},{\"colorscale\":[[0.0,\"dodgerblue\"],[1.0,\"dodgerblue\"]],\"geo\":\"geo\",\"hovertemplate\":\"Party=D<br>State=%{location}<extra></extra>\",\"locationmode\":\"USA-states\",\"locations\":[\"AZ\",\"CA\",\"CO\",\"CT\",\"DC\",\"DE\",\"GA\",\"GU\",\"HI\",\"IL\",\"MA\",\"MD\",\"ME\",\"MI\",\"NH\",\"NJ\",\"NM\",\"NV\",\"NY\",\"OR\",\"PA\",\"RI\",\"VA\",\"VI\",\"VT\",\"WA\",\"WI\"],\"name\":\"D\",\"showlegend\":true,\"showscale\":false,\"z\":[1,1,1,1,1,1,1,1,1,1,1,1,1,1,1,1,1,1,1,1,1,1,1,1,1,1,1],\"type\":\"choropleth\"},{\"colorscale\":[[0.0,\"grey\"],[1.0,\"grey\"]],\"geo\":\"geo\",\"hovertemplate\":\"Party=IND<br>State=%{location}<extra></extra>\",\"locationmode\":\"USA-states\",\"locations\":[\"MP\"],\"name\":\"IND\",\"showlegend\":true,\"showscale\":false,\"z\":[1],\"type\":\"choropleth\"}],                        {\"template\":{\"data\":{\"histogram2dcontour\":[{\"type\":\"histogram2dcontour\",\"colorbar\":{\"outlinewidth\":0,\"ticks\":\"\"},\"colorscale\":[[0.0,\"#0d0887\"],[0.1111111111111111,\"#46039f\"],[0.2222222222222222,\"#7201a8\"],[0.3333333333333333,\"#9c179e\"],[0.4444444444444444,\"#bd3786\"],[0.5555555555555556,\"#d8576b\"],[0.6666666666666666,\"#ed7953\"],[0.7777777777777778,\"#fb9f3a\"],[0.8888888888888888,\"#fdca26\"],[1.0,\"#f0f921\"]]}],\"choropleth\":[{\"type\":\"choropleth\",\"colorbar\":{\"outlinewidth\":0,\"ticks\":\"\"}}],\"histogram2d\":[{\"type\":\"histogram2d\",\"colorbar\":{\"outlinewidth\":0,\"ticks\":\"\"},\"colorscale\":[[0.0,\"#0d0887\"],[0.1111111111111111,\"#46039f\"],[0.2222222222222222,\"#7201a8\"],[0.3333333333333333,\"#9c179e\"],[0.4444444444444444,\"#bd3786\"],[0.5555555555555556,\"#d8576b\"],[0.6666666666666666,\"#ed7953\"],[0.7777777777777778,\"#fb9f3a\"],[0.8888888888888888,\"#fdca26\"],[1.0,\"#f0f921\"]]}],\"heatmap\":[{\"type\":\"heatmap\",\"colorbar\":{\"outlinewidth\":0,\"ticks\":\"\"},\"colorscale\":[[0.0,\"#0d0887\"],[0.1111111111111111,\"#46039f\"],[0.2222222222222222,\"#7201a8\"],[0.3333333333333333,\"#9c179e\"],[0.4444444444444444,\"#bd3786\"],[0.5555555555555556,\"#d8576b\"],[0.6666666666666666,\"#ed7953\"],[0.7777777777777778,\"#fb9f3a\"],[0.8888888888888888,\"#fdca26\"],[1.0,\"#f0f921\"]]}],\"heatmapgl\":[{\"type\":\"heatmapgl\",\"colorbar\":{\"outlinewidth\":0,\"ticks\":\"\"},\"colorscale\":[[0.0,\"#0d0887\"],[0.1111111111111111,\"#46039f\"],[0.2222222222222222,\"#7201a8\"],[0.3333333333333333,\"#9c179e\"],[0.4444444444444444,\"#bd3786\"],[0.5555555555555556,\"#d8576b\"],[0.6666666666666666,\"#ed7953\"],[0.7777777777777778,\"#fb9f3a\"],[0.8888888888888888,\"#fdca26\"],[1.0,\"#f0f921\"]]}],\"contourcarpet\":[{\"type\":\"contourcarpet\",\"colorbar\":{\"outlinewidth\":0,\"ticks\":\"\"}}],\"contour\":[{\"type\":\"contour\",\"colorbar\":{\"outlinewidth\":0,\"ticks\":\"\"},\"colorscale\":[[0.0,\"#0d0887\"],[0.1111111111111111,\"#46039f\"],[0.2222222222222222,\"#7201a8\"],[0.3333333333333333,\"#9c179e\"],[0.4444444444444444,\"#bd3786\"],[0.5555555555555556,\"#d8576b\"],[0.6666666666666666,\"#ed7953\"],[0.7777777777777778,\"#fb9f3a\"],[0.8888888888888888,\"#fdca26\"],[1.0,\"#f0f921\"]]}],\"surface\":[{\"type\":\"surface\",\"colorbar\":{\"outlinewidth\":0,\"ticks\":\"\"},\"colorscale\":[[0.0,\"#0d0887\"],[0.1111111111111111,\"#46039f\"],[0.2222222222222222,\"#7201a8\"],[0.3333333333333333,\"#9c179e\"],[0.4444444444444444,\"#bd3786\"],[0.5555555555555556,\"#d8576b\"],[0.6666666666666666,\"#ed7953\"],[0.7777777777777778,\"#fb9f3a\"],[0.8888888888888888,\"#fdca26\"],[1.0,\"#f0f921\"]]}],\"mesh3d\":[{\"type\":\"mesh3d\",\"colorbar\":{\"outlinewidth\":0,\"ticks\":\"\"}}],\"scatter\":[{\"fillpattern\":{\"fillmode\":\"overlay\",\"size\":10,\"solidity\":0.2},\"type\":\"scatter\"}],\"parcoords\":[{\"type\":\"parcoords\",\"line\":{\"colorbar\":{\"outlinewidth\":0,\"ticks\":\"\"}}}],\"scatterpolargl\":[{\"type\":\"scatterpolargl\",\"marker\":{\"colorbar\":{\"outlinewidth\":0,\"ticks\":\"\"}}}],\"bar\":[{\"error_x\":{\"color\":\"#2a3f5f\"},\"error_y\":{\"color\":\"#2a3f5f\"},\"marker\":{\"line\":{\"color\":\"#E5ECF6\",\"width\":0.5},\"pattern\":{\"fillmode\":\"overlay\",\"size\":10,\"solidity\":0.2}},\"type\":\"bar\"}],\"scattergeo\":[{\"type\":\"scattergeo\",\"marker\":{\"colorbar\":{\"outlinewidth\":0,\"ticks\":\"\"}}}],\"scatterpolar\":[{\"type\":\"scatterpolar\",\"marker\":{\"colorbar\":{\"outlinewidth\":0,\"ticks\":\"\"}}}],\"histogram\":[{\"marker\":{\"pattern\":{\"fillmode\":\"overlay\",\"size\":10,\"solidity\":0.2}},\"type\":\"histogram\"}],\"scattergl\":[{\"type\":\"scattergl\",\"marker\":{\"colorbar\":{\"outlinewidth\":0,\"ticks\":\"\"}}}],\"scatter3d\":[{\"type\":\"scatter3d\",\"line\":{\"colorbar\":{\"outlinewidth\":0,\"ticks\":\"\"}},\"marker\":{\"colorbar\":{\"outlinewidth\":0,\"ticks\":\"\"}}}],\"scattermapbox\":[{\"type\":\"scattermapbox\",\"marker\":{\"colorbar\":{\"outlinewidth\":0,\"ticks\":\"\"}}}],\"scatterternary\":[{\"type\":\"scatterternary\",\"marker\":{\"colorbar\":{\"outlinewidth\":0,\"ticks\":\"\"}}}],\"scattercarpet\":[{\"type\":\"scattercarpet\",\"marker\":{\"colorbar\":{\"outlinewidth\":0,\"ticks\":\"\"}}}],\"carpet\":[{\"aaxis\":{\"endlinecolor\":\"#2a3f5f\",\"gridcolor\":\"white\",\"linecolor\":\"white\",\"minorgridcolor\":\"white\",\"startlinecolor\":\"#2a3f5f\"},\"baxis\":{\"endlinecolor\":\"#2a3f5f\",\"gridcolor\":\"white\",\"linecolor\":\"white\",\"minorgridcolor\":\"white\",\"startlinecolor\":\"#2a3f5f\"},\"type\":\"carpet\"}],\"table\":[{\"cells\":{\"fill\":{\"color\":\"#EBF0F8\"},\"line\":{\"color\":\"white\"}},\"header\":{\"fill\":{\"color\":\"#C8D4E3\"},\"line\":{\"color\":\"white\"}},\"type\":\"table\"}],\"barpolar\":[{\"marker\":{\"line\":{\"color\":\"#E5ECF6\",\"width\":0.5},\"pattern\":{\"fillmode\":\"overlay\",\"size\":10,\"solidity\":0.2}},\"type\":\"barpolar\"}],\"pie\":[{\"automargin\":true,\"type\":\"pie\"}]},\"layout\":{\"autotypenumbers\":\"strict\",\"colorway\":[\"#636efa\",\"#EF553B\",\"#00cc96\",\"#ab63fa\",\"#FFA15A\",\"#19d3f3\",\"#FF6692\",\"#B6E880\",\"#FF97FF\",\"#FECB52\"],\"font\":{\"color\":\"#2a3f5f\"},\"hovermode\":\"closest\",\"hoverlabel\":{\"align\":\"left\"},\"paper_bgcolor\":\"white\",\"plot_bgcolor\":\"#E5ECF6\",\"polar\":{\"bgcolor\":\"#E5ECF6\",\"angularaxis\":{\"gridcolor\":\"white\",\"linecolor\":\"white\",\"ticks\":\"\"},\"radialaxis\":{\"gridcolor\":\"white\",\"linecolor\":\"white\",\"ticks\":\"\"}},\"ternary\":{\"bgcolor\":\"#E5ECF6\",\"aaxis\":{\"gridcolor\":\"white\",\"linecolor\":\"white\",\"ticks\":\"\"},\"baxis\":{\"gridcolor\":\"white\",\"linecolor\":\"white\",\"ticks\":\"\"},\"caxis\":{\"gridcolor\":\"white\",\"linecolor\":\"white\",\"ticks\":\"\"}},\"coloraxis\":{\"colorbar\":{\"outlinewidth\":0,\"ticks\":\"\"}},\"colorscale\":{\"sequential\":[[0.0,\"#0d0887\"],[0.1111111111111111,\"#46039f\"],[0.2222222222222222,\"#7201a8\"],[0.3333333333333333,\"#9c179e\"],[0.4444444444444444,\"#bd3786\"],[0.5555555555555556,\"#d8576b\"],[0.6666666666666666,\"#ed7953\"],[0.7777777777777778,\"#fb9f3a\"],[0.8888888888888888,\"#fdca26\"],[1.0,\"#f0f921\"]],\"sequentialminus\":[[0.0,\"#0d0887\"],[0.1111111111111111,\"#46039f\"],[0.2222222222222222,\"#7201a8\"],[0.3333333333333333,\"#9c179e\"],[0.4444444444444444,\"#bd3786\"],[0.5555555555555556,\"#d8576b\"],[0.6666666666666666,\"#ed7953\"],[0.7777777777777778,\"#fb9f3a\"],[0.8888888888888888,\"#fdca26\"],[1.0,\"#f0f921\"]],\"diverging\":[[0,\"#8e0152\"],[0.1,\"#c51b7d\"],[0.2,\"#de77ae\"],[0.3,\"#f1b6da\"],[0.4,\"#fde0ef\"],[0.5,\"#f7f7f7\"],[0.6,\"#e6f5d0\"],[0.7,\"#b8e186\"],[0.8,\"#7fbc41\"],[0.9,\"#4d9221\"],[1,\"#276419\"]]},\"xaxis\":{\"gridcolor\":\"white\",\"linecolor\":\"white\",\"ticks\":\"\",\"title\":{\"standoff\":15},\"zerolinecolor\":\"white\",\"automargin\":true,\"zerolinewidth\":2},\"yaxis\":{\"gridcolor\":\"white\",\"linecolor\":\"white\",\"ticks\":\"\",\"title\":{\"standoff\":15},\"zerolinecolor\":\"white\",\"automargin\":true,\"zerolinewidth\":2},\"scene\":{\"xaxis\":{\"backgroundcolor\":\"#E5ECF6\",\"gridcolor\":\"white\",\"linecolor\":\"white\",\"showbackground\":true,\"ticks\":\"\",\"zerolinecolor\":\"white\",\"gridwidth\":2},\"yaxis\":{\"backgroundcolor\":\"#E5ECF6\",\"gridcolor\":\"white\",\"linecolor\":\"white\",\"showbackground\":true,\"ticks\":\"\",\"zerolinecolor\":\"white\",\"gridwidth\":2},\"zaxis\":{\"backgroundcolor\":\"#E5ECF6\",\"gridcolor\":\"white\",\"linecolor\":\"white\",\"showbackground\":true,\"ticks\":\"\",\"zerolinecolor\":\"white\",\"gridwidth\":2}},\"shapedefaults\":{\"line\":{\"color\":\"#2a3f5f\"}},\"annotationdefaults\":{\"arrowcolor\":\"#2a3f5f\",\"arrowhead\":0,\"arrowwidth\":1},\"geo\":{\"bgcolor\":\"white\",\"landcolor\":\"#E5ECF6\",\"subunitcolor\":\"white\",\"showland\":true,\"showlakes\":true,\"lakecolor\":\"white\"},\"title\":{\"x\":0.05},\"mapbox\":{\"style\":\"light\"}}},\"geo\":{\"domain\":{\"x\":[0.0,1.0],\"y\":[0.0,1.0]},\"center\":{},\"scope\":\"usa\"},\"legend\":{\"title\":{\"text\":\"Party\"},\"tracegroupgap\":0},\"title\":{\"text\":\"2020 US Election Results\"},\"coloraxis\":{\"colorbar\":{\"title\":{\"text\":\"Party\"},\"tickvals\":[\"R\",\"D\",\"IND\"],\"ticktext\":[\"Republican\",\"Democrat\",\"Independent\"]}}},                        {\"responsive\": true}                    ).then(function(){\n",
       "                            \n",
       "var gd = document.getElementById('3598ba19-1ec9-4c8e-94c3-0b8e9b0fd942');\n",
       "var x = new MutationObserver(function (mutations, observer) {{\n",
       "        var display = window.getComputedStyle(gd).display;\n",
       "        if (!display || display === 'none') {{\n",
       "            console.log([gd, 'removed!']);\n",
       "            Plotly.purge(gd);\n",
       "            observer.disconnect();\n",
       "        }}\n",
       "}});\n",
       "\n",
       "// Listen for the removal of the full notebook cells\n",
       "var notebookContainer = gd.closest('#notebook-container');\n",
       "if (notebookContainer) {{\n",
       "    x.observe(notebookContainer, {childList: true});\n",
       "}}\n",
       "\n",
       "// Listen for the clearing of the current output cell\n",
       "var outputEl = gd.closest('.output');\n",
       "if (outputEl) {{\n",
       "    x.observe(outputEl, {childList: true});\n",
       "}}\n",
       "\n",
       "                        })                };                });            </script>        </div>"
      ]
     },
     "metadata": {},
     "output_type": "display_data"
    }
   ],
   "source": [
    "# Group the data by state and find the winner\n",
    "df_state_2020 = df_combo_2020.groupby('State').agg({'Vote %': 'idxmax', 'Party': 'first'})\n",
    "\n",
    "# Define colors for each party\n",
    "colors = {'R': 'red', 'D': 'dodgerblue', 'IND': 'grey'}\n",
    "\n",
    "# Map the winner of each state to colors\n",
    "df_state_2020['color'] = df_state_2020['Party'].map(colors)\n",
    "\n",
    "# Add the state names to the DataFrame\n",
    "df_state_2020['State'] = df_state_2020.index\n",
    "\n",
    "# Define color labels\n",
    "color_labels = {'R': 'Republican', 'D': 'Democrat', 'IND': 'Independent'}\n",
    "\n",
    "# Create choropleth map with custom color labels\n",
    "fig = px.choropleth(df_state_2020, \n",
    "                    locations='State',\n",
    "                    locationmode='USA-states',\n",
    "                    color='Party',\n",
    "                    scope='usa',\n",
    "                    color_discrete_map=colors,\n",
    "                    title='2020 US Election Results')\n",
    "\n",
    "# Update the color scale labels\n",
    "fig.update_layout(coloraxis_colorbar=dict(title='Party', tickvals=['R', 'D', 'IND'], \n",
    "                                          ticktext=[color_labels[x] for x in ['R', 'D', 'IND']]))\n",
    "\n",
    "# Show map\n",
    "fig.show()\n"
   ]
  },
  {
   "cell_type": "markdown",
   "id": "448b289d",
   "metadata": {},
   "source": [
    "### Just trying something not a graph to use"
   ]
  },
  {
   "cell_type": "code",
   "execution_count": 30,
   "id": "44bcc2e7",
   "metadata": {},
   "outputs": [
    {
     "data": {
      "application/vnd.plotly.v1+json": {
       "config": {
        "plotlyServerURL": "https://plot.ly"
       },
       "data": [
        {
         "coloraxis": "coloraxis",
         "geo": "geo",
         "hovertemplate": "<b>%{hovertext}</b><br><br>State=%{location}<br>Vote %=%{z}<extra></extra>",
         "hovertext": [
          1441170,
          849624,
          25176,
          189951,
          153778,
          1672143,
          1661686,
          760647,
          423932,
          4099,
          2812,
          2141,
          1475,
          1321,
          11110639,
          6006518,
          1804352,
          1364607,
          1080831,
          714717,
          296268,
          200603,
          317323,
          18586,
          855,
          693,
          5668731,
          5297045,
          2473633,
          2461854,
          366130,
          196864,
          554119,
          287021,
          3632,
          2808,
          1491,
          3471915,
          2446891,
          1729857,
          1242498,
          897672,
          759061,
          771406,
          570323,
          1326646,
          772474,
          6483,
          3599,
          1255776,
          856034,
          435072,
          360737,
          1985023,
          976414,
          2382202,
          1167202,
          2804040,
          2649852,
          1484065,
          7940,
          5651,
          756764,
          539398,
          3657,
          1317,
          659,
          1718736,
          1253014,
          343602,
          244786,
          556846,
          374583,
          703486,
          669890,
          424937,
          365660,
          2608400,
          1883313,
          501614,
          401894,
          4858273,
          2955662,
          2758775,
          2684292,
          235751,
          3154834,
          2679165,
          18812,
          1020280,
          503890,
          5597,
          3654,
          2547,
          1340383,
          958448,
          3458229,
          3377674,
          307486,
          199922,
          1385103,
          1091541,
          261043,
          150471,
          1852475,
          1143711,
          29877,
          10279,
          5365,
          4545,
          2576,
          2301,
          1860,
          5890347,
          5259126,
          865140,
          560282,
          242820,
          112704,
          1269,
          856,
          213,
          53,
          29,
          2413568,
          1962430,
          2369612,
          1584651,
          545382,
          235984,
          1630866,
          1610184,
          193559,
          73491,
          2208,
          1392076,
          920478,
          191112,
          1716467,
          1637661,
          793871,
          1731114,
          1429492,
          291804,
          186054,
          2374519,
          2462617,
          1617035,
          1273214,
          980454,
          324118,
          136021,
          106767,
          94406,
          51592,
          44945,
          44335,
          40349,
          36176,
          28687,
          26333,
          17954,
          14640,
          13318,
          13293,
          538446,
          285864,
          25329,
          3278930,
          2319870,
          864997,
          754859,
          727962,
          571530,
          1233315,
          816257,
          1228908,
          394049,
          229814,
          55710,
          38383,
          36962,
          14454,
          7811,
          417645,
          347223,
          40579,
          13508,
          2357809,
          1177765,
          2734568,
          2642233,
          1398145,
          709511,
          578691,
          333174,
          272463,
          583507,
          227191,
          450778,
          326229,
          2541239,
          1817091,
          474483,
          418483,
          2665598,
          2569965,
          979140,
          509763,
          21652,
          11371,
          912814,
          328574,
          164855,
          1369137,
          1110828,
          276232,
          143987,
          1840926,
          1040691,
          16652,
          10727,
          9609,
          9598,
          8478,
          7203,
          6781,
          4872,
          4160,
          5962983,
          4888764,
          2466500,
          1934199,
          547454,
          210309,
          198100,
          73766,
          211825,
          116949,
          197996,
          105286,
          217384,
          104595,
          261553,
          56237,
          253094,
          274160,
          225742,
          192126,
          9790,
          1709,
          250,
          188469,
          176709,
          209945,
          170975,
          174243,
          95594,
          278002,
          120484,
          262414,
          183171,
          217783,
          199644,
          165452,
          50226,
          251633,
          170816,
          217094,
          135180,
          237596,
          184093,
          148410,
          214960,
          106325,
          191617,
          75750,
          204190,
          154073,
          294435,
          94320,
          176043,
          145945,
          247291,
          194731,
          271233,
          85227,
          229648,
          83466,
          217416,
          166549,
          158711,
          124400,
          174252,
          128358,
          166865,
          135629,
          271063,
          100293,
          281776,
          81174,
          327863,
          34955,
          278300,
          72705,
          242991,
          99710,
          128690,
          88039,
          212137,
          85199,
          217388,
          126751,
          224385,
          88642,
          236896,
          71658,
          85928,
          84406,
          170888,
          144251,
          190222,
          115896,
          212564,
          149781,
          169638,
          169305,
          208856,
          135877,
          221411,
          95907,
          244271,
          91928,
          119420,
          91524,
          240038,
          105426,
          175315,
          110735,
          172942,
          86818,
          257094,
          123334,
          108792,
          96554,
          169405,
          74941,
          185151,
          121698,
          254916,
          41705,
          190467,
          65739,
          173946,
          169837,
          135572,
          50809,
          168126,
          94447,
          210274,
          157773,
          199210,
          78688,
          139661,
          66375,
          221843,
          193096,
          157803,
          71716,
          197028,
          114371,
          201738,
          193362,
          205349,
          181157,
          195521,
          166869,
          165596,
          76841,
          244145,
          152350,
          199244,
          135614,
          331621,
          105955,
          316925,
          182547,
          220634,
          194122,
          285606,
          173945,
          249013,
          161600,
          250314,
          175192,
          250525,
          159301,
          213001,
          140356,
          194259,
          131568,
          224432,
          183797,
          151988,
          281382,
          196392,
          281831,
          7628,
          6702,
          5017,
          5001,
          2914,
          283352,
          149172,
          305337,
          223075,
          167326,
          308497,
          196423,
          219463,
          117510,
          265393,
          172305,
          224946,
          175750,
          282093,
          177695,
          240724,
          188889,
          239434,
          136889,
          316979,
          158094,
          284941,
          168194,
          215405,
          190713,
          224240,
          147896,
          216374,
          174297,
          269001,
          215683,
          266514,
          140487,
          253286,
          186674,
          272440,
          172146,
          253661,
          68748,
          237925,
          157612,
          235764,
          166553,
          221239,
          158874,
          218825,
          59084,
          177223,
          165407,
          176141,
          166758,
          189457,
          135238,
          161397,
          111620,
          241526,
          129792,
          278906,
          69393,
          301857,
          52646,
          216775,
          180329,
          190900,
          180564,
          198701,
          109264,
          292750,
          79797,
          235810,
          142636,
          245259,
          160623,
          181038,
          129061,
          279045,
          81476,
          229827,
          77798,
          13326,
          9309,
          5932,
          183245,
          71188,
          171517,
          84027,
          310736,
          131380,
          250669,
          124151,
          239943,
          85027,
          234896,
          63142,
          172997,
          133851,
          187219,
          35518,
          255661,
          96200,
          213777,
          183891,
          249383,
          41390,
          19355,
          186251,
          262045,
          107125,
          202402,
          114442,
          194557,
          112807,
          194839,
          127577,
          181373,
          151648,
          203209,
          197835,
          244947,
          88559,
          218839,
          119313,
          156011,
          143863,
          261840,
          110039,
          185180,
          132247,
          183601,
          114967,
          220989,
          104762,
          225531,
          112984,
          208212,
          191226,
          225319,
          91103,
          176422,
          106146,
          214643,
          95691,
          222057,
          122566,
          212088,
          201347,
          196964,
          196958,
          219205,
          212997,
          237369,
          144761,
          208229,
          84393,
          185464,
          136650,
          220049,
          178773,
          203432,
          116166,
          246329,
          82141,
          255735,
          94643,
          230672,
          137425,
          256613,
          125896,
          250914,
          47056,
          216948,
          155011,
          270330,
          94730,
          201636,
          47575,
          33684,
          15565,
          12268,
          6254,
          230480,
          60852,
          39423,
          185265,
          78157,
          23813,
          19343,
          102533,
          51240,
          50812,
          32186,
          23887,
          22496,
          9834,
          9432,
          7136,
          265706,
          95541,
          271004,
          165008,
          197974,
          250901,
          143877,
          224836,
          106355,
          260358,
          112117,
          282119,
          71671,
          274210,
          123525,
          215540,
          143599,
          237084,
          92825,
          274716,
          127157,
          275376,
          249854,
          132220,
          286896,
          251102,
          160474,
          294427,
          101351,
          286377,
          150695,
          267362,
          38675,
          310940,
          260262,
          154261,
          256581,
          153328,
          238711,
          154122,
          213649,
          189769,
          242621,
          120802,
          196599,
          150772,
          211496,
          152085,
          227524,
          159743,
          217922,
          202525,
          230318,
          153296,
          271607,
          138179,
          226128,
          215405,
          254957,
          117719,
          223205,
          53311,
          271370,
          62664,
          179234,
          194954,
          196625,
          112730,
          102878,
          270901,
          194066,
          223432,
          228787,
          104008,
          196224,
          101010,
          221064,
          120782,
          255971,
          249087,
          59940,
          233157,
          204540,
          282866,
          116095,
          245247,
          107635,
          207180,
          135934,
          258709,
          118926,
          254318,
          98111,
          253811,
          70561,
          339169,
          262340,
          189006,
          119622,
          171071,
          155706,
          225157,
          50690,
          137868,
          74490,
          216078,
          155780,
          203421,
          190975,
          168457,
          152284,
          205606,
          185159,
          208289,
          168886,
          240567,
          144463,
          195526,
          173849,
          229840,
          196327,
          254103,
          162420,
          225175,
          193333,
          199648,
          219688,
          214359,
          176758,
          58686,
          203674,
          98629,
          241522,
          40298,
          235163,
          206013,
          230883,
          114591,
          186953,
          134337,
          142283,
          122546,
          186282,
          131166,
          180855,
          160978,
          158151,
          144849,
          196056,
          147461,
          199762,
          139559,
          229125,
          144149,
          67735,
          156889,
          29404,
          207111,
          39124,
          195758,
          40110,
          181215,
          61045,
          143420,
          134625,
          265172,
          49157,
          202916,
          19829,
          152661,
          52447,
          169533,
          18984,
          218514,
          183976,
          117309,
          171161,
          128611,
          168281,
          151475,
          194071,
          120839,
          169684,
          122422,
          143291,
          138898,
          161800,
          116025,
          156236,
          147877,
          187503,
          115940,
          202400,
          91706,
          192619,
          136686,
          188870,
          159748,
          311887,
          172544,
          229800,
          132752,
          332421,
          161298,
          257843,
          119846,
          253531,
          153598,
          272443,
          179045,
          202774,
          177781,
          224661,
          179463,
          284095,
          128189,
          245351,
          190609,
          341457,
          267181,
          124684,
          245394,
          11449,
          199560,
          172022,
          230430,
          146781,
          227420,
          93569,
          235875,
          101897,
          257019,
          120962,
          249130,
          85661,
          236607,
          246277,
          110766,
          190328,
          111385,
          212972,
          151976,
          242098,
          60323,
          241790,
          182847,
          173631,
          148648,
          233864,
          158586,
          243103,
          140183,
          247335,
          144071,
          213700,
          109641,
          12130,
          216511,
          63472,
          242677,
          66501,
          213096,
          90459,
          158191,
          145658,
          161928,
          273835,
          168881,
          110570,
          216081,
          234863,
          204372,
          249804,
          191875,
          198140,
          75022,
          341708,
          33671,
          264637,
          179926,
          255743,
          139552,
          226440,
          177526,
          195475,
          181407,
          178004,
          165783,
          232988,
          118266,
          208896,
          182938,
          241915,
          141325,
          241035,
          99199,
          267789,
          96612,
          241688,
          131895,
          255058,
          92156,
          210088,
          143962,
          222253,
          212284,
          266084,
          118163,
          158550,
          35457,
          28300,
          154086,
          109894,
          216042,
          210627,
          202715,
          155118,
          237544,
          95712,
          222126,
          133023,
          220006,
          145979,
          197477,
          89258,
          224993,
          138863,
          321984,
          228181,
          68617,
          8621,
          238907,
          109684,
          4592,
          215571,
          97687,
          5043,
          1990,
          223802,
          111908,
          252155,
          257572,
          83852,
          8154,
          245188,
          95839,
          7603,
          2005,
          227216,
          97890,
          3763,
          2984,
          187905,
          48818,
          3962,
          2192,
          219726,
          83016,
          192828,
          148374,
          230512,
          179458,
          253837,
          76326,
          173836,
          100743,
          179507,
          149530,
          159529,
          149054,
          277327,
          97409,
          172938,
          49575,
          217216,
          187686,
          232568,
          53394,
          233853,
          121250,
          217124,
          50477,
          190541,
          118574,
          115605,
          109017,
          154108,
          84006,
          171390,
          125565,
          180952,
          58033,
          3396,
          198198,
          60583,
          175078,
          89628,
          235740,
          205780,
          210259,
          181998,
          149395,
          137693,
          167910,
          163326,
          4229,
          2909,
          220088,
          165697,
          261963,
          161009,
          172305,
          95466,
          137494,
          91925,
          111305,
          42840,
          204928,
          48685,
          10851,
          212695,
          176293,
          178542,
          157867,
          2332,
          105317,
          39638,
          8071,
          1994,
          111439,
          84119,
          2247,
          176373,
          80795,
          5236,
          222712,
          73418,
          237988,
          104194,
          208997,
          129762,
          246674,
          96067,
          179688,
          175923,
          238833,
          95830,
          8065,
          4334,
          1926,
          1881,
          260614,
          186923,
          185733,
          165031,
          9170,
          233326,
          107299,
          241142,
          149625,
          210988,
          190315,
          246606,
          134729,
          230893,
          222623,
          301454,
          95365,
          271851,
          268734,
          206253,
          280725,
          111380,
          13620,
          1782,
          249944,
          176407,
          255252,
          148384,
          235579,
          181347,
          202108,
          102667,
          247815,
          155737,
          247429,
          168783,
          387109,
          78240,
          213123,
          198423,
          258771,
          89697,
          167937,
          121040,
          180488,
          81177,
          172195,
          100799,
          161585,
          64927,
          238271,
          163170,
          318523,
          138306,
          199870,
          189524,
          232668,
          70769,
          7911,
          265434,
          175902,
          238874,
          164239,
          252048,
          162741,
          268173,
          149558,
          185732,
          66576
         ],
         "locationmode": "USA-states",
         "locations": [
          "AL",
          "AL",
          "AL",
          "AK",
          "AK",
          "AZ",
          "AZ",
          "AR",
          "AR",
          "AR",
          "AR",
          "AR",
          "AR",
          "AR",
          "CA",
          "CA",
          "CO",
          "CO",
          "CT",
          "CT",
          "DE",
          "DE",
          "DC",
          "DC",
          "DC",
          "DC",
          "FL",
          "FL",
          "GA",
          "GA",
          "HI",
          "HI",
          "ID",
          "ID",
          "ID",
          "ID",
          "ID",
          "IL",
          "IL",
          "IN",
          "IN",
          "IA",
          "IA",
          "KS",
          "KS",
          "KY",
          "KY",
          "KY",
          "KY",
          "LA",
          "LA",
          "ME",
          "ME",
          "MD",
          "MD",
          "MA",
          "MA",
          "MI",
          "MI",
          "MN",
          "MN",
          "MN",
          "MS",
          "MS",
          "MS",
          "MS",
          "MS",
          "MO",
          "MO",
          "MT",
          "MT",
          "NE",
          "NE",
          "NV",
          "NV",
          "NH",
          "NH",
          "NJ",
          "NJ",
          "NM",
          "NM",
          "NY",
          "NY",
          "NC",
          "NC",
          "ND",
          "OH",
          "OH",
          "OH",
          "OK",
          "OK",
          "OK",
          "OK",
          "OK",
          "OR",
          "OR",
          "PA",
          "PA",
          "RI",
          "RI",
          "SC",
          "SC",
          "SD",
          "SD",
          "TN",
          "TN",
          "TN",
          "TN",
          "TN",
          "TN",
          "TN",
          "TN",
          "TN",
          "TX",
          "TX",
          "UT",
          "UT",
          "VT",
          "VT",
          "VT",
          "VT",
          "VT",
          "VT",
          "VT",
          "VA",
          "VA",
          "WA",
          "WA",
          "WV",
          "WV",
          "WI",
          "WI",
          "WY",
          "WY",
          "WY",
          "AL",
          "AL",
          "AK",
          "AZ",
          "AZ",
          "AR",
          "CO",
          "CO",
          "DE",
          "DE",
          "GA",
          "GA",
          "GA",
          "GA",
          "GA",
          "GA",
          "GA",
          "GA",
          "GA",
          "GA",
          "GA",
          "GA",
          "GA",
          "GA",
          "GA",
          "GA",
          "GA",
          "GA",
          "GA",
          "GA",
          "ID",
          "ID",
          "ID",
          "IL",
          "IL",
          "IA",
          "IA",
          "KS",
          "KS",
          "KY",
          "KY",
          "LA",
          "LA",
          "LA",
          "LA",
          "LA",
          "LA",
          "LA",
          "LA",
          "ME",
          "ME",
          "ME",
          "ME",
          "MA",
          "MA",
          "MI",
          "MI",
          "MN",
          "MS",
          "MS",
          "MT",
          "MT",
          "NE",
          "NE",
          "NH",
          "NH",
          "NJ",
          "NJ",
          "NM",
          "NM",
          "NC",
          "NC",
          "OK",
          "OK",
          "OK",
          "OK",
          "OR",
          "RI",
          "RI",
          "SC",
          "SC",
          "SD",
          "SD",
          "TN",
          "TN",
          "TN",
          "TN",
          "TN",
          "TN",
          "TN",
          "TN",
          "TN",
          "TN",
          "TN",
          "TX",
          "TX",
          "VA",
          "VA",
          "WV",
          "WV",
          "WY",
          "WY",
          "AL",
          "AL",
          "AL",
          "AL",
          "AL",
          "AL",
          "AL",
          "AL",
          "AL",
          "AL",
          "AL",
          "AK",
          "AS",
          "AS",
          "AS",
          "AZ",
          "AZ",
          "AZ",
          "AZ",
          "AZ",
          "AZ",
          "AZ",
          "AZ",
          "AZ",
          "AZ",
          "AZ",
          "AZ",
          "AZ",
          "AZ",
          "AZ",
          "AZ",
          "AZ",
          "AZ",
          "AR",
          "AR",
          "AR",
          "AR",
          "AR",
          "AR",
          "AR",
          "CA",
          "CA",
          "CA",
          "CA",
          "CA",
          "CA",
          "CA",
          "CA",
          "CA",
          "CA",
          "CA",
          "CA",
          "CA",
          "CA",
          "CA",
          "CA",
          "CA",
          "CA",
          "CA",
          "CA",
          "CA",
          "CA",
          "CA",
          "CA",
          "CA",
          "CA",
          "CA",
          "CA",
          "CA",
          "CA",
          "CA",
          "CA",
          "CA",
          "CA",
          "CA",
          "CA",
          "CA",
          "CA",
          "CA",
          "CA",
          "CA",
          "CA",
          "CA",
          "CA",
          "CA",
          "CA",
          "CA",
          "CA",
          "CA",
          "CA",
          "CA",
          "CA",
          "CA",
          "CA",
          "CA",
          "CA",
          "CA",
          "CA",
          "CA",
          "CA",
          "CA",
          "CA",
          "CA",
          "CA",
          "CA",
          "CA",
          "CA",
          "CA",
          "CA",
          "CA",
          "CA",
          "CA",
          "CA",
          "CA",
          "CA",
          "CA",
          "CA",
          "CA",
          "CA",
          "CA",
          "CA",
          "CA",
          "CA",
          "CA",
          "CA",
          "CA",
          "CA",
          "CA",
          "CA",
          "CA",
          "CA",
          "CA",
          "CA",
          "CA",
          "CA",
          "CA",
          "CA",
          "CA",
          "CA",
          "CA",
          "CA",
          "CA",
          "CA",
          "CA",
          "CA",
          "CA",
          "CO",
          "CO",
          "CO",
          "CO",
          "CO",
          "CO",
          "CO",
          "CO",
          "CO",
          "CO",
          "CO",
          "CO",
          "CO",
          "CO",
          "CT",
          "CT",
          "CT",
          "CT",
          "CT",
          "CT",
          "CT",
          "DE",
          "DE",
          "DC",
          "DC",
          "DC",
          "DC",
          "DC",
          "DC",
          "FL",
          "FL",
          "FL",
          "FL",
          "FL",
          "FL",
          "FL",
          "FL",
          "FL",
          "FL",
          "FL",
          "FL",
          "FL",
          "FL",
          "FL",
          "FL",
          "FL",
          "FL",
          "FL",
          "FL",
          "FL",
          "FL",
          "FL",
          "FL",
          "FL",
          "FL",
          "FL",
          "FL",
          "FL",
          "FL",
          "FL",
          "FL",
          "FL",
          "FL",
          "FL",
          "FL",
          "FL",
          "FL",
          "FL",
          "FL",
          "FL",
          "FL",
          "FL",
          "FL",
          "FL",
          "FL",
          "FL",
          "FL",
          "FL",
          "FL",
          "FL",
          "GA",
          "GA",
          "GA",
          "GA",
          "GA",
          "GA",
          "GA",
          "GA",
          "GA",
          "GA",
          "GA",
          "GA",
          "GA",
          "GA",
          "GA",
          "GA",
          "GA",
          "GA",
          "GA",
          "GA",
          "GA",
          "GA",
          "GA",
          "GA",
          "GA",
          "GA",
          "GA",
          "GA",
          "GU",
          "GU",
          "GU",
          "HI",
          "HI",
          "HI",
          "HI",
          "ID",
          "ID",
          "ID",
          "ID",
          "IL",
          "IL",
          "IL",
          "IL",
          "IL",
          "IL",
          "IL",
          "IL",
          "IL",
          "IL",
          "IL",
          "IL",
          "IL",
          "IL",
          "IL",
          "IL",
          "IL",
          "IL",
          "IL",
          "IL",
          "IL",
          "IL",
          "IL",
          "IL",
          "IL",
          "IL",
          "IL",
          "IL",
          "IL",
          "IL",
          "IL",
          "IL",
          "IL",
          "IL",
          "IL",
          "IL",
          "IN",
          "IN",
          "IN",
          "IN",
          "IN",
          "IN",
          "IN",
          "IN",
          "IN",
          "IN",
          "IN",
          "IN",
          "IN",
          "IN",
          "IN",
          "IN",
          "IN",
          "IN",
          "IA",
          "IA",
          "IA",
          "IA",
          "IA",
          "IA",
          "IA",
          "IA",
          "KS",
          "KS",
          "KS",
          "KS",
          "KS",
          "KS",
          "KS",
          "KS",
          "KY",
          "KY",
          "KY",
          "KY",
          "KY",
          "KY",
          "KY",
          "KY",
          "KY",
          "KY",
          "KY",
          "KY",
          "LA",
          "LA",
          "LA",
          "LA",
          "LA",
          "LA",
          "LA",
          "LA",
          "LA",
          "LA",
          "LA",
          "LA",
          "LA",
          "LA",
          "LA",
          "LA",
          "LA",
          "LA",
          "LA",
          "LA",
          "LA",
          "LA",
          "LA",
          "LA",
          "LA",
          "LA",
          "ME",
          "ME",
          "ME",
          "MD",
          "MD",
          "MD",
          "MD",
          "MD",
          "MD",
          "MD",
          "MD",
          "MD",
          "MD",
          "MD",
          "MD",
          "MD",
          "MD",
          "MD",
          "MD",
          "MA",
          "MA",
          "MA",
          "MA",
          "MA",
          "MA",
          "MA",
          "MA",
          "MA",
          "MA",
          "MA",
          "MA",
          "MA",
          "MA",
          "MA",
          "MI",
          "MI",
          "MI",
          "MI",
          "MI",
          "MI",
          "MI",
          "MI",
          "MI",
          "MI",
          "MI",
          "MI",
          "MI",
          "MI",
          "MI",
          "MI",
          "MI",
          "MI",
          "MI",
          "MI",
          "MI",
          "MI",
          "MI",
          "MI",
          "MI",
          "MI",
          "MI",
          "MI",
          "MN",
          "MN",
          "MN",
          "MN",
          "MN",
          "MN",
          "MN",
          "MN",
          "MS",
          "MS",
          "MS",
          "MS",
          "MS",
          "MS",
          "MS",
          "MO",
          "MO",
          "MO",
          "MO",
          "MO",
          "MO",
          "MO",
          "MO",
          "MO",
          "MO",
          "MO",
          "MO",
          "MO",
          "MO",
          "MO",
          "MO",
          "MT",
          "MT",
          "NE",
          "NE",
          "NE",
          "NE",
          "NE",
          "NE",
          "NV",
          "NV",
          "NV",
          "NV",
          "NV",
          "NV",
          "NV",
          "NV",
          "NH",
          "NH",
          "NH",
          "NH",
          "NJ",
          "NJ",
          "NJ",
          "NJ",
          "NJ",
          "NJ",
          "NJ",
          "NJ",
          "NJ",
          "NJ",
          "NJ",
          "NJ",
          "NJ",
          "NJ",
          "NJ",
          "NJ",
          "NJ",
          "NJ",
          "NJ",
          "NJ",
          "NJ",
          "NJ",
          "NJ",
          "NM",
          "NM",
          "NM",
          "NM",
          "NM",
          "NM",
          "NY",
          "NY",
          "NY",
          "NY",
          "NY",
          "NY",
          "NY",
          "NY",
          "NY",
          "NY",
          "NY",
          "NY",
          "NY",
          "NY",
          "NY",
          "NY",
          "NY",
          "NY",
          "NY",
          "NY",
          "NY",
          "NY",
          "NY",
          "NY",
          "NY",
          "NY",
          "NY",
          "NY",
          "NY",
          "NY",
          "NY",
          "NY",
          "NY",
          "NY",
          "NY",
          "NY",
          "NY",
          "NY",
          "NY",
          "NY",
          "NY",
          "NY",
          "NY",
          "NY",
          "NY",
          "NY",
          "NY",
          "NY",
          "NY",
          "NY",
          "NY",
          "NY",
          "NC",
          "NC",
          "NC",
          "NC",
          "NC",
          "NC",
          "NC",
          "NC",
          "NC",
          "NC",
          "NC",
          "NC",
          "NC",
          "NC",
          "NC",
          "NC",
          "NC",
          "NC",
          "NC",
          "NC",
          "NC",
          "NC",
          "NC",
          "NC",
          "NC",
          "ND",
          "MP",
          "OH",
          "OH",
          "OH",
          "OH",
          "OH",
          "OH",
          "OH",
          "OH",
          "OH",
          "OH",
          "OH",
          "OH",
          "OH",
          "OH",
          "OH",
          "OH",
          "OH",
          "OH",
          "OH",
          "OH",
          "OH",
          "OH",
          "OH",
          "OH",
          "OH",
          "OH",
          "OH",
          "OH",
          "OH",
          "OH",
          "OH",
          "OK",
          "OK",
          "OK",
          "OK",
          "OK",
          "OK",
          "OK",
          "OK",
          "OK",
          "OK",
          "OK",
          "OR",
          "OR",
          "OR",
          "OR",
          "OR",
          "OR",
          "OR",
          "PA",
          "PA",
          "PA",
          "PA",
          "PA",
          "PA",
          "PA",
          "PA",
          "PA",
          "PA",
          "PA",
          "PA",
          "PA",
          "PA",
          "PA",
          "PA",
          "PA",
          "PA",
          "PA",
          "PA",
          "PA",
          "PA",
          "PA",
          "PA",
          "PA",
          "PA",
          "PA",
          "PA",
          "PA",
          "PA",
          "PA",
          "PA",
          "PA",
          "PA",
          "PA",
          "PA",
          "RI",
          "RI",
          "RI",
          "RI",
          "RI",
          "SC",
          "SC",
          "SC",
          "SC",
          "SC",
          "SC",
          "SC",
          "SC",
          "SC",
          "SC",
          "SC",
          "SC",
          "SC",
          "SC",
          "SD",
          "TN",
          "TN",
          "TN",
          "TN",
          "TN",
          "TN",
          "TN",
          "TN",
          "TN",
          "TN",
          "TN",
          "TN",
          "TN",
          "TN",
          "TN",
          "TN",
          "TN",
          "TN",
          "TN",
          "TN",
          "TN",
          "TN",
          "TN",
          "TN",
          "TN",
          "TN",
          "TN",
          "TN",
          "TX",
          "TX",
          "TX",
          "TX",
          "TX",
          "TX",
          "TX",
          "TX",
          "TX",
          "TX",
          "TX",
          "TX",
          "TX",
          "TX",
          "TX",
          "TX",
          "TX",
          "TX",
          "TX",
          "TX",
          "TX",
          "TX",
          "TX",
          "TX",
          "TX",
          "TX",
          "TX",
          "TX",
          "TX",
          "TX",
          "TX",
          "TX",
          "TX",
          "TX",
          "TX",
          "TX",
          "TX",
          "TX",
          "TX",
          "TX",
          "TX",
          "TX",
          "TX",
          "TX",
          "TX",
          "TX",
          "TX",
          "TX",
          "TX",
          "TX",
          "TX",
          "TX",
          "TX",
          "TX",
          "TX",
          "TX",
          "TX",
          "TX",
          "TX",
          "TX",
          "TX",
          "TX",
          "TX",
          "TX",
          "TX",
          "TX",
          "TX",
          "TX",
          "TX",
          "TX",
          "TX",
          "TX",
          "TX",
          "TX",
          "TX",
          "TX",
          "TX",
          "TX",
          "TX",
          "TX",
          "TX",
          "UT",
          "UT",
          "UT",
          "UT",
          "UT",
          "UT",
          "UT",
          "UT",
          "VT",
          "VT",
          "VT",
          "VT",
          "VT",
          "VT",
          "VA",
          "VA",
          "VA",
          "VA",
          "VA",
          "VA",
          "VA",
          "VA",
          "VA",
          "VA",
          "VA",
          "VA",
          "VA",
          "VA",
          "VA",
          "VA",
          "VA",
          "VA",
          "VA",
          "VA",
          "VA",
          "VA",
          "VI",
          "VI",
          "WA",
          "WA",
          "WA",
          "WA",
          "WA",
          "WA",
          "WA",
          "WA",
          "WA",
          "WA",
          "WA",
          "WA",
          "WA",
          "WA",
          "WA",
          "WA",
          "WA",
          "WA",
          "WA",
          "WA",
          "WV",
          "WV",
          "WV",
          "WV",
          "WV",
          "WV",
          "WI",
          "WI",
          "WI",
          "WI",
          "WI",
          "WI",
          "WI",
          "WI",
          "WI",
          "WI",
          "WI",
          "WI",
          "WI",
          "WI",
          "WI",
          "WI",
          "WI",
          "WY",
          "WY"
         ],
         "name": "",
         "type": "choropleth",
         "z": [
          0.620316431668648,
          0.36569990212122333,
          0.010836394376575896,
          0.5283314327038078,
          0.42771952271020497,
          0.49364690614366613,
          0.4905598103046474,
          0.6239572985614432,
          0.34775061953014963,
          0.003362401964121801,
          0.002306678293025251,
          0.0017562582593766227,
          0.0012099397162916947,
          0.0010836138069297144,
          0.6348435951907793,
          0.34320253602858747,
          0.553995419069199,
          0.41897923843560597,
          0.5926073151568352,
          0.3918711828833072,
          0.5874300579364167,
          0.3977487677110555,
          0.9214969392140692,
          0.05397321376714795,
          0.002482895608033547,
          0.002012452229669296,
          0.5121981962250404,
          0.47861450725442234,
          0.49473055784446274,
          0.492374738997912,
          0.6373363923901899,
          0.3426886394217965,
          0.6384344892583999,
          0.33069449981219773,
          0.004184649984906686,
          0.0032352690411943767,
          0.00171787255712992,
          0.5754163584003564,
          0.4055344409706477,
          0.5703057157269031,
          0.4096313806165745,
          0.5308932496920227,
          0.44891715571442176,
          0.5614365794120173,
          0.4150864710411897,
          0.6208657186929044,
          0.3615151481115404,
          0.0030340214754245665,
          0.0016843194956120645,
          0.5846088241400853,
          0.39851456801526214,
          0.5309245955573236,
          0.4402125299434628,
          0.6536066486007711,
          0.32150291567748757,
          0.6560006300596849,
          0.3214191103050557,
          0.5062081829082437,
          0.4783729069113762,
          0.4528494240916937,
          0.0024228213907666095,
          0.0017243531082143716,
          0.5760295457538255,
          0.41057606455978607,
          0.002783615564194042,
          0.0010024669669246795,
          0.0005016140707694486,
          0.5679965577888949,
          0.4140878173618836,
          0.5691846924002028,
          0.4054936936160908,
          0.5822416333205421,
          0.39166630941787967,
          0.5005678195728402,
          0.4766624732455941,
          0.5270830620003597,
          0.4535570977604952,
          0.5733431484240866,
          0.413964347833159,
          0.5428928584957222,
          0.43496669246129455,
          0.5638100695833437,
          0.34300913058711285,
          0.4993435061225701,
          0.4858619418897032,
          0.65120268269507,
          0.5327130010087464,
          0.45239338340705026,
          0.003176521165606982,
          0.6537327184806295,
          0.32286174335986634,
          0.003586213613259187,
          0.002341258628345376,
          0.0016319610636003482,
          0.5645331865404888,
          0.4036724604634335,
          0.49852111352266465,
          0.48690870488812416,
          0.5938809132469479,
          0.3861309455980315,
          0.5511029395674024,
          0.43430088142061785,
          0.6176938967225024,
          0.3560525213613529,
          0.6066029416628381,
          0.37451434271023704,
          0.009783384978507465,
          0.003365914054091048,
          0.0017567982196904826,
          0.0014882847918906326,
          0.0008435251097712364,
          0.0007534748748383598,
          0.0006090670435460015,
          0.5205760360355265,
          0.4647900991387051,
          0.5812983902991959,
          0.37646048583306063,
          0.6608641693066397,
          0.3067376465593259,
          0.0034537378751755446,
          0.002329708133294142,
          0.0005797054116724909,
          0.0001442459475053616,
          7.892702788029219e-05,
          0.5410951717780242,
          0.4399550366728214,
          0.5797030113530306,
          0.3876697774334327,
          0.6862472962549592,
          0.29693569270608544,
          0.4944953686142774,
          0.48822437319608825,
          0.6993622748541181,
          0.26553574332014523,
          0.00797788737737792,
          0.6009536164251688,
          0.39736665450722986,
          0.5389706898448053,
          0.511566269297357,
          0.488079367761675,
          0.6652953544949513,
          0.5349896006848405,
          0.44177526971775055,
          0.5943841852791103,
          0.3789788872253964,
          0.47949012302675087,
          0.49727988207201884,
          0.3290423102217823,
          0.2590799061038978,
          0.1995076477789209,
          0.06595313985440243,
          0.027678228411059165,
          0.02172547924778934,
          0.01921020159662443,
          0.010498196309271101,
          0.009145631747561436,
          0.009021505918970659,
          0.008210414848867647,
          0.00736127209032779,
          0.005837373188169873,
          0.005358369580788415,
          0.0036533690598669045,
          0.00297901988617865,
          0.002710012762576999,
          0.002704925638454426,
          0.6262259733644093,
          0.3324668799653884,
          0.02945825148547324,
          0.5493356314671662,
          0.38865948689716917,
          0.5173959282892738,
          0.4515171417155353,
          0.5322312841115551,
          0.41785992374365294,
          0.5776496833573999,
          0.38231157294629603,
          0.5932331600164709,
          0.1902200437065511,
          0.11093856125602992,
          0.026892997152364203,
          0.018528700586953783,
          0.0178427384804467,
          0.006977407661825026,
          0.0037706192919963527,
          0.509831136632474,
          0.4238649971984282,
          0.04953594007688148,
          0.01648960000390633,
          0.661537326297313,
          0.3304489503206387,
          0.4990342572248217,
          0.48218394370515283,
          0.43498246561568216,
          0.5410522254097673,
          0.44129274017542175,
          0.5501216074975604,
          0.4498783925024396,
          0.6274187859941592,
          0.24428824574306568,
          0.5663652103116669,
          0.40987971062200185,
          0.5722815243191144,
          0.4092049615587293,
          0.5172959660371311,
          0.45624304296490437,
          0.4868714830741895,
          0.46940411532375076,
          0.629121392787406,
          0.32753519267059505,
          0.013911939453635757,
          0.007306145553634407,
          0.3932426034432325,
          0.6647769806297065,
          0.33353767839728726,
          0.544365958624375,
          0.4416628497270888,
          0.6573524757328917,
          0.3426475242671083,
          0.6219846805198123,
          0.3516131876864382,
          0.005626129947654557,
          0.0036242791225372588,
          0.0032465459204307377,
          0.003242829404130942,
          0.0028644204717880937,
          0.002433642446129941,
          0.0022910633662650464,
          0.0016460788556913887,
          0.0014055188915591496,
          0.5350826989134999,
          0.4386886622804656,
          0.559920836977794,
          0.43908304194673115,
          0.7028390664999397,
          0.27000146356869403,
          0.7258085199148522,
          0.27026749762765767,
          0.6436982450809086,
          0.35538706981691104,
          0.6522273354657425,
          0.34682724520619695,
          0.6746153416461329,
          0.3245933079687432,
          0.8224187102434055,
          0.17682978596291532,
          0.9581087219866747,
          0.9712996127697415,
          0.9716396003977085,
          0.5440120057197061,
          0.8332624053110903,
          0.14545918801600136,
          0.021278406672908333,
          0.5161017366873142,
          0.4838982633126859,
          0.5509586567783044,
          0.44868968702598583,
          0.6457342766188476,
          0.3542657233811523,
          0.6974058195337449,
          0.3022504973370829,
          0.5888250380898314,
          0.411013402684127,
          0.5217271522924967,
          0.47827284770750333,
          0.7669330465577661,
          0.2328166428717112,
          0.5956275874802055,
          0.4043298056416241,
          0.6162646122052721,
          0.383735387794728,
          1,
          0.5536581624827445,
          0.4463418375172555,
          0.643088355840628,
          0.3180888045904111,
          0.6967004199465523,
          0.27541949206464633,
          0.5699444263013485,
          0.43005557369865155,
          0.7573793263109156,
          0.24262067368908438,
          0.5467377666248432,
          0.45326223337515686,
          0.559454054323088,
          0.440545945676912,
          0.7609072546709308,
          0.23909274532906918,
          0.7334325517223759,
          0.26656744827762413,
          0.5662391103355775,
          0.43376088966442256,
          0.5605963738604293,
          0.4394036261395707,
          0.5758302765936354,
          0.4241697234063646,
          0.5516307761476261,
          0.44836922385237393,
          0.7299276166266332,
          0.2700723833733668,
          0.7763493594158976,
          0.2236506405841025,
          0.9036569299207867,
          0.09634307007921326,
          0.7928661984872011,
          0.20713380151279898,
          0.7090466616671676,
          0.29095333833283243,
          0.5937830193467418,
          0.40621698065325823,
          0.7134588479027094,
          0.2865411520972906,
          0.6316866150014965,
          0.3683133849985035,
          0.7168231494407831,
          0.28317685055921693,
          0.7677618828470867,
          0.23223811715291326,
          0.5044676928857421,
          0.4955323071142579,
          0.542262303301083,
          0.457737696698917,
          0.6214008976930465,
          0.37859910230695354,
          0.5866342850046227,
          0.41336571499537733,
          0.5004912330391835,
          0.4995087669608164,
          0.6058485842666643,
          0.3941514157333357,
          0.6977574546669272,
          0.3022425453330728,
          0.7265667060282749,
          0.27343329397172506,
          0.5661218143203883,
          0.43387818567961167,
          0.6948278257647685,
          0.30517217423523146,
          0.6128823632232128,
          0.3871176367767873,
          0.6657761010163228,
          0.3342238989836772,
          0.6758019914412189,
          0.32419800855878117,
          0.5297984864570042,
          0.4702015135429957,
          0.6932996652288149,
          0.30670033477118513,
          0.6033945034854277,
          0.39660549651457233,
          0.8593997053479019,
          0.14060029465209814,
          0.7434135031966465,
          0.25658649680335355,
          0.5059761535619853,
          0.49402384643801467,
          0.7273917405744148,
          0.27260825942558525,
          0.6403019350809108,
          0.3596980649190892,
          0.5713237711487935,
          0.4286762288512065,
          0.7168457491597636,
          0.2831542508402363,
          0.6778475606204741,
          0.3221524393795259,
          0.534640031426306,
          0.46535996857369394,
          0.6875378508968757,
          0.31246214910312436,
          0.6327187948580438,
          0.3672812051419561,
          0.5105998481397115,
          0.4894001518602885,
          0.5312957625496111,
          0.46870423745038886,
          0.5395319959160021,
          0.4604680040839979,
          0.683047554622438,
          0.316952445377562,
          0.6157580801775558,
          0.38424191982244416,
          0.5950104223282705,
          0.4049895776717295,
          0.7364609473894601,
          0.2353039152546137,
          0.614597130296337,
          0.35400445639884964,
          0.5139162254640489,
          0.45216261101884614,
          0.6011403746945425,
          0.3661175272096601,
          0.5758764312326119,
          0.3737219795239208,
          0.5708766560312721,
          0.39955025737046523,
          0.5912457165513401,
          0.3759546308446064,
          0.609903876164324,
          0.3820801585421958,
          0.5612751117441918,
          0.380141171847687,
          0.6221847658545782,
          0.5258494409539831,
          0.43484281479955594,
          0.5762836135744568,
          0.4022200831507158,
          0.862958415368646,
          0.023356716587004382,
          0.020521331222614493,
          0.01536190969022037,
          0.015312918150446895,
          0.008922584181244201,
          0.6460933687825211,
          0.3401389085237663,
          0.9786473674595111,
          0.5713996634229933,
          0.42860033657700675,
          0.6109577375529766,
          0.3890026537806472,
          0.6512776988067294,
          0.3487223011932707,
          0.6061193634436892,
          0.3935197873273405,
          0.553442129270831,
          0.43240357338805113,
          0.6135284087448998,
          0.38647159125510017,
          0.5602949459777766,
          0.43964686550072385,
          0.6361209042580042,
          0.3636824948126579,
          0.6672216690908556,
          0.3327783309091445,
          0.6288214329063083,
          0.37117856709369174,
          0.5303908895044629,
          0.46959187442289935,
          0.6025754025410065,
          0.3974245974589935,
          0.5538522183627655,
          0.4461477816372344,
          0.555002847215918,
          0.444997152784082,
          0.6462559135978195,
          0.340659607126143,
          0.5632082184470337,
          0.4150893889531264,
          0.6127906898281335,
          0.3872025623665903,
          0.7867677391139826,
          0.21323226088601746,
          0.590248404214412,
          0.391006541914645,
          0.5860155051862089,
          0.4139844948137911,
          0.5819077528432703,
          0.4178739387052994,
          0.7555120529764741,
          0.20399257003569973,
          0.5172430902139334,
          0.4827569097860666,
          0.513568044318099,
          0.486210365186967,
          0.5834922003726574,
          0.4165077996273426,
          0.5911241823362658,
          0.40881355435586775,
          0.6504559434231575,
          0.3495440565768425,
          0.8007660085156719,
          0.19923399148432813,
          0.8514934993497939,
          0.14850650065020607,
          0.5458897417301262,
          0.4541102582698739,
          0.5139125191135615,
          0.48608748088643855,
          0.6451058883878278,
          0.3547382740338882,
          0.7858068914794644,
          0.21419310852053566,
          0.6231007858452725,
          0.3768992141547275,
          0.6042618297928954,
          0.3957381702071045,
          0.583807106762679,
          0.416192893237321,
          0.7738739038554338,
          0.22595692519315994,
          0.7471011783827712,
          0.25289882161722876,
          0.4655859129341066,
          0.32523932639228564,
          0.20725316190343093,
          0.7202092495863351,
          0.2797907504136649,
          0.630340828071826,
          0.3088069914958361,
          0.6776106904853285,
          0.28649558633683403,
          0.6405516529400792,
          0.31725154791443605,
          0.7380068466395795,
          0.2615225622302944,
          0.7881411095229467,
          0.21185889047705325,
          0.5637872823026384,
          0.4362127176973616,
          0.8405383928130485,
          0.15946160718695143,
          0.707670972760061,
          0.2662820984800884,
          0.5281743904216708,
          0.45433567141942993,
          0.8041292627560234,
          0.13346102254552958,
          0.06240971469844709,
          0.7316068159856705,
          0.7098220332096324,
          0.29017796679036756,
          0.6387459999873767,
          0.36115932515763366,
          0.6329588746067533,
          0.3669988320531465,
          0.6043093394868742,
          0.3956906605131259,
          0.5446293176706574,
          0.4553706823293426,
          0.5066899055484076,
          0.49329014691361717,
          0.7344605494353925,
          0.26553945056460754,
          0.6471482350018778,
          0.35283106467667574,
          0.5202187432267961,
          0.479711232264626,
          0.7040999895127178,
          0.29590001048728215,
          0.5663897622863575,
          0.4044893989258231,
          0.614938640443718,
          0.385061359556282,
          0.6783985313936105,
          0.32160146860638955,
          0.6662363558483376,
          0.33376364415166243,
          0.5002378515518012,
          0.4594282913609433,
          0.6865023627948923,
          0.2775727957149778,
          0.6243523682794938,
          0.3756476317205062,
          0.6694685559405771,
          0.2984589089162459,
          0.6184777098802913,
          0.3413733365270529,
          0.5124520077609098,
          0.4864993512439927,
          0.4991168831168831,
          0.49910167880899586,
          0.489354767416681,
          0.4754959850160845,
          0.6197268042044582,
          0.37794434784424913,
          0.7115972141534129,
          0.2884027858465871,
          0.5514591974785543,
          0.4063155077828821,
          0.5361582581660649,
          0.4355876204260047,
          0.6365246340715524,
          0.3634753659284476,
          0.749928456175602,
          0.25007154382439795,
          0.7095885393688661,
          0.2626061670537377,
          0.6266609073151914,
          0.37333909268480864,
          0.6708678750042483,
          0.32913212499575173,
          0.8420780615498205,
          0.15792193845017954,
          0.5732540626238605,
          0.40959439820319726,
          0.722095045262829,
          0.2530391138155136,
          0.6361118296937996,
          0.1500873866654889,
          0.1062647090371062,
          0.04910373459691718,
          0.03870251307645229,
          0.019729826930235787,
          0.6776431847583206,
          0.17891332470892626,
          0.1159090909090909,
          0.6042997214411993,
          0.25493349163997414,
          0.07767354474228418,
          0.06309324217654234,
          0.3312260140330021,
          0.16552740053495976,
          0.16414477509723605,
          0.10397472509012909,
          0.07716535941800515,
          0.0726718267454031,
          0.03176808073498818,
          0.03046944656217292,
          0.023052371784103683,
          0.7104514486785954,
          0.25545995144333095,
          0.6215303180766328,
          0.3784352803840129,
          0.5304272107385427,
          0.6343508864190289,
          0.36376300806019357,
          0.6771638365670158,
          0.3203213001391457,
          0.6976254401054646,
          0.300415856122356,
          0.7957571877053781,
          0.20215835658013873,
          0.687520528333488,
          0.3097114374471905,
          0.5882096093703095,
          0.3918823034980378,
          0.7162701889437398,
          0.280439760965323,
          0.6823309671298067,
          0.31582856035806006,
          0.9651073135855776,
          0.6532950540198509,
          0.3457165866566262,
          0.9773692763142205,
          0.608255838458613,
          0.3887234965106111,
          0.7431590956704351,
          0.2558186494624959,
          0.6543112843489606,
          0.3443064177464203,
          0.8662303580106917,
          0.12530374210270534,
          0.8067960384119398,
          0.6129566345816425,
          0.3633081410547785,
          0.6164567211011511,
          0.36838299068519215,
          0.591972165942958,
          0.3822024714381012,
          0.529595780069853,
          0.47040174111779565,
          0.6500314806628354,
          0.32365336441211534,
          0.5445472977464602,
          0.41761395111790645,
          0.5580663887276374,
          0.4013008602037047,
          0.5875119749423524,
          0.4124880250576476,
          0.5087546457987039,
          0.4728092374353324,
          0.5770688795516101,
          0.3840878739818149,
          0.6628020478981712,
          0.33719795210182874,
          0.5019790309297116,
          0.47817516255136266,
          0.6642567016567532,
          0.30670126594810626,
          0.7807510012767371,
          0.18647707994473303,
          0.7927771594172415,
          0.18306588022891998,
          0.48591862407009784,
          0.4592426126941052,
          0.4432454243997448,
          0.28970944247701186,
          0.2583387950149286,
          0.6570371106966411,
          0.5339154884628188,
          0.56750255898362,
          0.687471266094743,
          0.312528733905257,
          0.6601667373180726,
          0.3398332626819274,
          0.6466771587205935,
          0.3533228412794065,
          1,
          0.7878236776934001,
          0.18958095461000535,
          0.5188784639077063,
          0.4551928572064413,
          0.6944087119612714,
          0.28500201302080774,
          0.6759169431919655,
          0.2966491748338092,
          0.5878614192889368,
          0.3857049626876259,
          0.6706145228226523,
          0.30827494498145314,
          0.6886804970713518,
          0.26567970905782284,
          0.7685978693379686,
          0.21367487720530787,
          0.563863549838822,
          0.43613645016117797,
          0.5951707676514488,
          0.3766839019290478,
          0.5076863266481086,
          0.462087713154599,
          0.7851483767479165,
          0.17676186490916065,
          0.6176521976766586,
          0.33371712221062394,
          0.564654417740473,
          0.40708385488393484,
          0.48752552414368294,
          0.45769702721616673,
          0.5066848337739759,
          0.45803969693415025,
          0.5131669915464695,
          0.4621338238560778,
          0.5389930157514342,
          0.4370291972125111,
          0.6248006648832558,
          0.37519933511674414,
          0.5192605438364932,
          0.4616926970603935,
          0.5323303116068575,
          0.4547111603151736,
          0.5987798325981224,
          0.38273385363646645,
          0.531529426205516,
          0.45636584237411365,
          0.6116516752040391,
          0.5061387361276544,
          0.49386126387234563,
          0.7402763294007279,
          0.24578155821638126,
          0.657985023034031,
          0.3186288128913039,
          0.8328086369733353,
          0.13895430831456954,
          0.5330367019058153,
          0.46696329809418463,
          0.6564304499253678,
          0.3257971426540621,
          0.5818824115285256,
          0.41811758847147434,
          0.5370264129294271,
          0.46253198765031367,
          0.5868110682694488,
          0.41318893173055116,
          0.48213086085370926,
          0.42914191876646157,
          0.4718629442987442,
          0.4321747925636183,
          0.5259280918287145,
          0.3955700531947712,
          0.5612679538762391,
          0.39211659061790555,
          0.9932633659760967,
          0.6162478517745839,
          0.2895722359499645,
          0.6958833992007203,
          0.13042186176276208,
          0.747237245146463,
          0.14115575695694685,
          0.7060754270544783,
          0.14467191828254847,
          0.6542624631737046,
          0.2203981572410606,
          0.4889640453575349,
          0.45897911453254875,
          0.8209125722476248,
          0.15217896050102006,
          0.794596076281474,
          0.07764811841641539,
          0.7157337559132273,
          0.24589180141870573,
          0.8874354182697592,
          0.09937341980872816,
          0.8401476412011227,
          0.5526929270109832,
          0.35241474200293205,
          0.5096033893965243,
          0.38291784643508964,
          0.4770261727863118,
          0.4293862023805812,
          0.5400732449866701,
          0.3362785313155712,
          0.5289599361572128,
          0.38162898861553424,
          0.44829150476476515,
          0.4345478322352161,
          0.5156725574872915,
          0.3697831179385846,
          0.45400680562699236,
          0.42971635471788033,
          0.538650035334877,
          0.333067124775207,
          0.6326047751658869,
          0.28662872288222735,
          0.5024874064450827,
          0.3565743443655744,
          0.541767780206415,
          0.45823221979358497,
          0.6296359103251269,
          0.34833096124923035,
          0.6338401112116331,
          0.3661598887883669,
          0.6732999945313022,
          0.32670000546869776,
          0.6692978995130359,
          0.31109115262015763,
          0.6227289139314566,
          0.37727108606854337,
          0.6024727558999399,
          0.3959350564342073,
          0.532837566186228,
          0.467162433813772,
          0.55592095495442,
          0.44407904504558005,
          0.6890759767538881,
          0.3109240232461119,
          0.5450488176032168,
          0.4234391140632463,
          1,
          0.6818189937861253,
          0.3181810062138747,
          0.689698397128716,
          1,
          0.5179542416652608,
          0.4464798785314767,
          0.6108183476121809,
          0.38908357367037066,
          0.7082705268272022,
          0.2914086928356982,
          0.6785309499289466,
          0.29312249371450927,
          0.6799786232641323,
          0.32002137673586767,
          0.7441358937366894,
          0.2558641062633105,
          0.674961275028598,
          0.689548293887562,
          0.3101325187522574,
          0.6307431268061189,
          0.3691276279858957,
          0.5835680699716124,
          0.41643193002838763,
          0.8005330317669739,
          0.19946696823302615,
          0.5524456670748872,
          0.41777175601820543,
          0.524880517289851,
          0.449357770986182,
          0.5959077589501848,
          0.4040922410498153,
          0.6341359710560021,
          0.3656683908900488,
          0.6319141760729269,
          0.3680858239270732,
          0.6370148239341106,
          0.32682705807655504,
          0.036158117989334396,
          0.7504011756265445,
          0.21998634443223686,
          0.7849103105654348,
          0.2150896894345652,
          0.6778768156051381,
          0.2877579065905751,
          0.5206237308663184,
          0.47937626913368153,
          0.35209469905348784,
          0.5986341169089243,
          0.36919286540323937,
          0.23500231665483542,
          0.4620027581488331,
          0.5188668407541435,
          0.45150514971964845,
          0.5643400625327574,
          0.4334708391317706,
          0.7247336291180957,
          0.27440681499797,
          0.9090444748309382,
          0.08957483147023927,
          0.5946979060391826,
          0.40433354157584145,
          0.6461926022503026,
          0.35260972941286456,
          0.5599157307538241,
          0.4389666137511189,
          0.5179462856779472,
          0.480670581127916,
          0.5171062455153661,
          0.48160392294709076,
          0.6625847825159612,
          0.33633170759452274,
          0.5324470091657066,
          0.4662836577184629,
          0.6305896520893667,
          0.3683859313458436,
          0.7071233061575336,
          0.29101966456125117,
          0.7342599244322825,
          0.2649037855149079,
          0.6462315104974384,
          0.3526641996171082,
          0.7338193661242434,
          0.2651391350380924,
          0.5927940790568929,
          0.4062098797132078,
          0.5110345176451111,
          0.48811242837565644,
          0.6910195813639433,
          0.3068690593673713,
          0.7082551594746717,
          0.15838917180380596,
          0.12641829715000447,
          0.5824302513258013,
          0.4153887442025726,
          0.5058216716497584,
          0.49314346855969526,
          0.5565805911343574,
          0.4258967917301594,
          0.7121391996738257,
          0.28693743929200993,
          0.6160754402995424,
          0.3689446678685342,
          0.600685855326027,
          0.3985687684637605,
          0.6817709466154329,
          0.3081549302095956,
          0.6179581478256809,
          0.38139640913947337,
          0.8095501493467964,
          0.7470982866385308,
          0.2246621898154363,
          0.028226426955402836,
          0.6764128800641002,
          0.3105462390677157,
          0.013001242932414489,
          0.6730305121152423,
          0.30498690286263774,
          0.01574466357996747,
          0.006212944779721448,
          0.6666527657799887,
          0.33334723422001133,
          0.9999444816769706,
          0.7368083803900703,
          0.23986635314579294,
          0.023325266464136758,
          0.6992684700614599,
          0.2733298159054287,
          0.021683517047642136,
          0.00571819698546922,
          0.6846887025279266,
          0.2949800062075678,
          0.011339358089274467,
          0.008991933175231202,
          0.7736536561264822,
          0.2009963768115942,
          0.01631258234519104,
          0.009025032938076416,
          0.7257863130982817,
          0.27421368690171827,
          0.5561394299821761,
          0.4279286814372156,
          0.5506855140220406,
          0.4287192032317943,
          0.7514350079780227,
          0.225948259784549,
          0.619928462660433,
          0.35926651046848757,
          0.5279741876279442,
          0.439804465987435,
          0.5078519697572622,
          0.47450537206526067,
          0.7250928828590926,
          0.2546833616143446,
          0.7548350770600636,
          0.21638361115112154,
          0.5248107003242376,
          0.4534639303783094,
          0.7970854054350471,
          0.18299842685923645,
          0.6371651758346253,
          0.3303625678094714,
          0.79384880880998,
          0.18455401670152244,
          0.6164081328955243,
          0.3835918671044757,
          0.5050083654774438,
          0.4762293757125945,
          0.6472026004350857,
          0.3527973995649143,
          0.558504658278832,
          0.4091757828156925,
          0.7329107515340529,
          0.2350513376131554,
          0.013754835051337613,
          0.7477702488568281,
          0.22857024282027677,
          0.6467053039453611,
          0.3310690262740883,
          0.5195371900826447,
          0.45350964187327825,
          0.5152800650903815,
          0.4460210563463122,
          0.5056404146796319,
          0.4660339744869812,
          0.48808066949401346,
          0.4747559015292671,
          0.012292854215294996,
          0.008455879146912542,
          0.5592760778912541,
          0.42106052251075543,
          0.6060941892345245,
          0.37252062052450746,
          0.6305694722473312,
          0.34936853392277484,
          0.5829870592425501,
          0.38977035667644716,
          0.7113367801473737,
          0.2737852536859394,
          0.7748805130376913,
          0.18408932784802468,
          0.04103015911428399,
          0.5343330226575591,
          0.44288380809783523,
          0.5194901174615275,
          0.45933363787399584,
          0.006785243550090635,
          0.6682296359275662,
          0.2515005773891857,
          0.051209979315508296,
          0.012651802596347855,
          0.5543484208588896,
          0.4184462783606182,
          0.01117760300855109,
          0.6537248375630567,
          0.29946589472825863,
          0.019407183919761897,
          0.7361187774542306,
          0.24266482454081817,
          0.6951578935069563,
          0.3043484610823395,
          0.5900136636704458,
          0.3663275215682732,
          0.6872539541466649,
          0.26765052503712455,
          0.4769675895203461,
          0.4669736946885037,
          0.673072370645925,
          0.27006538158043064,
          0.02272855371435013,
          0.012213955585616052,
          0.005427798444369293,
          0.00530098072370646,
          0.5814966374967089,
          0.4170731271949984,
          0.5155283295908426,
          0.4580669873458478,
          0.02545263783144636,
          0.6835168633792378,
          0.314327061380767,
          0.6161877627157623,
          0.38233527961261804,
          0.5244322263289893,
          0.47304737309136824,
          0.6458816226791649,
          0.35286645556856366,
          0.5081954223608363,
          0.48999315489095147,
          0.7579077046851626,
          0.2397641705112572,
          0.9397699067320257,
          0.5651062147510441,
          0.43371829433955916,
          0.7138752062984277,
          0.2832359799715696,
          0.8794472783624976,
          0.11506424743333118,
          0.5855381833004577,
          0.41326470850063957,
          0.630878056737799,
          0.3667442745638881,
          0.5637169390983076,
          0.43394519780906093,
          0.6620782734887621,
          0.33632310499470947,
          0.6128573548323276,
          0.3851444257592245,
          0.5930477258782022,
          0.4045458467556374,
          0.8298832487962577,
          0.1677307047519412,
          0.5171482509609038,
          0.4814783359863338,
          0.7413579716373012,
          0.2569746454662656,
          0.49334179379389964,
          0.35557435657903624,
          0.689767450748094,
          0.3102325492519061,
          0.6307647787130852,
          0.3692352212869147,
          0.7133617644981282,
          0.28663823550187184,
          0.5930768579777674,
          0.4061440583043355,
          0.6966743583294146,
          0.3025032534639822,
          0.5129896462689095,
          0.4864354316279022,
          0.7464556925475703,
          0.22704421280923462,
          0.025380417520861606,
          0.6010747306945894,
          0.3983297063625597,
          0.5922500762397325,
          0.4072044687640238,
          0.6073343341196654,
          0.39214037353586806,
          0.6418109410824291,
          0.35793297880996944,
          0.6856311740472217,
          0.24576584026106346
         ]
        }
       ],
       "layout": {
        "coloraxis": {
         "colorbar": {
          "title": {
           "text": "Vote %"
          }
         },
         "colorscale": [
          [
           0,
           "rgb(255,245,240)"
          ],
          [
           0.125,
           "rgb(254,224,210)"
          ],
          [
           0.25,
           "rgb(252,187,161)"
          ],
          [
           0.375,
           "rgb(252,146,114)"
          ],
          [
           0.5,
           "rgb(251,106,74)"
          ],
          [
           0.625,
           "rgb(239,59,44)"
          ],
          [
           0.75,
           "rgb(203,24,29)"
          ],
          [
           0.875,
           "rgb(165,15,21)"
          ],
          [
           1,
           "rgb(103,0,13)"
          ]
         ]
        },
        "geo": {
         "center": {},
         "domain": {
          "x": [
           0,
           1
          ],
          "y": [
           0,
           1
          ]
         },
         "scope": "usa"
        },
        "legend": {
         "tracegroupgap": 0
        },
        "template": {
         "data": {
          "bar": [
           {
            "error_x": {
             "color": "#2a3f5f"
            },
            "error_y": {
             "color": "#2a3f5f"
            },
            "marker": {
             "line": {
              "color": "#E5ECF6",
              "width": 0.5
             },
             "pattern": {
              "fillmode": "overlay",
              "size": 10,
              "solidity": 0.2
             }
            },
            "type": "bar"
           }
          ],
          "barpolar": [
           {
            "marker": {
             "line": {
              "color": "#E5ECF6",
              "width": 0.5
             },
             "pattern": {
              "fillmode": "overlay",
              "size": 10,
              "solidity": 0.2
             }
            },
            "type": "barpolar"
           }
          ],
          "carpet": [
           {
            "aaxis": {
             "endlinecolor": "#2a3f5f",
             "gridcolor": "white",
             "linecolor": "white",
             "minorgridcolor": "white",
             "startlinecolor": "#2a3f5f"
            },
            "baxis": {
             "endlinecolor": "#2a3f5f",
             "gridcolor": "white",
             "linecolor": "white",
             "minorgridcolor": "white",
             "startlinecolor": "#2a3f5f"
            },
            "type": "carpet"
           }
          ],
          "choropleth": [
           {
            "colorbar": {
             "outlinewidth": 0,
             "ticks": ""
            },
            "type": "choropleth"
           }
          ],
          "contour": [
           {
            "colorbar": {
             "outlinewidth": 0,
             "ticks": ""
            },
            "colorscale": [
             [
              0,
              "#0d0887"
             ],
             [
              0.1111111111111111,
              "#46039f"
             ],
             [
              0.2222222222222222,
              "#7201a8"
             ],
             [
              0.3333333333333333,
              "#9c179e"
             ],
             [
              0.4444444444444444,
              "#bd3786"
             ],
             [
              0.5555555555555556,
              "#d8576b"
             ],
             [
              0.6666666666666666,
              "#ed7953"
             ],
             [
              0.7777777777777778,
              "#fb9f3a"
             ],
             [
              0.8888888888888888,
              "#fdca26"
             ],
             [
              1,
              "#f0f921"
             ]
            ],
            "type": "contour"
           }
          ],
          "contourcarpet": [
           {
            "colorbar": {
             "outlinewidth": 0,
             "ticks": ""
            },
            "type": "contourcarpet"
           }
          ],
          "heatmap": [
           {
            "colorbar": {
             "outlinewidth": 0,
             "ticks": ""
            },
            "colorscale": [
             [
              0,
              "#0d0887"
             ],
             [
              0.1111111111111111,
              "#46039f"
             ],
             [
              0.2222222222222222,
              "#7201a8"
             ],
             [
              0.3333333333333333,
              "#9c179e"
             ],
             [
              0.4444444444444444,
              "#bd3786"
             ],
             [
              0.5555555555555556,
              "#d8576b"
             ],
             [
              0.6666666666666666,
              "#ed7953"
             ],
             [
              0.7777777777777778,
              "#fb9f3a"
             ],
             [
              0.8888888888888888,
              "#fdca26"
             ],
             [
              1,
              "#f0f921"
             ]
            ],
            "type": "heatmap"
           }
          ],
          "heatmapgl": [
           {
            "colorbar": {
             "outlinewidth": 0,
             "ticks": ""
            },
            "colorscale": [
             [
              0,
              "#0d0887"
             ],
             [
              0.1111111111111111,
              "#46039f"
             ],
             [
              0.2222222222222222,
              "#7201a8"
             ],
             [
              0.3333333333333333,
              "#9c179e"
             ],
             [
              0.4444444444444444,
              "#bd3786"
             ],
             [
              0.5555555555555556,
              "#d8576b"
             ],
             [
              0.6666666666666666,
              "#ed7953"
             ],
             [
              0.7777777777777778,
              "#fb9f3a"
             ],
             [
              0.8888888888888888,
              "#fdca26"
             ],
             [
              1,
              "#f0f921"
             ]
            ],
            "type": "heatmapgl"
           }
          ],
          "histogram": [
           {
            "marker": {
             "pattern": {
              "fillmode": "overlay",
              "size": 10,
              "solidity": 0.2
             }
            },
            "type": "histogram"
           }
          ],
          "histogram2d": [
           {
            "colorbar": {
             "outlinewidth": 0,
             "ticks": ""
            },
            "colorscale": [
             [
              0,
              "#0d0887"
             ],
             [
              0.1111111111111111,
              "#46039f"
             ],
             [
              0.2222222222222222,
              "#7201a8"
             ],
             [
              0.3333333333333333,
              "#9c179e"
             ],
             [
              0.4444444444444444,
              "#bd3786"
             ],
             [
              0.5555555555555556,
              "#d8576b"
             ],
             [
              0.6666666666666666,
              "#ed7953"
             ],
             [
              0.7777777777777778,
              "#fb9f3a"
             ],
             [
              0.8888888888888888,
              "#fdca26"
             ],
             [
              1,
              "#f0f921"
             ]
            ],
            "type": "histogram2d"
           }
          ],
          "histogram2dcontour": [
           {
            "colorbar": {
             "outlinewidth": 0,
             "ticks": ""
            },
            "colorscale": [
             [
              0,
              "#0d0887"
             ],
             [
              0.1111111111111111,
              "#46039f"
             ],
             [
              0.2222222222222222,
              "#7201a8"
             ],
             [
              0.3333333333333333,
              "#9c179e"
             ],
             [
              0.4444444444444444,
              "#bd3786"
             ],
             [
              0.5555555555555556,
              "#d8576b"
             ],
             [
              0.6666666666666666,
              "#ed7953"
             ],
             [
              0.7777777777777778,
              "#fb9f3a"
             ],
             [
              0.8888888888888888,
              "#fdca26"
             ],
             [
              1,
              "#f0f921"
             ]
            ],
            "type": "histogram2dcontour"
           }
          ],
          "mesh3d": [
           {
            "colorbar": {
             "outlinewidth": 0,
             "ticks": ""
            },
            "type": "mesh3d"
           }
          ],
          "parcoords": [
           {
            "line": {
             "colorbar": {
              "outlinewidth": 0,
              "ticks": ""
             }
            },
            "type": "parcoords"
           }
          ],
          "pie": [
           {
            "automargin": true,
            "type": "pie"
           }
          ],
          "scatter": [
           {
            "fillpattern": {
             "fillmode": "overlay",
             "size": 10,
             "solidity": 0.2
            },
            "type": "scatter"
           }
          ],
          "scatter3d": [
           {
            "line": {
             "colorbar": {
              "outlinewidth": 0,
              "ticks": ""
             }
            },
            "marker": {
             "colorbar": {
              "outlinewidth": 0,
              "ticks": ""
             }
            },
            "type": "scatter3d"
           }
          ],
          "scattercarpet": [
           {
            "marker": {
             "colorbar": {
              "outlinewidth": 0,
              "ticks": ""
             }
            },
            "type": "scattercarpet"
           }
          ],
          "scattergeo": [
           {
            "marker": {
             "colorbar": {
              "outlinewidth": 0,
              "ticks": ""
             }
            },
            "type": "scattergeo"
           }
          ],
          "scattergl": [
           {
            "marker": {
             "colorbar": {
              "outlinewidth": 0,
              "ticks": ""
             }
            },
            "type": "scattergl"
           }
          ],
          "scattermapbox": [
           {
            "marker": {
             "colorbar": {
              "outlinewidth": 0,
              "ticks": ""
             }
            },
            "type": "scattermapbox"
           }
          ],
          "scatterpolar": [
           {
            "marker": {
             "colorbar": {
              "outlinewidth": 0,
              "ticks": ""
             }
            },
            "type": "scatterpolar"
           }
          ],
          "scatterpolargl": [
           {
            "marker": {
             "colorbar": {
              "outlinewidth": 0,
              "ticks": ""
             }
            },
            "type": "scatterpolargl"
           }
          ],
          "scatterternary": [
           {
            "marker": {
             "colorbar": {
              "outlinewidth": 0,
              "ticks": ""
             }
            },
            "type": "scatterternary"
           }
          ],
          "surface": [
           {
            "colorbar": {
             "outlinewidth": 0,
             "ticks": ""
            },
            "colorscale": [
             [
              0,
              "#0d0887"
             ],
             [
              0.1111111111111111,
              "#46039f"
             ],
             [
              0.2222222222222222,
              "#7201a8"
             ],
             [
              0.3333333333333333,
              "#9c179e"
             ],
             [
              0.4444444444444444,
              "#bd3786"
             ],
             [
              0.5555555555555556,
              "#d8576b"
             ],
             [
              0.6666666666666666,
              "#ed7953"
             ],
             [
              0.7777777777777778,
              "#fb9f3a"
             ],
             [
              0.8888888888888888,
              "#fdca26"
             ],
             [
              1,
              "#f0f921"
             ]
            ],
            "type": "surface"
           }
          ],
          "table": [
           {
            "cells": {
             "fill": {
              "color": "#EBF0F8"
             },
             "line": {
              "color": "white"
             }
            },
            "header": {
             "fill": {
              "color": "#C8D4E3"
             },
             "line": {
              "color": "white"
             }
            },
            "type": "table"
           }
          ]
         },
         "layout": {
          "annotationdefaults": {
           "arrowcolor": "#2a3f5f",
           "arrowhead": 0,
           "arrowwidth": 1
          },
          "autotypenumbers": "strict",
          "coloraxis": {
           "colorbar": {
            "outlinewidth": 0,
            "ticks": ""
           }
          },
          "colorscale": {
           "diverging": [
            [
             0,
             "#8e0152"
            ],
            [
             0.1,
             "#c51b7d"
            ],
            [
             0.2,
             "#de77ae"
            ],
            [
             0.3,
             "#f1b6da"
            ],
            [
             0.4,
             "#fde0ef"
            ],
            [
             0.5,
             "#f7f7f7"
            ],
            [
             0.6,
             "#e6f5d0"
            ],
            [
             0.7,
             "#b8e186"
            ],
            [
             0.8,
             "#7fbc41"
            ],
            [
             0.9,
             "#4d9221"
            ],
            [
             1,
             "#276419"
            ]
           ],
           "sequential": [
            [
             0,
             "#0d0887"
            ],
            [
             0.1111111111111111,
             "#46039f"
            ],
            [
             0.2222222222222222,
             "#7201a8"
            ],
            [
             0.3333333333333333,
             "#9c179e"
            ],
            [
             0.4444444444444444,
             "#bd3786"
            ],
            [
             0.5555555555555556,
             "#d8576b"
            ],
            [
             0.6666666666666666,
             "#ed7953"
            ],
            [
             0.7777777777777778,
             "#fb9f3a"
            ],
            [
             0.8888888888888888,
             "#fdca26"
            ],
            [
             1,
             "#f0f921"
            ]
           ],
           "sequentialminus": [
            [
             0,
             "#0d0887"
            ],
            [
             0.1111111111111111,
             "#46039f"
            ],
            [
             0.2222222222222222,
             "#7201a8"
            ],
            [
             0.3333333333333333,
             "#9c179e"
            ],
            [
             0.4444444444444444,
             "#bd3786"
            ],
            [
             0.5555555555555556,
             "#d8576b"
            ],
            [
             0.6666666666666666,
             "#ed7953"
            ],
            [
             0.7777777777777778,
             "#fb9f3a"
            ],
            [
             0.8888888888888888,
             "#fdca26"
            ],
            [
             1,
             "#f0f921"
            ]
           ]
          },
          "colorway": [
           "#636efa",
           "#EF553B",
           "#00cc96",
           "#ab63fa",
           "#FFA15A",
           "#19d3f3",
           "#FF6692",
           "#B6E880",
           "#FF97FF",
           "#FECB52"
          ],
          "font": {
           "color": "#2a3f5f"
          },
          "geo": {
           "bgcolor": "white",
           "lakecolor": "white",
           "landcolor": "#E5ECF6",
           "showlakes": true,
           "showland": true,
           "subunitcolor": "white"
          },
          "hoverlabel": {
           "align": "left"
          },
          "hovermode": "closest",
          "mapbox": {
           "style": "light"
          },
          "paper_bgcolor": "white",
          "plot_bgcolor": "#E5ECF6",
          "polar": {
           "angularaxis": {
            "gridcolor": "white",
            "linecolor": "white",
            "ticks": ""
           },
           "bgcolor": "#E5ECF6",
           "radialaxis": {
            "gridcolor": "white",
            "linecolor": "white",
            "ticks": ""
           }
          },
          "scene": {
           "xaxis": {
            "backgroundcolor": "#E5ECF6",
            "gridcolor": "white",
            "gridwidth": 2,
            "linecolor": "white",
            "showbackground": true,
            "ticks": "",
            "zerolinecolor": "white"
           },
           "yaxis": {
            "backgroundcolor": "#E5ECF6",
            "gridcolor": "white",
            "gridwidth": 2,
            "linecolor": "white",
            "showbackground": true,
            "ticks": "",
            "zerolinecolor": "white"
           },
           "zaxis": {
            "backgroundcolor": "#E5ECF6",
            "gridcolor": "white",
            "gridwidth": 2,
            "linecolor": "white",
            "showbackground": true,
            "ticks": "",
            "zerolinecolor": "white"
           }
          },
          "shapedefaults": {
           "line": {
            "color": "#2a3f5f"
           }
          },
          "ternary": {
           "aaxis": {
            "gridcolor": "white",
            "linecolor": "white",
            "ticks": ""
           },
           "baxis": {
            "gridcolor": "white",
            "linecolor": "white",
            "ticks": ""
           },
           "bgcolor": "#E5ECF6",
           "caxis": {
            "gridcolor": "white",
            "linecolor": "white",
            "ticks": ""
           }
          },
          "title": {
           "x": 0.05
          },
          "xaxis": {
           "automargin": true,
           "gridcolor": "white",
           "linecolor": "white",
           "ticks": "",
           "title": {
            "standoff": 15
           },
           "zerolinecolor": "white",
           "zerolinewidth": 2
          },
          "yaxis": {
           "automargin": true,
           "gridcolor": "white",
           "linecolor": "white",
           "ticks": "",
           "title": {
            "standoff": 15
           },
           "zerolinecolor": "white",
           "zerolinewidth": 2
          }
         }
        },
        "title": {
         "text": "Election Results 2020"
        }
       }
      },
      "text/html": [
       "<div>                            <div id=\"dd46b378-f067-4b11-919b-638533308e11\" class=\"plotly-graph-div\" style=\"height:525px; width:100%;\"></div>            <script type=\"text/javascript\">                require([\"plotly\"], function(Plotly) {                    window.PLOTLYENV=window.PLOTLYENV || {};                                    if (document.getElementById(\"dd46b378-f067-4b11-919b-638533308e11\")) {                    Plotly.newPlot(                        \"dd46b378-f067-4b11-919b-638533308e11\",                        [{\"coloraxis\":\"coloraxis\",\"geo\":\"geo\",\"hovertemplate\":\"<b>%{hovertext}</b><br><br>State=%{location}<br>Vote %=%{z}<extra></extra>\",\"hovertext\":[1441170.0,849624.0,25176.0,189951.0,153778.0,1672143.0,1661686.0,760647.0,423932.0,4099.0,2812.0,2141.0,1475.0,1321.0,11110639.0,6006518.0,1804352.0,1364607.0,1080831.0,714717.0,296268.0,200603.0,317323.0,18586.0,855.0,693.0,5668731.0,5297045.0,2473633.0,2461854.0,366130.0,196864.0,554119.0,287021.0,3632.0,2808.0,1491.0,3471915.0,2446891.0,1729857.0,1242498.0,897672.0,759061.0,771406.0,570323.0,1326646.0,772474.0,6483.0,3599.0,1255776.0,856034.0,435072.0,360737.0,1985023.0,976414.0,2382202.0,1167202.0,2804040.0,2649852.0,1484065.0,7940.0,5651.0,756764.0,539398.0,3657.0,1317.0,659.0,1718736.0,1253014.0,343602.0,244786.0,556846.0,374583.0,703486.0,669890.0,424937.0,365660.0,2608400.0,1883313.0,501614.0,401894.0,4858273.0,2955662.0,2758775.0,2684292.0,235751.0,3154834.0,2679165.0,18812.0,1020280.0,503890.0,5597.0,3654.0,2547.0,1340383.0,958448.0,3458229.0,3377674.0,307486.0,199922.0,1385103.0,1091541.0,261043.0,150471.0,1852475.0,1143711.0,29877.0,10279.0,5365.0,4545.0,2576.0,2301.0,1860.0,5890347.0,5259126.0,865140.0,560282.0,242820.0,112704.0,1269.0,856.0,213.0,53.0,29.0,2413568.0,1962430.0,2369612.0,1584651.0,545382.0,235984.0,1630866.0,1610184.0,193559.0,73491.0,2208.0,1392076.0,920478.0,191112.0,1716467.0,1637661.0,793871.0,1731114.0,1429492.0,291804.0,186054.0,2374519.0,2462617.0,1617035.0,1273214.0,980454.0,324118.0,136021.0,106767.0,94406.0,51592.0,44945.0,44335.0,40349.0,36176.0,28687.0,26333.0,17954.0,14640.0,13318.0,13293.0,538446.0,285864.0,25329.0,3278930.0,2319870.0,864997.0,754859.0,727962.0,571530.0,1233315.0,816257.0,1228908.0,394049.0,229814.0,55710.0,38383.0,36962.0,14454.0,7811.0,417645.0,347223.0,40579.0,13508.0,2357809.0,1177765.0,2734568.0,2642233.0,1398145.0,709511.0,578691.0,333174.0,272463.0,583507.0,227191.0,450778.0,326229.0,2541239.0,1817091.0,474483.0,418483.0,2665598.0,2569965.0,979140.0,509763.0,21652.0,11371.0,912814.0,328574.0,164855.0,1369137.0,1110828.0,276232.0,143987.0,1840926.0,1040691.0,16652.0,10727.0,9609.0,9598.0,8478.0,7203.0,6781.0,4872.0,4160.0,5962983.0,4888764.0,2466500.0,1934199.0,547454.0,210309.0,198100.0,73766.0,211825.0,116949.0,197996.0,105286.0,217384.0,104595.0,261553.0,56237.0,253094.0,274160.0,225742.0,192126.0,9790.0,1709.0,250.0,188469.0,176709.0,209945.0,170975.0,174243.0,95594.0,278002.0,120484.0,262414.0,183171.0,217783.0,199644.0,165452.0,50226.0,251633.0,170816.0,217094.0,135180.0,237596.0,184093.0,148410.0,214960.0,106325.0,191617.0,75750.0,204190.0,154073.0,294435.0,94320.0,176043.0,145945.0,247291.0,194731.0,271233.0,85227.0,229648.0,83466.0,217416.0,166549.0,158711.0,124400.0,174252.0,128358.0,166865.0,135629.0,271063.0,100293.0,281776.0,81174.0,327863.0,34955.0,278300.0,72705.0,242991.0,99710.0,128690.0,88039.0,212137.0,85199.0,217388.0,126751.0,224385.0,88642.0,236896.0,71658.0,85928.0,84406.0,170888.0,144251.0,190222.0,115896.0,212564.0,149781.0,169638.0,169305.0,208856.0,135877.0,221411.0,95907.0,244271.0,91928.0,119420.0,91524.0,240038.0,105426.0,175315.0,110735.0,172942.0,86818.0,257094.0,123334.0,108792.0,96554.0,169405.0,74941.0,185151.0,121698.0,254916.0,41705.0,190467.0,65739.0,173946.0,169837.0,135572.0,50809.0,168126.0,94447.0,210274.0,157773.0,199210.0,78688.0,139661.0,66375.0,221843.0,193096.0,157803.0,71716.0,197028.0,114371.0,201738.0,193362.0,205349.0,181157.0,195521.0,166869.0,165596.0,76841.0,244145.0,152350.0,199244.0,135614.0,331621.0,105955.0,316925.0,182547.0,220634.0,194122.0,285606.0,173945.0,249013.0,161600.0,250314.0,175192.0,250525.0,159301.0,213001.0,140356.0,194259.0,131568.0,224432.0,183797.0,151988.0,281382.0,196392.0,281831.0,7628.0,6702.0,5017.0,5001.0,2914.0,283352.0,149172.0,305337.0,223075.0,167326.0,308497.0,196423.0,219463.0,117510.0,265393.0,172305.0,224946.0,175750.0,282093.0,177695.0,240724.0,188889.0,239434.0,136889.0,316979.0,158094.0,284941.0,168194.0,215405.0,190713.0,224240.0,147896.0,216374.0,174297.0,269001.0,215683.0,266514.0,140487.0,253286.0,186674.0,272440.0,172146.0,253661.0,68748.0,237925.0,157612.0,235764.0,166553.0,221239.0,158874.0,218825.0,59084.0,177223.0,165407.0,176141.0,166758.0,189457.0,135238.0,161397.0,111620.0,241526.0,129792.0,278906.0,69393.0,301857.0,52646.0,216775.0,180329.0,190900.0,180564.0,198701.0,109264.0,292750.0,79797.0,235810.0,142636.0,245259.0,160623.0,181038.0,129061.0,279045.0,81476.0,229827.0,77798.0,13326.0,9309.0,5932.0,183245.0,71188.0,171517.0,84027.0,310736.0,131380.0,250669.0,124151.0,239943.0,85027.0,234896.0,63142.0,172997.0,133851.0,187219.0,35518.0,255661.0,96200.0,213777.0,183891.0,249383.0,41390.0,19355.0,186251.0,262045.0,107125.0,202402.0,114442.0,194557.0,112807.0,194839.0,127577.0,181373.0,151648.0,203209.0,197835.0,244947.0,88559.0,218839.0,119313.0,156011.0,143863.0,261840.0,110039.0,185180.0,132247.0,183601.0,114967.0,220989.0,104762.0,225531.0,112984.0,208212.0,191226.0,225319.0,91103.0,176422.0,106146.0,214643.0,95691.0,222057.0,122566.0,212088.0,201347.0,196964.0,196958.0,219205.0,212997.0,237369.0,144761.0,208229.0,84393.0,185464.0,136650.0,220049.0,178773.0,203432.0,116166.0,246329.0,82141.0,255735.0,94643.0,230672.0,137425.0,256613.0,125896.0,250914.0,47056.0,216948.0,155011.0,270330.0,94730.0,201636.0,47575.0,33684.0,15565.0,12268.0,6254.0,230480.0,60852.0,39423.0,185265.0,78157.0,23813.0,19343.0,102533.0,51240.0,50812.0,32186.0,23887.0,22496.0,9834.0,9432.0,7136.0,265706.0,95541.0,271004.0,165008.0,197974.0,250901.0,143877.0,224836.0,106355.0,260358.0,112117.0,282119.0,71671.0,274210.0,123525.0,215540.0,143599.0,237084.0,92825.0,274716.0,127157.0,275376.0,249854.0,132220.0,286896.0,251102.0,160474.0,294427.0,101351.0,286377.0,150695.0,267362.0,38675.0,310940.0,260262.0,154261.0,256581.0,153328.0,238711.0,154122.0,213649.0,189769.0,242621.0,120802.0,196599.0,150772.0,211496.0,152085.0,227524.0,159743.0,217922.0,202525.0,230318.0,153296.0,271607.0,138179.0,226128.0,215405.0,254957.0,117719.0,223205.0,53311.0,271370.0,62664.0,179234.0,194954.0,196625.0,112730.0,102878.0,270901.0,194066.0,223432.0,228787.0,104008.0,196224.0,101010.0,221064.0,120782.0,255971.0,249087.0,59940.0,233157.0,204540.0,282866.0,116095.0,245247.0,107635.0,207180.0,135934.0,258709.0,118926.0,254318.0,98111.0,253811.0,70561.0,339169.0,262340.0,189006.0,119622.0,171071.0,155706.0,225157.0,50690.0,137868.0,74490.0,216078.0,155780.0,203421.0,190975.0,168457.0,152284.0,205606.0,185159.0,208289.0,168886.0,240567.0,144463.0,195526.0,173849.0,229840.0,196327.0,254103.0,162420.0,225175.0,193333.0,199648.0,219688.0,214359.0,176758.0,58686.0,203674.0,98629.0,241522.0,40298.0,235163.0,206013.0,230883.0,114591.0,186953.0,134337.0,142283.0,122546.0,186282.0,131166.0,180855.0,160978.0,158151.0,144849.0,196056.0,147461.0,199762.0,139559.0,229125.0,144149.0,67735.0,156889.0,29404.0,207111.0,39124.0,195758.0,40110.0,181215.0,61045.0,143420.0,134625.0,265172.0,49157.0,202916.0,19829.0,152661.0,52447.0,169533.0,18984.0,218514.0,183976.0,117309.0,171161.0,128611.0,168281.0,151475.0,194071.0,120839.0,169684.0,122422.0,143291.0,138898.0,161800.0,116025.0,156236.0,147877.0,187503.0,115940.0,202400.0,91706.0,192619.0,136686.0,188870.0,159748.0,311887.0,172544.0,229800.0,132752.0,332421.0,161298.0,257843.0,119846.0,253531.0,153598.0,272443.0,179045.0,202774.0,177781.0,224661.0,179463.0,284095.0,128189.0,245351.0,190609.0,341457.0,267181.0,124684.0,245394.0,11449.0,199560.0,172022.0,230430.0,146781.0,227420.0,93569.0,235875.0,101897.0,257019.0,120962.0,249130.0,85661.0,236607.0,246277.0,110766.0,190328.0,111385.0,212972.0,151976.0,242098.0,60323.0,241790.0,182847.0,173631.0,148648.0,233864.0,158586.0,243103.0,140183.0,247335.0,144071.0,213700.0,109641.0,12130.0,216511.0,63472.0,242677.0,66501.0,213096.0,90459.0,158191.0,145658.0,161928.0,273835.0,168881.0,110570.0,216081.0,234863.0,204372.0,249804.0,191875.0,198140.0,75022.0,341708.0,33671.0,264637.0,179926.0,255743.0,139552.0,226440.0,177526.0,195475.0,181407.0,178004.0,165783.0,232988.0,118266.0,208896.0,182938.0,241915.0,141325.0,241035.0,99199.0,267789.0,96612.0,241688.0,131895.0,255058.0,92156.0,210088.0,143962.0,222253.0,212284.0,266084.0,118163.0,158550.0,35457.0,28300.0,154086.0,109894.0,216042.0,210627.0,202715.0,155118.0,237544.0,95712.0,222126.0,133023.0,220006.0,145979.0,197477.0,89258.0,224993.0,138863.0,321984.0,228181.0,68617.0,8621.0,238907.0,109684.0,4592.0,215571.0,97687.0,5043.0,1990.0,223802.0,111908.0,252155.0,257572.0,83852.0,8154.0,245188.0,95839.0,7603.0,2005.0,227216.0,97890.0,3763.0,2984.0,187905.0,48818.0,3962.0,2192.0,219726.0,83016.0,192828.0,148374.0,230512.0,179458.0,253837.0,76326.0,173836.0,100743.0,179507.0,149530.0,159529.0,149054.0,277327.0,97409.0,172938.0,49575.0,217216.0,187686.0,232568.0,53394.0,233853.0,121250.0,217124.0,50477.0,190541.0,118574.0,115605.0,109017.0,154108.0,84006.0,171390.0,125565.0,180952.0,58033.0,3396.0,198198.0,60583.0,175078.0,89628.0,235740.0,205780.0,210259.0,181998.0,149395.0,137693.0,167910.0,163326.0,4229.0,2909.0,220088.0,165697.0,261963.0,161009.0,172305.0,95466.0,137494.0,91925.0,111305.0,42840.0,204928.0,48685.0,10851.0,212695.0,176293.0,178542.0,157867.0,2332.0,105317.0,39638.0,8071.0,1994.0,111439.0,84119.0,2247.0,176373.0,80795.0,5236.0,222712.0,73418.0,237988.0,104194.0,208997.0,129762.0,246674.0,96067.0,179688.0,175923.0,238833.0,95830.0,8065.0,4334.0,1926.0,1881.0,260614.0,186923.0,185733.0,165031.0,9170.0,233326.0,107299.0,241142.0,149625.0,210988.0,190315.0,246606.0,134729.0,230893.0,222623.0,301454.0,95365.0,271851.0,268734.0,206253.0,280725.0,111380.0,13620.0,1782.0,249944.0,176407.0,255252.0,148384.0,235579.0,181347.0,202108.0,102667.0,247815.0,155737.0,247429.0,168783.0,387109.0,78240.0,213123.0,198423.0,258771.0,89697.0,167937.0,121040.0,180488.0,81177.0,172195.0,100799.0,161585.0,64927.0,238271.0,163170.0,318523.0,138306.0,199870.0,189524.0,232668.0,70769.0,7911.0,265434.0,175902.0,238874.0,164239.0,252048.0,162741.0,268173.0,149558.0,185732.0,66576.0],\"locationmode\":\"USA-states\",\"locations\":[\"AL\",\"AL\",\"AL\",\"AK\",\"AK\",\"AZ\",\"AZ\",\"AR\",\"AR\",\"AR\",\"AR\",\"AR\",\"AR\",\"AR\",\"CA\",\"CA\",\"CO\",\"CO\",\"CT\",\"CT\",\"DE\",\"DE\",\"DC\",\"DC\",\"DC\",\"DC\",\"FL\",\"FL\",\"GA\",\"GA\",\"HI\",\"HI\",\"ID\",\"ID\",\"ID\",\"ID\",\"ID\",\"IL\",\"IL\",\"IN\",\"IN\",\"IA\",\"IA\",\"KS\",\"KS\",\"KY\",\"KY\",\"KY\",\"KY\",\"LA\",\"LA\",\"ME\",\"ME\",\"MD\",\"MD\",\"MA\",\"MA\",\"MI\",\"MI\",\"MN\",\"MN\",\"MN\",\"MS\",\"MS\",\"MS\",\"MS\",\"MS\",\"MO\",\"MO\",\"MT\",\"MT\",\"NE\",\"NE\",\"NV\",\"NV\",\"NH\",\"NH\",\"NJ\",\"NJ\",\"NM\",\"NM\",\"NY\",\"NY\",\"NC\",\"NC\",\"ND\",\"OH\",\"OH\",\"OH\",\"OK\",\"OK\",\"OK\",\"OK\",\"OK\",\"OR\",\"OR\",\"PA\",\"PA\",\"RI\",\"RI\",\"SC\",\"SC\",\"SD\",\"SD\",\"TN\",\"TN\",\"TN\",\"TN\",\"TN\",\"TN\",\"TN\",\"TN\",\"TN\",\"TX\",\"TX\",\"UT\",\"UT\",\"VT\",\"VT\",\"VT\",\"VT\",\"VT\",\"VT\",\"VT\",\"VA\",\"VA\",\"WA\",\"WA\",\"WV\",\"WV\",\"WI\",\"WI\",\"WY\",\"WY\",\"WY\",\"AL\",\"AL\",\"AK\",\"AZ\",\"AZ\",\"AR\",\"CO\",\"CO\",\"DE\",\"DE\",\"GA\",\"GA\",\"GA\",\"GA\",\"GA\",\"GA\",\"GA\",\"GA\",\"GA\",\"GA\",\"GA\",\"GA\",\"GA\",\"GA\",\"GA\",\"GA\",\"GA\",\"GA\",\"GA\",\"GA\",\"ID\",\"ID\",\"ID\",\"IL\",\"IL\",\"IA\",\"IA\",\"KS\",\"KS\",\"KY\",\"KY\",\"LA\",\"LA\",\"LA\",\"LA\",\"LA\",\"LA\",\"LA\",\"LA\",\"ME\",\"ME\",\"ME\",\"ME\",\"MA\",\"MA\",\"MI\",\"MI\",\"MN\",\"MS\",\"MS\",\"MT\",\"MT\",\"NE\",\"NE\",\"NH\",\"NH\",\"NJ\",\"NJ\",\"NM\",\"NM\",\"NC\",\"NC\",\"OK\",\"OK\",\"OK\",\"OK\",\"OR\",\"RI\",\"RI\",\"SC\",\"SC\",\"SD\",\"SD\",\"TN\",\"TN\",\"TN\",\"TN\",\"TN\",\"TN\",\"TN\",\"TN\",\"TN\",\"TN\",\"TN\",\"TX\",\"TX\",\"VA\",\"VA\",\"WV\",\"WV\",\"WY\",\"WY\",\"AL\",\"AL\",\"AL\",\"AL\",\"AL\",\"AL\",\"AL\",\"AL\",\"AL\",\"AL\",\"AL\",\"AK\",\"AS\",\"AS\",\"AS\",\"AZ\",\"AZ\",\"AZ\",\"AZ\",\"AZ\",\"AZ\",\"AZ\",\"AZ\",\"AZ\",\"AZ\",\"AZ\",\"AZ\",\"AZ\",\"AZ\",\"AZ\",\"AZ\",\"AZ\",\"AZ\",\"AR\",\"AR\",\"AR\",\"AR\",\"AR\",\"AR\",\"AR\",\"CA\",\"CA\",\"CA\",\"CA\",\"CA\",\"CA\",\"CA\",\"CA\",\"CA\",\"CA\",\"CA\",\"CA\",\"CA\",\"CA\",\"CA\",\"CA\",\"CA\",\"CA\",\"CA\",\"CA\",\"CA\",\"CA\",\"CA\",\"CA\",\"CA\",\"CA\",\"CA\",\"CA\",\"CA\",\"CA\",\"CA\",\"CA\",\"CA\",\"CA\",\"CA\",\"CA\",\"CA\",\"CA\",\"CA\",\"CA\",\"CA\",\"CA\",\"CA\",\"CA\",\"CA\",\"CA\",\"CA\",\"CA\",\"CA\",\"CA\",\"CA\",\"CA\",\"CA\",\"CA\",\"CA\",\"CA\",\"CA\",\"CA\",\"CA\",\"CA\",\"CA\",\"CA\",\"CA\",\"CA\",\"CA\",\"CA\",\"CA\",\"CA\",\"CA\",\"CA\",\"CA\",\"CA\",\"CA\",\"CA\",\"CA\",\"CA\",\"CA\",\"CA\",\"CA\",\"CA\",\"CA\",\"CA\",\"CA\",\"CA\",\"CA\",\"CA\",\"CA\",\"CA\",\"CA\",\"CA\",\"CA\",\"CA\",\"CA\",\"CA\",\"CA\",\"CA\",\"CA\",\"CA\",\"CA\",\"CA\",\"CA\",\"CA\",\"CA\",\"CA\",\"CA\",\"CA\",\"CO\",\"CO\",\"CO\",\"CO\",\"CO\",\"CO\",\"CO\",\"CO\",\"CO\",\"CO\",\"CO\",\"CO\",\"CO\",\"CO\",\"CT\",\"CT\",\"CT\",\"CT\",\"CT\",\"CT\",\"CT\",\"DE\",\"DE\",\"DC\",\"DC\",\"DC\",\"DC\",\"DC\",\"DC\",\"FL\",\"FL\",\"FL\",\"FL\",\"FL\",\"FL\",\"FL\",\"FL\",\"FL\",\"FL\",\"FL\",\"FL\",\"FL\",\"FL\",\"FL\",\"FL\",\"FL\",\"FL\",\"FL\",\"FL\",\"FL\",\"FL\",\"FL\",\"FL\",\"FL\",\"FL\",\"FL\",\"FL\",\"FL\",\"FL\",\"FL\",\"FL\",\"FL\",\"FL\",\"FL\",\"FL\",\"FL\",\"FL\",\"FL\",\"FL\",\"FL\",\"FL\",\"FL\",\"FL\",\"FL\",\"FL\",\"FL\",\"FL\",\"FL\",\"FL\",\"FL\",\"GA\",\"GA\",\"GA\",\"GA\",\"GA\",\"GA\",\"GA\",\"GA\",\"GA\",\"GA\",\"GA\",\"GA\",\"GA\",\"GA\",\"GA\",\"GA\",\"GA\",\"GA\",\"GA\",\"GA\",\"GA\",\"GA\",\"GA\",\"GA\",\"GA\",\"GA\",\"GA\",\"GA\",\"GU\",\"GU\",\"GU\",\"HI\",\"HI\",\"HI\",\"HI\",\"ID\",\"ID\",\"ID\",\"ID\",\"IL\",\"IL\",\"IL\",\"IL\",\"IL\",\"IL\",\"IL\",\"IL\",\"IL\",\"IL\",\"IL\",\"IL\",\"IL\",\"IL\",\"IL\",\"IL\",\"IL\",\"IL\",\"IL\",\"IL\",\"IL\",\"IL\",\"IL\",\"IL\",\"IL\",\"IL\",\"IL\",\"IL\",\"IL\",\"IL\",\"IL\",\"IL\",\"IL\",\"IL\",\"IL\",\"IL\",\"IN\",\"IN\",\"IN\",\"IN\",\"IN\",\"IN\",\"IN\",\"IN\",\"IN\",\"IN\",\"IN\",\"IN\",\"IN\",\"IN\",\"IN\",\"IN\",\"IN\",\"IN\",\"IA\",\"IA\",\"IA\",\"IA\",\"IA\",\"IA\",\"IA\",\"IA\",\"KS\",\"KS\",\"KS\",\"KS\",\"KS\",\"KS\",\"KS\",\"KS\",\"KY\",\"KY\",\"KY\",\"KY\",\"KY\",\"KY\",\"KY\",\"KY\",\"KY\",\"KY\",\"KY\",\"KY\",\"LA\",\"LA\",\"LA\",\"LA\",\"LA\",\"LA\",\"LA\",\"LA\",\"LA\",\"LA\",\"LA\",\"LA\",\"LA\",\"LA\",\"LA\",\"LA\",\"LA\",\"LA\",\"LA\",\"LA\",\"LA\",\"LA\",\"LA\",\"LA\",\"LA\",\"LA\",\"ME\",\"ME\",\"ME\",\"MD\",\"MD\",\"MD\",\"MD\",\"MD\",\"MD\",\"MD\",\"MD\",\"MD\",\"MD\",\"MD\",\"MD\",\"MD\",\"MD\",\"MD\",\"MD\",\"MA\",\"MA\",\"MA\",\"MA\",\"MA\",\"MA\",\"MA\",\"MA\",\"MA\",\"MA\",\"MA\",\"MA\",\"MA\",\"MA\",\"MA\",\"MI\",\"MI\",\"MI\",\"MI\",\"MI\",\"MI\",\"MI\",\"MI\",\"MI\",\"MI\",\"MI\",\"MI\",\"MI\",\"MI\",\"MI\",\"MI\",\"MI\",\"MI\",\"MI\",\"MI\",\"MI\",\"MI\",\"MI\",\"MI\",\"MI\",\"MI\",\"MI\",\"MI\",\"MN\",\"MN\",\"MN\",\"MN\",\"MN\",\"MN\",\"MN\",\"MN\",\"MS\",\"MS\",\"MS\",\"MS\",\"MS\",\"MS\",\"MS\",\"MO\",\"MO\",\"MO\",\"MO\",\"MO\",\"MO\",\"MO\",\"MO\",\"MO\",\"MO\",\"MO\",\"MO\",\"MO\",\"MO\",\"MO\",\"MO\",\"MT\",\"MT\",\"NE\",\"NE\",\"NE\",\"NE\",\"NE\",\"NE\",\"NV\",\"NV\",\"NV\",\"NV\",\"NV\",\"NV\",\"NV\",\"NV\",\"NH\",\"NH\",\"NH\",\"NH\",\"NJ\",\"NJ\",\"NJ\",\"NJ\",\"NJ\",\"NJ\",\"NJ\",\"NJ\",\"NJ\",\"NJ\",\"NJ\",\"NJ\",\"NJ\",\"NJ\",\"NJ\",\"NJ\",\"NJ\",\"NJ\",\"NJ\",\"NJ\",\"NJ\",\"NJ\",\"NJ\",\"NM\",\"NM\",\"NM\",\"NM\",\"NM\",\"NM\",\"NY\",\"NY\",\"NY\",\"NY\",\"NY\",\"NY\",\"NY\",\"NY\",\"NY\",\"NY\",\"NY\",\"NY\",\"NY\",\"NY\",\"NY\",\"NY\",\"NY\",\"NY\",\"NY\",\"NY\",\"NY\",\"NY\",\"NY\",\"NY\",\"NY\",\"NY\",\"NY\",\"NY\",\"NY\",\"NY\",\"NY\",\"NY\",\"NY\",\"NY\",\"NY\",\"NY\",\"NY\",\"NY\",\"NY\",\"NY\",\"NY\",\"NY\",\"NY\",\"NY\",\"NY\",\"NY\",\"NY\",\"NY\",\"NY\",\"NY\",\"NY\",\"NY\",\"NC\",\"NC\",\"NC\",\"NC\",\"NC\",\"NC\",\"NC\",\"NC\",\"NC\",\"NC\",\"NC\",\"NC\",\"NC\",\"NC\",\"NC\",\"NC\",\"NC\",\"NC\",\"NC\",\"NC\",\"NC\",\"NC\",\"NC\",\"NC\",\"NC\",\"ND\",\"MP\",\"OH\",\"OH\",\"OH\",\"OH\",\"OH\",\"OH\",\"OH\",\"OH\",\"OH\",\"OH\",\"OH\",\"OH\",\"OH\",\"OH\",\"OH\",\"OH\",\"OH\",\"OH\",\"OH\",\"OH\",\"OH\",\"OH\",\"OH\",\"OH\",\"OH\",\"OH\",\"OH\",\"OH\",\"OH\",\"OH\",\"OH\",\"OK\",\"OK\",\"OK\",\"OK\",\"OK\",\"OK\",\"OK\",\"OK\",\"OK\",\"OK\",\"OK\",\"OR\",\"OR\",\"OR\",\"OR\",\"OR\",\"OR\",\"OR\",\"PA\",\"PA\",\"PA\",\"PA\",\"PA\",\"PA\",\"PA\",\"PA\",\"PA\",\"PA\",\"PA\",\"PA\",\"PA\",\"PA\",\"PA\",\"PA\",\"PA\",\"PA\",\"PA\",\"PA\",\"PA\",\"PA\",\"PA\",\"PA\",\"PA\",\"PA\",\"PA\",\"PA\",\"PA\",\"PA\",\"PA\",\"PA\",\"PA\",\"PA\",\"PA\",\"PA\",\"RI\",\"RI\",\"RI\",\"RI\",\"RI\",\"SC\",\"SC\",\"SC\",\"SC\",\"SC\",\"SC\",\"SC\",\"SC\",\"SC\",\"SC\",\"SC\",\"SC\",\"SC\",\"SC\",\"SD\",\"TN\",\"TN\",\"TN\",\"TN\",\"TN\",\"TN\",\"TN\",\"TN\",\"TN\",\"TN\",\"TN\",\"TN\",\"TN\",\"TN\",\"TN\",\"TN\",\"TN\",\"TN\",\"TN\",\"TN\",\"TN\",\"TN\",\"TN\",\"TN\",\"TN\",\"TN\",\"TN\",\"TN\",\"TX\",\"TX\",\"TX\",\"TX\",\"TX\",\"TX\",\"TX\",\"TX\",\"TX\",\"TX\",\"TX\",\"TX\",\"TX\",\"TX\",\"TX\",\"TX\",\"TX\",\"TX\",\"TX\",\"TX\",\"TX\",\"TX\",\"TX\",\"TX\",\"TX\",\"TX\",\"TX\",\"TX\",\"TX\",\"TX\",\"TX\",\"TX\",\"TX\",\"TX\",\"TX\",\"TX\",\"TX\",\"TX\",\"TX\",\"TX\",\"TX\",\"TX\",\"TX\",\"TX\",\"TX\",\"TX\",\"TX\",\"TX\",\"TX\",\"TX\",\"TX\",\"TX\",\"TX\",\"TX\",\"TX\",\"TX\",\"TX\",\"TX\",\"TX\",\"TX\",\"TX\",\"TX\",\"TX\",\"TX\",\"TX\",\"TX\",\"TX\",\"TX\",\"TX\",\"TX\",\"TX\",\"TX\",\"TX\",\"TX\",\"TX\",\"TX\",\"TX\",\"TX\",\"TX\",\"TX\",\"TX\",\"UT\",\"UT\",\"UT\",\"UT\",\"UT\",\"UT\",\"UT\",\"UT\",\"VT\",\"VT\",\"VT\",\"VT\",\"VT\",\"VT\",\"VA\",\"VA\",\"VA\",\"VA\",\"VA\",\"VA\",\"VA\",\"VA\",\"VA\",\"VA\",\"VA\",\"VA\",\"VA\",\"VA\",\"VA\",\"VA\",\"VA\",\"VA\",\"VA\",\"VA\",\"VA\",\"VA\",\"VI\",\"VI\",\"WA\",\"WA\",\"WA\",\"WA\",\"WA\",\"WA\",\"WA\",\"WA\",\"WA\",\"WA\",\"WA\",\"WA\",\"WA\",\"WA\",\"WA\",\"WA\",\"WA\",\"WA\",\"WA\",\"WA\",\"WV\",\"WV\",\"WV\",\"WV\",\"WV\",\"WV\",\"WI\",\"WI\",\"WI\",\"WI\",\"WI\",\"WI\",\"WI\",\"WI\",\"WI\",\"WI\",\"WI\",\"WI\",\"WI\",\"WI\",\"WI\",\"WI\",\"WI\",\"WY\",\"WY\"],\"name\":\"\",\"z\":[0.620316431668648,0.36569990212122333,0.010836394376575896,0.5283314327038078,0.42771952271020497,0.49364690614366613,0.4905598103046474,0.6239572985614432,0.34775061953014963,0.003362401964121801,0.002306678293025251,0.0017562582593766227,0.0012099397162916947,0.0010836138069297144,0.6348435951907793,0.34320253602858747,0.553995419069199,0.41897923843560597,0.5926073151568352,0.3918711828833072,0.5874300579364167,0.3977487677110555,0.9214969392140692,0.05397321376714795,0.002482895608033547,0.002012452229669296,0.5121981962250404,0.47861450725442234,0.49473055784446274,0.492374738997912,0.6373363923901899,0.3426886394217965,0.6384344892583999,0.33069449981219773,0.004184649984906686,0.0032352690411943767,0.00171787255712992,0.5754163584003564,0.4055344409706477,0.5703057157269031,0.4096313806165745,0.5308932496920227,0.44891715571442176,0.5614365794120173,0.4150864710411897,0.6208657186929044,0.3615151481115404,0.0030340214754245665,0.0016843194956120645,0.5846088241400853,0.39851456801526214,0.5309245955573236,0.4402125299434628,0.6536066486007711,0.32150291567748757,0.6560006300596849,0.3214191103050557,0.5062081829082437,0.4783729069113762,0.4528494240916937,0.0024228213907666095,0.0017243531082143716,0.5760295457538255,0.41057606455978607,0.002783615564194042,0.0010024669669246795,0.0005016140707694486,0.5679965577888949,0.4140878173618836,0.5691846924002028,0.4054936936160908,0.5822416333205421,0.39166630941787967,0.5005678195728402,0.4766624732455941,0.5270830620003597,0.4535570977604952,0.5733431484240866,0.413964347833159,0.5428928584957222,0.43496669246129455,0.5638100695833437,0.34300913058711285,0.4993435061225701,0.4858619418897032,0.65120268269507,0.5327130010087464,0.45239338340705026,0.003176521165606982,0.6537327184806295,0.32286174335986634,0.003586213613259187,0.002341258628345376,0.0016319610636003482,0.5645331865404888,0.4036724604634335,0.49852111352266465,0.48690870488812416,0.5938809132469479,0.3861309455980315,0.5511029395674024,0.43430088142061785,0.6176938967225024,0.3560525213613529,0.6066029416628381,0.37451434271023704,0.009783384978507465,0.003365914054091048,0.0017567982196904826,0.0014882847918906326,0.0008435251097712364,0.0007534748748383598,0.0006090670435460015,0.5205760360355265,0.4647900991387051,0.5812983902991959,0.37646048583306063,0.6608641693066397,0.3067376465593259,0.0034537378751755446,0.002329708133294142,0.0005797054116724909,0.0001442459475053616,7.892702788029219e-05,0.5410951717780242,0.4399550366728214,0.5797030113530306,0.3876697774334327,0.6862472962549592,0.29693569270608544,0.4944953686142774,0.48822437319608825,0.6993622748541181,0.26553574332014523,0.00797788737737792,0.6009536164251688,0.39736665450722986,0.5389706898448053,0.511566269297357,0.488079367761675,0.6652953544949513,0.5349896006848405,0.44177526971775055,0.5943841852791103,0.3789788872253964,0.47949012302675087,0.49727988207201884,0.3290423102217823,0.2590799061038978,0.1995076477789209,0.06595313985440243,0.027678228411059165,0.02172547924778934,0.01921020159662443,0.010498196309271101,0.009145631747561436,0.009021505918970659,0.008210414848867647,0.00736127209032779,0.005837373188169873,0.005358369580788415,0.0036533690598669045,0.00297901988617865,0.002710012762576999,0.002704925638454426,0.6262259733644093,0.3324668799653884,0.02945825148547324,0.5493356314671662,0.38865948689716917,0.5173959282892738,0.4515171417155353,0.5322312841115551,0.41785992374365294,0.5776496833573999,0.38231157294629603,0.5932331600164709,0.1902200437065511,0.11093856125602992,0.026892997152364203,0.018528700586953783,0.0178427384804467,0.006977407661825026,0.0037706192919963527,0.509831136632474,0.4238649971984282,0.04953594007688148,0.01648960000390633,0.661537326297313,0.3304489503206387,0.4990342572248217,0.48218394370515283,0.43498246561568216,0.5410522254097673,0.44129274017542175,0.5501216074975604,0.4498783925024396,0.6274187859941592,0.24428824574306568,0.5663652103116669,0.40987971062200185,0.5722815243191144,0.4092049615587293,0.5172959660371311,0.45624304296490437,0.4868714830741895,0.46940411532375076,0.629121392787406,0.32753519267059505,0.013911939453635757,0.007306145553634407,0.3932426034432325,0.6647769806297065,0.33353767839728726,0.544365958624375,0.4416628497270888,0.6573524757328917,0.3426475242671083,0.6219846805198123,0.3516131876864382,0.005626129947654557,0.0036242791225372588,0.0032465459204307377,0.003242829404130942,0.0028644204717880937,0.002433642446129941,0.0022910633662650464,0.0016460788556913887,0.0014055188915591496,0.5350826989134999,0.4386886622804656,0.559920836977794,0.43908304194673115,0.7028390664999397,0.27000146356869403,0.7258085199148522,0.27026749762765767,0.6436982450809086,0.35538706981691104,0.6522273354657425,0.34682724520619695,0.6746153416461329,0.3245933079687432,0.8224187102434055,0.17682978596291532,0.9581087219866747,0.9712996127697415,0.9716396003977085,0.5440120057197061,0.8332624053110903,0.14545918801600136,0.021278406672908333,0.5161017366873142,0.4838982633126859,0.5509586567783044,0.44868968702598583,0.6457342766188476,0.3542657233811523,0.6974058195337449,0.3022504973370829,0.5888250380898314,0.411013402684127,0.5217271522924967,0.47827284770750333,0.7669330465577661,0.2328166428717112,0.5956275874802055,0.4043298056416241,0.6162646122052721,0.383735387794728,1.0,0.5536581624827445,0.4463418375172555,0.643088355840628,0.3180888045904111,0.6967004199465523,0.27541949206464633,0.5699444263013485,0.43005557369865155,0.7573793263109156,0.24262067368908438,0.5467377666248432,0.45326223337515686,0.559454054323088,0.440545945676912,0.7609072546709308,0.23909274532906918,0.7334325517223759,0.26656744827762413,0.5662391103355775,0.43376088966442256,0.5605963738604293,0.4394036261395707,0.5758302765936354,0.4241697234063646,0.5516307761476261,0.44836922385237393,0.7299276166266332,0.2700723833733668,0.7763493594158976,0.2236506405841025,0.9036569299207867,0.09634307007921326,0.7928661984872011,0.20713380151279898,0.7090466616671676,0.29095333833283243,0.5937830193467418,0.40621698065325823,0.7134588479027094,0.2865411520972906,0.6316866150014965,0.3683133849985035,0.7168231494407831,0.28317685055921693,0.7677618828470867,0.23223811715291326,0.5044676928857421,0.4955323071142579,0.542262303301083,0.457737696698917,0.6214008976930465,0.37859910230695354,0.5866342850046227,0.41336571499537733,0.5004912330391835,0.4995087669608164,0.6058485842666643,0.3941514157333357,0.6977574546669272,0.3022425453330728,0.7265667060282749,0.27343329397172506,0.5661218143203883,0.43387818567961167,0.6948278257647685,0.30517217423523146,0.6128823632232128,0.3871176367767873,0.6657761010163228,0.3342238989836772,0.6758019914412189,0.32419800855878117,0.5297984864570042,0.4702015135429957,0.6932996652288149,0.30670033477118513,0.6033945034854277,0.39660549651457233,0.8593997053479019,0.14060029465209814,0.7434135031966465,0.25658649680335355,0.5059761535619853,0.49402384643801467,0.7273917405744148,0.27260825942558525,0.6403019350809108,0.3596980649190892,0.5713237711487935,0.4286762288512065,0.7168457491597636,0.2831542508402363,0.6778475606204741,0.3221524393795259,0.534640031426306,0.46535996857369394,0.6875378508968757,0.31246214910312436,0.6327187948580438,0.3672812051419561,0.5105998481397115,0.4894001518602885,0.5312957625496111,0.46870423745038886,0.5395319959160021,0.4604680040839979,0.683047554622438,0.316952445377562,0.6157580801775558,0.38424191982244416,0.5950104223282705,0.4049895776717295,0.7364609473894601,0.2353039152546137,0.614597130296337,0.35400445639884964,0.5139162254640489,0.45216261101884614,0.6011403746945425,0.3661175272096601,0.5758764312326119,0.3737219795239208,0.5708766560312721,0.39955025737046523,0.5912457165513401,0.3759546308446064,0.609903876164324,0.3820801585421958,0.5612751117441918,0.380141171847687,0.6221847658545782,0.5258494409539831,0.43484281479955594,0.5762836135744568,0.4022200831507158,0.862958415368646,0.023356716587004382,0.020521331222614493,0.01536190969022037,0.015312918150446895,0.008922584181244201,0.6460933687825211,0.3401389085237663,0.9786473674595111,0.5713996634229933,0.42860033657700675,0.6109577375529766,0.3890026537806472,0.6512776988067294,0.3487223011932707,0.6061193634436892,0.3935197873273405,0.553442129270831,0.43240357338805113,0.6135284087448998,0.38647159125510017,0.5602949459777766,0.43964686550072385,0.6361209042580042,0.3636824948126579,0.6672216690908556,0.3327783309091445,0.6288214329063083,0.37117856709369174,0.5303908895044629,0.46959187442289935,0.6025754025410065,0.3974245974589935,0.5538522183627655,0.4461477816372344,0.555002847215918,0.444997152784082,0.6462559135978195,0.340659607126143,0.5632082184470337,0.4150893889531264,0.6127906898281335,0.3872025623665903,0.7867677391139826,0.21323226088601746,0.590248404214412,0.391006541914645,0.5860155051862089,0.4139844948137911,0.5819077528432703,0.4178739387052994,0.7555120529764741,0.20399257003569973,0.5172430902139334,0.4827569097860666,0.513568044318099,0.486210365186967,0.5834922003726574,0.4165077996273426,0.5911241823362658,0.40881355435586775,0.6504559434231575,0.3495440565768425,0.8007660085156719,0.19923399148432813,0.8514934993497939,0.14850650065020607,0.5458897417301262,0.4541102582698739,0.5139125191135615,0.48608748088643855,0.6451058883878278,0.3547382740338882,0.7858068914794644,0.21419310852053566,0.6231007858452725,0.3768992141547275,0.6042618297928954,0.3957381702071045,0.583807106762679,0.416192893237321,0.7738739038554338,0.22595692519315994,0.7471011783827712,0.25289882161722876,0.4655859129341066,0.32523932639228564,0.20725316190343093,0.7202092495863351,0.2797907504136649,0.630340828071826,0.3088069914958361,0.6776106904853285,0.28649558633683403,0.6405516529400792,0.31725154791443605,0.7380068466395795,0.2615225622302944,0.7881411095229467,0.21185889047705325,0.5637872823026384,0.4362127176973616,0.8405383928130485,0.15946160718695143,0.707670972760061,0.2662820984800884,0.5281743904216708,0.45433567141942993,0.8041292627560234,0.13346102254552958,0.06240971469844709,0.7316068159856705,0.7098220332096324,0.29017796679036756,0.6387459999873767,0.36115932515763366,0.6329588746067533,0.3669988320531465,0.6043093394868742,0.3956906605131259,0.5446293176706574,0.4553706823293426,0.5066899055484076,0.49329014691361717,0.7344605494353925,0.26553945056460754,0.6471482350018778,0.35283106467667574,0.5202187432267961,0.479711232264626,0.7040999895127178,0.29590001048728215,0.5663897622863575,0.4044893989258231,0.614938640443718,0.385061359556282,0.6783985313936105,0.32160146860638955,0.6662363558483376,0.33376364415166243,0.5002378515518012,0.4594282913609433,0.6865023627948923,0.2775727957149778,0.6243523682794938,0.3756476317205062,0.6694685559405771,0.2984589089162459,0.6184777098802913,0.3413733365270529,0.5124520077609098,0.4864993512439927,0.4991168831168831,0.49910167880899586,0.489354767416681,0.4754959850160845,0.6197268042044582,0.37794434784424913,0.7115972141534129,0.2884027858465871,0.5514591974785543,0.4063155077828821,0.5361582581660649,0.4355876204260047,0.6365246340715524,0.3634753659284476,0.749928456175602,0.25007154382439795,0.7095885393688661,0.2626061670537377,0.6266609073151914,0.37333909268480864,0.6708678750042483,0.32913212499575173,0.8420780615498205,0.15792193845017954,0.5732540626238605,0.40959439820319726,0.722095045262829,0.2530391138155136,0.6361118296937996,0.1500873866654889,0.1062647090371062,0.04910373459691718,0.03870251307645229,0.019729826930235787,0.6776431847583206,0.17891332470892626,0.1159090909090909,0.6042997214411993,0.25493349163997414,0.07767354474228418,0.06309324217654234,0.3312260140330021,0.16552740053495976,0.16414477509723605,0.10397472509012909,0.07716535941800515,0.0726718267454031,0.03176808073498818,0.03046944656217292,0.023052371784103683,0.7104514486785954,0.25545995144333095,0.6215303180766328,0.3784352803840129,0.5304272107385427,0.6343508864190289,0.36376300806019357,0.6771638365670158,0.3203213001391457,0.6976254401054646,0.300415856122356,0.7957571877053781,0.20215835658013873,0.687520528333488,0.3097114374471905,0.5882096093703095,0.3918823034980378,0.7162701889437398,0.280439760965323,0.6823309671298067,0.31582856035806006,0.9651073135855776,0.6532950540198509,0.3457165866566262,0.9773692763142205,0.608255838458613,0.3887234965106111,0.7431590956704351,0.2558186494624959,0.6543112843489606,0.3443064177464203,0.8662303580106917,0.12530374210270534,0.8067960384119398,0.6129566345816425,0.3633081410547785,0.6164567211011511,0.36838299068519215,0.591972165942958,0.3822024714381012,0.529595780069853,0.47040174111779565,0.6500314806628354,0.32365336441211534,0.5445472977464602,0.41761395111790645,0.5580663887276374,0.4013008602037047,0.5875119749423524,0.4124880250576476,0.5087546457987039,0.4728092374353324,0.5770688795516101,0.3840878739818149,0.6628020478981712,0.33719795210182874,0.5019790309297116,0.47817516255136266,0.6642567016567532,0.30670126594810626,0.7807510012767371,0.18647707994473303,0.7927771594172415,0.18306588022891998,0.48591862407009784,0.4592426126941052,0.4432454243997448,0.28970944247701186,0.2583387950149286,0.6570371106966411,0.5339154884628188,0.56750255898362,0.687471266094743,0.312528733905257,0.6601667373180726,0.3398332626819274,0.6466771587205935,0.3533228412794065,1.0,0.7878236776934001,0.18958095461000535,0.5188784639077063,0.4551928572064413,0.6944087119612714,0.28500201302080774,0.6759169431919655,0.2966491748338092,0.5878614192889368,0.3857049626876259,0.6706145228226523,0.30827494498145314,0.6886804970713518,0.26567970905782284,0.7685978693379686,0.21367487720530787,0.563863549838822,0.43613645016117797,0.5951707676514488,0.3766839019290478,0.5076863266481086,0.462087713154599,0.7851483767479165,0.17676186490916065,0.6176521976766586,0.33371712221062394,0.564654417740473,0.40708385488393484,0.48752552414368294,0.45769702721616673,0.5066848337739759,0.45803969693415025,0.5131669915464695,0.4621338238560778,0.5389930157514342,0.4370291972125111,0.6248006648832558,0.37519933511674414,0.5192605438364932,0.4616926970603935,0.5323303116068575,0.4547111603151736,0.5987798325981224,0.38273385363646645,0.531529426205516,0.45636584237411365,0.6116516752040391,0.5061387361276544,0.49386126387234563,0.7402763294007279,0.24578155821638126,0.657985023034031,0.3186288128913039,0.8328086369733353,0.13895430831456954,0.5330367019058153,0.46696329809418463,0.6564304499253678,0.3257971426540621,0.5818824115285256,0.41811758847147434,0.5370264129294271,0.46253198765031367,0.5868110682694488,0.41318893173055116,0.48213086085370926,0.42914191876646157,0.4718629442987442,0.4321747925636183,0.5259280918287145,0.3955700531947712,0.5612679538762391,0.39211659061790555,0.9932633659760967,0.6162478517745839,0.2895722359499645,0.6958833992007203,0.13042186176276208,0.747237245146463,0.14115575695694685,0.7060754270544783,0.14467191828254847,0.6542624631737046,0.2203981572410606,0.4889640453575349,0.45897911453254875,0.8209125722476248,0.15217896050102006,0.794596076281474,0.07764811841641539,0.7157337559132273,0.24589180141870573,0.8874354182697592,0.09937341980872816,0.8401476412011227,0.5526929270109832,0.35241474200293205,0.5096033893965243,0.38291784643508964,0.4770261727863118,0.4293862023805812,0.5400732449866701,0.3362785313155712,0.5289599361572128,0.38162898861553424,0.44829150476476515,0.4345478322352161,0.5156725574872915,0.3697831179385846,0.45400680562699236,0.42971635471788033,0.538650035334877,0.333067124775207,0.6326047751658869,0.28662872288222735,0.5024874064450827,0.3565743443655744,0.541767780206415,0.45823221979358497,0.6296359103251269,0.34833096124923035,0.6338401112116331,0.3661598887883669,0.6732999945313022,0.32670000546869776,0.6692978995130359,0.31109115262015763,0.6227289139314566,0.37727108606854337,0.6024727558999399,0.3959350564342073,0.532837566186228,0.467162433813772,0.55592095495442,0.44407904504558005,0.6890759767538881,0.3109240232461119,0.5450488176032168,0.4234391140632463,1.0,0.6818189937861253,0.3181810062138747,0.689698397128716,1.0,0.5179542416652608,0.4464798785314767,0.6108183476121809,0.38908357367037066,0.7082705268272022,0.2914086928356982,0.6785309499289466,0.29312249371450927,0.6799786232641323,0.32002137673586767,0.7441358937366894,0.2558641062633105,0.674961275028598,0.689548293887562,0.3101325187522574,0.6307431268061189,0.3691276279858957,0.5835680699716124,0.41643193002838763,0.8005330317669739,0.19946696823302615,0.5524456670748872,0.41777175601820543,0.524880517289851,0.449357770986182,0.5959077589501848,0.4040922410498153,0.6341359710560021,0.3656683908900488,0.6319141760729269,0.3680858239270732,0.6370148239341106,0.32682705807655504,0.036158117989334396,0.7504011756265445,0.21998634443223686,0.7849103105654348,0.2150896894345652,0.6778768156051381,0.2877579065905751,0.5206237308663184,0.47937626913368153,0.35209469905348784,0.5986341169089243,0.36919286540323937,0.23500231665483542,0.4620027581488331,0.5188668407541435,0.45150514971964845,0.5643400625327574,0.4334708391317706,0.7247336291180957,0.27440681499797,0.9090444748309382,0.08957483147023927,0.5946979060391826,0.40433354157584145,0.6461926022503026,0.35260972941286456,0.5599157307538241,0.4389666137511189,0.5179462856779472,0.480670581127916,0.5171062455153661,0.48160392294709076,0.6625847825159612,0.33633170759452274,0.5324470091657066,0.4662836577184629,0.6305896520893667,0.3683859313458436,0.7071233061575336,0.29101966456125117,0.7342599244322825,0.2649037855149079,0.6462315104974384,0.3526641996171082,0.7338193661242434,0.2651391350380924,0.5927940790568929,0.4062098797132078,0.5110345176451111,0.48811242837565644,0.6910195813639433,0.3068690593673713,0.7082551594746717,0.15838917180380596,0.12641829715000447,0.5824302513258013,0.4153887442025726,0.5058216716497584,0.49314346855969526,0.5565805911343574,0.4258967917301594,0.7121391996738257,0.28693743929200993,0.6160754402995424,0.3689446678685342,0.600685855326027,0.3985687684637605,0.6817709466154329,0.3081549302095956,0.6179581478256809,0.38139640913947337,0.8095501493467964,0.7470982866385308,0.2246621898154363,0.028226426955402836,0.6764128800641002,0.3105462390677157,0.013001242932414489,0.6730305121152423,0.30498690286263774,0.01574466357996747,0.006212944779721448,0.6666527657799887,0.33334723422001133,0.9999444816769706,0.7368083803900703,0.23986635314579294,0.023325266464136758,0.6992684700614599,0.2733298159054287,0.021683517047642136,0.00571819698546922,0.6846887025279266,0.2949800062075678,0.011339358089274467,0.008991933175231202,0.7736536561264822,0.2009963768115942,0.01631258234519104,0.009025032938076416,0.7257863130982817,0.27421368690171827,0.5561394299821761,0.4279286814372156,0.5506855140220406,0.4287192032317943,0.7514350079780227,0.225948259784549,0.619928462660433,0.35926651046848757,0.5279741876279442,0.439804465987435,0.5078519697572622,0.47450537206526067,0.7250928828590926,0.2546833616143446,0.7548350770600636,0.21638361115112154,0.5248107003242376,0.4534639303783094,0.7970854054350471,0.18299842685923645,0.6371651758346253,0.3303625678094714,0.79384880880998,0.18455401670152244,0.6164081328955243,0.3835918671044757,0.5050083654774438,0.4762293757125945,0.6472026004350857,0.3527973995649143,0.558504658278832,0.4091757828156925,0.7329107515340529,0.2350513376131554,0.013754835051337613,0.7477702488568281,0.22857024282027677,0.6467053039453611,0.3310690262740883,0.5195371900826447,0.45350964187327825,0.5152800650903815,0.4460210563463122,0.5056404146796319,0.4660339744869812,0.48808066949401346,0.4747559015292671,0.012292854215294996,0.008455879146912542,0.5592760778912541,0.42106052251075543,0.6060941892345245,0.37252062052450746,0.6305694722473312,0.34936853392277484,0.5829870592425501,0.38977035667644716,0.7113367801473737,0.2737852536859394,0.7748805130376913,0.18408932784802468,0.04103015911428399,0.5343330226575591,0.44288380809783523,0.5194901174615275,0.45933363787399584,0.006785243550090635,0.6682296359275662,0.2515005773891857,0.051209979315508296,0.012651802596347855,0.5543484208588896,0.4184462783606182,0.01117760300855109,0.6537248375630567,0.29946589472825863,0.019407183919761897,0.7361187774542306,0.24266482454081817,0.6951578935069563,0.3043484610823395,0.5900136636704458,0.3663275215682732,0.6872539541466649,0.26765052503712455,0.4769675895203461,0.4669736946885037,0.673072370645925,0.27006538158043064,0.02272855371435013,0.012213955585616052,0.005427798444369293,0.00530098072370646,0.5814966374967089,0.4170731271949984,0.5155283295908426,0.4580669873458478,0.02545263783144636,0.6835168633792378,0.314327061380767,0.6161877627157623,0.38233527961261804,0.5244322263289893,0.47304737309136824,0.6458816226791649,0.35286645556856366,0.5081954223608363,0.48999315489095147,0.7579077046851626,0.2397641705112572,0.9397699067320257,0.5651062147510441,0.43371829433955916,0.7138752062984277,0.2832359799715696,0.8794472783624976,0.11506424743333118,0.5855381833004577,0.41326470850063957,0.630878056737799,0.3667442745638881,0.5637169390983076,0.43394519780906093,0.6620782734887621,0.33632310499470947,0.6128573548323276,0.3851444257592245,0.5930477258782022,0.4045458467556374,0.8298832487962577,0.1677307047519412,0.5171482509609038,0.4814783359863338,0.7413579716373012,0.2569746454662656,0.49334179379389964,0.35557435657903624,0.689767450748094,0.3102325492519061,0.6307647787130852,0.3692352212869147,0.7133617644981282,0.28663823550187184,0.5930768579777674,0.4061440583043355,0.6966743583294146,0.3025032534639822,0.5129896462689095,0.4864354316279022,0.7464556925475703,0.22704421280923462,0.025380417520861606,0.6010747306945894,0.3983297063625597,0.5922500762397325,0.4072044687640238,0.6073343341196654,0.39214037353586806,0.6418109410824291,0.35793297880996944,0.6856311740472217,0.24576584026106346],\"type\":\"choropleth\"}],                        {\"template\":{\"data\":{\"histogram2dcontour\":[{\"type\":\"histogram2dcontour\",\"colorbar\":{\"outlinewidth\":0,\"ticks\":\"\"},\"colorscale\":[[0.0,\"#0d0887\"],[0.1111111111111111,\"#46039f\"],[0.2222222222222222,\"#7201a8\"],[0.3333333333333333,\"#9c179e\"],[0.4444444444444444,\"#bd3786\"],[0.5555555555555556,\"#d8576b\"],[0.6666666666666666,\"#ed7953\"],[0.7777777777777778,\"#fb9f3a\"],[0.8888888888888888,\"#fdca26\"],[1.0,\"#f0f921\"]]}],\"choropleth\":[{\"type\":\"choropleth\",\"colorbar\":{\"outlinewidth\":0,\"ticks\":\"\"}}],\"histogram2d\":[{\"type\":\"histogram2d\",\"colorbar\":{\"outlinewidth\":0,\"ticks\":\"\"},\"colorscale\":[[0.0,\"#0d0887\"],[0.1111111111111111,\"#46039f\"],[0.2222222222222222,\"#7201a8\"],[0.3333333333333333,\"#9c179e\"],[0.4444444444444444,\"#bd3786\"],[0.5555555555555556,\"#d8576b\"],[0.6666666666666666,\"#ed7953\"],[0.7777777777777778,\"#fb9f3a\"],[0.8888888888888888,\"#fdca26\"],[1.0,\"#f0f921\"]]}],\"heatmap\":[{\"type\":\"heatmap\",\"colorbar\":{\"outlinewidth\":0,\"ticks\":\"\"},\"colorscale\":[[0.0,\"#0d0887\"],[0.1111111111111111,\"#46039f\"],[0.2222222222222222,\"#7201a8\"],[0.3333333333333333,\"#9c179e\"],[0.4444444444444444,\"#bd3786\"],[0.5555555555555556,\"#d8576b\"],[0.6666666666666666,\"#ed7953\"],[0.7777777777777778,\"#fb9f3a\"],[0.8888888888888888,\"#fdca26\"],[1.0,\"#f0f921\"]]}],\"heatmapgl\":[{\"type\":\"heatmapgl\",\"colorbar\":{\"outlinewidth\":0,\"ticks\":\"\"},\"colorscale\":[[0.0,\"#0d0887\"],[0.1111111111111111,\"#46039f\"],[0.2222222222222222,\"#7201a8\"],[0.3333333333333333,\"#9c179e\"],[0.4444444444444444,\"#bd3786\"],[0.5555555555555556,\"#d8576b\"],[0.6666666666666666,\"#ed7953\"],[0.7777777777777778,\"#fb9f3a\"],[0.8888888888888888,\"#fdca26\"],[1.0,\"#f0f921\"]]}],\"contourcarpet\":[{\"type\":\"contourcarpet\",\"colorbar\":{\"outlinewidth\":0,\"ticks\":\"\"}}],\"contour\":[{\"type\":\"contour\",\"colorbar\":{\"outlinewidth\":0,\"ticks\":\"\"},\"colorscale\":[[0.0,\"#0d0887\"],[0.1111111111111111,\"#46039f\"],[0.2222222222222222,\"#7201a8\"],[0.3333333333333333,\"#9c179e\"],[0.4444444444444444,\"#bd3786\"],[0.5555555555555556,\"#d8576b\"],[0.6666666666666666,\"#ed7953\"],[0.7777777777777778,\"#fb9f3a\"],[0.8888888888888888,\"#fdca26\"],[1.0,\"#f0f921\"]]}],\"surface\":[{\"type\":\"surface\",\"colorbar\":{\"outlinewidth\":0,\"ticks\":\"\"},\"colorscale\":[[0.0,\"#0d0887\"],[0.1111111111111111,\"#46039f\"],[0.2222222222222222,\"#7201a8\"],[0.3333333333333333,\"#9c179e\"],[0.4444444444444444,\"#bd3786\"],[0.5555555555555556,\"#d8576b\"],[0.6666666666666666,\"#ed7953\"],[0.7777777777777778,\"#fb9f3a\"],[0.8888888888888888,\"#fdca26\"],[1.0,\"#f0f921\"]]}],\"mesh3d\":[{\"type\":\"mesh3d\",\"colorbar\":{\"outlinewidth\":0,\"ticks\":\"\"}}],\"scatter\":[{\"fillpattern\":{\"fillmode\":\"overlay\",\"size\":10,\"solidity\":0.2},\"type\":\"scatter\"}],\"parcoords\":[{\"type\":\"parcoords\",\"line\":{\"colorbar\":{\"outlinewidth\":0,\"ticks\":\"\"}}}],\"scatterpolargl\":[{\"type\":\"scatterpolargl\",\"marker\":{\"colorbar\":{\"outlinewidth\":0,\"ticks\":\"\"}}}],\"bar\":[{\"error_x\":{\"color\":\"#2a3f5f\"},\"error_y\":{\"color\":\"#2a3f5f\"},\"marker\":{\"line\":{\"color\":\"#E5ECF6\",\"width\":0.5},\"pattern\":{\"fillmode\":\"overlay\",\"size\":10,\"solidity\":0.2}},\"type\":\"bar\"}],\"scattergeo\":[{\"type\":\"scattergeo\",\"marker\":{\"colorbar\":{\"outlinewidth\":0,\"ticks\":\"\"}}}],\"scatterpolar\":[{\"type\":\"scatterpolar\",\"marker\":{\"colorbar\":{\"outlinewidth\":0,\"ticks\":\"\"}}}],\"histogram\":[{\"marker\":{\"pattern\":{\"fillmode\":\"overlay\",\"size\":10,\"solidity\":0.2}},\"type\":\"histogram\"}],\"scattergl\":[{\"type\":\"scattergl\",\"marker\":{\"colorbar\":{\"outlinewidth\":0,\"ticks\":\"\"}}}],\"scatter3d\":[{\"type\":\"scatter3d\",\"line\":{\"colorbar\":{\"outlinewidth\":0,\"ticks\":\"\"}},\"marker\":{\"colorbar\":{\"outlinewidth\":0,\"ticks\":\"\"}}}],\"scattermapbox\":[{\"type\":\"scattermapbox\",\"marker\":{\"colorbar\":{\"outlinewidth\":0,\"ticks\":\"\"}}}],\"scatterternary\":[{\"type\":\"scatterternary\",\"marker\":{\"colorbar\":{\"outlinewidth\":0,\"ticks\":\"\"}}}],\"scattercarpet\":[{\"type\":\"scattercarpet\",\"marker\":{\"colorbar\":{\"outlinewidth\":0,\"ticks\":\"\"}}}],\"carpet\":[{\"aaxis\":{\"endlinecolor\":\"#2a3f5f\",\"gridcolor\":\"white\",\"linecolor\":\"white\",\"minorgridcolor\":\"white\",\"startlinecolor\":\"#2a3f5f\"},\"baxis\":{\"endlinecolor\":\"#2a3f5f\",\"gridcolor\":\"white\",\"linecolor\":\"white\",\"minorgridcolor\":\"white\",\"startlinecolor\":\"#2a3f5f\"},\"type\":\"carpet\"}],\"table\":[{\"cells\":{\"fill\":{\"color\":\"#EBF0F8\"},\"line\":{\"color\":\"white\"}},\"header\":{\"fill\":{\"color\":\"#C8D4E3\"},\"line\":{\"color\":\"white\"}},\"type\":\"table\"}],\"barpolar\":[{\"marker\":{\"line\":{\"color\":\"#E5ECF6\",\"width\":0.5},\"pattern\":{\"fillmode\":\"overlay\",\"size\":10,\"solidity\":0.2}},\"type\":\"barpolar\"}],\"pie\":[{\"automargin\":true,\"type\":\"pie\"}]},\"layout\":{\"autotypenumbers\":\"strict\",\"colorway\":[\"#636efa\",\"#EF553B\",\"#00cc96\",\"#ab63fa\",\"#FFA15A\",\"#19d3f3\",\"#FF6692\",\"#B6E880\",\"#FF97FF\",\"#FECB52\"],\"font\":{\"color\":\"#2a3f5f\"},\"hovermode\":\"closest\",\"hoverlabel\":{\"align\":\"left\"},\"paper_bgcolor\":\"white\",\"plot_bgcolor\":\"#E5ECF6\",\"polar\":{\"bgcolor\":\"#E5ECF6\",\"angularaxis\":{\"gridcolor\":\"white\",\"linecolor\":\"white\",\"ticks\":\"\"},\"radialaxis\":{\"gridcolor\":\"white\",\"linecolor\":\"white\",\"ticks\":\"\"}},\"ternary\":{\"bgcolor\":\"#E5ECF6\",\"aaxis\":{\"gridcolor\":\"white\",\"linecolor\":\"white\",\"ticks\":\"\"},\"baxis\":{\"gridcolor\":\"white\",\"linecolor\":\"white\",\"ticks\":\"\"},\"caxis\":{\"gridcolor\":\"white\",\"linecolor\":\"white\",\"ticks\":\"\"}},\"coloraxis\":{\"colorbar\":{\"outlinewidth\":0,\"ticks\":\"\"}},\"colorscale\":{\"sequential\":[[0.0,\"#0d0887\"],[0.1111111111111111,\"#46039f\"],[0.2222222222222222,\"#7201a8\"],[0.3333333333333333,\"#9c179e\"],[0.4444444444444444,\"#bd3786\"],[0.5555555555555556,\"#d8576b\"],[0.6666666666666666,\"#ed7953\"],[0.7777777777777778,\"#fb9f3a\"],[0.8888888888888888,\"#fdca26\"],[1.0,\"#f0f921\"]],\"sequentialminus\":[[0.0,\"#0d0887\"],[0.1111111111111111,\"#46039f\"],[0.2222222222222222,\"#7201a8\"],[0.3333333333333333,\"#9c179e\"],[0.4444444444444444,\"#bd3786\"],[0.5555555555555556,\"#d8576b\"],[0.6666666666666666,\"#ed7953\"],[0.7777777777777778,\"#fb9f3a\"],[0.8888888888888888,\"#fdca26\"],[1.0,\"#f0f921\"]],\"diverging\":[[0,\"#8e0152\"],[0.1,\"#c51b7d\"],[0.2,\"#de77ae\"],[0.3,\"#f1b6da\"],[0.4,\"#fde0ef\"],[0.5,\"#f7f7f7\"],[0.6,\"#e6f5d0\"],[0.7,\"#b8e186\"],[0.8,\"#7fbc41\"],[0.9,\"#4d9221\"],[1,\"#276419\"]]},\"xaxis\":{\"gridcolor\":\"white\",\"linecolor\":\"white\",\"ticks\":\"\",\"title\":{\"standoff\":15},\"zerolinecolor\":\"white\",\"automargin\":true,\"zerolinewidth\":2},\"yaxis\":{\"gridcolor\":\"white\",\"linecolor\":\"white\",\"ticks\":\"\",\"title\":{\"standoff\":15},\"zerolinecolor\":\"white\",\"automargin\":true,\"zerolinewidth\":2},\"scene\":{\"xaxis\":{\"backgroundcolor\":\"#E5ECF6\",\"gridcolor\":\"white\",\"linecolor\":\"white\",\"showbackground\":true,\"ticks\":\"\",\"zerolinecolor\":\"white\",\"gridwidth\":2},\"yaxis\":{\"backgroundcolor\":\"#E5ECF6\",\"gridcolor\":\"white\",\"linecolor\":\"white\",\"showbackground\":true,\"ticks\":\"\",\"zerolinecolor\":\"white\",\"gridwidth\":2},\"zaxis\":{\"backgroundcolor\":\"#E5ECF6\",\"gridcolor\":\"white\",\"linecolor\":\"white\",\"showbackground\":true,\"ticks\":\"\",\"zerolinecolor\":\"white\",\"gridwidth\":2}},\"shapedefaults\":{\"line\":{\"color\":\"#2a3f5f\"}},\"annotationdefaults\":{\"arrowcolor\":\"#2a3f5f\",\"arrowhead\":0,\"arrowwidth\":1},\"geo\":{\"bgcolor\":\"white\",\"landcolor\":\"#E5ECF6\",\"subunitcolor\":\"white\",\"showland\":true,\"showlakes\":true,\"lakecolor\":\"white\"},\"title\":{\"x\":0.05},\"mapbox\":{\"style\":\"light\"}}},\"geo\":{\"domain\":{\"x\":[0.0,1.0],\"y\":[0.0,1.0]},\"center\":{},\"scope\":\"usa\"},\"coloraxis\":{\"colorbar\":{\"title\":{\"text\":\"Vote %\"}},\"colorscale\":[[0.0,\"rgb(255,245,240)\"],[0.125,\"rgb(254,224,210)\"],[0.25,\"rgb(252,187,161)\"],[0.375,\"rgb(252,146,114)\"],[0.5,\"rgb(251,106,74)\"],[0.625,\"rgb(239,59,44)\"],[0.75,\"rgb(203,24,29)\"],[0.875,\"rgb(165,15,21)\"],[1.0,\"rgb(103,0,13)\"]]},\"legend\":{\"tracegroupgap\":0},\"title\":{\"text\":\"Election Results 2020\"}},                        {\"responsive\": true}                    ).then(function(){\n",
       "                            \n",
       "var gd = document.getElementById('dd46b378-f067-4b11-919b-638533308e11');\n",
       "var x = new MutationObserver(function (mutations, observer) {{\n",
       "        var display = window.getComputedStyle(gd).display;\n",
       "        if (!display || display === 'none') {{\n",
       "            console.log([gd, 'removed!']);\n",
       "            Plotly.purge(gd);\n",
       "            observer.disconnect();\n",
       "        }}\n",
       "}});\n",
       "\n",
       "// Listen for the removal of the full notebook cells\n",
       "var notebookContainer = gd.closest('#notebook-container');\n",
       "if (notebookContainer) {{\n",
       "    x.observe(notebookContainer, {childList: true});\n",
       "}}\n",
       "\n",
       "// Listen for the clearing of the current output cell\n",
       "var outputEl = gd.closest('.output');\n",
       "if (outputEl) {{\n",
       "    x.observe(outputEl, {childList: true});\n",
       "}}\n",
       "\n",
       "                        })                };                });            </script>        </div>"
      ]
     },
     "metadata": {},
     "output_type": "display_data"
    }
   ],
   "source": [
    "# import plotly.express as px\n",
    "# import pandas as pd\n",
    "\n",
    "# Filter the data by selecting only the relevant columns\n",
    "# df_selection = df_combo_2020[['LAST NAME', 'GENERAL %', 'GENERAL RESULTS', 'STATE ABBREVIATION']]\n",
    "\n",
    "# Create map\n",
    "fig = px.choropleth(df_combo_2020, locations='State', locationmode='USA-states',\n",
    "                    scope='usa', color='Vote %',\n",
    "                    color_continuous_scale='reds',\n",
    "                    hover_name='Vote count',\n",
    "                    title='Election Results 2020')\n",
    "\n",
    "# Show map\n",
    "fig.show()\n"
   ]
  },
  {
   "cell_type": "code",
   "execution_count": 4,
   "id": "e6bb37ea",
   "metadata": {},
   "outputs": [
    {
     "name": "stdout",
     "output_type": "stream",
     "text": [
      "Candidate              Biden     Trump    Others\n",
      "STATE ABBREVIATION                              \n",
      "AK                  0.427720  0.528331  0.007325\n",
      "AL                  0.365700  0.620316  0.006992\n",
      "AR                  0.347751  0.623957  0.002572\n",
      "AZ                  0.493647  0.490560  0.002632\n",
      "CA                  0.634844  0.343203  0.002439\n",
      "CO                  0.553995  0.418979  0.001287\n",
      "CT                  0.592607  0.391871  0.001411\n",
      "DC                  0.921497  0.053973  0.004906\n",
      "DE                  0.587430  0.397749  0.000780\n",
      "FL                  0.478615  0.512198  0.000835\n",
      "GA                  0.494731  0.492375  0.000759\n",
      "HI                  0.637336  0.342689  0.004994\n",
      "IA                  0.448917  0.530893  0.002524\n",
      "ID                  0.330694  0.638434  0.002375\n",
      "IL                  0.575416  0.405534  0.001003\n",
      "IN                  0.409631  0.570306  0.001672\n",
      "KS                  0.415086  0.561437  0.001956\n",
      "KY                  0.361515  0.620866  0.001355\n",
      "LA                  0.398515  0.584609  0.001534\n",
      "MA                  0.656001  0.321419  0.007527\n",
      "MD                  0.653607  0.321503  0.001037\n",
      "ME                  0.530925  0.440213  0.007216\n",
      "MI                  0.506208  0.478373  0.001713\n",
      "MN                  0.523951  0.452849  0.001289\n",
      "MO                  0.414088  0.567997  0.002559\n",
      "MS                  0.410576  0.576030  0.001913\n",
      "MT                  0.405494  0.569185  0.005064\n",
      "NC                  0.485862  0.499344  0.002959\n",
      "ND                  0.317775  0.651203  0.015511\n",
      "NE                  0.391666  0.582242  0.013046\n",
      "NH                  0.527083  0.453557  0.000922\n",
      "NJ                  0.573343  0.413964  0.002115\n",
      "NM                  0.542893  0.434967  0.005535\n",
      "NV                  0.500568  0.476662  0.007590\n",
      "NY                  0.304339  0.188700  0.000696\n",
      "OH                  0.452393  0.532713  0.001862\n",
      "OK                  0.322862  0.653733  0.005851\n",
      "OR                  0.564533  0.403672  0.007949\n",
      "PA                  0.498521  0.486909  0.003643\n",
      "RI                  0.593881  0.386131  0.003998\n",
      "SC                  0.434301  0.551103  0.004865\n",
      "SD                  0.356053  0.617694  0.026254\n",
      "TN                  0.374514  0.606603  0.001717\n",
      "TX                  0.464771  0.520555  0.001223\n",
      "UT                  0.376460  0.581298  0.003520\n",
      "VA                  0.541095  0.439955  0.009475\n",
      "VT                  0.660864  0.306738  0.001543\n",
      "WA                  0.579703  0.387670  0.006525\n",
      "WI                  0.494495  0.488224  0.001571\n",
      "WV                  0.296936  0.686247  0.001121\n",
      "WY                  0.265536  0.699362  0.011701\n"
     ]
    }
   ],
   "source": [
    "# Filter the data by selecting only the relevant columns\n",
    "df_selection = df_pres_2020[['LAST NAME', 'GENERAL %', 'GENERAL RESULTS', 'STATE ABBREVIATION'.'PARTY']]\n",
    "\n",
    "# Create a new column that identifies the candidate as Trump, Biden, or \"All others\"\n",
    "df_selection['Candidate'] = np.where(df_selection['LAST NAME'] == 'Trump', 'Trump', np.where(df_selection['LAST NAME'] == 'Biden', 'Biden', 'Others'))\n",
    "\n",
    "# Calculate the percentage of the vote for each candidate\n",
    "df_selection['Percentage of Vote'] = df_selection['GENERAL RESULTS'] / df_selection.groupby('STATE ABBREVIATION')['GENERAL RESULTS'].transform('sum')\n",
    "\n",
    "# Define the desired order of columns\n",
    "column_order = ['Biden', 'Trump', 'Others']\n",
    "\n",
    "# Pivot the data frame\n",
    "df_pivot = df_selection.pivot_table(values='Percentage of Vote', index='STATE ABBREVIATION', columns='Candidate')\n",
    "# Reorder the columns\n",
    "df_pivot = df_pivot.reindex(columns=column_order)\n",
    "# Print the results\n",
    "print(df_pivot)\n"
   ]
  },
  {
   "cell_type": "code",
   "execution_count": null,
   "id": "ef425639",
   "metadata": {},
   "outputs": [],
   "source": [
    "# don't use this one\n",
    "# loads a table called 'pres_2020' into electiondb in postgresSQL\n",
    "df_p_2020.to_sql(\"pres_2020\", engine, if_exists=\"replace\", index=False, columns=[\"Year\", \"Office\", \"State\", \"Last Name\", \"Party\", \"Vote %\", \"Vote count\"])\n",
    "\n",
    "SELECT has_database_privilege('{postgres}', '{electiondb}', 'CONNECT');\n"
   ]
  },
  {
   "cell_type": "code",
   "execution_count": 124,
   "id": "816b8165",
   "metadata": {},
   "outputs": [
    {
     "data": {
      "text/plain": [
       "Year                 object\n",
       "Office               object\n",
       "State                object\n",
       "Party                object\n",
       "Vote %              float64\n",
       "Vote count            int64\n",
       "Vote count_total      int64\n",
       "Final Vote %        float64\n",
       "dtype: object"
      ]
     },
     "execution_count": 124,
     "metadata": {},
     "output_type": "execute_result"
    }
   ],
   "source": [
    "df_state_2020['Vote count'] = pd.to_numeric(df_state_2020['Vote count'])\n",
    "df_state_2020['Vote count_total'] = pd.to_numeric(df_state_2020['Vote count_total'])\n",
    "df_state_2020['Final Vote %'] = df_state_2020['Final Vote %'].astype(float)\n",
    "\n",
    "df_state_2020.dtypes"
   ]
  },
  {
   "cell_type": "code",
   "execution_count": 30,
   "id": "5cc9c9a8",
   "metadata": {},
   "outputs": [
    {
     "name": "stdout",
     "output_type": "stream",
     "text": [
      "STATE\n",
      "California              17501380.0\n",
      "Texas                   11315516.0\n",
      "Florida                 11067456.0\n",
      "New York                 8616861.0\n",
      "Pennsylvania             6936976.0\n",
      "Illinois                 6033744.0\n",
      "Ohio                     5922202.0\n",
      "Michigan                 5539302.0\n",
      "North Carolina           5524804.0\n",
      "Georgia                  4999960.0\n",
      "New Jersey               4549457.0\n",
      "Virginia                 4460524.0\n",
      "Washington               4087631.0\n",
      "Massachusetts            3631402.0\n",
      "Arizona                  3387326.0\n",
      "Wisconsin                3298041.0\n",
      "Minnesota                3277171.0\n",
      "Colorado                 3256980.0\n",
      "Tennessee                3053851.0\n",
      "Maryland                 3037030.0\n",
      "Indiana                  3033210.0\n",
      "Missouri                 3025962.0\n",
      "South Carolina           2513329.0\n",
      "Oregon                   2374321.0\n",
      "Alabama                  2323282.0\n",
      "Louisiana                2148062.0\n",
      "Kentucky                 2136768.0\n",
      "Connecticut              1823857.0\n",
      "Iowa                     1690871.0\n",
      "Oklahoma                 1560699.0\n",
      "Utah                     1488289.0\n",
      "Nevada                   1405376.0\n",
      "Kansas                   1373986.0\n",
      "Mississippi              1313759.0\n",
      "Arkansas                 1219069.0\n",
      "Nebraska                  956383.0\n",
      "New Mexico                923965.0\n",
      "Idaho                     867934.0\n",
      "Maine                     819461.0\n",
      "New Hampshire             806205.0\n",
      "West Virginia             794731.0\n",
      "Montana                   603674.0\n",
      "Hawaii                    574469.0\n",
      "Rhode Island              517757.0\n",
      "Delaware                  504346.0\n",
      "South Dakota              422609.0\n",
      "Vermont                   367428.0\n",
      "North Dakota              362024.0\n",
      "Alaska                    359530.0\n",
      "District of Columbia      344356.0\n",
      "Wyoming                   276765.0\n",
      "All States                     0.0\n",
      "Name: GENERAL RESULTS, dtype: float64\n"
     ]
    },
    {
     "name": "stderr",
     "output_type": "stream",
     "text": [
      "C:\\Users\\Owner\\AppData\\Local\\Temp\\ipykernel_3944\\4098985682.py:2: FutureWarning: The default value of numeric_only in DataFrameGroupBy.sum is deprecated. In a future version, numeric_only will default to False. Either specify numeric_only or select only columns which should be valid for the function.\n",
      "  state_totals = df_pres_2020.groupby('STATE').sum()['GENERAL RESULTS']\n"
     ]
    }
   ],
   "source": [
    "# Group the data by state and sum the general results\n",
    "state_totals = df_pres_2020.groupby('STATE').sum()['GENERAL RESULTS']\n",
    "\n",
    "# Sort the results by total votes in descending order\n",
    "sorted_state_totals = state_totals.sort_values(ascending=False)\n",
    "\n",
    "# Print the sorted results\n",
    "print(sorted_state_totals)"
   ]
  }
 ],
 "metadata": {
  "kernelspec": {
   "display_name": "Python 3 (ipykernel)",
   "language": "python",
   "name": "python3"
  },
  "language_info": {
   "codemirror_mode": {
    "name": "ipython",
    "version": 3
   },
   "file_extension": ".py",
   "mimetype": "text/x-python",
   "name": "python",
   "nbconvert_exporter": "python",
   "pygments_lexer": "ipython3",
   "version": "3.10.10"
  }
 },
 "nbformat": 4,
 "nbformat_minor": 5
}
